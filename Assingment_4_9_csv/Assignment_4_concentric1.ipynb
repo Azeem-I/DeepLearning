{
 "cells": [
  {
   "cell_type": "markdown",
   "id": "2f04a5d3",
   "metadata": {},
   "source": [
    "#### importing the required libraries "
   ]
  },
  {
   "cell_type": "code",
   "execution_count": 5,
   "id": "b8dae5ad",
   "metadata": {},
   "outputs": [],
   "source": [
    "import pandas as pd\n",
    "import numpy as np \n",
    "import matplotlib.pyplot as plt \n",
    "import seaborn as sns\n",
    "from sklearn.model_selection import train_test_split\n",
    "from sklearn.preprocessing import StandardScaler\n",
    "from keras import Sequential \n",
    "from keras.layers import Dense \n",
    "from keras.optimizers import SGD \n",
    "from keras.regularizers import L1,L2 "
   ]
  },
  {
   "cell_type": "markdown",
   "id": "a11131a5",
   "metadata": {},
   "source": [
    "#### importing the dataset "
   ]
  },
  {
   "cell_type": "code",
   "execution_count": 6,
   "id": "a628a788",
   "metadata": {},
   "outputs": [
    {
     "data": {
      "text/html": [
       "<div>\n",
       "<style scoped>\n",
       "    .dataframe tbody tr th:only-of-type {\n",
       "        vertical-align: middle;\n",
       "    }\n",
       "\n",
       "    .dataframe tbody tr th {\n",
       "        vertical-align: top;\n",
       "    }\n",
       "\n",
       "    .dataframe thead th {\n",
       "        text-align: right;\n",
       "    }\n",
       "</style>\n",
       "<table border=\"1\" class=\"dataframe\">\n",
       "  <thead>\n",
       "    <tr style=\"text-align: right;\">\n",
       "      <th></th>\n",
       "      <th>0</th>\n",
       "      <th>1</th>\n",
       "      <th>2</th>\n",
       "    </tr>\n",
       "  </thead>\n",
       "  <tbody>\n",
       "    <tr>\n",
       "      <th>0</th>\n",
       "      <td>-0.382891</td>\n",
       "      <td>-0.090840</td>\n",
       "      <td>1.0</td>\n",
       "    </tr>\n",
       "    <tr>\n",
       "      <th>1</th>\n",
       "      <td>-0.020962</td>\n",
       "      <td>-0.477874</td>\n",
       "      <td>1.0</td>\n",
       "    </tr>\n",
       "    <tr>\n",
       "      <th>2</th>\n",
       "      <td>-0.396116</td>\n",
       "      <td>-1.289427</td>\n",
       "      <td>0.0</td>\n",
       "    </tr>\n",
       "    <tr>\n",
       "      <th>3</th>\n",
       "      <td>-0.618130</td>\n",
       "      <td>-0.063837</td>\n",
       "      <td>1.0</td>\n",
       "    </tr>\n",
       "    <tr>\n",
       "      <th>4</th>\n",
       "      <td>0.703478</td>\n",
       "      <td>-0.187038</td>\n",
       "      <td>1.0</td>\n",
       "    </tr>\n",
       "  </tbody>\n",
       "</table>\n",
       "</div>"
      ],
      "text/plain": [
       "          0         1    2\n",
       "0 -0.382891 -0.090840  1.0\n",
       "1 -0.020962 -0.477874  1.0\n",
       "2 -0.396116 -1.289427  0.0\n",
       "3 -0.618130 -0.063837  1.0\n",
       "4  0.703478 -0.187038  1.0"
      ]
     },
     "execution_count": 6,
     "metadata": {},
     "output_type": "execute_result"
    }
   ],
   "source": [
    "df=pd.read_csv(r\"D:\\edu\\INNO\\Deep_Learning\\Assignments\\data\\Multiple CSV\\Multiple CSV\\2.concerticcir1.csv\",header=None)\n",
    "df.head()"
   ]
  },
  {
   "cell_type": "code",
   "execution_count": 7,
   "id": "db36fa4c",
   "metadata": {},
   "outputs": [
    {
     "data": {
      "text/html": [
       "<div>\n",
       "<style scoped>\n",
       "    .dataframe tbody tr th:only-of-type {\n",
       "        vertical-align: middle;\n",
       "    }\n",
       "\n",
       "    .dataframe tbody tr th {\n",
       "        vertical-align: top;\n",
       "    }\n",
       "\n",
       "    .dataframe thead th {\n",
       "        text-align: right;\n",
       "    }\n",
       "</style>\n",
       "<table border=\"1\" class=\"dataframe\">\n",
       "  <thead>\n",
       "    <tr style=\"text-align: right;\">\n",
       "      <th></th>\n",
       "      <th>feature_1</th>\n",
       "      <th>feature_2</th>\n",
       "      <th>label</th>\n",
       "    </tr>\n",
       "  </thead>\n",
       "  <tbody>\n",
       "    <tr>\n",
       "      <th>0</th>\n",
       "      <td>-0.382891</td>\n",
       "      <td>-0.090840</td>\n",
       "      <td>1.0</td>\n",
       "    </tr>\n",
       "    <tr>\n",
       "      <th>1</th>\n",
       "      <td>-0.020962</td>\n",
       "      <td>-0.477874</td>\n",
       "      <td>1.0</td>\n",
       "    </tr>\n",
       "    <tr>\n",
       "      <th>2</th>\n",
       "      <td>-0.396116</td>\n",
       "      <td>-1.289427</td>\n",
       "      <td>0.0</td>\n",
       "    </tr>\n",
       "    <tr>\n",
       "      <th>3</th>\n",
       "      <td>-0.618130</td>\n",
       "      <td>-0.063837</td>\n",
       "      <td>1.0</td>\n",
       "    </tr>\n",
       "    <tr>\n",
       "      <th>4</th>\n",
       "      <td>0.703478</td>\n",
       "      <td>-0.187038</td>\n",
       "      <td>1.0</td>\n",
       "    </tr>\n",
       "  </tbody>\n",
       "</table>\n",
       "</div>"
      ],
      "text/plain": [
       "   feature_1  feature_2  label\n",
       "0  -0.382891  -0.090840    1.0\n",
       "1  -0.020962  -0.477874    1.0\n",
       "2  -0.396116  -1.289427    0.0\n",
       "3  -0.618130  -0.063837    1.0\n",
       "4   0.703478  -0.187038    1.0"
      ]
     },
     "execution_count": 7,
     "metadata": {},
     "output_type": "execute_result"
    }
   ],
   "source": [
    "#renaming columns properly\n",
    "df.columns=[\"feature_1\",\"feature_2\",\"label\"] \n",
    "df.head() "
   ]
  },
  {
   "cell_type": "markdown",
   "id": "39b32d39",
   "metadata": {},
   "source": [
    "#### checking label counts "
   ]
  },
  {
   "cell_type": "code",
   "execution_count": 8,
   "id": "1065f1ba",
   "metadata": {},
   "outputs": [
    {
     "data": {
      "text/plain": [
       "label\n",
       "1.0    50\n",
       "0.0    50\n",
       "Name: count, dtype: int64"
      ]
     },
     "execution_count": 8,
     "metadata": {},
     "output_type": "execute_result"
    }
   ],
   "source": [
    "df[\"label\"].value_counts()"
   ]
  },
  {
   "cell_type": "code",
   "execution_count": 9,
   "id": "ea0ddb05",
   "metadata": {},
   "outputs": [
    {
     "name": "stdout",
     "output_type": "stream",
     "text": [
      "<class 'pandas.core.frame.DataFrame'>\n",
      "RangeIndex: 100 entries, 0 to 99\n",
      "Data columns (total 3 columns):\n",
      " #   Column     Non-Null Count  Dtype  \n",
      "---  ------     --------------  -----  \n",
      " 0   feature_1  100 non-null    float64\n",
      " 1   feature_2  100 non-null    float64\n",
      " 2   label      100 non-null    float64\n",
      "dtypes: float64(3)\n",
      "memory usage: 2.5 KB\n"
     ]
    }
   ],
   "source": [
    "df.info()"
   ]
  },
  {
   "cell_type": "code",
   "execution_count": 10,
   "id": "81ab9988",
   "metadata": {},
   "outputs": [
    {
     "data": {
      "text/plain": [
       "<Axes: xlabel='feature_1', ylabel='feature_2'>"
      ]
     },
     "execution_count": 10,
     "metadata": {},
     "output_type": "execute_result"
    },
    {
     "data": {
      "image/png": "[encoded data removed]",
      "text/plain": [
       "<Figure size 640x480 with 1 Axes>"
      ]
     },
     "metadata": {},
     "output_type": "display_data"
    }
   ],
   "source": [
    "sns.scatterplot(data=df,x=\"feature_1\",y=\"feature_2\",hue=\"label\") "
   ]
  },
  {
   "cell_type": "markdown",
   "id": "a68ab2e1",
   "metadata": {},
   "source": [
    "#### splitting the data into input and output features as x and y "
   ]
  },
  {
   "cell_type": "code",
   "execution_count": 20,
   "id": "628d53d7",
   "metadata": {},
   "outputs": [],
   "source": [
    "## splitting the data into input and output\n",
    "x=df[[\"feature_1\",\"feature_2\"]]\n",
    "\n",
    "## typecasting label column as int \n",
    "y=df[\"label\"].astype(int)"
   ]
  },
  {
   "cell_type": "code",
   "execution_count": 21,
   "id": "688d96dc",
   "metadata": {},
   "outputs": [
    {
     "data": {
      "text/plain": [
       "0    1\n",
       "1    1\n",
       "2    0\n",
       "3    1\n",
       "4    1\n",
       "Name: label, dtype: int32"
      ]
     },
     "execution_count": 21,
     "metadata": {},
     "output_type": "execute_result"
    }
   ],
   "source": [
    "y.head()"
   ]
  },
  {
   "cell_type": "markdown",
   "id": "beea1124",
   "metadata": {},
   "source": [
    "#### splitting the data into train and test "
   ]
  },
  {
   "cell_type": "code",
   "execution_count": 22,
   "id": "19509f48",
   "metadata": {},
   "outputs": [
    {
     "name": "stdout",
     "output_type": "stream",
     "text": [
      "(90, 2) (90,)\n",
      "(10, 2) (10,)\n"
     ]
    }
   ],
   "source": [
    "X_train,X_test,y_train,y_test=train_test_split(x,y,train_size=0.9)\n",
    "print(X_train.shape,y_train.shape)\n",
    "print(X_test.shape,y_test.shape)"
   ]
  },
  {
   "cell_type": "markdown",
   "id": "b02ff5a9",
   "metadata": {},
   "source": [
    "#### scaling the input features of both X_train,X_test "
   ]
  },
  {
   "cell_type": "code",
   "execution_count": 23,
   "id": "b6124c2d",
   "metadata": {},
   "outputs": [],
   "source": [
    "scalar=StandardScaler()\n",
    "\n",
    "### scaling X_train\n",
    "X_train=scalar.fit_transform(X_train)\n",
    "\n",
    "\n",
    "\n",
    "## scaling X_test \n",
    "X_test=scalar.transform(X_test)"
   ]
  },
  {
   "cell_type": "markdown",
   "id": "b2d9a9d5",
   "metadata": {},
   "source": [
    "#### building the logical structure "
   ]
  },
  {
   "cell_type": "code",
   "execution_count": 122,
   "id": "71a04a3f",
   "metadata": {},
   "outputs": [],
   "source": [
    "model=Sequential()\n",
    "model.add(Dense(18,activation=\"relu\",kernel_regularizer=L1(0.001),bias_regularizer=L1(0.001),input_dim=2))\n",
    "\n",
    "model.add(Dense(8,activation=\"relu\",kernel_regularizer=L1(0.001),bias_regularizer=L1(0.001)))\n",
    "model.add(Dense(1,activation=\"sigmoid\"))\n"
   ]
  },
  {
   "cell_type": "code",
   "execution_count": 123,
   "id": "bf82275b",
   "metadata": {},
   "outputs": [
    {
     "name": "stdout",
     "output_type": "stream",
     "text": [
      "Model: \"sequential_11\"\n",
      "_________________________________________________________________\n",
      " Layer (type)                Output Shape              Param #   \n",
      "=================================================================\n",
      " dense_33 (Dense)            (None, 18)                54        \n",
      "                                                                 \n",
      " dense_34 (Dense)            (None, 8)                 152       \n",
      "                                                                 \n",
      " dense_35 (Dense)            (None, 1)                 9         \n",
      "                                                                 \n",
      "=================================================================\n",
      "Total params: 215 (860.00 Byte)\n",
      "Trainable params: 215 (860.00 Byte)\n",
      "Non-trainable params: 0 (0.00 Byte)\n",
      "_________________________________________________________________\n"
     ]
    }
   ],
   "source": [
    "model.summary()"
   ]
  },
  {
   "cell_type": "markdown",
   "id": "dfd76be7",
   "metadata": {},
   "source": [
    "#### compiling the model "
   ]
  },
  {
   "cell_type": "code",
   "execution_count": 124,
   "id": "651f673c",
   "metadata": {},
   "outputs": [
    {
     "name": "stdout",
     "output_type": "stream",
     "text": [
      "Epoch 1/400\n",
      "9/9 [==============================] - 1s 40ms/step - loss: 0.7622 - accuracy: 0.4815 - val_loss: 0.7533 - val_accuracy: 0.5556\n",
      "Epoch 2/400\n",
      "9/9 [==============================] - 0s 10ms/step - loss: 0.7599 - accuracy: 0.4938 - val_loss: 0.7566 - val_accuracy: 0.5556\n",
      "Epoch 3/400\n",
      "9/9 [==============================] - 0s 10ms/step - loss: 0.7572 - accuracy: 0.4568 - val_loss: 0.7547 - val_accuracy: 0.5556\n",
      "Epoch 4/400\n",
      "9/9 [==============================] - 0s 8ms/step - loss: 0.7556 - accuracy: 0.4815 - val_loss: 0.7509 - val_accuracy: 0.5556\n",
      "Epoch 5/400\n",
      "9/9 [==============================] - 0s 8ms/step - loss: 0.7535 - accuracy: 0.4815 - val_loss: 0.7435 - val_accuracy: 0.5556\n",
      "Epoch 6/400\n",
      "9/9 [==============================] - 0s 8ms/step - loss: 0.7507 - accuracy: 0.4938 - val_loss: 0.7395 - val_accuracy: 0.5556\n",
      "Epoch 7/400\n",
      "9/9 [==============================] - 0s 8ms/step - loss: 0.7484 - accuracy: 0.5062 - val_loss: 0.7440 - val_accuracy: 0.5556\n",
      "Epoch 8/400\n",
      "9/9 [==============================] - 0s 7ms/step - loss: 0.7459 - accuracy: 0.4815 - val_loss: 0.7374 - val_accuracy: 0.5556\n",
      "Epoch 9/400\n",
      "9/9 [==============================] - 0s 7ms/step - loss: 0.7429 - accuracy: 0.4815 - val_loss: 0.7418 - val_accuracy: 0.5556\n",
      "Epoch 10/400\n",
      "9/9 [==============================] - 0s 8ms/step - loss: 0.7410 - accuracy: 0.5185 - val_loss: 0.7375 - val_accuracy: 0.5556\n",
      "Epoch 11/400\n",
      "9/9 [==============================] - 0s 9ms/step - loss: 0.7393 - accuracy: 0.5185 - val_loss: 0.7403 - val_accuracy: 0.5556\n",
      "Epoch 12/400\n",
      "9/9 [==============================] - 0s 11ms/step - loss: 0.7369 - accuracy: 0.5679 - val_loss: 0.7396 - val_accuracy: 0.5556\n",
      "Epoch 13/400\n",
      "9/9 [==============================] - 0s 9ms/step - loss: 0.7355 - accuracy: 0.5679 - val_loss: 0.7438 - val_accuracy: 0.5556\n",
      "Epoch 14/400\n",
      "9/9 [==============================] - 0s 9ms/step - loss: 0.7337 - accuracy: 0.5802 - val_loss: 0.7479 - val_accuracy: 0.4444\n",
      "Epoch 15/400\n",
      "9/9 [==============================] - 0s 8ms/step - loss: 0.7319 - accuracy: 0.6296 - val_loss: 0.7509 - val_accuracy: 0.4444\n",
      "Epoch 16/400\n",
      "9/9 [==============================] - 0s 9ms/step - loss: 0.7304 - accuracy: 0.6296 - val_loss: 0.7544 - val_accuracy: 0.4444\n",
      "Epoch 17/400\n",
      "9/9 [==============================] - 0s 9ms/step - loss: 0.7288 - accuracy: 0.6543 - val_loss: 0.7492 - val_accuracy: 0.4444\n",
      "Epoch 18/400\n",
      "9/9 [==============================] - 0s 9ms/step - loss: 0.7274 - accuracy: 0.6420 - val_loss: 0.7527 - val_accuracy: 0.4444\n",
      "Epoch 19/400\n",
      "9/9 [==============================] - 0s 9ms/step - loss: 0.7257 - accuracy: 0.6667 - val_loss: 0.7484 - val_accuracy: 0.4444\n",
      "Epoch 20/400\n",
      "9/9 [==============================] - 0s 12ms/step - loss: 0.7241 - accuracy: 0.6667 - val_loss: 0.7530 - val_accuracy: 0.4444\n",
      "Epoch 21/400\n",
      "9/9 [==============================] - 0s 11ms/step - loss: 0.7222 - accuracy: 0.6667 - val_loss: 0.7554 - val_accuracy: 0.4444\n",
      "Epoch 22/400\n",
      "9/9 [==============================] - 0s 10ms/step - loss: 0.7209 - accuracy: 0.6790 - val_loss: 0.7581 - val_accuracy: 0.4444\n",
      "Epoch 23/400\n",
      "9/9 [==============================] - 0s 9ms/step - loss: 0.7196 - accuracy: 0.6790 - val_loss: 0.7605 - val_accuracy: 0.4444\n",
      "Epoch 24/400\n",
      "9/9 [==============================] - 0s 9ms/step - loss: 0.7184 - accuracy: 0.6790 - val_loss: 0.7642 - val_accuracy: 0.4444\n",
      "Epoch 25/400\n",
      "9/9 [==============================] - 0s 9ms/step - loss: 0.7166 - accuracy: 0.6543 - val_loss: 0.7585 - val_accuracy: 0.5556\n",
      "Epoch 26/400\n",
      "9/9 [==============================] - 0s 9ms/step - loss: 0.7152 - accuracy: 0.6790 - val_loss: 0.7561 - val_accuracy: 0.5556\n",
      "Epoch 27/400\n",
      "9/9 [==============================] - 0s 9ms/step - loss: 0.7138 - accuracy: 0.6667 - val_loss: 0.7501 - val_accuracy: 0.5556\n",
      "Epoch 28/400\n",
      "9/9 [==============================] - 0s 9ms/step - loss: 0.7127 - accuracy: 0.6790 - val_loss: 0.7538 - val_accuracy: 0.5556\n",
      "Epoch 29/400\n",
      "9/9 [==============================] - 0s 9ms/step - loss: 0.7111 - accuracy: 0.6790 - val_loss: 0.7576 - val_accuracy: 0.5556\n",
      "Epoch 30/400\n",
      "9/9 [==============================] - 0s 8ms/step - loss: 0.7097 - accuracy: 0.6914 - val_loss: 0.7595 - val_accuracy: 0.5556\n",
      "Epoch 31/400\n",
      "9/9 [==============================] - 0s 9ms/step - loss: 0.7079 - accuracy: 0.7160 - val_loss: 0.7617 - val_accuracy: 0.5556\n",
      "Epoch 32/400\n",
      "9/9 [==============================] - 0s 9ms/step - loss: 0.7068 - accuracy: 0.6914 - val_loss: 0.7561 - val_accuracy: 0.5556\n",
      "Epoch 33/400\n",
      "9/9 [==============================] - 0s 11ms/step - loss: 0.7054 - accuracy: 0.7160 - val_loss: 0.7603 - val_accuracy: 0.5556\n",
      "Epoch 34/400\n",
      "9/9 [==============================] - 0s 9ms/step - loss: 0.7043 - accuracy: 0.7284 - val_loss: 0.7635 - val_accuracy: 0.5556\n",
      "Epoch 35/400\n",
      "9/9 [==============================] - 0s 9ms/step - loss: 0.7030 - accuracy: 0.6790 - val_loss: 0.7655 - val_accuracy: 0.6667\n",
      "Epoch 36/400\n",
      "9/9 [==============================] - 0s 11ms/step - loss: 0.7020 - accuracy: 0.6790 - val_loss: 0.7586 - val_accuracy: 0.6667\n",
      "Epoch 37/400\n",
      "9/9 [==============================] - 0s 10ms/step - loss: 0.7006 - accuracy: 0.7037 - val_loss: 0.7609 - val_accuracy: 0.6667\n",
      "Epoch 38/400\n",
      "9/9 [==============================] - 0s 11ms/step - loss: 0.6993 - accuracy: 0.7160 - val_loss: 0.7630 - val_accuracy: 0.6667\n",
      "Epoch 39/400\n",
      "9/9 [==============================] - 0s 12ms/step - loss: 0.6980 - accuracy: 0.7037 - val_loss: 0.7564 - val_accuracy: 0.6667\n",
      "Epoch 40/400\n",
      "9/9 [==============================] - 0s 9ms/step - loss: 0.6974 - accuracy: 0.7284 - val_loss: 0.7610 - val_accuracy: 0.6667\n",
      "Epoch 41/400\n",
      "9/9 [==============================] - 0s 9ms/step - loss: 0.6958 - accuracy: 0.7284 - val_loss: 0.7550 - val_accuracy: 0.5556\n",
      "Epoch 42/400\n",
      "9/9 [==============================] - 0s 9ms/step - loss: 0.6951 - accuracy: 0.7284 - val_loss: 0.7597 - val_accuracy: 0.6667\n",
      "Epoch 43/400\n",
      "9/9 [==============================] - 0s 9ms/step - loss: 0.6938 - accuracy: 0.7284 - val_loss: 0.7540 - val_accuracy: 0.5556\n",
      "Epoch 44/400\n",
      "9/9 [==============================] - 0s 9ms/step - loss: 0.6931 - accuracy: 0.7407 - val_loss: 0.7567 - val_accuracy: 0.6667\n",
      "Epoch 45/400\n",
      "9/9 [==============================] - 0s 9ms/step - loss: 0.6920 - accuracy: 0.7407 - val_loss: 0.7591 - val_accuracy: 0.6667\n",
      "Epoch 46/400\n",
      "9/9 [==============================] - 0s 8ms/step - loss: 0.6911 - accuracy: 0.7531 - val_loss: 0.7615 - val_accuracy: 0.6667\n",
      "Epoch 47/400\n",
      "9/9 [==============================] - 0s 8ms/step - loss: 0.6901 - accuracy: 0.7407 - val_loss: 0.7658 - val_accuracy: 0.5556\n",
      "Epoch 48/400\n",
      "9/9 [==============================] - 0s 7ms/step - loss: 0.6890 - accuracy: 0.7284 - val_loss: 0.7589 - val_accuracy: 0.5556\n",
      "Epoch 49/400\n",
      "9/9 [==============================] - 0s 8ms/step - loss: 0.6882 - accuracy: 0.7654 - val_loss: 0.7622 - val_accuracy: 0.5556\n",
      "Epoch 50/400\n",
      "9/9 [==============================] - 0s 8ms/step - loss: 0.6869 - accuracy: 0.7407 - val_loss: 0.7562 - val_accuracy: 0.6667\n",
      "Epoch 51/400\n",
      "9/9 [==============================] - 0s 12ms/step - loss: 0.6861 - accuracy: 0.7654 - val_loss: 0.7602 - val_accuracy: 0.5556\n",
      "Epoch 52/400\n",
      "9/9 [==============================] - 0s 10ms/step - loss: 0.6846 - accuracy: 0.7531 - val_loss: 0.7638 - val_accuracy: 0.5556\n",
      "Epoch 53/400\n",
      "9/9 [==============================] - 0s 7ms/step - loss: 0.6840 - accuracy: 0.7407 - val_loss: 0.7565 - val_accuracy: 0.5556\n",
      "Epoch 54/400\n",
      "9/9 [==============================] - 0s 7ms/step - loss: 0.6824 - accuracy: 0.7901 - val_loss: 0.7501 - val_accuracy: 0.6667\n",
      "Epoch 55/400\n",
      "9/9 [==============================] - 0s 8ms/step - loss: 0.6811 - accuracy: 0.7901 - val_loss: 0.7443 - val_accuracy: 0.6667\n",
      "Epoch 56/400\n",
      "9/9 [==============================] - 0s 11ms/step - loss: 0.6805 - accuracy: 0.8025 - val_loss: 0.7398 - val_accuracy: 0.6667\n",
      "Epoch 57/400\n",
      "9/9 [==============================] - 0s 8ms/step - loss: 0.6796 - accuracy: 0.7901 - val_loss: 0.7433 - val_accuracy: 0.6667\n",
      "Epoch 58/400\n",
      "9/9 [==============================] - 0s 9ms/step - loss: 0.6787 - accuracy: 0.8025 - val_loss: 0.7495 - val_accuracy: 0.6667\n",
      "Epoch 59/400\n",
      "9/9 [==============================] - 0s 9ms/step - loss: 0.6775 - accuracy: 0.8025 - val_loss: 0.7538 - val_accuracy: 0.5556\n",
      "Epoch 60/400\n",
      "9/9 [==============================] - 0s 8ms/step - loss: 0.6766 - accuracy: 0.7654 - val_loss: 0.7562 - val_accuracy: 0.5556\n",
      "Epoch 61/400\n",
      "9/9 [==============================] - 0s 8ms/step - loss: 0.6754 - accuracy: 0.7654 - val_loss: 0.7487 - val_accuracy: 0.6667\n",
      "Epoch 62/400\n",
      "9/9 [==============================] - 0s 8ms/step - loss: 0.6744 - accuracy: 0.7778 - val_loss: 0.7441 - val_accuracy: 0.6667\n",
      "Epoch 63/400\n",
      "9/9 [==============================] - 0s 8ms/step - loss: 0.6734 - accuracy: 0.7778 - val_loss: 0.7508 - val_accuracy: 0.6667\n",
      "Epoch 64/400\n",
      "9/9 [==============================] - 0s 8ms/step - loss: 0.6727 - accuracy: 0.7654 - val_loss: 0.7459 - val_accuracy: 0.6667\n",
      "Epoch 65/400\n",
      "9/9 [==============================] - 0s 8ms/step - loss: 0.6719 - accuracy: 0.7654 - val_loss: 0.7527 - val_accuracy: 0.5556\n",
      "Epoch 66/400\n",
      "9/9 [==============================] - 0s 8ms/step - loss: 0.6714 - accuracy: 0.7531 - val_loss: 0.7456 - val_accuracy: 0.6667\n",
      "Epoch 67/400\n",
      "9/9 [==============================] - 0s 8ms/step - loss: 0.6700 - accuracy: 0.7778 - val_loss: 0.7388 - val_accuracy: 0.6667\n",
      "Epoch 68/400\n",
      "9/9 [==============================] - 0s 8ms/step - loss: 0.6691 - accuracy: 0.7901 - val_loss: 0.7434 - val_accuracy: 0.6667\n",
      "Epoch 69/400\n",
      "9/9 [==============================] - 0s 9ms/step - loss: 0.6680 - accuracy: 0.7778 - val_loss: 0.7487 - val_accuracy: 0.6667\n",
      "Epoch 70/400\n",
      "9/9 [==============================] - 0s 10ms/step - loss: 0.6670 - accuracy: 0.7778 - val_loss: 0.7555 - val_accuracy: 0.5556\n",
      "Epoch 71/400\n",
      "9/9 [==============================] - 0s 15ms/step - loss: 0.6657 - accuracy: 0.7531 - val_loss: 0.7495 - val_accuracy: 0.6667\n",
      "Epoch 72/400\n",
      "9/9 [==============================] - 0s 8ms/step - loss: 0.6650 - accuracy: 0.7778 - val_loss: 0.7415 - val_accuracy: 0.6667\n",
      "Epoch 73/400\n",
      "9/9 [==============================] - 0s 8ms/step - loss: 0.6639 - accuracy: 0.8025 - val_loss: 0.7485 - val_accuracy: 0.5556\n",
      "Epoch 74/400\n",
      "9/9 [==============================] - 0s 8ms/step - loss: 0.6630 - accuracy: 0.7778 - val_loss: 0.7407 - val_accuracy: 0.6667\n",
      "Epoch 75/400\n",
      "9/9 [==============================] - 0s 9ms/step - loss: 0.6615 - accuracy: 0.7901 - val_loss: 0.7453 - val_accuracy: 0.6667\n",
      "Epoch 76/400\n",
      "9/9 [==============================] - 0s 8ms/step - loss: 0.6602 - accuracy: 0.7901 - val_loss: 0.7401 - val_accuracy: 0.6667\n",
      "Epoch 77/400\n",
      "9/9 [==============================] - 0s 8ms/step - loss: 0.6591 - accuracy: 0.7901 - val_loss: 0.7439 - val_accuracy: 0.6667\n",
      "Epoch 78/400\n",
      "9/9 [==============================] - 0s 8ms/step - loss: 0.6584 - accuracy: 0.7901 - val_loss: 0.7379 - val_accuracy: 0.6667\n",
      "Epoch 79/400\n",
      "9/9 [==============================] - 0s 7ms/step - loss: 0.6571 - accuracy: 0.7901 - val_loss: 0.7461 - val_accuracy: 0.6667\n",
      "Epoch 80/400\n",
      "9/9 [==============================] - 0s 8ms/step - loss: 0.6570 - accuracy: 0.7654 - val_loss: 0.7492 - val_accuracy: 0.6667\n",
      "Epoch 81/400\n",
      "9/9 [==============================] - 0s 8ms/step - loss: 0.6549 - accuracy: 0.7901 - val_loss: 0.7507 - val_accuracy: 0.6667\n",
      "Epoch 82/400\n",
      "9/9 [==============================] - 0s 8ms/step - loss: 0.6539 - accuracy: 0.7901 - val_loss: 0.7408 - val_accuracy: 0.6667\n",
      "Epoch 83/400\n",
      "9/9 [==============================] - 0s 10ms/step - loss: 0.6523 - accuracy: 0.7901 - val_loss: 0.7377 - val_accuracy: 0.6667\n",
      "Epoch 84/400\n",
      "9/9 [==============================] - 0s 9ms/step - loss: 0.6514 - accuracy: 0.7901 - val_loss: 0.7405 - val_accuracy: 0.6667\n",
      "Epoch 85/400\n",
      "9/9 [==============================] - 0s 9ms/step - loss: 0.6504 - accuracy: 0.7901 - val_loss: 0.7451 - val_accuracy: 0.6667\n",
      "Epoch 86/400\n",
      "9/9 [==============================] - 0s 9ms/step - loss: 0.6489 - accuracy: 0.7901 - val_loss: 0.7487 - val_accuracy: 0.5556\n",
      "Epoch 87/400\n",
      "9/9 [==============================] - 0s 9ms/step - loss: 0.6478 - accuracy: 0.7901 - val_loss: 0.7499 - val_accuracy: 0.5556\n",
      "Epoch 88/400\n",
      "9/9 [==============================] - 0s 9ms/step - loss: 0.6467 - accuracy: 0.7901 - val_loss: 0.7528 - val_accuracy: 0.5556\n",
      "Epoch 89/400\n",
      "9/9 [==============================] - 0s 9ms/step - loss: 0.6456 - accuracy: 0.7654 - val_loss: 0.7410 - val_accuracy: 0.6667\n",
      "Epoch 90/400\n",
      "9/9 [==============================] - 0s 9ms/step - loss: 0.6444 - accuracy: 0.7901 - val_loss: 0.7486 - val_accuracy: 0.6667\n",
      "Epoch 91/400\n",
      "9/9 [==============================] - 0s 9ms/step - loss: 0.6436 - accuracy: 0.7901 - val_loss: 0.7377 - val_accuracy: 0.6667\n",
      "Epoch 92/400\n",
      "9/9 [==============================] - 0s 9ms/step - loss: 0.6420 - accuracy: 0.7901 - val_loss: 0.7299 - val_accuracy: 0.6667\n",
      "Epoch 93/400\n",
      "9/9 [==============================] - 0s 8ms/step - loss: 0.6396 - accuracy: 0.8025 - val_loss: 0.7203 - val_accuracy: 0.6667\n",
      "Epoch 94/400\n",
      "9/9 [==============================] - 0s 8ms/step - loss: 0.6376 - accuracy: 0.8272 - val_loss: 0.7097 - val_accuracy: 0.6667\n",
      "Epoch 95/400\n",
      "9/9 [==============================] - 0s 8ms/step - loss: 0.6350 - accuracy: 0.8148 - val_loss: 0.7004 - val_accuracy: 0.6667\n",
      "Epoch 96/400\n",
      "9/9 [==============================] - 0s 8ms/step - loss: 0.6331 - accuracy: 0.8148 - val_loss: 0.7073 - val_accuracy: 0.6667\n",
      "Epoch 97/400\n",
      "9/9 [==============================] - 0s 9ms/step - loss: 0.6316 - accuracy: 0.8148 - val_loss: 0.6992 - val_accuracy: 0.6667\n",
      "Epoch 98/400\n",
      "9/9 [==============================] - 0s 8ms/step - loss: 0.6293 - accuracy: 0.8148 - val_loss: 0.6918 - val_accuracy: 0.6667\n",
      "Epoch 99/400\n",
      "9/9 [==============================] - 0s 9ms/step - loss: 0.6279 - accuracy: 0.8025 - val_loss: 0.6988 - val_accuracy: 0.6667\n",
      "Epoch 100/400\n",
      "9/9 [==============================] - 0s 9ms/step - loss: 0.6259 - accuracy: 0.8272 - val_loss: 0.7037 - val_accuracy: 0.6667\n",
      "Epoch 101/400\n",
      "9/9 [==============================] - 0s 10ms/step - loss: 0.6234 - accuracy: 0.8272 - val_loss: 0.7084 - val_accuracy: 0.6667\n",
      "Epoch 102/400\n",
      "9/9 [==============================] - 0s 9ms/step - loss: 0.6212 - accuracy: 0.8395 - val_loss: 0.6988 - val_accuracy: 0.6667\n",
      "Epoch 103/400\n",
      "9/9 [==============================] - 0s 9ms/step - loss: 0.6189 - accuracy: 0.8272 - val_loss: 0.6899 - val_accuracy: 0.6667\n",
      "Epoch 104/400\n",
      "9/9 [==============================] - 0s 9ms/step - loss: 0.6172 - accuracy: 0.8395 - val_loss: 0.6825 - val_accuracy: 0.6667\n",
      "Epoch 105/400\n",
      "9/9 [==============================] - 0s 9ms/step - loss: 0.6153 - accuracy: 0.8395 - val_loss: 0.6732 - val_accuracy: 0.6667\n",
      "Epoch 106/400\n",
      "9/9 [==============================] - 0s 9ms/step - loss: 0.6140 - accuracy: 0.8395 - val_loss: 0.6849 - val_accuracy: 0.6667\n",
      "Epoch 107/400\n",
      "9/9 [==============================] - 0s 9ms/step - loss: 0.6111 - accuracy: 0.8519 - val_loss: 0.6925 - val_accuracy: 0.6667\n",
      "Epoch 108/400\n",
      "9/9 [==============================] - 0s 9ms/step - loss: 0.6089 - accuracy: 0.8395 - val_loss: 0.6839 - val_accuracy: 0.6667\n",
      "Epoch 109/400\n",
      "9/9 [==============================] - 0s 9ms/step - loss: 0.6065 - accuracy: 0.8642 - val_loss: 0.6919 - val_accuracy: 0.5556\n",
      "Epoch 110/400\n",
      "9/9 [==============================] - 0s 10ms/step - loss: 0.6040 - accuracy: 0.8642 - val_loss: 0.6835 - val_accuracy: 0.6667\n",
      "Epoch 111/400\n",
      "9/9 [==============================] - 0s 9ms/step - loss: 0.6027 - accuracy: 0.8642 - val_loss: 0.6923 - val_accuracy: 0.5556\n",
      "Epoch 112/400\n",
      "9/9 [==============================] - 0s 8ms/step - loss: 0.6003 - accuracy: 0.8642 - val_loss: 0.6843 - val_accuracy: 0.5556\n",
      "Epoch 113/400\n",
      "9/9 [==============================] - 0s 8ms/step - loss: 0.5981 - accuracy: 0.8642 - val_loss: 0.6931 - val_accuracy: 0.5556\n",
      "Epoch 114/400\n",
      "9/9 [==============================] - 0s 8ms/step - loss: 0.5957 - accuracy: 0.8642 - val_loss: 0.6999 - val_accuracy: 0.4444\n",
      "Epoch 115/400\n",
      "9/9 [==============================] - 0s 8ms/step - loss: 0.5936 - accuracy: 0.8642 - val_loss: 0.6902 - val_accuracy: 0.5556\n",
      "Epoch 116/400\n",
      "9/9 [==============================] - 0s 7ms/step - loss: 0.5916 - accuracy: 0.8642 - val_loss: 0.6812 - val_accuracy: 0.5556\n",
      "Epoch 117/400\n"
     ]
    },
    {
     "name": "stdout",
     "output_type": "stream",
     "text": [
      "9/9 [==============================] - 0s 8ms/step - loss: 0.5900 - accuracy: 0.8765 - val_loss: 0.6706 - val_accuracy: 0.6667\n",
      "Epoch 118/400\n",
      "9/9 [==============================] - 0s 8ms/step - loss: 0.5879 - accuracy: 0.8642 - val_loss: 0.6777 - val_accuracy: 0.6667\n",
      "Epoch 119/400\n",
      "9/9 [==============================] - 0s 10ms/step - loss: 0.5855 - accuracy: 0.8765 - val_loss: 0.6842 - val_accuracy: 0.5556\n",
      "Epoch 120/400\n",
      "9/9 [==============================] - 0s 10ms/step - loss: 0.5829 - accuracy: 0.8765 - val_loss: 0.6915 - val_accuracy: 0.4444\n",
      "Epoch 121/400\n",
      "9/9 [==============================] - 0s 9ms/step - loss: 0.5807 - accuracy: 0.8765 - val_loss: 0.7030 - val_accuracy: 0.4444\n",
      "Epoch 122/400\n",
      "9/9 [==============================] - 0s 10ms/step - loss: 0.5790 - accuracy: 0.8765 - val_loss: 0.7107 - val_accuracy: 0.4444\n",
      "Epoch 123/400\n",
      "9/9 [==============================] - 0s 10ms/step - loss: 0.5776 - accuracy: 0.8519 - val_loss: 0.7180 - val_accuracy: 0.4444\n",
      "Epoch 124/400\n",
      "9/9 [==============================] - 0s 10ms/step - loss: 0.5763 - accuracy: 0.8519 - val_loss: 0.7190 - val_accuracy: 0.4444\n",
      "Epoch 125/400\n",
      "9/9 [==============================] - 0s 11ms/step - loss: 0.5736 - accuracy: 0.8519 - val_loss: 0.7058 - val_accuracy: 0.4444\n",
      "Epoch 126/400\n",
      "9/9 [==============================] - 0s 10ms/step - loss: 0.5712 - accuracy: 0.8519 - val_loss: 0.6921 - val_accuracy: 0.4444\n",
      "Epoch 127/400\n",
      "9/9 [==============================] - 0s 10ms/step - loss: 0.5684 - accuracy: 0.8765 - val_loss: 0.6759 - val_accuracy: 0.6667\n",
      "Epoch 128/400\n",
      "9/9 [==============================] - 0s 11ms/step - loss: 0.5668 - accuracy: 0.8889 - val_loss: 0.6654 - val_accuracy: 0.6667\n",
      "Epoch 129/400\n",
      "9/9 [==============================] - 0s 10ms/step - loss: 0.5646 - accuracy: 0.9012 - val_loss: 0.6793 - val_accuracy: 0.5556\n",
      "Epoch 130/400\n",
      "9/9 [==============================] - 0s 9ms/step - loss: 0.5627 - accuracy: 0.9259 - val_loss: 0.6838 - val_accuracy: 0.4444\n",
      "Epoch 131/400\n",
      "9/9 [==============================] - 0s 9ms/step - loss: 0.5596 - accuracy: 0.9012 - val_loss: 0.6897 - val_accuracy: 0.4444\n",
      "Epoch 132/400\n",
      "9/9 [==============================] - 0s 11ms/step - loss: 0.5577 - accuracy: 0.9012 - val_loss: 0.6739 - val_accuracy: 0.5556\n",
      "Epoch 133/400\n",
      "9/9 [==============================] - 0s 8ms/step - loss: 0.5558 - accuracy: 0.9136 - val_loss: 0.6832 - val_accuracy: 0.4444\n",
      "Epoch 134/400\n",
      "9/9 [==============================] - 0s 8ms/step - loss: 0.5534 - accuracy: 0.9383 - val_loss: 0.6915 - val_accuracy: 0.4444\n",
      "Epoch 135/400\n",
      "9/9 [==============================] - 0s 9ms/step - loss: 0.5519 - accuracy: 0.8765 - val_loss: 0.6789 - val_accuracy: 0.4444\n",
      "Epoch 136/400\n",
      "9/9 [==============================] - 0s 8ms/step - loss: 0.5491 - accuracy: 0.9259 - val_loss: 0.6629 - val_accuracy: 0.4444\n",
      "Epoch 137/400\n",
      "9/9 [==============================] - 0s 9ms/step - loss: 0.5465 - accuracy: 0.9259 - val_loss: 0.6492 - val_accuracy: 0.6667\n",
      "Epoch 138/400\n",
      "9/9 [==============================] - 0s 8ms/step - loss: 0.5451 - accuracy: 0.9259 - val_loss: 0.6574 - val_accuracy: 0.6667\n",
      "Epoch 139/400\n",
      "9/9 [==============================] - 0s 9ms/step - loss: 0.5422 - accuracy: 0.9259 - val_loss: 0.6603 - val_accuracy: 0.5556\n",
      "Epoch 140/400\n",
      "9/9 [==============================] - 0s 11ms/step - loss: 0.5403 - accuracy: 0.9259 - val_loss: 0.6668 - val_accuracy: 0.5556\n",
      "Epoch 141/400\n",
      "9/9 [==============================] - 0s 9ms/step - loss: 0.5375 - accuracy: 0.9383 - val_loss: 0.6511 - val_accuracy: 0.6667\n",
      "Epoch 142/400\n",
      "9/9 [==============================] - 0s 9ms/step - loss: 0.5363 - accuracy: 0.9259 - val_loss: 0.6413 - val_accuracy: 0.7778\n",
      "Epoch 143/400\n",
      "9/9 [==============================] - 0s 8ms/step - loss: 0.5340 - accuracy: 0.9259 - val_loss: 0.6336 - val_accuracy: 0.7778\n",
      "Epoch 144/400\n",
      "9/9 [==============================] - 0s 8ms/step - loss: 0.5322 - accuracy: 0.9136 - val_loss: 0.6274 - val_accuracy: 0.7778\n",
      "Epoch 145/400\n",
      "9/9 [==============================] - 0s 9ms/step - loss: 0.5305 - accuracy: 0.9012 - val_loss: 0.6410 - val_accuracy: 0.5556\n",
      "Epoch 146/400\n",
      "9/9 [==============================] - 0s 8ms/step - loss: 0.5274 - accuracy: 0.9012 - val_loss: 0.6324 - val_accuracy: 0.6667\n",
      "Epoch 147/400\n",
      "9/9 [==============================] - 0s 9ms/step - loss: 0.5256 - accuracy: 0.9012 - val_loss: 0.6404 - val_accuracy: 0.5556\n",
      "Epoch 148/400\n",
      "9/9 [==============================] - 0s 9ms/step - loss: 0.5232 - accuracy: 0.9012 - val_loss: 0.6451 - val_accuracy: 0.5556\n",
      "Epoch 149/400\n",
      "9/9 [==============================] - 0s 10ms/step - loss: 0.5208 - accuracy: 0.8889 - val_loss: 0.6606 - val_accuracy: 0.5556\n",
      "Epoch 150/400\n",
      "9/9 [==============================] - 0s 13ms/step - loss: 0.5185 - accuracy: 0.9136 - val_loss: 0.6679 - val_accuracy: 0.5556\n",
      "Epoch 151/400\n",
      "9/9 [==============================] - 0s 9ms/step - loss: 0.5158 - accuracy: 0.9136 - val_loss: 0.6765 - val_accuracy: 0.4444\n",
      "Epoch 152/400\n",
      "9/9 [==============================] - 0s 9ms/step - loss: 0.5146 - accuracy: 0.9136 - val_loss: 0.6785 - val_accuracy: 0.4444\n",
      "Epoch 153/400\n",
      "9/9 [==============================] - 0s 9ms/step - loss: 0.5116 - accuracy: 0.9136 - val_loss: 0.6633 - val_accuracy: 0.5556\n",
      "Epoch 154/400\n",
      "9/9 [==============================] - 0s 9ms/step - loss: 0.5088 - accuracy: 0.9136 - val_loss: 0.6546 - val_accuracy: 0.5556\n",
      "Epoch 155/400\n",
      "9/9 [==============================] - 0s 9ms/step - loss: 0.5065 - accuracy: 0.9136 - val_loss: 0.6647 - val_accuracy: 0.5556\n",
      "Epoch 156/400\n",
      "9/9 [==============================] - 0s 9ms/step - loss: 0.5043 - accuracy: 0.9136 - val_loss: 0.6717 - val_accuracy: 0.5556\n",
      "Epoch 157/400\n",
      "9/9 [==============================] - 0s 9ms/step - loss: 0.5022 - accuracy: 0.9136 - val_loss: 0.6705 - val_accuracy: 0.5556\n",
      "Epoch 158/400\n",
      "9/9 [==============================] - 0s 8ms/step - loss: 0.5005 - accuracy: 0.9136 - val_loss: 0.6736 - val_accuracy: 0.5556\n",
      "Epoch 159/400\n",
      "9/9 [==============================] - 0s 9ms/step - loss: 0.4985 - accuracy: 0.9136 - val_loss: 0.6556 - val_accuracy: 0.6667\n",
      "Epoch 160/400\n",
      "9/9 [==============================] - 0s 8ms/step - loss: 0.4955 - accuracy: 0.9259 - val_loss: 0.6593 - val_accuracy: 0.5556\n",
      "Epoch 161/400\n",
      "9/9 [==============================] - 0s 9ms/step - loss: 0.4929 - accuracy: 0.9136 - val_loss: 0.6706 - val_accuracy: 0.5556\n",
      "Epoch 162/400\n",
      "9/9 [==============================] - 0s 10ms/step - loss: 0.4914 - accuracy: 0.9136 - val_loss: 0.6716 - val_accuracy: 0.5556\n",
      "Epoch 163/400\n",
      "9/9 [==============================] - 0s 9ms/step - loss: 0.4893 - accuracy: 0.9136 - val_loss: 0.6813 - val_accuracy: 0.5556\n",
      "Epoch 164/400\n",
      "9/9 [==============================] - 0s 8ms/step - loss: 0.4880 - accuracy: 0.9136 - val_loss: 0.6575 - val_accuracy: 0.6667\n",
      "Epoch 165/400\n",
      "9/9 [==============================] - 0s 8ms/step - loss: 0.4851 - accuracy: 0.9136 - val_loss: 0.6620 - val_accuracy: 0.6667\n",
      "Epoch 166/400\n",
      "9/9 [==============================] - 0s 7ms/step - loss: 0.4826 - accuracy: 0.9136 - val_loss: 0.6823 - val_accuracy: 0.5556\n",
      "Epoch 167/400\n",
      "9/9 [==============================] - 0s 8ms/step - loss: 0.4827 - accuracy: 0.9136 - val_loss: 0.6849 - val_accuracy: 0.5556\n",
      "Epoch 168/400\n",
      "9/9 [==============================] - 0s 10ms/step - loss: 0.4802 - accuracy: 0.9136 - val_loss: 0.6634 - val_accuracy: 0.5556\n",
      "Epoch 169/400\n",
      "9/9 [==============================] - 0s 10ms/step - loss: 0.4773 - accuracy: 0.9383 - val_loss: 0.6644 - val_accuracy: 0.5556\n",
      "Epoch 170/400\n",
      "9/9 [==============================] - 0s 10ms/step - loss: 0.4757 - accuracy: 0.9259 - val_loss: 0.6602 - val_accuracy: 0.6667\n",
      "Epoch 171/400\n",
      "9/9 [==============================] - 0s 8ms/step - loss: 0.4732 - accuracy: 0.9383 - val_loss: 0.6478 - val_accuracy: 0.6667\n",
      "Epoch 172/400\n",
      "9/9 [==============================] - 0s 10ms/step - loss: 0.4712 - accuracy: 0.9383 - val_loss: 0.6503 - val_accuracy: 0.6667\n",
      "Epoch 173/400\n",
      "9/9 [==============================] - 0s 10ms/step - loss: 0.4690 - accuracy: 0.9383 - val_loss: 0.6394 - val_accuracy: 0.6667\n",
      "Epoch 174/400\n",
      "9/9 [==============================] - 0s 10ms/step - loss: 0.4661 - accuracy: 0.9383 - val_loss: 0.6458 - val_accuracy: 0.6667\n",
      "Epoch 175/400\n"
     ]
    },
    {
     "name": "stdout",
     "output_type": "stream",
     "text": [
      "9/9 [==============================] - 0s 10ms/step - loss: 0.4639 - accuracy: 0.9383 - val_loss: 0.6518 - val_accuracy: 0.6667\n",
      "Epoch 176/400\n",
      "9/9 [==============================] - 0s 10ms/step - loss: 0.4633 - accuracy: 0.9136 - val_loss: 0.6245 - val_accuracy: 0.6667\n",
      "Epoch 177/400\n",
      "9/9 [==============================] - 0s 10ms/step - loss: 0.4602 - accuracy: 0.9259 - val_loss: 0.6257 - val_accuracy: 0.6667\n",
      "Epoch 178/400\n",
      "9/9 [==============================] - 0s 11ms/step - loss: 0.4582 - accuracy: 0.9259 - val_loss: 0.6139 - val_accuracy: 0.6667\n",
      "Epoch 179/400\n",
      "9/9 [==============================] - 0s 11ms/step - loss: 0.4562 - accuracy: 0.9383 - val_loss: 0.6248 - val_accuracy: 0.6667\n",
      "Epoch 180/400\n",
      "9/9 [==============================] - 0s 10ms/step - loss: 0.4536 - accuracy: 0.9136 - val_loss: 0.6152 - val_accuracy: 0.6667\n",
      "Epoch 181/400\n",
      "9/9 [==============================] - 0s 11ms/step - loss: 0.4526 - accuracy: 0.9259 - val_loss: 0.6318 - val_accuracy: 0.6667\n",
      "Epoch 182/400\n",
      "9/9 [==============================] - 0s 11ms/step - loss: 0.4500 - accuracy: 0.9259 - val_loss: 0.6256 - val_accuracy: 0.6667\n",
      "Epoch 183/400\n",
      "9/9 [==============================] - 0s 9ms/step - loss: 0.4483 - accuracy: 0.9259 - val_loss: 0.6291 - val_accuracy: 0.6667\n",
      "Epoch 184/400\n",
      "9/9 [==============================] - 0s 11ms/step - loss: 0.4459 - accuracy: 0.9259 - val_loss: 0.6339 - val_accuracy: 0.6667\n",
      "Epoch 185/400\n",
      "9/9 [==============================] - 0s 15ms/step - loss: 0.4440 - accuracy: 0.9259 - val_loss: 0.6311 - val_accuracy: 0.6667\n",
      "Epoch 186/400\n",
      "9/9 [==============================] - 0s 14ms/step - loss: 0.4423 - accuracy: 0.9259 - val_loss: 0.6091 - val_accuracy: 0.6667\n",
      "Epoch 187/400\n",
      "9/9 [==============================] - 0s 10ms/step - loss: 0.4394 - accuracy: 0.9259 - val_loss: 0.5906 - val_accuracy: 0.7778\n",
      "Epoch 188/400\n",
      "9/9 [==============================] - 0s 10ms/step - loss: 0.4377 - accuracy: 0.9506 - val_loss: 0.6022 - val_accuracy: 0.7778\n",
      "Epoch 189/400\n",
      "9/9 [==============================] - 0s 10ms/step - loss: 0.4357 - accuracy: 0.9383 - val_loss: 0.5877 - val_accuracy: 0.7778\n",
      "Epoch 190/400\n",
      "9/9 [==============================] - 0s 10ms/step - loss: 0.4339 - accuracy: 0.9383 - val_loss: 0.6042 - val_accuracy: 0.6667\n",
      "Epoch 191/400\n",
      "9/9 [==============================] - 0s 9ms/step - loss: 0.4315 - accuracy: 0.9259 - val_loss: 0.5944 - val_accuracy: 0.7778\n",
      "Epoch 192/400\n",
      "9/9 [==============================] - 0s 9ms/step - loss: 0.4295 - accuracy: 0.9259 - val_loss: 0.5880 - val_accuracy: 0.7778\n",
      "Epoch 193/400\n",
      "9/9 [==============================] - 0s 9ms/step - loss: 0.4275 - accuracy: 0.9383 - val_loss: 0.6014 - val_accuracy: 0.6667\n",
      "Epoch 194/400\n",
      "9/9 [==============================] - 0s 10ms/step - loss: 0.4260 - accuracy: 0.9136 - val_loss: 0.5774 - val_accuracy: 0.7778\n",
      "Epoch 195/400\n",
      "9/9 [==============================] - 0s 9ms/step - loss: 0.4245 - accuracy: 0.9383 - val_loss: 0.5967 - val_accuracy: 0.7778\n",
      "Epoch 196/400\n",
      "9/9 [==============================] - 0s 9ms/step - loss: 0.4215 - accuracy: 0.9383 - val_loss: 0.5884 - val_accuracy: 0.7778\n",
      "Epoch 197/400\n",
      "9/9 [==============================] - 0s 8ms/step - loss: 0.4202 - accuracy: 0.9383 - val_loss: 0.5984 - val_accuracy: 0.7778\n",
      "Epoch 198/400\n",
      "9/9 [==============================] - 0s 10ms/step - loss: 0.4194 - accuracy: 0.9383 - val_loss: 0.5840 - val_accuracy: 0.7778\n",
      "Epoch 199/400\n",
      "9/9 [==============================] - 0s 10ms/step - loss: 0.4167 - accuracy: 0.9383 - val_loss: 0.5729 - val_accuracy: 0.7778\n",
      "Epoch 200/400\n",
      "9/9 [==============================] - 0s 9ms/step - loss: 0.4148 - accuracy: 0.9383 - val_loss: 0.5599 - val_accuracy: 0.7778\n",
      "Epoch 201/400\n",
      "9/9 [==============================] - 0s 9ms/step - loss: 0.4139 - accuracy: 0.9506 - val_loss: 0.5736 - val_accuracy: 0.7778\n",
      "Epoch 202/400\n",
      "9/9 [==============================] - 0s 9ms/step - loss: 0.4108 - accuracy: 0.9506 - val_loss: 0.5613 - val_accuracy: 0.7778\n",
      "Epoch 203/400\n",
      "9/9 [==============================] - 0s 8ms/step - loss: 0.4096 - accuracy: 0.9506 - val_loss: 0.5599 - val_accuracy: 0.7778\n",
      "Epoch 204/400\n",
      "9/9 [==============================] - 0s 8ms/step - loss: 0.4086 - accuracy: 0.9506 - val_loss: 0.5465 - val_accuracy: 0.7778\n",
      "Epoch 205/400\n",
      "9/9 [==============================] - 0s 8ms/step - loss: 0.4070 - accuracy: 0.9506 - val_loss: 0.5648 - val_accuracy: 0.7778\n",
      "Epoch 206/400\n",
      "9/9 [==============================] - 0s 9ms/step - loss: 0.4037 - accuracy: 0.9506 - val_loss: 0.5649 - val_accuracy: 0.7778\n",
      "Epoch 207/400\n",
      "9/9 [==============================] - 0s 10ms/step - loss: 0.4018 - accuracy: 0.9506 - val_loss: 0.5871 - val_accuracy: 0.7778\n",
      "Epoch 208/400\n",
      "9/9 [==============================] - 0s 11ms/step - loss: 0.3999 - accuracy: 0.9506 - val_loss: 0.5734 - val_accuracy: 0.7778\n",
      "Epoch 209/400\n",
      "9/9 [==============================] - 0s 12ms/step - loss: 0.3985 - accuracy: 0.9506 - val_loss: 0.5662 - val_accuracy: 0.7778\n",
      "Epoch 210/400\n",
      "9/9 [==============================] - 0s 10ms/step - loss: 0.3970 - accuracy: 0.9506 - val_loss: 0.5685 - val_accuracy: 0.7778\n",
      "Epoch 211/400\n",
      "9/9 [==============================] - 0s 10ms/step - loss: 0.3955 - accuracy: 0.9506 - val_loss: 0.5784 - val_accuracy: 0.7778\n",
      "Epoch 212/400\n",
      "9/9 [==============================] - 0s 8ms/step - loss: 0.3943 - accuracy: 0.9506 - val_loss: 0.5934 - val_accuracy: 0.7778\n",
      "Epoch 213/400\n",
      "9/9 [==============================] - 0s 9ms/step - loss: 0.3922 - accuracy: 0.9383 - val_loss: 0.5818 - val_accuracy: 0.7778\n",
      "Epoch 214/400\n",
      "9/9 [==============================] - 0s 7ms/step - loss: 0.3903 - accuracy: 0.9506 - val_loss: 0.5982 - val_accuracy: 0.7778\n",
      "Epoch 215/400\n",
      "9/9 [==============================] - 0s 9ms/step - loss: 0.3901 - accuracy: 0.9383 - val_loss: 0.6006 - val_accuracy: 0.7778\n",
      "Epoch 216/400\n",
      "9/9 [==============================] - 0s 8ms/step - loss: 0.3877 - accuracy: 0.9383 - val_loss: 0.5811 - val_accuracy: 0.7778\n",
      "Epoch 217/400\n",
      "9/9 [==============================] - 0s 9ms/step - loss: 0.3862 - accuracy: 0.9506 - val_loss: 0.5840 - val_accuracy: 0.7778\n",
      "Epoch 218/400\n",
      "9/9 [==============================] - 0s 8ms/step - loss: 0.3841 - accuracy: 0.9506 - val_loss: 0.5808 - val_accuracy: 0.7778\n",
      "Epoch 219/400\n",
      "9/9 [==============================] - 0s 9ms/step - loss: 0.3831 - accuracy: 0.9506 - val_loss: 0.5926 - val_accuracy: 0.7778\n",
      "Epoch 220/400\n",
      "9/9 [==============================] - 0s 8ms/step - loss: 0.3813 - accuracy: 0.9383 - val_loss: 0.5823 - val_accuracy: 0.7778\n",
      "Epoch 221/400\n",
      "9/9 [==============================] - 0s 8ms/step - loss: 0.3790 - accuracy: 0.9506 - val_loss: 0.5795 - val_accuracy: 0.7778\n",
      "Epoch 222/400\n",
      "9/9 [==============================] - 0s 8ms/step - loss: 0.3786 - accuracy: 0.9506 - val_loss: 0.5874 - val_accuracy: 0.7778\n",
      "Epoch 223/400\n",
      "9/9 [==============================] - 0s 9ms/step - loss: 0.3775 - accuracy: 0.9383 - val_loss: 0.5888 - val_accuracy: 0.7778\n",
      "Epoch 224/400\n",
      "9/9 [==============================] - 0s 9ms/step - loss: 0.3766 - accuracy: 0.9383 - val_loss: 0.5611 - val_accuracy: 0.7778\n",
      "Epoch 225/400\n",
      "9/9 [==============================] - 0s 8ms/step - loss: 0.3742 - accuracy: 0.9383 - val_loss: 0.5716 - val_accuracy: 0.7778\n",
      "Epoch 226/400\n",
      "9/9 [==============================] - 0s 8ms/step - loss: 0.3734 - accuracy: 0.9383 - val_loss: 0.5757 - val_accuracy: 0.7778\n",
      "Epoch 227/400\n",
      "9/9 [==============================] - 0s 8ms/step - loss: 0.3719 - accuracy: 0.9383 - val_loss: 0.5756 - val_accuracy: 0.7778\n",
      "Epoch 228/400\n",
      "9/9 [==============================] - 0s 9ms/step - loss: 0.3706 - accuracy: 0.9383 - val_loss: 0.5849 - val_accuracy: 0.7778\n",
      "Epoch 229/400\n",
      "9/9 [==============================] - 0s 10ms/step - loss: 0.3689 - accuracy: 0.9383 - val_loss: 0.5855 - val_accuracy: 0.7778\n",
      "Epoch 230/400\n",
      "9/9 [==============================] - 0s 8ms/step - loss: 0.3682 - accuracy: 0.9383 - val_loss: 0.5977 - val_accuracy: 0.7778\n",
      "Epoch 231/400\n",
      "9/9 [==============================] - 0s 7ms/step - loss: 0.3668 - accuracy: 0.9383 - val_loss: 0.6103 - val_accuracy: 0.7778\n",
      "Epoch 232/400\n",
      "9/9 [==============================] - 0s 8ms/step - loss: 0.3664 - accuracy: 0.9383 - val_loss: 0.6039 - val_accuracy: 0.7778\n",
      "Epoch 233/400\n"
     ]
    },
    {
     "name": "stdout",
     "output_type": "stream",
     "text": [
      "9/9 [==============================] - 0s 10ms/step - loss: 0.3643 - accuracy: 0.9383 - val_loss: 0.5972 - val_accuracy: 0.7778\n",
      "Epoch 234/400\n",
      "9/9 [==============================] - 0s 10ms/step - loss: 0.3626 - accuracy: 0.9383 - val_loss: 0.5733 - val_accuracy: 0.7778\n",
      "Epoch 235/400\n",
      "9/9 [==============================] - 0s 10ms/step - loss: 0.3611 - accuracy: 0.9506 - val_loss: 0.5520 - val_accuracy: 0.7778\n",
      "Epoch 236/400\n",
      "9/9 [==============================] - 0s 8ms/step - loss: 0.3589 - accuracy: 0.9506 - val_loss: 0.5560 - val_accuracy: 0.7778\n",
      "Epoch 237/400\n",
      "9/9 [==============================] - 0s 8ms/step - loss: 0.3584 - accuracy: 0.9506 - val_loss: 0.5606 - val_accuracy: 0.7778\n",
      "Epoch 238/400\n",
      "9/9 [==============================] - 0s 8ms/step - loss: 0.3565 - accuracy: 0.9506 - val_loss: 0.5671 - val_accuracy: 0.7778\n",
      "Epoch 239/400\n",
      "9/9 [==============================] - 0s 8ms/step - loss: 0.3551 - accuracy: 0.9506 - val_loss: 0.5746 - val_accuracy: 0.7778\n",
      "Epoch 240/400\n",
      "9/9 [==============================] - 0s 8ms/step - loss: 0.3553 - accuracy: 0.9506 - val_loss: 0.5660 - val_accuracy: 0.7778\n",
      "Epoch 241/400\n",
      "9/9 [==============================] - 0s 8ms/step - loss: 0.3525 - accuracy: 0.9506 - val_loss: 0.5640 - val_accuracy: 0.7778\n",
      "Epoch 242/400\n",
      "9/9 [==============================] - 0s 10ms/step - loss: 0.3510 - accuracy: 0.9506 - val_loss: 0.5643 - val_accuracy: 0.7778\n",
      "Epoch 243/400\n",
      "9/9 [==============================] - 0s 11ms/step - loss: 0.3503 - accuracy: 0.9506 - val_loss: 0.5535 - val_accuracy: 0.7778\n",
      "Epoch 244/400\n",
      "9/9 [==============================] - 0s 11ms/step - loss: 0.3491 - accuracy: 0.9506 - val_loss: 0.5347 - val_accuracy: 0.7778\n",
      "Epoch 245/400\n",
      "9/9 [==============================] - 0s 10ms/step - loss: 0.3486 - accuracy: 0.9506 - val_loss: 0.5336 - val_accuracy: 0.7778\n",
      "Epoch 246/400\n",
      "9/9 [==============================] - 0s 9ms/step - loss: 0.3471 - accuracy: 0.9506 - val_loss: 0.5207 - val_accuracy: 0.7778\n",
      "Epoch 247/400\n",
      "9/9 [==============================] - 0s 11ms/step - loss: 0.3477 - accuracy: 0.9383 - val_loss: 0.5438 - val_accuracy: 0.7778\n",
      "Epoch 248/400\n",
      "9/9 [==============================] - 0s 8ms/step - loss: 0.3449 - accuracy: 0.9506 - val_loss: 0.5280 - val_accuracy: 0.7778\n",
      "Epoch 249/400\n",
      "9/9 [==============================] - 0s 9ms/step - loss: 0.3442 - accuracy: 0.9383 - val_loss: 0.5263 - val_accuracy: 0.7778\n",
      "Epoch 250/400\n",
      "9/9 [==============================] - 0s 10ms/step - loss: 0.3428 - accuracy: 0.9383 - val_loss: 0.5235 - val_accuracy: 0.7778\n",
      "Epoch 251/400\n",
      "9/9 [==============================] - 0s 8ms/step - loss: 0.3422 - accuracy: 0.9383 - val_loss: 0.5109 - val_accuracy: 0.7778\n",
      "Epoch 252/400\n",
      "9/9 [==============================] - 0s 8ms/step - loss: 0.3412 - accuracy: 0.9383 - val_loss: 0.5289 - val_accuracy: 0.7778\n",
      "Epoch 253/400\n",
      "9/9 [==============================] - 0s 9ms/step - loss: 0.3385 - accuracy: 0.9506 - val_loss: 0.5153 - val_accuracy: 0.7778\n",
      "Epoch 254/400\n",
      "9/9 [==============================] - 0s 8ms/step - loss: 0.3389 - accuracy: 0.9383 - val_loss: 0.5211 - val_accuracy: 0.7778\n",
      "Epoch 255/400\n",
      "9/9 [==============================] - 0s 8ms/step - loss: 0.3374 - accuracy: 0.9383 - val_loss: 0.5017 - val_accuracy: 0.7778\n",
      "Epoch 256/400\n",
      "9/9 [==============================] - 0s 8ms/step - loss: 0.3388 - accuracy: 0.9383 - val_loss: 0.5003 - val_accuracy: 0.7778\n",
      "Epoch 257/400\n",
      "9/9 [==============================] - 0s 8ms/step - loss: 0.3389 - accuracy: 0.9383 - val_loss: 0.5117 - val_accuracy: 0.7778\n",
      "Epoch 258/400\n",
      "9/9 [==============================] - 0s 9ms/step - loss: 0.3361 - accuracy: 0.9383 - val_loss: 0.5108 - val_accuracy: 0.7778\n",
      "Epoch 259/400\n",
      "9/9 [==============================] - 0s 10ms/step - loss: 0.3355 - accuracy: 0.9383 - val_loss: 0.5260 - val_accuracy: 0.7778\n",
      "Epoch 260/400\n",
      "9/9 [==============================] - 0s 8ms/step - loss: 0.3331 - accuracy: 0.9383 - val_loss: 0.5226 - val_accuracy: 0.7778\n",
      "Epoch 261/400\n",
      "9/9 [==============================] - 0s 8ms/step - loss: 0.3324 - accuracy: 0.9383 - val_loss: 0.5221 - val_accuracy: 0.7778\n",
      "Epoch 262/400\n",
      "9/9 [==============================] - 0s 8ms/step - loss: 0.3311 - accuracy: 0.9383 - val_loss: 0.5307 - val_accuracy: 0.7778\n",
      "Epoch 263/400\n",
      "9/9 [==============================] - 0s 8ms/step - loss: 0.3287 - accuracy: 0.9383 - val_loss: 0.5211 - val_accuracy: 0.7778\n",
      "Epoch 264/400\n",
      "9/9 [==============================] - 0s 8ms/step - loss: 0.3291 - accuracy: 0.9383 - val_loss: 0.5436 - val_accuracy: 0.7778\n",
      "Epoch 265/400\n",
      "9/9 [==============================] - 0s 9ms/step - loss: 0.3281 - accuracy: 0.9383 - val_loss: 0.5360 - val_accuracy: 0.7778\n",
      "Epoch 266/400\n",
      "9/9 [==============================] - 0s 8ms/step - loss: 0.3270 - accuracy: 0.9383 - val_loss: 0.5395 - val_accuracy: 0.7778\n",
      "Epoch 267/400\n",
      "9/9 [==============================] - 0s 9ms/step - loss: 0.3252 - accuracy: 0.9383 - val_loss: 0.5158 - val_accuracy: 0.7778\n",
      "Epoch 268/400\n",
      "9/9 [==============================] - 0s 10ms/step - loss: 0.3241 - accuracy: 0.9383 - val_loss: 0.5279 - val_accuracy: 0.7778\n",
      "Epoch 269/400\n",
      "9/9 [==============================] - 0s 10ms/step - loss: 0.3231 - accuracy: 0.9383 - val_loss: 0.5370 - val_accuracy: 0.7778\n",
      "Epoch 270/400\n",
      "9/9 [==============================] - 0s 10ms/step - loss: 0.3225 - accuracy: 0.9506 - val_loss: 0.5136 - val_accuracy: 0.7778\n",
      "Epoch 271/400\n",
      "9/9 [==============================] - 0s 8ms/step - loss: 0.3218 - accuracy: 0.9383 - val_loss: 0.5197 - val_accuracy: 0.7778\n",
      "Epoch 272/400\n",
      "9/9 [==============================] - 0s 9ms/step - loss: 0.3202 - accuracy: 0.9383 - val_loss: 0.5031 - val_accuracy: 0.7778\n",
      "Epoch 273/400\n",
      "9/9 [==============================] - 0s 8ms/step - loss: 0.3201 - accuracy: 0.9506 - val_loss: 0.5107 - val_accuracy: 0.7778\n",
      "Epoch 274/400\n",
      "9/9 [==============================] - 0s 8ms/step - loss: 0.3184 - accuracy: 0.9506 - val_loss: 0.5072 - val_accuracy: 0.7778\n",
      "Epoch 275/400\n",
      "9/9 [==============================] - 0s 8ms/step - loss: 0.3176 - accuracy: 0.9506 - val_loss: 0.5091 - val_accuracy: 0.7778\n",
      "Epoch 276/400\n",
      "9/9 [==============================] - 0s 9ms/step - loss: 0.3172 - accuracy: 0.9506 - val_loss: 0.5165 - val_accuracy: 0.7778\n",
      "Epoch 277/400\n",
      "9/9 [==============================] - 0s 10ms/step - loss: 0.3156 - accuracy: 0.9506 - val_loss: 0.5388 - val_accuracy: 0.7778\n",
      "Epoch 278/400\n",
      "9/9 [==============================] - 0s 7ms/step - loss: 0.3146 - accuracy: 0.9506 - val_loss: 0.5056 - val_accuracy: 0.7778\n",
      "Epoch 279/400\n",
      "9/9 [==============================] - 0s 10ms/step - loss: 0.3141 - accuracy: 0.9506 - val_loss: 0.4953 - val_accuracy: 0.7778\n",
      "Epoch 280/400\n",
      "9/9 [==============================] - 0s 10ms/step - loss: 0.3141 - accuracy: 0.9506 - val_loss: 0.5170 - val_accuracy: 0.7778\n",
      "Epoch 281/400\n",
      "9/9 [==============================] - 0s 9ms/step - loss: 0.3128 - accuracy: 0.9506 - val_loss: 0.5153 - val_accuracy: 0.7778\n",
      "Epoch 282/400\n",
      "9/9 [==============================] - 0s 9ms/step - loss: 0.3117 - accuracy: 0.9506 - val_loss: 0.5212 - val_accuracy: 0.7778\n",
      "Epoch 283/400\n",
      "9/9 [==============================] - 0s 9ms/step - loss: 0.3115 - accuracy: 0.9506 - val_loss: 0.5231 - val_accuracy: 0.7778\n",
      "Epoch 284/400\n",
      "9/9 [==============================] - 0s 9ms/step - loss: 0.3101 - accuracy: 0.9506 - val_loss: 0.5285 - val_accuracy: 0.7778\n",
      "Epoch 285/400\n",
      "9/9 [==============================] - 0s 8ms/step - loss: 0.3091 - accuracy: 0.9506 - val_loss: 0.5255 - val_accuracy: 0.7778\n",
      "Epoch 286/400\n",
      "9/9 [==============================] - 0s 9ms/step - loss: 0.3085 - accuracy: 0.9506 - val_loss: 0.5268 - val_accuracy: 0.7778\n",
      "Epoch 287/400\n",
      "9/9 [==============================] - 0s 9ms/step - loss: 0.3079 - accuracy: 0.9506 - val_loss: 0.5108 - val_accuracy: 0.7778\n",
      "Epoch 288/400\n",
      "9/9 [==============================] - 0s 8ms/step - loss: 0.3070 - accuracy: 0.9506 - val_loss: 0.5131 - val_accuracy: 0.7778\n",
      "Epoch 289/400\n",
      "9/9 [==============================] - 0s 9ms/step - loss: 0.3067 - accuracy: 0.9506 - val_loss: 0.5116 - val_accuracy: 0.7778\n",
      "Epoch 290/400\n",
      "9/9 [==============================] - 0s 10ms/step - loss: 0.3054 - accuracy: 0.9506 - val_loss: 0.5266 - val_accuracy: 0.7778\n",
      "Epoch 291/400\n"
     ]
    },
    {
     "name": "stdout",
     "output_type": "stream",
     "text": [
      "9/9 [==============================] - 0s 11ms/step - loss: 0.3044 - accuracy: 0.9506 - val_loss: 0.5013 - val_accuracy: 0.7778\n",
      "Epoch 292/400\n",
      "9/9 [==============================] - 0s 9ms/step - loss: 0.3050 - accuracy: 0.9506 - val_loss: 0.4886 - val_accuracy: 0.7778\n",
      "Epoch 293/400\n",
      "9/9 [==============================] - 0s 8ms/step - loss: 0.3054 - accuracy: 0.9506 - val_loss: 0.4861 - val_accuracy: 0.7778\n",
      "Epoch 294/400\n",
      "9/9 [==============================] - 0s 9ms/step - loss: 0.3046 - accuracy: 0.9383 - val_loss: 0.5013 - val_accuracy: 0.7778\n",
      "Epoch 295/400\n",
      "9/9 [==============================] - 0s 8ms/step - loss: 0.3022 - accuracy: 0.9383 - val_loss: 0.5081 - val_accuracy: 0.7778\n",
      "Epoch 296/400\n",
      "9/9 [==============================] - 0s 9ms/step - loss: 0.3025 - accuracy: 0.9383 - val_loss: 0.5426 - val_accuracy: 0.7778\n",
      "Epoch 297/400\n",
      "9/9 [==============================] - 0s 10ms/step - loss: 0.3004 - accuracy: 0.9506 - val_loss: 0.5448 - val_accuracy: 0.7778\n",
      "Epoch 298/400\n",
      "9/9 [==============================] - 0s 10ms/step - loss: 0.2998 - accuracy: 0.9506 - val_loss: 0.5296 - val_accuracy: 0.7778\n",
      "Epoch 299/400\n",
      "9/9 [==============================] - 0s 11ms/step - loss: 0.2995 - accuracy: 0.9383 - val_loss: 0.5354 - val_accuracy: 0.7778\n",
      "Epoch 300/400\n",
      "9/9 [==============================] - 0s 10ms/step - loss: 0.2984 - accuracy: 0.9383 - val_loss: 0.5425 - val_accuracy: 0.7778\n",
      "Epoch 301/400\n",
      "9/9 [==============================] - 0s 10ms/step - loss: 0.2980 - accuracy: 0.9506 - val_loss: 0.5329 - val_accuracy: 0.7778\n",
      "Epoch 302/400\n",
      "9/9 [==============================] - 0s 10ms/step - loss: 0.2981 - accuracy: 0.9506 - val_loss: 0.5686 - val_accuracy: 0.7778\n",
      "Epoch 303/400\n",
      "9/9 [==============================] - 0s 10ms/step - loss: 0.2967 - accuracy: 0.9506 - val_loss: 0.5517 - val_accuracy: 0.7778\n",
      "Epoch 304/400\n",
      "9/9 [==============================] - 0s 9ms/step - loss: 0.2967 - accuracy: 0.9383 - val_loss: 0.5375 - val_accuracy: 0.7778\n",
      "Epoch 305/400\n",
      "9/9 [==============================] - 0s 9ms/step - loss: 0.2981 - accuracy: 0.9383 - val_loss: 0.5410 - val_accuracy: 0.7778\n",
      "Epoch 306/400\n",
      "9/9 [==============================] - 0s 10ms/step - loss: 0.2956 - accuracy: 0.9383 - val_loss: 0.5443 - val_accuracy: 0.7778\n",
      "Epoch 307/400\n",
      "9/9 [==============================] - 0s 10ms/step - loss: 0.2943 - accuracy: 0.9383 - val_loss: 0.5541 - val_accuracy: 0.7778\n",
      "Epoch 308/400\n",
      "9/9 [==============================] - 0s 9ms/step - loss: 0.2937 - accuracy: 0.9383 - val_loss: 0.5505 - val_accuracy: 0.7778\n",
      "Epoch 309/400\n",
      "9/9 [==============================] - 0s 8ms/step - loss: 0.2930 - accuracy: 0.9383 - val_loss: 0.5504 - val_accuracy: 0.7778\n",
      "Epoch 310/400\n",
      "9/9 [==============================] - 0s 8ms/step - loss: 0.2914 - accuracy: 0.9506 - val_loss: 0.5299 - val_accuracy: 0.7778\n",
      "Epoch 311/400\n",
      "9/9 [==============================] - 0s 9ms/step - loss: 0.2914 - accuracy: 0.9506 - val_loss: 0.5216 - val_accuracy: 0.7778\n",
      "Epoch 312/400\n",
      "9/9 [==============================] - 0s 8ms/step - loss: 0.2921 - accuracy: 0.9383 - val_loss: 0.5296 - val_accuracy: 0.7778\n",
      "Epoch 313/400\n",
      "9/9 [==============================] - 0s 10ms/step - loss: 0.2908 - accuracy: 0.9383 - val_loss: 0.5340 - val_accuracy: 0.7778\n",
      "Epoch 314/400\n",
      "9/9 [==============================] - 0s 9ms/step - loss: 0.2895 - accuracy: 0.9383 - val_loss: 0.5374 - val_accuracy: 0.7778\n",
      "Epoch 315/400\n",
      "9/9 [==============================] - 0s 11ms/step - loss: 0.2890 - accuracy: 0.9383 - val_loss: 0.5261 - val_accuracy: 0.7778\n",
      "Epoch 316/400\n",
      "9/9 [==============================] - 0s 8ms/step - loss: 0.2903 - accuracy: 0.9383 - val_loss: 0.5149 - val_accuracy: 0.7778\n",
      "Epoch 317/400\n",
      "9/9 [==============================] - 0s 8ms/step - loss: 0.2892 - accuracy: 0.9383 - val_loss: 0.5217 - val_accuracy: 0.7778\n",
      "Epoch 318/400\n",
      "9/9 [==============================] - 0s 8ms/step - loss: 0.2886 - accuracy: 0.9383 - val_loss: 0.5200 - val_accuracy: 0.7778\n",
      "Epoch 319/400\n",
      "9/9 [==============================] - 0s 8ms/step - loss: 0.2883 - accuracy: 0.9383 - val_loss: 0.5168 - val_accuracy: 0.7778\n",
      "Epoch 320/400\n",
      "9/9 [==============================] - 0s 8ms/step - loss: 0.2880 - accuracy: 0.9383 - val_loss: 0.5248 - val_accuracy: 0.7778\n",
      "Epoch 321/400\n",
      "9/9 [==============================] - 0s 8ms/step - loss: 0.2862 - accuracy: 0.9383 - val_loss: 0.5388 - val_accuracy: 0.7778\n",
      "Epoch 322/400\n",
      "9/9 [==============================] - 0s 7ms/step - loss: 0.2853 - accuracy: 0.9383 - val_loss: 0.5294 - val_accuracy: 0.7778\n",
      "Epoch 323/400\n",
      "9/9 [==============================] - 0s 8ms/step - loss: 0.2849 - accuracy: 0.9383 - val_loss: 0.5478 - val_accuracy: 0.7778\n",
      "Epoch 324/400\n",
      "9/9 [==============================] - 0s 10ms/step - loss: 0.2844 - accuracy: 0.9506 - val_loss: 0.5562 - val_accuracy: 0.7778\n",
      "Epoch 325/400\n",
      "9/9 [==============================] - 0s 9ms/step - loss: 0.2835 - accuracy: 0.9506 - val_loss: 0.5552 - val_accuracy: 0.7778\n",
      "Epoch 326/400\n",
      "9/9 [==============================] - 0s 9ms/step - loss: 0.2832 - accuracy: 0.9506 - val_loss: 0.5395 - val_accuracy: 0.7778\n",
      "Epoch 327/400\n",
      "9/9 [==============================] - 0s 9ms/step - loss: 0.2830 - accuracy: 0.9506 - val_loss: 0.5480 - val_accuracy: 0.7778\n",
      "Epoch 328/400\n",
      "9/9 [==============================] - 0s 8ms/step - loss: 0.2827 - accuracy: 0.9506 - val_loss: 0.5557 - val_accuracy: 0.7778\n",
      "Epoch 329/400\n",
      "9/9 [==============================] - 0s 8ms/step - loss: 0.2821 - accuracy: 0.9506 - val_loss: 0.5868 - val_accuracy: 0.7778\n",
      "Epoch 330/400\n",
      "9/9 [==============================] - 0s 9ms/step - loss: 0.2815 - accuracy: 0.9506 - val_loss: 0.5577 - val_accuracy: 0.7778\n",
      "Epoch 331/400\n",
      "9/9 [==============================] - 0s 9ms/step - loss: 0.2801 - accuracy: 0.9506 - val_loss: 0.5272 - val_accuracy: 0.7778\n",
      "Epoch 332/400\n",
      "9/9 [==============================] - 0s 9ms/step - loss: 0.2802 - accuracy: 0.9506 - val_loss: 0.5196 - val_accuracy: 0.7778\n",
      "Epoch 333/400\n",
      "9/9 [==============================] - 0s 9ms/step - loss: 0.2793 - accuracy: 0.9506 - val_loss: 0.5156 - val_accuracy: 0.7778\n",
      "Epoch 334/400\n",
      "9/9 [==============================] - 0s 8ms/step - loss: 0.2797 - accuracy: 0.9506 - val_loss: 0.5303 - val_accuracy: 0.7778\n",
      "Epoch 335/400\n",
      "9/9 [==============================] - 0s 9ms/step - loss: 0.2781 - accuracy: 0.9506 - val_loss: 0.5169 - val_accuracy: 0.7778\n",
      "Epoch 336/400\n",
      "9/9 [==============================] - 0s 8ms/step - loss: 0.2780 - accuracy: 0.9506 - val_loss: 0.5626 - val_accuracy: 0.7778\n",
      "Epoch 337/400\n",
      "9/9 [==============================] - 0s 8ms/step - loss: 0.2783 - accuracy: 0.9506 - val_loss: 0.5550 - val_accuracy: 0.7778\n",
      "Epoch 338/400\n",
      "9/9 [==============================] - 0s 8ms/step - loss: 0.2774 - accuracy: 0.9506 - val_loss: 0.5557 - val_accuracy: 0.7778\n",
      "Epoch 339/400\n",
      "9/9 [==============================] - 0s 8ms/step - loss: 0.2775 - accuracy: 0.9506 - val_loss: 0.5579 - val_accuracy: 0.7778\n",
      "Epoch 340/400\n",
      "9/9 [==============================] - 0s 8ms/step - loss: 0.2764 - accuracy: 0.9506 - val_loss: 0.5566 - val_accuracy: 0.7778\n",
      "Epoch 341/400\n",
      "9/9 [==============================] - 0s 8ms/step - loss: 0.2754 - accuracy: 0.9506 - val_loss: 0.5585 - val_accuracy: 0.7778\n",
      "Epoch 342/400\n",
      "9/9 [==============================] - 0s 9ms/step - loss: 0.2744 - accuracy: 0.9506 - val_loss: 0.5390 - val_accuracy: 0.7778\n",
      "Epoch 343/400\n",
      "9/9 [==============================] - 0s 11ms/step - loss: 0.2758 - accuracy: 0.9506 - val_loss: 0.5449 - val_accuracy: 0.7778\n",
      "Epoch 344/400\n",
      "9/9 [==============================] - 0s 8ms/step - loss: 0.2752 - accuracy: 0.9506 - val_loss: 0.5563 - val_accuracy: 0.7778\n",
      "Epoch 345/400\n",
      "9/9 [==============================] - 0s 8ms/step - loss: 0.2755 - accuracy: 0.9506 - val_loss: 0.5394 - val_accuracy: 0.7778\n",
      "Epoch 346/400\n",
      "9/9 [==============================] - 0s 8ms/step - loss: 0.2745 - accuracy: 0.9506 - val_loss: 0.5454 - val_accuracy: 0.7778\n",
      "Epoch 347/400\n",
      "9/9 [==============================] - 0s 8ms/step - loss: 0.2739 - accuracy: 0.9506 - val_loss: 0.5394 - val_accuracy: 0.7778\n",
      "Epoch 348/400\n",
      "9/9 [==============================] - 0s 8ms/step - loss: 0.2743 - accuracy: 0.9383 - val_loss: 0.5381 - val_accuracy: 0.7778\n",
      "Epoch 349/400\n",
      "9/9 [==============================] - 0s 8ms/step - loss: 0.2753 - accuracy: 0.9383 - val_loss: 0.5564 - val_accuracy: 0.7778\n",
      "Epoch 350/400\n",
      "9/9 [==============================] - 0s 8ms/step - loss: 0.2719 - accuracy: 0.9383 - val_loss: 0.5662 - val_accuracy: 0.7778\n",
      "Epoch 351/400\n",
      "9/9 [==============================] - 0s 9ms/step - loss: 0.2714 - accuracy: 0.9383 - val_loss: 0.5923 - val_accuracy: 0.7778\n",
      "Epoch 352/400\n",
      "9/9 [==============================] - 0s 9ms/step - loss: 0.2707 - accuracy: 0.9506 - val_loss: 0.5870 - val_accuracy: 0.7778\n",
      "Epoch 353/400\n",
      "9/9 [==============================] - 0s 9ms/step - loss: 0.2716 - accuracy: 0.9383 - val_loss: 0.5693 - val_accuracy: 0.7778\n",
      "Epoch 354/400\n",
      "9/9 [==============================] - 0s 8ms/step - loss: 0.2712 - accuracy: 0.9383 - val_loss: 0.5827 - val_accuracy: 0.7778\n",
      "Epoch 355/400\n",
      "9/9 [==============================] - 0s 9ms/step - loss: 0.2707 - accuracy: 0.9383 - val_loss: 0.5947 - val_accuracy: 0.7778\n",
      "Epoch 356/400\n",
      "9/9 [==============================] - 0s 10ms/step - loss: 0.2695 - accuracy: 0.9506 - val_loss: 0.5767 - val_accuracy: 0.7778\n",
      "Epoch 357/400\n",
      "9/9 [==============================] - 0s 8ms/step - loss: 0.2687 - accuracy: 0.9383 - val_loss: 0.5746 - val_accuracy: 0.7778\n",
      "Epoch 358/400\n",
      "9/9 [==============================] - 0s 9ms/step - loss: 0.2694 - accuracy: 0.9506 - val_loss: 0.6133 - val_accuracy: 0.6667\n",
      "Epoch 359/400\n",
      "9/9 [==============================] - 0s 10ms/step - loss: 0.2734 - accuracy: 0.9383 - val_loss: 0.5956 - val_accuracy: 0.6667\n",
      "Epoch 360/400\n",
      "9/9 [==============================] - 0s 10ms/step - loss: 0.2702 - accuracy: 0.9506 - val_loss: 0.5544 - val_accuracy: 0.7778\n",
      "Epoch 361/400\n",
      "9/9 [==============================] - 0s 10ms/step - loss: 0.2671 - accuracy: 0.9506 - val_loss: 0.5789 - val_accuracy: 0.7778\n",
      "Epoch 362/400\n",
      "9/9 [==============================] - 0s 10ms/step - loss: 0.2684 - accuracy: 0.9506 - val_loss: 0.5809 - val_accuracy: 0.7778\n",
      "Epoch 363/400\n",
      "9/9 [==============================] - 0s 11ms/step - loss: 0.2661 - accuracy: 0.9506 - val_loss: 0.5849 - val_accuracy: 0.7778\n",
      "Epoch 364/400\n",
      "9/9 [==============================] - 0s 10ms/step - loss: 0.2662 - accuracy: 0.9506 - val_loss: 0.6183 - val_accuracy: 0.7778\n",
      "Epoch 365/400\n",
      "9/9 [==============================] - 0s 12ms/step - loss: 0.2659 - accuracy: 0.9506 - val_loss: 0.6157 - val_accuracy: 0.7778\n",
      "Epoch 366/400\n",
      "9/9 [==============================] - 0s 8ms/step - loss: 0.2664 - accuracy: 0.9506 - val_loss: 0.6093 - val_accuracy: 0.7778\n",
      "Epoch 367/400\n",
      "9/9 [==============================] - 0s 9ms/step - loss: 0.2663 - accuracy: 0.9506 - val_loss: 0.5899 - val_accuracy: 0.7778\n",
      "Epoch 368/400\n",
      "9/9 [==============================] - 0s 8ms/step - loss: 0.2655 - accuracy: 0.9383 - val_loss: 0.5893 - val_accuracy: 0.7778\n",
      "Epoch 369/400\n",
      "9/9 [==============================] - 0s 9ms/step - loss: 0.2642 - accuracy: 0.9383 - val_loss: 0.5942 - val_accuracy: 0.7778\n",
      "Epoch 370/400\n",
      "9/9 [==============================] - 0s 10ms/step - loss: 0.2651 - accuracy: 0.9383 - val_loss: 0.5934 - val_accuracy: 0.7778\n",
      "Epoch 371/400\n",
      "9/9 [==============================] - 0s 10ms/step - loss: 0.2642 - accuracy: 0.9383 - val_loss: 0.5862 - val_accuracy: 0.7778\n",
      "Epoch 372/400\n",
      "9/9 [==============================] - 0s 10ms/step - loss: 0.2633 - accuracy: 0.9383 - val_loss: 0.5870 - val_accuracy: 0.7778\n",
      "Epoch 373/400\n",
      "9/9 [==============================] - 0s 10ms/step - loss: 0.2627 - accuracy: 0.9383 - val_loss: 0.5771 - val_accuracy: 0.7778\n",
      "Epoch 374/400\n",
      "9/9 [==============================] - 0s 10ms/step - loss: 0.2633 - accuracy: 0.9383 - val_loss: 0.5754 - val_accuracy: 0.7778\n",
      "Epoch 375/400\n",
      "9/9 [==============================] - 0s 10ms/step - loss: 0.2618 - accuracy: 0.9383 - val_loss: 0.5741 - val_accuracy: 0.7778\n",
      "Epoch 376/400\n",
      "9/9 [==============================] - 0s 10ms/step - loss: 0.2610 - accuracy: 0.9383 - val_loss: 0.5726 - val_accuracy: 0.7778\n",
      "Epoch 377/400\n",
      "9/9 [==============================] - 0s 8ms/step - loss: 0.2615 - accuracy: 0.9383 - val_loss: 0.5715 - val_accuracy: 0.7778\n",
      "Epoch 378/400\n",
      "9/9 [==============================] - 0s 10ms/step - loss: 0.2613 - accuracy: 0.9383 - val_loss: 0.5951 - val_accuracy: 0.7778\n",
      "Epoch 379/400\n",
      "9/9 [==============================] - 0s 9ms/step - loss: 0.2609 - accuracy: 0.9383 - val_loss: 0.5872 - val_accuracy: 0.7778\n",
      "Epoch 380/400\n",
      "9/9 [==============================] - 0s 9ms/step - loss: 0.2614 - accuracy: 0.9383 - val_loss: 0.5818 - val_accuracy: 0.7778\n",
      "Epoch 381/400\n",
      "9/9 [==============================] - 0s 9ms/step - loss: 0.2609 - accuracy: 0.9383 - val_loss: 0.5783 - val_accuracy: 0.7778\n",
      "Epoch 382/400\n",
      "9/9 [==============================] - 0s 9ms/step - loss: 0.2617 - accuracy: 0.9383 - val_loss: 0.5510 - val_accuracy: 0.7778\n",
      "Epoch 383/400\n",
      "9/9 [==============================] - 0s 9ms/step - loss: 0.2607 - accuracy: 0.9383 - val_loss: 0.5596 - val_accuracy: 0.7778\n",
      "Epoch 384/400\n",
      "9/9 [==============================] - 0s 8ms/step - loss: 0.2601 - accuracy: 0.9383 - val_loss: 0.5681 - val_accuracy: 0.7778\n",
      "Epoch 385/400\n",
      "9/9 [==============================] - 0s 8ms/step - loss: 0.2589 - accuracy: 0.9383 - val_loss: 0.5518 - val_accuracy: 0.7778\n",
      "Epoch 386/400\n",
      "9/9 [==============================] - 0s 8ms/step - loss: 0.2610 - accuracy: 0.9383 - val_loss: 0.5579 - val_accuracy: 0.7778\n",
      "Epoch 387/400\n",
      "9/9 [==============================] - 0s 8ms/step - loss: 0.2598 - accuracy: 0.9383 - val_loss: 0.5608 - val_accuracy: 0.7778\n",
      "Epoch 388/400\n",
      "9/9 [==============================] - 0s 9ms/step - loss: 0.2599 - accuracy: 0.9383 - val_loss: 0.5572 - val_accuracy: 0.7778\n",
      "Epoch 389/400\n",
      "9/9 [==============================] - 0s 9ms/step - loss: 0.2585 - accuracy: 0.9383 - val_loss: 0.5698 - val_accuracy: 0.7778\n",
      "Epoch 390/400\n",
      "9/9 [==============================] - 0s 7ms/step - loss: 0.2576 - accuracy: 0.9506 - val_loss: 0.5720 - val_accuracy: 0.7778\n",
      "Epoch 391/400\n",
      "9/9 [==============================] - 0s 8ms/step - loss: 0.2580 - accuracy: 0.9383 - val_loss: 0.6263 - val_accuracy: 0.7778\n",
      "Epoch 392/400\n",
      "9/9 [==============================] - 0s 8ms/step - loss: 0.2630 - accuracy: 0.9383 - val_loss: 0.6074 - val_accuracy: 0.7778\n",
      "Epoch 393/400\n",
      "9/9 [==============================] - 0s 8ms/step - loss: 0.2613 - accuracy: 0.9506 - val_loss: 0.5997 - val_accuracy: 0.7778\n",
      "Epoch 394/400\n",
      "9/9 [==============================] - 0s 8ms/step - loss: 0.2599 - accuracy: 0.9506 - val_loss: 0.6304 - val_accuracy: 0.6667\n",
      "Epoch 395/400\n",
      "9/9 [==============================] - 0s 8ms/step - loss: 0.2651 - accuracy: 0.9630 - val_loss: 0.5840 - val_accuracy: 0.7778\n",
      "Epoch 396/400\n",
      "9/9 [==============================] - 0s 8ms/step - loss: 0.2598 - accuracy: 0.9506 - val_loss: 0.5826 - val_accuracy: 0.7778\n",
      "Epoch 397/400\n",
      "9/9 [==============================] - 0s 7ms/step - loss: 0.2582 - accuracy: 0.9506 - val_loss: 0.5757 - val_accuracy: 0.7778\n",
      "Epoch 398/400\n",
      "9/9 [==============================] - 0s 7ms/step - loss: 0.2579 - accuracy: 0.9506 - val_loss: 0.5274 - val_accuracy: 0.7778\n",
      "Epoch 399/400\n",
      "9/9 [==============================] - 0s 10ms/step - loss: 0.2569 - accuracy: 0.9506 - val_loss: 0.5122 - val_accuracy: 0.7778\n",
      "Epoch 400/400\n",
      "9/9 [==============================] - 0s 10ms/step - loss: 0.2565 - accuracy: 0.9383 - val_loss: 0.5068 - val_accuracy: 0.7778\n"
     ]
    }
   ],
   "source": [
    "model.compile(loss=\"binary_crossentropy\",optimizer=SGD(0.01),metrics=[\"accuracy\"])\n",
    "history=model.fit(X_train,y_train,batch_size=10,epochs=400,validation_split=0.1)"
   ]
  },
  {
   "cell_type": "markdown",
   "id": "2d28dd8d",
   "metadata": {},
   "source": [
    "#### plotting the train test loss "
   ]
  },
  {
   "cell_type": "code",
   "execution_count": 125,
   "id": "f263ad9c",
   "metadata": {},
   "outputs": [
    {
     "data": {
      "text/plain": [
       "<matplotlib.legend.Legend at 0x16cf74af850>"
      ]
     },
     "execution_count": 125,
     "metadata": {},
     "output_type": "execute_result"
    },
    {
     "data": {
      "image/png": "[encoded data removed]",
      "text/plain": [
       "<Figure size 640x480 with 1 Axes>"
      ]
     },
     "metadata": {},
     "output_type": "display_data"
    }
   ],
   "source": [
    "plt.plot(range(1,401),history.history[\"loss\"],label=\"train_loss\")\n",
    "plt.plot(range(1,401),history.history[\"val_loss\"],label=\"test_loss\") \n",
    "plt.legend() "
   ]
  },
  {
   "cell_type": "markdown",
   "id": "9c1aadd1",
   "metadata": {},
   "source": [
    "#### finding the predicted values using model "
   ]
  },
  {
   "cell_type": "code",
   "execution_count": 126,
   "id": "add6978b",
   "metadata": {},
   "outputs": [
    {
     "name": "stdout",
     "output_type": "stream",
     "text": [
      "1/1 [==============================] - 0s 95ms/step\n"
     ]
    },
    {
     "data": {
      "text/plain": [
       "array([[0.9757806 ],\n",
       "       [0.07154357],\n",
       "       [0.0981289 ],\n",
       "       [0.01664246],\n",
       "       [0.11519326],\n",
       "       [0.16982739],\n",
       "       [0.92466676],\n",
       "       [0.67437893],\n",
       "       [0.9835467 ],\n",
       "       [0.19840997]], dtype=float32)"
      ]
     },
     "execution_count": 126,
     "metadata": {},
     "output_type": "execute_result"
    }
   ],
   "source": [
    "predicted=model.predict(X_test)\n",
    "predicted"
   ]
  },
  {
   "cell_type": "markdown",
   "id": "f08b27ba",
   "metadata": {},
   "source": [
    "#### converting the predicted probablities to the respective labels"
   ]
  },
  {
   "cell_type": "code",
   "execution_count": 127,
   "id": "d7eaf5ba",
   "metadata": {},
   "outputs": [
    {
     "data": {
      "text/plain": [
       "array([[1],\n",
       "       [0],\n",
       "       [0],\n",
       "       [0],\n",
       "       [0],\n",
       "       [0],\n",
       "       [1],\n",
       "       [1],\n",
       "       [1],\n",
       "       [0]])"
      ]
     },
     "execution_count": 127,
     "metadata": {},
     "output_type": "execute_result"
    }
   ],
   "source": [
    "predicted=np.where(predicted>0.5,1,0)\n",
    "predicted "
   ]
  },
  {
   "cell_type": "markdown",
   "id": "4db37da4",
   "metadata": {},
   "source": [
    "#### evaluating the model "
   ]
  },
  {
   "cell_type": "code",
   "execution_count": 128,
   "id": "4d827e0b",
   "metadata": {},
   "outputs": [
    {
     "name": "stdout",
     "output_type": "stream",
     "text": [
      "0.9\n"
     ]
    },
    {
     "data": {
      "image/png": "[encoded data removed]",
      "text/plain": [
       "<Figure size 640x480 with 2 Axes>"
      ]
     },
     "metadata": {},
     "output_type": "display_data"
    }
   ],
   "source": [
    "from sklearn.metrics import accuracy_score,confusion_matrix,ConfusionMatrixDisplay\n",
    "print(accuracy_score(y_test,predicted))\n",
    "cm=confusion_matrix(y_test,predicted)\n",
    "va=ConfusionMatrixDisplay(cm)\n",
    "va.plot() \n",
    "plt.show() "
   ]
  },
  {
   "cell_type": "markdown",
   "id": "1bae5c30",
   "metadata": {},
   "source": [
    "#### creating the decision surface "
   ]
  },
  {
   "cell_type": "code",
   "execution_count": 129,
   "id": "e80bcf3d",
   "metadata": {},
   "outputs": [],
   "source": [
    "from mlxtend.plotting  import plot_decision_regions\n"
   ]
  },
  {
   "cell_type": "code",
   "execution_count": 130,
   "id": "0c8eeb68",
   "metadata": {},
   "outputs": [
    {
     "name": "stdout",
     "output_type": "stream",
     "text": [
      "9600/9600 [==============================] - 20s 2ms/step\n"
     ]
    },
    {
     "data": {
      "text/plain": [
       "<Axes: >"
      ]
     },
     "execution_count": 130,
     "metadata": {},
     "output_type": "execute_result"
    },
    {
     "data": {
      "image/png": "[encoded data removed]",
      "text/plain": [
       "<Figure size 640x480 with 1 Axes>"
      ]
     },
     "metadata": {},
     "output_type": "display_data"
    }
   ],
   "source": [
    "plot_decision_regions(X_train,y_train.values,clf=model)"
   ]
  },
  {
   "cell_type": "code",
   "execution_count": 131,
   "id": "39403ba9",
   "metadata": {},
   "outputs": [
    {
     "name": "stdout",
     "output_type": "stream",
     "text": [
      "9600/9600 [==============================] - 20s 2ms/step\n"
     ]
    },
    {
     "data": {
      "text/plain": [
       "<Axes: >"
      ]
     },
     "execution_count": 131,
     "metadata": {},
     "output_type": "execute_result"
    },
    {
     "data": {
      "image/png": "[encoded data removed]",
      "text/plain": [
       "<Figure size 640x480 with 1 Axes>"
      ]
     },
     "metadata": {},
     "output_type": "display_data"
    }
   ],
   "source": [
    "#for test data \n",
    "plot_decision_regions(X_test,y_test.values,clf=model)"
   ]
  },
  {
   "cell_type": "markdown",
   "id": "81996288",
   "metadata": {},
   "source": [
    "#### Model Summary "
   ]
  },
  {
   "cell_type": "markdown",
   "id": "b9249a8b",
   "metadata": {},
   "source": [
    "\n",
    "- This neural network model is showing accuracy of 90 percent\n",
    "- We have used 2 hidden layers.\n",
    "- In the First Hidden layers we have used 18 neurons,activation function as relu and kernel and bias regularizer L1 as 0.001.\n",
    "- In the second hidden layers we have used 8 neurons,activation function as relu and kernel and bias regularizer L1 as 0.001.\n",
    "- In the output layer we have used sigmoid as the activation function. \n",
    "- For compiling the model we haved loss as binary cross entropy,optimizer as SGD with batch size of 10 with learning rate of 0.01. \n",
    "- No of epochs used for training this model is 400."
   ]
  },
  {
   "cell_type": "code",
   "execution_count": null,
   "id": "d9429285",
   "metadata": {},
   "outputs": [],
   "source": []
  }
 ],
 "metadata": {
  "kernelspec": {
   "display_name": "Python 3 (ipykernel)",
   "language": "python",
   "name": "python3"
  },
  "language_info": {
   "codemirror_mode": {
    "name": "ipython",
    "version": 3
   },
   "file_extension": ".py",
   "mimetype": "text/x-python",
   "name": "python",
   "nbconvert_exporter": "python",
   "pygments_lexer": "ipython3",
   "version": "3.11.5"
  }
 },
 "nbformat": 4,
 "nbformat_minor": 5
}
