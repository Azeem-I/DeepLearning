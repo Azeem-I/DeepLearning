{
 "cells": [
  {
   "cell_type": "markdown",
   "id": "2f04a5d3",
   "metadata": {},
   "source": [
    "#### importing the required libraries "
   ]
  },
  {
   "cell_type": "code",
   "execution_count": 81,
   "id": "b8dae5ad",
   "metadata": {},
   "outputs": [],
   "source": [
    "import pandas as pd\n",
    "import numpy as np \n",
    "import seaborn as sns\n",
    "import matplotlib.pyplot as plt \n",
    "from sklearn.model_selection import train_test_split\n",
    "from sklearn.preprocessing import StandardScaler\n",
    "from keras import Sequential \n",
    "from keras.layers import Dense \n",
    "from keras.optimizers import SGD \n",
    "from keras.regularizers import L1,L2 "
   ]
  },
  {
   "cell_type": "markdown",
   "id": "a11131a5",
   "metadata": {},
   "source": [
    "#### importing the dataset "
   ]
  },
  {
   "cell_type": "code",
   "execution_count": 2,
   "id": "a628a788",
   "metadata": {},
   "outputs": [
    {
     "data": {
      "text/html": [
       "<div>\n",
       "<style scoped>\n",
       "    .dataframe tbody tr th:only-of-type {\n",
       "        vertical-align: middle;\n",
       "    }\n",
       "\n",
       "    .dataframe tbody tr th {\n",
       "        vertical-align: top;\n",
       "    }\n",
       "\n",
       "    .dataframe thead th {\n",
       "        text-align: right;\n",
       "    }\n",
       "</style>\n",
       "<table border=\"1\" class=\"dataframe\">\n",
       "  <thead>\n",
       "    <tr style=\"text-align: right;\">\n",
       "      <th></th>\n",
       "      <th>0</th>\n",
       "      <th>1</th>\n",
       "      <th>2</th>\n",
       "    </tr>\n",
       "  </thead>\n",
       "  <tbody>\n",
       "    <tr>\n",
       "      <th>0</th>\n",
       "      <td>7.0</td>\n",
       "      <td>3.2</td>\n",
       "      <td>0</td>\n",
       "    </tr>\n",
       "    <tr>\n",
       "      <th>1</th>\n",
       "      <td>6.4</td>\n",
       "      <td>3.2</td>\n",
       "      <td>0</td>\n",
       "    </tr>\n",
       "    <tr>\n",
       "      <th>2</th>\n",
       "      <td>6.9</td>\n",
       "      <td>3.1</td>\n",
       "      <td>0</td>\n",
       "    </tr>\n",
       "    <tr>\n",
       "      <th>3</th>\n",
       "      <td>5.5</td>\n",
       "      <td>2.3</td>\n",
       "      <td>0</td>\n",
       "    </tr>\n",
       "    <tr>\n",
       "      <th>4</th>\n",
       "      <td>6.5</td>\n",
       "      <td>2.8</td>\n",
       "      <td>0</td>\n",
       "    </tr>\n",
       "  </tbody>\n",
       "</table>\n",
       "</div>"
      ],
      "text/plain": [
       "     0    1  2\n",
       "0  7.0  3.2  0\n",
       "1  6.4  3.2  0\n",
       "2  6.9  3.1  0\n",
       "3  5.5  2.3  0\n",
       "4  6.5  2.8  0"
      ]
     },
     "execution_count": 2,
     "metadata": {},
     "output_type": "execute_result"
    }
   ],
   "source": [
    "df=pd.read_csv(r\"D:\\edu\\INNO\\Deep_Learning\\Assignments\\data\\Multiple CSV\\Multiple CSV\\6.overlap.csv\",header=None)\n",
    "df.head()"
   ]
  },
  {
   "cell_type": "code",
   "execution_count": 3,
   "id": "db36fa4c",
   "metadata": {},
   "outputs": [
    {
     "data": {
      "text/html": [
       "<div>\n",
       "<style scoped>\n",
       "    .dataframe tbody tr th:only-of-type {\n",
       "        vertical-align: middle;\n",
       "    }\n",
       "\n",
       "    .dataframe tbody tr th {\n",
       "        vertical-align: top;\n",
       "    }\n",
       "\n",
       "    .dataframe thead th {\n",
       "        text-align: right;\n",
       "    }\n",
       "</style>\n",
       "<table border=\"1\" class=\"dataframe\">\n",
       "  <thead>\n",
       "    <tr style=\"text-align: right;\">\n",
       "      <th></th>\n",
       "      <th>feature_1</th>\n",
       "      <th>feature_2</th>\n",
       "      <th>label</th>\n",
       "    </tr>\n",
       "  </thead>\n",
       "  <tbody>\n",
       "    <tr>\n",
       "      <th>0</th>\n",
       "      <td>7.0</td>\n",
       "      <td>3.2</td>\n",
       "      <td>0</td>\n",
       "    </tr>\n",
       "    <tr>\n",
       "      <th>1</th>\n",
       "      <td>6.4</td>\n",
       "      <td>3.2</td>\n",
       "      <td>0</td>\n",
       "    </tr>\n",
       "    <tr>\n",
       "      <th>2</th>\n",
       "      <td>6.9</td>\n",
       "      <td>3.1</td>\n",
       "      <td>0</td>\n",
       "    </tr>\n",
       "    <tr>\n",
       "      <th>3</th>\n",
       "      <td>5.5</td>\n",
       "      <td>2.3</td>\n",
       "      <td>0</td>\n",
       "    </tr>\n",
       "    <tr>\n",
       "      <th>4</th>\n",
       "      <td>6.5</td>\n",
       "      <td>2.8</td>\n",
       "      <td>0</td>\n",
       "    </tr>\n",
       "  </tbody>\n",
       "</table>\n",
       "</div>"
      ],
      "text/plain": [
       "   feature_1  feature_2  label\n",
       "0        7.0        3.2      0\n",
       "1        6.4        3.2      0\n",
       "2        6.9        3.1      0\n",
       "3        5.5        2.3      0\n",
       "4        6.5        2.8      0"
      ]
     },
     "execution_count": 3,
     "metadata": {},
     "output_type": "execute_result"
    }
   ],
   "source": [
    "#renaming columns properly\n",
    "df.columns=[\"feature_1\",\"feature_2\",\"label\"] \n",
    "df.head() "
   ]
  },
  {
   "cell_type": "markdown",
   "id": "39b32d39",
   "metadata": {},
   "source": [
    "#### checking label counts "
   ]
  },
  {
   "cell_type": "code",
   "execution_count": 4,
   "id": "1065f1ba",
   "metadata": {},
   "outputs": [
    {
     "data": {
      "text/plain": [
       "label\n",
       "0    50\n",
       "1    50\n",
       "Name: count, dtype: int64"
      ]
     },
     "execution_count": 4,
     "metadata": {},
     "output_type": "execute_result"
    }
   ],
   "source": [
    "df[\"label\"].value_counts()"
   ]
  },
  {
   "cell_type": "code",
   "execution_count": 5,
   "id": "068270b0",
   "metadata": {},
   "outputs": [
    {
     "data": {
      "text/plain": [
       "<Axes: >"
      ]
     },
     "execution_count": 5,
     "metadata": {},
     "output_type": "execute_result"
    },
    {
     "data": {
      "image/png": "[encoded data removed]",
      "text/plain": [
       "<Figure size 640x480 with 1 Axes>"
      ]
     },
     "metadata": {},
     "output_type": "display_data"
    }
   ],
   "source": [
    "sns.boxplot(df[\"feature_1\"])"
   ]
  },
  {
   "cell_type": "code",
   "execution_count": 6,
   "id": "20e82a72",
   "metadata": {},
   "outputs": [
    {
     "data": {
      "text/plain": [
       "<Axes: >"
      ]
     },
     "execution_count": 6,
     "metadata": {},
     "output_type": "execute_result"
    },
    {
     "data": {
      "image/png": "[encoded data removed]",
      "text/plain": [
       "<Figure size 640x480 with 1 Axes>"
      ]
     },
     "metadata": {},
     "output_type": "display_data"
    }
   ],
   "source": [
    "sns.boxplot(df[\"feature_2\"])"
   ]
  },
  {
   "cell_type": "code",
   "execution_count": 7,
   "id": "56bc4c4d",
   "metadata": {},
   "outputs": [
    {
     "data": {
      "text/plain": [
       "<Axes: xlabel='feature_1', ylabel='feature_2'>"
      ]
     },
     "execution_count": 7,
     "metadata": {},
     "output_type": "execute_result"
    },
    {
     "data": {
      "image/png": "[encoded data removed]",
      "text/plain": [
       "<Figure size 640x480 with 1 Axes>"
      ]
     },
     "metadata": {},
     "output_type": "display_data"
    }
   ],
   "source": [
    "sns.scatterplot(data=df,x=\"feature_1\",y=\"feature_2\",hue=\"label\")"
   ]
  },
  {
   "cell_type": "code",
   "execution_count": 8,
   "id": "6da75d7f",
   "metadata": {},
   "outputs": [],
   "source": [
    "## removing the outlier datapoints\n",
    "df=df[(df[\"feature_2\"]<3.50)&(df[\"feature_2\"]>2.25)]"
   ]
  },
  {
   "cell_type": "code",
   "execution_count": 9,
   "id": "ea0ddb05",
   "metadata": {},
   "outputs": [
    {
     "name": "stdout",
     "output_type": "stream",
     "text": [
      "<class 'pandas.core.frame.DataFrame'>\n",
      "Index: 93 entries, 0 to 99\n",
      "Data columns (total 3 columns):\n",
      " #   Column     Non-Null Count  Dtype  \n",
      "---  ------     --------------  -----  \n",
      " 0   feature_1  93 non-null     float64\n",
      " 1   feature_2  93 non-null     float64\n",
      " 2   label      93 non-null     int64  \n",
      "dtypes: float64(2), int64(1)\n",
      "memory usage: 2.9 KB\n"
     ]
    }
   ],
   "source": [
    "df.info()"
   ]
  },
  {
   "cell_type": "markdown",
   "id": "a68ab2e1",
   "metadata": {},
   "source": [
    "#### splitting the data into input and output features as x and y "
   ]
  },
  {
   "cell_type": "code",
   "execution_count": 10,
   "id": "628d53d7",
   "metadata": {},
   "outputs": [],
   "source": [
    "## splitting the data into input and output\n",
    "x=df[[\"feature_1\",\"feature_2\"]]\n",
    "\n",
    "## typecasting label column as int \n",
    "y=df[\"label\"].astype(int)"
   ]
  },
  {
   "cell_type": "code",
   "execution_count": 11,
   "id": "688d96dc",
   "metadata": {},
   "outputs": [
    {
     "data": {
      "text/plain": [
       "0    0\n",
       "1    0\n",
       "2    0\n",
       "3    0\n",
       "4    0\n",
       "Name: label, dtype: int32"
      ]
     },
     "execution_count": 11,
     "metadata": {},
     "output_type": "execute_result"
    }
   ],
   "source": [
    "y.head()"
   ]
  },
  {
   "cell_type": "markdown",
   "id": "beea1124",
   "metadata": {},
   "source": [
    "#### splitting the data into train and test "
   ]
  },
  {
   "cell_type": "code",
   "execution_count": 12,
   "id": "19509f48",
   "metadata": {},
   "outputs": [
    {
     "name": "stdout",
     "output_type": "stream",
     "text": [
      "(83, 2) (83,)\n",
      "(10, 2) (10,)\n"
     ]
    }
   ],
   "source": [
    "X_train,X_test,y_train,y_test=train_test_split(x,y,train_size=0.9)\n",
    "print(X_train.shape,y_train.shape)\n",
    "print(X_test.shape,y_test.shape)"
   ]
  },
  {
   "cell_type": "markdown",
   "id": "b02ff5a9",
   "metadata": {},
   "source": [
    "#### scaling the input features of both X_train,X_test "
   ]
  },
  {
   "cell_type": "code",
   "execution_count": 13,
   "id": "b6124c2d",
   "metadata": {},
   "outputs": [],
   "source": [
    "scalar=StandardScaler()\n",
    "\n",
    "### scaling X_train\n",
    "X_train=scalar.fit_transform(X_train)\n",
    "\n",
    "\n",
    "\n",
    "## scaling X_test \n",
    "X_test=scalar.transform(X_test)"
   ]
  },
  {
   "cell_type": "markdown",
   "id": "b2d9a9d5",
   "metadata": {},
   "source": [
    "#### building the logical structure "
   ]
  },
  {
   "cell_type": "code",
   "execution_count": 120,
   "id": "71a04a3f",
   "metadata": {},
   "outputs": [],
   "source": [
    "model=Sequential()\n",
    "model.add(Dense(12,activation=\"relu\",kernel_regularizer=L1(0.1),input_dim=2))\n",
    "model.add(Dense(8,activation=\"relu\",kernel_regularizer=L1(0.1)))\n",
    "model.add(Dense(1,activation=\"sigmoid\"))\n"
   ]
  },
  {
   "cell_type": "code",
   "execution_count": 121,
   "id": "bf82275b",
   "metadata": {},
   "outputs": [
    {
     "name": "stdout",
     "output_type": "stream",
     "text": [
      "Model: \"sequential_13\"\n",
      "_________________________________________________________________\n",
      " Layer (type)                Output Shape              Param #   \n",
      "=================================================================\n",
      " dense_47 (Dense)            (None, 12)                36        \n",
      "                                                                 \n",
      " dense_48 (Dense)            (None, 8)                 104       \n",
      "                                                                 \n",
      " dense_49 (Dense)            (None, 1)                 9         \n",
      "                                                                 \n",
      "=================================================================\n",
      "Total params: 149 (596.00 Byte)\n",
      "Trainable params: 149 (596.00 Byte)\n",
      "Non-trainable params: 0 (0.00 Byte)\n",
      "_________________________________________________________________\n"
     ]
    }
   ],
   "source": [
    "model.summary()"
   ]
  },
  {
   "cell_type": "markdown",
   "id": "dfd76be7",
   "metadata": {},
   "source": [
    "#### compiling the model "
   ]
  },
  {
   "cell_type": "code",
   "execution_count": 122,
   "id": "651f673c",
   "metadata": {},
   "outputs": [
    {
     "name": "stdout",
     "output_type": "stream",
     "text": [
      "Epoch 1/30\n",
      "8/8 [==============================] - 1s 40ms/step - loss: 4.0020 - accuracy: 0.4865 - val_loss: 3.8654 - val_accuracy: 0.5556\n",
      "Epoch 2/30\n",
      "8/8 [==============================] - 0s 9ms/step - loss: 3.9012 - accuracy: 0.4865 - val_loss: 3.7650 - val_accuracy: 0.5556\n",
      "Epoch 3/30\n",
      "8/8 [==============================] - 0s 9ms/step - loss: 3.8006 - accuracy: 0.5135 - val_loss: 3.6670 - val_accuracy: 0.6667\n",
      "Epoch 4/30\n",
      "8/8 [==============================] - 0s 9ms/step - loss: 3.7022 - accuracy: 0.5270 - val_loss: 3.5718 - val_accuracy: 0.6667\n",
      "Epoch 5/30\n",
      "8/8 [==============================] - 0s 12ms/step - loss: 3.6064 - accuracy: 0.5270 - val_loss: 3.4773 - val_accuracy: 0.6667\n",
      "Epoch 6/30\n",
      "8/8 [==============================] - 0s 14ms/step - loss: 3.5122 - accuracy: 0.5135 - val_loss: 3.3860 - val_accuracy: 0.6667\n",
      "Epoch 7/30\n",
      "8/8 [==============================] - 0s 12ms/step - loss: 3.4207 - accuracy: 0.5000 - val_loss: 3.2977 - val_accuracy: 0.6667\n",
      "Epoch 8/30\n",
      "8/8 [==============================] - 0s 11ms/step - loss: 3.3326 - accuracy: 0.4730 - val_loss: 3.2099 - val_accuracy: 0.6667\n",
      "Epoch 9/30\n",
      "8/8 [==============================] - 0s 12ms/step - loss: 3.2435 - accuracy: 0.5135 - val_loss: 3.1231 - val_accuracy: 0.6667\n",
      "Epoch 10/30\n",
      "8/8 [==============================] - 0s 10ms/step - loss: 3.1578 - accuracy: 0.5270 - val_loss: 3.0400 - val_accuracy: 0.6667\n",
      "Epoch 11/30\n",
      "8/8 [==============================] - 0s 11ms/step - loss: 3.0743 - accuracy: 0.5405 - val_loss: 2.9599 - val_accuracy: 0.6667\n",
      "Epoch 12/30\n",
      "8/8 [==============================] - 0s 10ms/step - loss: 2.9954 - accuracy: 0.5676 - val_loss: 2.8849 - val_accuracy: 0.7778\n",
      "Epoch 13/30\n",
      "8/8 [==============================] - 0s 10ms/step - loss: 2.9186 - accuracy: 0.5541 - val_loss: 2.8114 - val_accuracy: 0.8889\n",
      "Epoch 14/30\n",
      "8/8 [==============================] - 0s 11ms/step - loss: 2.8444 - accuracy: 0.5541 - val_loss: 2.7388 - val_accuracy: 0.8889\n",
      "Epoch 15/30\n",
      "8/8 [==============================] - 0s 10ms/step - loss: 2.7720 - accuracy: 0.5676 - val_loss: 2.6682 - val_accuracy: 0.8889\n",
      "Epoch 16/30\n",
      "8/8 [==============================] - 0s 10ms/step - loss: 2.7012 - accuracy: 0.6081 - val_loss: 2.6005 - val_accuracy: 0.8889\n",
      "Epoch 17/30\n",
      "8/8 [==============================] - 0s 11ms/step - loss: 2.6321 - accuracy: 0.6081 - val_loss: 2.5344 - val_accuracy: 0.8889\n",
      "Epoch 18/30\n",
      "8/8 [==============================] - 0s 13ms/step - loss: 2.5630 - accuracy: 0.6216 - val_loss: 2.4693 - val_accuracy: 0.8889\n",
      "Epoch 19/30\n",
      "8/8 [==============================] - 0s 12ms/step - loss: 2.4947 - accuracy: 0.6486 - val_loss: 2.4035 - val_accuracy: 0.8889\n",
      "Epoch 20/30\n",
      "8/8 [==============================] - 0s 13ms/step - loss: 2.4274 - accuracy: 0.6486 - val_loss: 2.3402 - val_accuracy: 0.8889\n",
      "Epoch 21/30\n",
      "8/8 [==============================] - 0s 11ms/step - loss: 2.3614 - accuracy: 0.6486 - val_loss: 2.2784 - val_accuracy: 0.8889\n",
      "Epoch 22/30\n",
      "8/8 [==============================] - 0s 12ms/step - loss: 2.2980 - accuracy: 0.6486 - val_loss: 2.2192 - val_accuracy: 1.0000\n",
      "Epoch 23/30\n",
      "8/8 [==============================] - 0s 10ms/step - loss: 2.2380 - accuracy: 0.6351 - val_loss: 2.1623 - val_accuracy: 1.0000\n",
      "Epoch 24/30\n",
      "8/8 [==============================] - 0s 14ms/step - loss: 2.1800 - accuracy: 0.6351 - val_loss: 2.1076 - val_accuracy: 1.0000\n",
      "Epoch 25/30\n",
      "8/8 [==============================] - 0s 11ms/step - loss: 2.1222 - accuracy: 0.6351 - val_loss: 2.0522 - val_accuracy: 1.0000\n",
      "Epoch 26/30\n",
      "8/8 [==============================] - 0s 9ms/step - loss: 2.0655 - accuracy: 0.6351 - val_loss: 1.9987 - val_accuracy: 1.0000\n",
      "Epoch 27/30\n",
      "8/8 [==============================] - 0s 8ms/step - loss: 2.0101 - accuracy: 0.6351 - val_loss: 1.9474 - val_accuracy: 1.0000\n",
      "Epoch 28/30\n",
      "8/8 [==============================] - 0s 9ms/step - loss: 1.9570 - accuracy: 0.6757 - val_loss: 1.8973 - val_accuracy: 1.0000\n",
      "Epoch 29/30\n",
      "8/8 [==============================] - 0s 12ms/step - loss: 1.9052 - accuracy: 0.6351 - val_loss: 1.8477 - val_accuracy: 1.0000\n",
      "Epoch 30/30\n",
      "8/8 [==============================] - 0s 13ms/step - loss: 1.8548 - accuracy: 0.6351 - val_loss: 1.8000 - val_accuracy: 1.0000\n"
     ]
    }
   ],
   "source": [
    "model.compile(loss=\"binary_crossentropy\",optimizer=SGD(0.01),metrics=[\"accuracy\"])\n",
    "history=model.fit(X_train,y_train,batch_size=10,epochs=30,validation_split=0.1)"
   ]
  },
  {
   "cell_type": "markdown",
   "id": "2d28dd8d",
   "metadata": {},
   "source": [
    "#### plotting the train test loss "
   ]
  },
  {
   "cell_type": "code",
   "execution_count": 123,
   "id": "f263ad9c",
   "metadata": {},
   "outputs": [
    {
     "data": {
      "text/plain": [
       "<matplotlib.legend.Legend at 0x17e667e2810>"
      ]
     },
     "execution_count": 123,
     "metadata": {},
     "output_type": "execute_result"
    },
    {
     "data": {
      "image/png": "[encoded data removed]",
      "text/plain": [
       "<Figure size 640x480 with 1 Axes>"
      ]
     },
     "metadata": {},
     "output_type": "display_data"
    }
   ],
   "source": [
    "plt.plot(range(1,31),history.history[\"loss\"],label=\"train_loss\")\n",
    "plt.plot(range(1,31),history.history[\"val_loss\"],label=\"test_loss\") \n",
    "plt.legend() "
   ]
  },
  {
   "cell_type": "markdown",
   "id": "9c1aadd1",
   "metadata": {},
   "source": [
    "#### finding the predicted values using model "
   ]
  },
  {
   "cell_type": "code",
   "execution_count": 124,
   "id": "add6978b",
   "metadata": {},
   "outputs": [
    {
     "name": "stdout",
     "output_type": "stream",
     "text": [
      "1/1 [==============================] - 0s 88ms/step\n"
     ]
    },
    {
     "data": {
      "text/plain": [
       "array([[0.528091  ],\n",
       "       [0.533782  ],\n",
       "       [0.5148498 ],\n",
       "       [0.49926615],\n",
       "       [0.48474112],\n",
       "       [0.53081405],\n",
       "       [0.5009395 ],\n",
       "       [0.47611758],\n",
       "       [0.5328976 ],\n",
       "       [0.49921197]], dtype=float32)"
      ]
     },
     "execution_count": 124,
     "metadata": {},
     "output_type": "execute_result"
    }
   ],
   "source": [
    "predicted=model.predict(X_test)\n",
    "predicted"
   ]
  },
  {
   "cell_type": "markdown",
   "id": "f08b27ba",
   "metadata": {},
   "source": [
    "#### converting the predicted probablities to the respective labels"
   ]
  },
  {
   "cell_type": "code",
   "execution_count": 125,
   "id": "d7eaf5ba",
   "metadata": {},
   "outputs": [
    {
     "data": {
      "text/plain": [
       "array([[1],\n",
       "       [1],\n",
       "       [1],\n",
       "       [0],\n",
       "       [0],\n",
       "       [1],\n",
       "       [1],\n",
       "       [0],\n",
       "       [1],\n",
       "       [0]])"
      ]
     },
     "execution_count": 125,
     "metadata": {},
     "output_type": "execute_result"
    }
   ],
   "source": [
    "predicted=np.where(predicted>0.5,1,0)\n",
    "predicted "
   ]
  },
  {
   "cell_type": "markdown",
   "id": "4db37da4",
   "metadata": {},
   "source": [
    "#### evaluating the model "
   ]
  },
  {
   "cell_type": "code",
   "execution_count": 126,
   "id": "4d827e0b",
   "metadata": {},
   "outputs": [
    {
     "name": "stdout",
     "output_type": "stream",
     "text": [
      "0.6\n"
     ]
    },
    {
     "data": {
      "image/png": "[encoded data removed]",
      "text/plain": [
       "<Figure size 640x480 with 2 Axes>"
      ]
     },
     "metadata": {},
     "output_type": "display_data"
    }
   ],
   "source": [
    "from sklearn.metrics import accuracy_score,confusion_matrix,ConfusionMatrixDisplay\n",
    "print(accuracy_score(y_test,predicted))\n",
    "cm=confusion_matrix(y_test,predicted)\n",
    "va=ConfusionMatrixDisplay(cm)\n",
    "va.plot() \n",
    "plt.show() "
   ]
  },
  {
   "cell_type": "markdown",
   "id": "1bae5c30",
   "metadata": {},
   "source": [
    "#### creating the decision surface "
   ]
  },
  {
   "cell_type": "code",
   "execution_count": 127,
   "id": "e80bcf3d",
   "metadata": {},
   "outputs": [],
   "source": [
    "from mlxtend.plotting  import plot_decision_regions\n"
   ]
  },
  {
   "cell_type": "code",
   "execution_count": 128,
   "id": "0c8eeb68",
   "metadata": {},
   "outputs": [
    {
     "name": "stdout",
     "output_type": "stream",
     "text": [
      "9600/9600 [==============================] - 20s 2ms/step\n"
     ]
    },
    {
     "data": {
      "text/plain": [
       "<Axes: >"
      ]
     },
     "execution_count": 128,
     "metadata": {},
     "output_type": "execute_result"
    },
    {
     "data": {
      "image/png": "[encoded data removed]",
      "text/plain": [
       "<Figure size 640x480 with 1 Axes>"
      ]
     },
     "metadata": {},
     "output_type": "display_data"
    }
   ],
   "source": [
    "plot_decision_regions(X_train,y_train.values,clf=model)"
   ]
  },
  {
   "cell_type": "code",
   "execution_count": 129,
   "id": "39403ba9",
   "metadata": {},
   "outputs": [
    {
     "name": "stdout",
     "output_type": "stream",
     "text": [
      "9600/9600 [==============================] - 18s 2ms/step\n"
     ]
    },
    {
     "data": {
      "text/plain": [
       "<Axes: >"
      ]
     },
     "execution_count": 129,
     "metadata": {},
     "output_type": "execute_result"
    },
    {
     "data": {
      "image/png": "[encoded data removed]",
      "text/plain": [
       "<Figure size 640x480 with 1 Axes>"
      ]
     },
     "metadata": {},
     "output_type": "display_data"
    }
   ],
   "source": [
    "#for test data \n",
    "plot_decision_regions(X_test,y_test.values,clf=model)"
   ]
  },
  {
   "cell_type": "markdown",
   "id": "fbcb6242",
   "metadata": {},
   "source": [
    "\n",
    "- This neural network model is showing accuracy of 60 percent\n",
    "- Since maximum datapoints  are overlapping and in the same two dimensional region it is difficult to the decision surface which can separate all points belonging to one clas from another so there will always be high chance of the point being misscalssified.\n",
    "- We have used 2 hidden layers.\n",
    "- In the First Hidden layers we have used 12 neurons,activation function as relu and kernel regularizer L1 as 0.1.\n",
    "- In the second hidden layers we have used 8 neurons,activation function as relu and kernelregularizer L1 as 0.1.\n",
    "- In the output layer we have used sigmoid as the activation function. \n",
    "- For compiling the model we haved loss as binary cross entropy,optimizer as SGD with batch size of 10 with learning rate of 0.01. \n",
    "- No of epochs used for training this model is 30."
   ]
  },
  {
   "cell_type": "code",
   "execution_count": null,
   "id": "45dd3248",
   "metadata": {},
   "outputs": [],
   "source": []
  }
 ],
 "metadata": {
  "kernelspec": {
   "display_name": "Python 3 (ipykernel)",
   "language": "python",
   "name": "python3"
  },
  "language_info": {
   "codemirror_mode": {
    "name": "ipython",
    "version": 3
   },
   "file_extension": ".py",
   "mimetype": "text/x-python",
   "name": "python",
   "nbconvert_exporter": "python",
   "pygments_lexer": "ipython3",
   "version": "3.11.5"
  }
 },
 "nbformat": 4,
 "nbformat_minor": 5
}
