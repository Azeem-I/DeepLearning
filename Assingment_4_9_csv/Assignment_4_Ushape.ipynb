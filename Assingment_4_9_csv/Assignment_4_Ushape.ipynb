{
 "cells": [
  {
   "cell_type": "markdown",
   "id": "ac7f931e",
   "metadata": {},
   "source": [
    "#### Importing important libraries "
   ]
  },
  {
   "cell_type": "code",
   "execution_count": 1,
   "id": "d794f185",
   "metadata": {},
   "outputs": [],
   "source": [
    "import pandas as pd \n",
    "import numpy as np\n",
    "import matplotlib.pyplot as plt \n",
    "from sklearn.model_selection import train_test_split\n",
    "from sklearn.preprocessing import StandardScaler\n",
    "from keras import Sequential \n",
    "from keras.layers import Dense \n",
    "from keras.regularizers import L1,L2,L1L2 \n",
    "from keras.optimizers import SGD  "
   ]
  },
  {
   "cell_type": "markdown",
   "id": "245f094b",
   "metadata": {},
   "source": [
    "#### importing the dataset "
   ]
  },
  {
   "cell_type": "code",
   "execution_count": 2,
   "id": "8e6eb644",
   "metadata": {},
   "outputs": [
    {
     "data": {
      "text/html": [
       "<div>\n",
       "<style scoped>\n",
       "    .dataframe tbody tr th:only-of-type {\n",
       "        vertical-align: middle;\n",
       "    }\n",
       "\n",
       "    .dataframe tbody tr th {\n",
       "        vertical-align: top;\n",
       "    }\n",
       "\n",
       "    .dataframe thead th {\n",
       "        text-align: right;\n",
       "    }\n",
       "</style>\n",
       "<table border=\"1\" class=\"dataframe\">\n",
       "  <thead>\n",
       "    <tr style=\"text-align: right;\">\n",
       "      <th></th>\n",
       "      <th>0</th>\n",
       "      <th>1</th>\n",
       "      <th>2</th>\n",
       "    </tr>\n",
       "  </thead>\n",
       "  <tbody>\n",
       "    <tr>\n",
       "      <th>0</th>\n",
       "      <td>0.031595</td>\n",
       "      <td>0.986988</td>\n",
       "      <td>0.0</td>\n",
       "    </tr>\n",
       "    <tr>\n",
       "      <th>1</th>\n",
       "      <td>2.115098</td>\n",
       "      <td>-0.046244</td>\n",
       "      <td>1.0</td>\n",
       "    </tr>\n",
       "    <tr>\n",
       "      <th>2</th>\n",
       "      <td>0.882490</td>\n",
       "      <td>-0.075756</td>\n",
       "      <td>0.0</td>\n",
       "    </tr>\n",
       "    <tr>\n",
       "      <th>3</th>\n",
       "      <td>-0.055144</td>\n",
       "      <td>-0.037332</td>\n",
       "      <td>1.0</td>\n",
       "    </tr>\n",
       "    <tr>\n",
       "      <th>4</th>\n",
       "      <td>0.829545</td>\n",
       "      <td>-0.539321</td>\n",
       "      <td>1.0</td>\n",
       "    </tr>\n",
       "  </tbody>\n",
       "</table>\n",
       "</div>"
      ],
      "text/plain": [
       "          0         1    2\n",
       "0  0.031595  0.986988  0.0\n",
       "1  2.115098 -0.046244  1.0\n",
       "2  0.882490 -0.075756  0.0\n",
       "3 -0.055144 -0.037332  1.0\n",
       "4  0.829545 -0.539321  1.0"
      ]
     },
     "execution_count": 2,
     "metadata": {},
     "output_type": "execute_result"
    }
   ],
   "source": [
    "df=pd.read_csv(r\"D:\\edu\\INNO\\Deep_Learning\\Assignments\\data\\Multiple CSV\\Multiple CSV\\1.ushape.csv\",header=None) \n",
    "df.head()"
   ]
  },
  {
   "cell_type": "markdown",
   "id": "c2290000",
   "metadata": {},
   "source": [
    "#### splitting input and output features "
   ]
  },
  {
   "cell_type": "code",
   "execution_count": 3,
   "id": "aa6c2e86",
   "metadata": {},
   "outputs": [],
   "source": [
    "x=df.iloc[:,0:2]\n",
    "y=df.iloc[:,2].astype(int)"
   ]
  },
  {
   "cell_type": "code",
   "execution_count": 4,
   "id": "a044cb97",
   "metadata": {},
   "outputs": [
    {
     "data": {
      "text/plain": [
       "0    0\n",
       "1    1\n",
       "2    0\n",
       "3    1\n",
       "4    1\n",
       "Name: 2, dtype: int32"
      ]
     },
     "execution_count": 4,
     "metadata": {},
     "output_type": "execute_result"
    }
   ],
   "source": [
    "y.head()"
   ]
  },
  {
   "cell_type": "markdown",
   "id": "58132c43",
   "metadata": {},
   "source": [
    "#### Splitting the data into train and test "
   ]
  },
  {
   "cell_type": "code",
   "execution_count": 5,
   "id": "448bed72",
   "metadata": {},
   "outputs": [],
   "source": [
    "X_train,X_test,y_train,y_test=train_test_split(x,y,test_size=0.1)\n"
   ]
  },
  {
   "cell_type": "markdown",
   "id": "d688e403",
   "metadata": {},
   "source": [
    "#### Scaling the input features "
   ]
  },
  {
   "cell_type": "code",
   "execution_count": 6,
   "id": "045ebd77",
   "metadata": {},
   "outputs": [],
   "source": [
    "std=StandardScaler()\n",
    "X_train=std.fit_transform(X_train)\n",
    "X_test=std.transform(X_test)"
   ]
  },
  {
   "cell_type": "markdown",
   "id": "470965f3",
   "metadata": {},
   "source": [
    "#### Building the logical structure "
   ]
  },
  {
   "cell_type": "code",
   "execution_count": 30,
   "id": "a5d60622",
   "metadata": {},
   "outputs": [],
   "source": [
    "model=Sequential()\n",
    "model.add(Dense(20,activation=\"relu\",kernel_regularizer=L2(0.001),bias_regularizer=L2(0.001),input_dim=2))\n",
    "model.add(Dense(18,activation=\"relu\",kernel_regularizer=L2(0.001),bias_regularizer=L2(0.001)))\n",
    "model.add(Dense(8,activation=\"relu\",kernel_regularizer=L2(0.001),bias_regularizer=L2(0.001)))\n",
    "model.add(Dense(8,activation=\"relu\",kernel_regularizer=L2(0.001),bias_regularizer=L2(0.001)))\n",
    "model.add(Dense(1,activation=\"sigmoid\",kernel_regularizer=L2(0.001),bias_regularizer=L2(0.001)))    "
   ]
  },
  {
   "cell_type": "code",
   "execution_count": 31,
   "id": "5befa0d9",
   "metadata": {},
   "outputs": [
    {
     "name": "stdout",
     "output_type": "stream",
     "text": [
      "Model: \"sequential_4\"\n",
      "_________________________________________________________________\n",
      " Layer (type)                Output Shape              Param #   \n",
      "=================================================================\n",
      " dense_16 (Dense)            (None, 20)                60        \n",
      "                                                                 \n",
      " dense_17 (Dense)            (None, 18)                378       \n",
      "                                                                 \n",
      " dense_18 (Dense)            (None, 8)                 152       \n",
      "                                                                 \n",
      " dense_19 (Dense)            (None, 8)                 72        \n",
      "                                                                 \n",
      " dense_20 (Dense)            (None, 1)                 9         \n",
      "                                                                 \n",
      "=================================================================\n",
      "Total params: 671 (2.62 KB)\n",
      "Trainable params: 671 (2.62 KB)\n",
      "Non-trainable params: 0 (0.00 Byte)\n",
      "_________________________________________________________________\n"
     ]
    }
   ],
   "source": [
    "model.summary()"
   ]
  },
  {
   "cell_type": "markdown",
   "id": "a12f6824",
   "metadata": {},
   "source": [
    "#### Compiling the model "
   ]
  },
  {
   "cell_type": "code",
   "execution_count": 32,
   "id": "6cdfa2b6",
   "metadata": {},
   "outputs": [
    {
     "name": "stdout",
     "output_type": "stream",
     "text": [
      "Epoch 1/50\n",
      "17/17 [==============================] - 1s 25ms/step - loss: 0.7449 - accuracy: 0.4815 - val_loss: 0.7224 - val_accuracy: 0.6667\n",
      "Epoch 2/50\n",
      "17/17 [==============================] - 0s 6ms/step - loss: 0.6684 - accuracy: 0.7901 - val_loss: 0.7209 - val_accuracy: 0.5556\n",
      "Epoch 3/50\n",
      "17/17 [==============================] - 0s 7ms/step - loss: 0.5443 - accuracy: 0.8395 - val_loss: 0.6823 - val_accuracy: 0.6667\n",
      "Epoch 4/50\n",
      "17/17 [==============================] - 0s 6ms/step - loss: 0.4443 - accuracy: 0.8519 - val_loss: 0.6902 - val_accuracy: 0.7778\n",
      "Epoch 5/50\n",
      "17/17 [==============================] - 0s 6ms/step - loss: 0.4075 - accuracy: 0.8765 - val_loss: 0.6988 - val_accuracy: 0.7778\n",
      "Epoch 6/50\n",
      "17/17 [==============================] - 0s 7ms/step - loss: 0.3913 - accuracy: 0.8519 - val_loss: 0.7040 - val_accuracy: 0.7778\n",
      "Epoch 7/50\n",
      "17/17 [==============================] - 0s 6ms/step - loss: 0.3792 - accuracy: 0.8395 - val_loss: 0.7346 - val_accuracy: 0.6667\n",
      "Epoch 8/50\n",
      "17/17 [==============================] - 0s 6ms/step - loss: 0.3764 - accuracy: 0.8395 - val_loss: 0.7068 - val_accuracy: 0.7778\n",
      "Epoch 9/50\n",
      "17/17 [==============================] - 0s 6ms/step - loss: 0.3481 - accuracy: 0.8889 - val_loss: 0.7325 - val_accuracy: 0.7778\n",
      "Epoch 10/50\n",
      "17/17 [==============================] - 0s 6ms/step - loss: 0.3764 - accuracy: 0.8395 - val_loss: 0.7767 - val_accuracy: 0.6667\n",
      "Epoch 11/50\n",
      "17/17 [==============================] - 0s 6ms/step - loss: 0.3812 - accuracy: 0.8519 - val_loss: 0.6886 - val_accuracy: 0.7778\n",
      "Epoch 12/50\n",
      "17/17 [==============================] - 0s 7ms/step - loss: 0.3304 - accuracy: 0.8519 - val_loss: 0.7439 - val_accuracy: 0.7778\n",
      "Epoch 13/50\n",
      "17/17 [==============================] - 0s 7ms/step - loss: 0.3348 - accuracy: 0.8889 - val_loss: 0.7512 - val_accuracy: 0.7778\n",
      "Epoch 14/50\n",
      "17/17 [==============================] - 0s 7ms/step - loss: 0.3324 - accuracy: 0.8765 - val_loss: 0.7434 - val_accuracy: 0.7778\n",
      "Epoch 15/50\n",
      "17/17 [==============================] - 0s 8ms/step - loss: 0.3110 - accuracy: 0.8642 - val_loss: 0.7660 - val_accuracy: 0.6667\n",
      "Epoch 16/50\n",
      "17/17 [==============================] - 0s 7ms/step - loss: 0.3275 - accuracy: 0.8642 - val_loss: 0.7528 - val_accuracy: 0.7778\n",
      "Epoch 17/50\n",
      "17/17 [==============================] - 0s 6ms/step - loss: 0.3009 - accuracy: 0.8889 - val_loss: 0.6973 - val_accuracy: 0.7778\n",
      "Epoch 18/50\n",
      "17/17 [==============================] - 0s 6ms/step - loss: 0.3035 - accuracy: 0.8889 - val_loss: 0.8158 - val_accuracy: 0.7778\n",
      "Epoch 19/50\n",
      "17/17 [==============================] - 0s 10ms/step - loss: 0.2835 - accuracy: 0.9136 - val_loss: 0.8817 - val_accuracy: 0.6667\n",
      "Epoch 20/50\n",
      "17/17 [==============================] - 0s 5ms/step - loss: 0.3351 - accuracy: 0.8889 - val_loss: 0.7751 - val_accuracy: 0.7778\n",
      "Epoch 21/50\n",
      "17/17 [==============================] - 0s 5ms/step - loss: 0.2722 - accuracy: 0.9136 - val_loss: 0.7481 - val_accuracy: 0.7778\n",
      "Epoch 22/50\n",
      "17/17 [==============================] - 0s 6ms/step - loss: 0.3089 - accuracy: 0.8765 - val_loss: 0.6065 - val_accuracy: 0.7778\n",
      "Epoch 23/50\n",
      "17/17 [==============================] - 0s 6ms/step - loss: 0.2368 - accuracy: 0.9259 - val_loss: 0.7226 - val_accuracy: 0.7778\n",
      "Epoch 24/50\n",
      "17/17 [==============================] - 0s 6ms/step - loss: 0.2307 - accuracy: 0.9383 - val_loss: 1.0214 - val_accuracy: 0.4444\n",
      "Epoch 25/50\n",
      "17/17 [==============================] - 0s 6ms/step - loss: 0.2097 - accuracy: 0.9259 - val_loss: 1.1055 - val_accuracy: 0.7778\n",
      "Epoch 26/50\n",
      "17/17 [==============================] - 0s 6ms/step - loss: 0.2680 - accuracy: 0.9012 - val_loss: 0.7811 - val_accuracy: 0.8889\n",
      "Epoch 27/50\n",
      "17/17 [==============================] - 0s 6ms/step - loss: 0.2127 - accuracy: 0.9383 - val_loss: 0.6654 - val_accuracy: 0.7778\n",
      "Epoch 28/50\n",
      "17/17 [==============================] - 0s 6ms/step - loss: 0.2037 - accuracy: 0.9506 - val_loss: 0.7780 - val_accuracy: 0.7778\n",
      "Epoch 29/50\n",
      "17/17 [==============================] - 0s 6ms/step - loss: 0.2016 - accuracy: 0.9383 - val_loss: 0.9473 - val_accuracy: 0.7778\n",
      "Epoch 30/50\n",
      "17/17 [==============================] - 0s 6ms/step - loss: 0.1805 - accuracy: 0.9630 - val_loss: 1.3152 - val_accuracy: 0.6667\n",
      "Epoch 31/50\n",
      "17/17 [==============================] - 0s 8ms/step - loss: 0.6256 - accuracy: 0.6914 - val_loss: 0.9411 - val_accuracy: 0.6667\n",
      "Epoch 32/50\n",
      "17/17 [==============================] - 0s 7ms/step - loss: 0.2898 - accuracy: 0.8889 - val_loss: 0.8074 - val_accuracy: 0.7778\n",
      "Epoch 33/50\n",
      "17/17 [==============================] - 0s 6ms/step - loss: 0.2085 - accuracy: 0.9383 - val_loss: 0.9169 - val_accuracy: 0.7778\n",
      "Epoch 34/50\n",
      "17/17 [==============================] - 0s 5ms/step - loss: 0.2092 - accuracy: 0.9136 - val_loss: 0.8114 - val_accuracy: 0.8889\n",
      "Epoch 35/50\n",
      "17/17 [==============================] - 0s 5ms/step - loss: 0.1648 - accuracy: 0.9506 - val_loss: 0.9139 - val_accuracy: 0.7778\n",
      "Epoch 36/50\n",
      "17/17 [==============================] - 0s 5ms/step - loss: 0.2411 - accuracy: 0.9383 - val_loss: 0.8506 - val_accuracy: 0.7778\n",
      "Epoch 37/50\n",
      "17/17 [==============================] - 0s 5ms/step - loss: 0.2063 - accuracy: 0.9259 - val_loss: 0.8653 - val_accuracy: 0.6667\n",
      "Epoch 38/50\n",
      "17/17 [==============================] - 0s 5ms/step - loss: 0.2216 - accuracy: 0.9259 - val_loss: 0.8692 - val_accuracy: 0.7778\n",
      "Epoch 39/50\n",
      "17/17 [==============================] - 0s 5ms/step - loss: 0.1579 - accuracy: 0.9630 - val_loss: 0.8559 - val_accuracy: 0.8889\n",
      "Epoch 40/50\n",
      "17/17 [==============================] - 0s 6ms/step - loss: 0.1283 - accuracy: 0.9877 - val_loss: 1.1549 - val_accuracy: 0.6667\n",
      "Epoch 41/50\n",
      "17/17 [==============================] - 0s 6ms/step - loss: 0.2777 - accuracy: 0.9383 - val_loss: 1.0194 - val_accuracy: 0.7778\n",
      "Epoch 42/50\n",
      "17/17 [==============================] - 0s 5ms/step - loss: 0.1170 - accuracy: 0.9753 - val_loss: 1.2782 - val_accuracy: 0.6667\n",
      "Epoch 43/50\n",
      "17/17 [==============================] - 0s 6ms/step - loss: 0.3421 - accuracy: 0.9136 - val_loss: 0.9370 - val_accuracy: 0.6667\n",
      "Epoch 44/50\n",
      "17/17 [==============================] - 0s 5ms/step - loss: 0.1682 - accuracy: 0.9630 - val_loss: 0.9286 - val_accuracy: 0.7778\n",
      "Epoch 45/50\n",
      "17/17 [==============================] - 0s 5ms/step - loss: 0.1317 - accuracy: 0.9630 - val_loss: 0.9250 - val_accuracy: 0.7778\n",
      "Epoch 46/50\n",
      "17/17 [==============================] - 0s 5ms/step - loss: 0.1281 - accuracy: 0.9753 - val_loss: 0.8552 - val_accuracy: 0.8889\n",
      "Epoch 47/50\n",
      "17/17 [==============================] - 0s 6ms/step - loss: 0.1228 - accuracy: 0.9877 - val_loss: 1.0471 - val_accuracy: 0.8889\n",
      "Epoch 48/50\n",
      "17/17 [==============================] - 0s 5ms/step - loss: 0.1708 - accuracy: 0.9630 - val_loss: 1.2407 - val_accuracy: 0.7778\n",
      "Epoch 49/50\n",
      "17/17 [==============================] - 0s 6ms/step - loss: 0.1253 - accuracy: 0.9753 - val_loss: 1.2645 - val_accuracy: 0.7778\n",
      "Epoch 50/50\n",
      "17/17 [==============================] - 0s 5ms/step - loss: 0.1201 - accuracy: 0.9877 - val_loss: 1.1495 - val_accuracy: 0.7778\n"
     ]
    }
   ],
   "source": [
    "model.compile(loss=\"binary_crossentropy\",optimizer=SGD(0.1),metrics=[\"accuracy\"])\n",
    "history=model.fit(X_train,y_train,batch_size=5,epochs=50,validation_split=0.1)"
   ]
  },
  {
   "cell_type": "code",
   "execution_count": 33,
   "id": "efeba3e4",
   "metadata": {},
   "outputs": [
    {
     "data": {
      "text/plain": [
       "<matplotlib.legend.Legend at 0x1f6e44e6490>"
      ]
     },
     "execution_count": 33,
     "metadata": {},
     "output_type": "execute_result"
    },
    {
     "data": {
      "image/png": "[encoded data removed]",
      "text/plain": [
       "<Figure size 640x480 with 1 Axes>"
      ]
     },
     "metadata": {},
     "output_type": "display_data"
    }
   ],
   "source": [
    "plt.plot(range(1,51),history.history[\"loss\"],label=\"train_loss\")\n",
    "plt.plot(range(1,51),history.history[\"val_loss\"],label=\"test_loss\") \n",
    "plt.legend() "
   ]
  },
  {
   "cell_type": "markdown",
   "id": "0f2be041",
   "metadata": {},
   "source": [
    "#### making predictions using the model "
   ]
  },
  {
   "cell_type": "code",
   "execution_count": 34,
   "id": "ce139f9c",
   "metadata": {},
   "outputs": [
    {
     "name": "stdout",
     "output_type": "stream",
     "text": [
      "1/1 [==============================] - 0s 115ms/step\n"
     ]
    },
    {
     "data": {
      "text/plain": [
       "array([[1.3171181e-01],\n",
       "       [9.9999601e-01],\n",
       "       [9.3277663e-01],\n",
       "       [8.4440142e-04],\n",
       "       [8.6511439e-03],\n",
       "       [9.4747555e-01],\n",
       "       [6.3730115e-03],\n",
       "       [9.9989772e-01],\n",
       "       [9.9714947e-01],\n",
       "       [9.9570519e-01]], dtype=float32)"
      ]
     },
     "execution_count": 34,
     "metadata": {},
     "output_type": "execute_result"
    }
   ],
   "source": [
    "predicted=model.predict(X_test) \n",
    "predicted "
   ]
  },
  {
   "cell_type": "code",
   "execution_count": 35,
   "id": "0e856eb6",
   "metadata": {},
   "outputs": [
    {
     "data": {
      "text/plain": [
       "array([[0],\n",
       "       [1],\n",
       "       [1],\n",
       "       [0],\n",
       "       [0],\n",
       "       [1],\n",
       "       [0],\n",
       "       [1],\n",
       "       [1],\n",
       "       [1]])"
      ]
     },
     "execution_count": 35,
     "metadata": {},
     "output_type": "execute_result"
    }
   ],
   "source": [
    "predicted=np.where(predicted>0.5,1,0)\n",
    "predicted "
   ]
  },
  {
   "cell_type": "markdown",
   "id": "308130a8",
   "metadata": {},
   "source": [
    "#### Evaluating the model "
   ]
  },
  {
   "cell_type": "code",
   "execution_count": 36,
   "id": "86b7e4ec",
   "metadata": {},
   "outputs": [
    {
     "name": "stdout",
     "output_type": "stream",
     "text": [
      "0.9\n"
     ]
    },
    {
     "data": {
      "image/png": "[encoded data removed]",
      "text/plain": [
       "<Figure size 640x480 with 2 Axes>"
      ]
     },
     "metadata": {},
     "output_type": "display_data"
    }
   ],
   "source": [
    "from sklearn.metrics import accuracy_score,confusion_matrix,ConfusionMatrixDisplay\n",
    "print(accuracy_score(y_test,predicted))\n",
    "cm=confusion_matrix(y_test,predicted)\n",
    "va=ConfusionMatrixDisplay(cm)\n",
    "va.plot() \n",
    "plt.show() "
   ]
  },
  {
   "cell_type": "markdown",
   "id": "da4338ca",
   "metadata": {},
   "source": [
    "#### Plotiing the decision surface "
   ]
  },
  {
   "cell_type": "code",
   "execution_count": 37,
   "id": "83a8ef57",
   "metadata": {},
   "outputs": [],
   "source": [
    "from mlxtend.plotting  import plot_decision_regions\n"
   ]
  },
  {
   "cell_type": "code",
   "execution_count": 38,
   "id": "4349061f",
   "metadata": {},
   "outputs": [
    {
     "name": "stdout",
     "output_type": "stream",
     "text": [
      "9600/9600 [==============================] - 21s 2ms/step\n"
     ]
    },
    {
     "data": {
      "text/plain": [
       "<Axes: >"
      ]
     },
     "execution_count": 38,
     "metadata": {},
     "output_type": "execute_result"
    },
    {
     "data": {
      "image/png": "[encoded data removed]",
      "text/plain": [
       "<Figure size 640x480 with 1 Axes>"
      ]
     },
     "metadata": {},
     "output_type": "display_data"
    }
   ],
   "source": [
    "plot_decision_regions(X_train,y_train.values,clf=model)"
   ]
  },
  {
   "cell_type": "code",
   "execution_count": 39,
   "id": "5e611e6c",
   "metadata": {},
   "outputs": [
    {
     "name": "stdout",
     "output_type": "stream",
     "text": [
      "9600/9600 [==============================] - 22s 2ms/step\n"
     ]
    },
    {
     "data": {
      "text/plain": [
       "<Axes: >"
      ]
     },
     "execution_count": 39,
     "metadata": {},
     "output_type": "execute_result"
    },
    {
     "data": {
      "image/png": "[encoded data removed]",
      "text/plain": [
       "<Figure size 640x480 with 1 Axes>"
      ]
     },
     "metadata": {},
     "output_type": "display_data"
    }
   ],
   "source": [
    "plot_decision_regions(X_test,y_test.values,clf=model)"
   ]
  },
  {
   "cell_type": "markdown",
   "id": "67d87881",
   "metadata": {},
   "source": [
    "#### Model summary "
   ]
  },
  {
   "cell_type": "markdown",
   "id": "7a77e451",
   "metadata": {},
   "source": [
    "\n",
    "- This neural network model is showing accuracy of 90 percent\n",
    "- We have used 4 hidden layers.\n",
    "- In the First Hidden layers we have used 20 neurons,activation function as relu and kernel and bias regularizer L2 as 0.001.\n",
    "- In the second hidden layers we have used 18 neurons,activation function as relu and kernel and bias regularizer L2 as 0.001.\n",
    "- In the third hidden layers we have used 8 neurons,activation function as relu and kernel and bias regularizer L2 as 0.001.\n",
    "- In the fourth hidden layers we have used 8 neurons,activation function as relu and kernel and bias regularizer L2 as 0.001\n",
    "- In the output layer we have used sigmoid as the activation function. \n",
    "- For compiling the model we haved loss as binary cross entropy,optimizer as SGD with batch size of 5 with learning rate of 0.01. \n",
    "- No of epochs used for training this model is 50. "
   ]
  },
  {
   "cell_type": "code",
   "execution_count": null,
   "id": "bb44d945",
   "metadata": {},
   "outputs": [],
   "source": []
  }
 ],
 "metadata": {
  "kernelspec": {
   "display_name": "Python 3 (ipykernel)",
   "language": "python",
   "name": "python3"
  },
  "language_info": {
   "codemirror_mode": {
    "name": "ipython",
    "version": 3
   },
   "file_extension": ".py",
   "mimetype": "text/x-python",
   "name": "python",
   "nbconvert_exporter": "python",
   "pygments_lexer": "ipython3",
   "version": "3.11.5"
  }
 },
 "nbformat": 4,
 "nbformat_minor": 5
}
