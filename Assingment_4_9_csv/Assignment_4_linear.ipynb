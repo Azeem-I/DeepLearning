{
 "cells": [
  {
   "cell_type": "markdown",
   "id": "2f04a5d3",
   "metadata": {},
   "source": [
    "#### importing the required libraries "
   ]
  },
  {
   "cell_type": "code",
   "execution_count": 1,
   "id": "b8dae5ad",
   "metadata": {},
   "outputs": [],
   "source": [
    "import pandas as pd\n",
    "import numpy as np \n",
    "import seaborn as sns\n",
    "import matplotlib.pyplot as plt \n",
    "from sklearn.model_selection import train_test_split\n",
    "from sklearn.preprocessing import StandardScaler\n",
    "from keras import Sequential \n",
    "from keras.layers import Dense \n",
    "from keras.optimizers import SGD \n",
    "from keras.regularizers import L2"
   ]
  },
  {
   "cell_type": "markdown",
   "id": "a11131a5",
   "metadata": {},
   "source": [
    "#### importing the dataset "
   ]
  },
  {
   "cell_type": "code",
   "execution_count": 2,
   "id": "a628a788",
   "metadata": {},
   "outputs": [
    {
     "data": {
      "text/html": [
       "<div>\n",
       "<style scoped>\n",
       "    .dataframe tbody tr th:only-of-type {\n",
       "        vertical-align: middle;\n",
       "    }\n",
       "\n",
       "    .dataframe tbody tr th {\n",
       "        vertical-align: top;\n",
       "    }\n",
       "\n",
       "    .dataframe thead th {\n",
       "        text-align: right;\n",
       "    }\n",
       "</style>\n",
       "<table border=\"1\" class=\"dataframe\">\n",
       "  <thead>\n",
       "    <tr style=\"text-align: right;\">\n",
       "      <th></th>\n",
       "      <th>0</th>\n",
       "      <th>1</th>\n",
       "      <th>2</th>\n",
       "    </tr>\n",
       "  </thead>\n",
       "  <tbody>\n",
       "    <tr>\n",
       "      <th>0</th>\n",
       "      <td>-0.177497</td>\n",
       "      <td>0.930496</td>\n",
       "      <td>1.0</td>\n",
       "    </tr>\n",
       "    <tr>\n",
       "      <th>1</th>\n",
       "      <td>1.977424</td>\n",
       "      <td>1.766155</td>\n",
       "      <td>0.0</td>\n",
       "    </tr>\n",
       "    <tr>\n",
       "      <th>2</th>\n",
       "      <td>1.800024</td>\n",
       "      <td>1.700343</td>\n",
       "      <td>0.0</td>\n",
       "    </tr>\n",
       "    <tr>\n",
       "      <th>3</th>\n",
       "      <td>-0.770837</td>\n",
       "      <td>2.359163</td>\n",
       "      <td>1.0</td>\n",
       "    </tr>\n",
       "    <tr>\n",
       "      <th>4</th>\n",
       "      <td>-0.308009</td>\n",
       "      <td>1.594063</td>\n",
       "      <td>1.0</td>\n",
       "    </tr>\n",
       "  </tbody>\n",
       "</table>\n",
       "</div>"
      ],
      "text/plain": [
       "          0         1    2\n",
       "0 -0.177497  0.930496  1.0\n",
       "1  1.977424  1.766155  0.0\n",
       "2  1.800024  1.700343  0.0\n",
       "3 -0.770837  2.359163  1.0\n",
       "4 -0.308009  1.594063  1.0"
      ]
     },
     "execution_count": 2,
     "metadata": {},
     "output_type": "execute_result"
    }
   ],
   "source": [
    "df=pd.read_csv(r\"D:\\edu\\INNO\\Deep_Learning\\Assignments\\data\\Multiple CSV\\Multiple CSV\\4.linearsep.csv\",header=None)\n",
    "df.head()"
   ]
  },
  {
   "cell_type": "code",
   "execution_count": 3,
   "id": "db36fa4c",
   "metadata": {},
   "outputs": [
    {
     "data": {
      "text/html": [
       "<div>\n",
       "<style scoped>\n",
       "    .dataframe tbody tr th:only-of-type {\n",
       "        vertical-align: middle;\n",
       "    }\n",
       "\n",
       "    .dataframe tbody tr th {\n",
       "        vertical-align: top;\n",
       "    }\n",
       "\n",
       "    .dataframe thead th {\n",
       "        text-align: right;\n",
       "    }\n",
       "</style>\n",
       "<table border=\"1\" class=\"dataframe\">\n",
       "  <thead>\n",
       "    <tr style=\"text-align: right;\">\n",
       "      <th></th>\n",
       "      <th>feature_1</th>\n",
       "      <th>feature_2</th>\n",
       "      <th>label</th>\n",
       "    </tr>\n",
       "  </thead>\n",
       "  <tbody>\n",
       "    <tr>\n",
       "      <th>0</th>\n",
       "      <td>-0.177497</td>\n",
       "      <td>0.930496</td>\n",
       "      <td>1.0</td>\n",
       "    </tr>\n",
       "    <tr>\n",
       "      <th>1</th>\n",
       "      <td>1.977424</td>\n",
       "      <td>1.766155</td>\n",
       "      <td>0.0</td>\n",
       "    </tr>\n",
       "    <tr>\n",
       "      <th>2</th>\n",
       "      <td>1.800024</td>\n",
       "      <td>1.700343</td>\n",
       "      <td>0.0</td>\n",
       "    </tr>\n",
       "    <tr>\n",
       "      <th>3</th>\n",
       "      <td>-0.770837</td>\n",
       "      <td>2.359163</td>\n",
       "      <td>1.0</td>\n",
       "    </tr>\n",
       "    <tr>\n",
       "      <th>4</th>\n",
       "      <td>-0.308009</td>\n",
       "      <td>1.594063</td>\n",
       "      <td>1.0</td>\n",
       "    </tr>\n",
       "  </tbody>\n",
       "</table>\n",
       "</div>"
      ],
      "text/plain": [
       "   feature_1  feature_2  label\n",
       "0  -0.177497   0.930496    1.0\n",
       "1   1.977424   1.766155    0.0\n",
       "2   1.800024   1.700343    0.0\n",
       "3  -0.770837   2.359163    1.0\n",
       "4  -0.308009   1.594063    1.0"
      ]
     },
     "execution_count": 3,
     "metadata": {},
     "output_type": "execute_result"
    }
   ],
   "source": [
    "#renaming columns properly\n",
    "df.columns=[\"feature_1\",\"feature_2\",\"label\"] \n",
    "df.head() "
   ]
  },
  {
   "cell_type": "markdown",
   "id": "39b32d39",
   "metadata": {},
   "source": [
    "#### checking label counts "
   ]
  },
  {
   "cell_type": "code",
   "execution_count": 92,
   "id": "1065f1ba",
   "metadata": {},
   "outputs": [
    {
     "data": {
      "text/plain": [
       "label\n",
       "1.0    50\n",
       "0.0    50\n",
       "Name: count, dtype: int64"
      ]
     },
     "execution_count": 92,
     "metadata": {},
     "output_type": "execute_result"
    }
   ],
   "source": [
    "df[\"label\"].value_counts()"
   ]
  },
  {
   "cell_type": "code",
   "execution_count": 95,
   "id": "068270b0",
   "metadata": {},
   "outputs": [
    {
     "data": {
      "text/plain": [
       "<Axes: >"
      ]
     },
     "execution_count": 95,
     "metadata": {},
     "output_type": "execute_result"
    },
    {
     "data": {
      "image/png": "[encoded data removed]",
      "text/plain": [
       "<Figure size 640x480 with 1 Axes>"
      ]
     },
     "metadata": {},
     "output_type": "display_data"
    }
   ],
   "source": [
    "sns.boxplot(df[\"feature_1\"])"
   ]
  },
  {
   "cell_type": "code",
   "execution_count": 96,
   "id": "20e82a72",
   "metadata": {},
   "outputs": [
    {
     "data": {
      "text/plain": [
       "<Axes: >"
      ]
     },
     "execution_count": 96,
     "metadata": {},
     "output_type": "execute_result"
    },
    {
     "data": {
      "image/png": "[encoded data removed]",
      "text/plain": [
       "<Figure size 640x480 with 1 Axes>"
      ]
     },
     "metadata": {},
     "output_type": "display_data"
    }
   ],
   "source": [
    "sns.boxplot(df[\"feature_2\"])"
   ]
  },
  {
   "cell_type": "code",
   "execution_count": 97,
   "id": "6da75d7f",
   "metadata": {},
   "outputs": [],
   "source": [
    "## removing the outlier datapoints\n",
    "df=df[df[\"feature_2\"]<3.75]"
   ]
  },
  {
   "cell_type": "code",
   "execution_count": 98,
   "id": "ea0ddb05",
   "metadata": {},
   "outputs": [
    {
     "name": "stdout",
     "output_type": "stream",
     "text": [
      "<class 'pandas.core.frame.DataFrame'>\n",
      "Index: 99 entries, 0 to 99\n",
      "Data columns (total 3 columns):\n",
      " #   Column     Non-Null Count  Dtype  \n",
      "---  ------     --------------  -----  \n",
      " 0   feature_1  99 non-null     float64\n",
      " 1   feature_2  99 non-null     float64\n",
      " 2   label      99 non-null     float64\n",
      "dtypes: float64(3)\n",
      "memory usage: 3.1 KB\n"
     ]
    }
   ],
   "source": [
    "df.info()"
   ]
  },
  {
   "cell_type": "code",
   "execution_count": 5,
   "id": "da9a427f",
   "metadata": {},
   "outputs": [
    {
     "data": {
      "text/plain": [
       "<Axes: xlabel='feature_1', ylabel='feature_2'>"
      ]
     },
     "execution_count": 5,
     "metadata": {},
     "output_type": "execute_result"
    },
    {
     "data": {
      "image/png": "[encoded data removed]",
      "text/plain": [
       "<Figure size 640x480 with 1 Axes>"
      ]
     },
     "metadata": {},
     "output_type": "display_data"
    }
   ],
   "source": [
    "sns.scatterplot(data=df,x=\"feature_1\",y=\"feature_2\",hue=\"label\") "
   ]
  },
  {
   "cell_type": "markdown",
   "id": "a68ab2e1",
   "metadata": {},
   "source": [
    "#### splitting the data into input and output features as x and y "
   ]
  },
  {
   "cell_type": "code",
   "execution_count": 99,
   "id": "628d53d7",
   "metadata": {},
   "outputs": [],
   "source": [
    "## splitting the data into input and output\n",
    "x=df[[\"feature_1\",\"feature_2\"]]\n",
    "\n",
    "## typecasting label column as int \n",
    "y=df[\"label\"].astype(int)"
   ]
  },
  {
   "cell_type": "code",
   "execution_count": 100,
   "id": "688d96dc",
   "metadata": {},
   "outputs": [
    {
     "data": {
      "text/plain": [
       "0    1\n",
       "1    0\n",
       "2    0\n",
       "3    1\n",
       "4    1\n",
       "Name: label, dtype: int32"
      ]
     },
     "execution_count": 100,
     "metadata": {},
     "output_type": "execute_result"
    }
   ],
   "source": [
    "y.head()"
   ]
  },
  {
   "cell_type": "markdown",
   "id": "beea1124",
   "metadata": {},
   "source": [
    "#### splitting the data into train and test "
   ]
  },
  {
   "cell_type": "code",
   "execution_count": 101,
   "id": "19509f48",
   "metadata": {},
   "outputs": [
    {
     "name": "stdout",
     "output_type": "stream",
     "text": [
      "(89, 2) (89,)\n",
      "(10, 2) (10,)\n"
     ]
    }
   ],
   "source": [
    "X_train,X_test,y_train,y_test=train_test_split(x,y,train_size=0.9)\n",
    "print(X_train.shape,y_train.shape)\n",
    "print(X_test.shape,y_test.shape)"
   ]
  },
  {
   "cell_type": "markdown",
   "id": "b02ff5a9",
   "metadata": {},
   "source": [
    "#### scaling the input features of both X_train,X_test "
   ]
  },
  {
   "cell_type": "code",
   "execution_count": 102,
   "id": "b6124c2d",
   "metadata": {},
   "outputs": [],
   "source": [
    "scalar=StandardScaler()\n",
    "\n",
    "### scaling X_train\n",
    "X_train=scalar.fit_transform(X_train)\n",
    "\n",
    "\n",
    "\n",
    "## scaling X_test \n",
    "X_test=scalar.transform(X_test)"
   ]
  },
  {
   "cell_type": "markdown",
   "id": "b2d9a9d5",
   "metadata": {},
   "source": [
    "#### building the logical structure "
   ]
  },
  {
   "cell_type": "code",
   "execution_count": 115,
   "id": "71a04a3f",
   "metadata": {},
   "outputs": [],
   "source": [
    "model=Sequential()\n",
    "model.add(Dense(6,activation=\"tanh\",input_dim=2))\n",
    "model.add(Dense(3,activation=\"tanh\"))\n",
    "model.add(Dense(1,activation=\"sigmoid\"))\n",
    " "
   ]
  },
  {
   "cell_type": "code",
   "execution_count": 116,
   "id": "bf82275b",
   "metadata": {},
   "outputs": [
    {
     "name": "stdout",
     "output_type": "stream",
     "text": [
      "Model: \"sequential_13\"\n",
      "_________________________________________________________________\n",
      " Layer (type)                Output Shape              Param #   \n",
      "=================================================================\n",
      " dense_30 (Dense)            (None, 6)                 18        \n",
      "                                                                 \n",
      " dense_31 (Dense)            (None, 3)                 21        \n",
      "                                                                 \n",
      " dense_32 (Dense)            (None, 1)                 4         \n",
      "                                                                 \n",
      "=================================================================\n",
      "Total params: 43 (172.00 Byte)\n",
      "Trainable params: 43 (172.00 Byte)\n",
      "Non-trainable params: 0 (0.00 Byte)\n",
      "_________________________________________________________________\n"
     ]
    }
   ],
   "source": [
    "model.summary()"
   ]
  },
  {
   "cell_type": "markdown",
   "id": "dfd76be7",
   "metadata": {},
   "source": [
    "#### compiling the model "
   ]
  },
  {
   "cell_type": "code",
   "execution_count": 117,
   "id": "651f673c",
   "metadata": {},
   "outputs": [
    {
     "name": "stdout",
     "output_type": "stream",
     "text": [
      "Epoch 1/35\n",
      "8/8 [==============================] - 1s 47ms/step - loss: 0.6571 - accuracy: 0.6375 - val_loss: 0.6380 - val_accuracy: 0.6667\n",
      "Epoch 2/35\n",
      "8/8 [==============================] - 0s 11ms/step - loss: 0.6489 - accuracy: 0.7000 - val_loss: 0.6309 - val_accuracy: 0.6667\n",
      "Epoch 3/35\n",
      "8/8 [==============================] - 0s 11ms/step - loss: 0.6403 - accuracy: 0.7375 - val_loss: 0.6237 - val_accuracy: 0.6667\n",
      "Epoch 4/35\n",
      "8/8 [==============================] - 0s 11ms/step - loss: 0.6319 - accuracy: 0.7375 - val_loss: 0.6166 - val_accuracy: 0.6667\n",
      "Epoch 5/35\n",
      "8/8 [==============================] - 0s 10ms/step - loss: 0.6237 - accuracy: 0.7500 - val_loss: 0.6094 - val_accuracy: 0.7778\n",
      "Epoch 6/35\n",
      "8/8 [==============================] - 0s 10ms/step - loss: 0.6154 - accuracy: 0.7875 - val_loss: 0.6022 - val_accuracy: 0.7778\n",
      "Epoch 7/35\n",
      "8/8 [==============================] - 0s 10ms/step - loss: 0.6070 - accuracy: 0.8125 - val_loss: 0.5950 - val_accuracy: 0.8889\n",
      "Epoch 8/35\n",
      "8/8 [==============================] - 0s 10ms/step - loss: 0.5988 - accuracy: 0.8500 - val_loss: 0.5878 - val_accuracy: 0.8889\n",
      "Epoch 9/35\n",
      "8/8 [==============================] - 0s 11ms/step - loss: 0.5907 - accuracy: 0.8625 - val_loss: 0.5806 - val_accuracy: 0.8889\n",
      "Epoch 10/35\n",
      "8/8 [==============================] - 0s 10ms/step - loss: 0.5823 - accuracy: 0.8750 - val_loss: 0.5734 - val_accuracy: 0.8889\n",
      "Epoch 11/35\n",
      "8/8 [==============================] - 0s 11ms/step - loss: 0.5740 - accuracy: 0.9125 - val_loss: 0.5661 - val_accuracy: 0.8889\n",
      "Epoch 12/35\n",
      "8/8 [==============================] - 0s 10ms/step - loss: 0.5660 - accuracy: 0.9250 - val_loss: 0.5588 - val_accuracy: 1.0000\n",
      "Epoch 13/35\n",
      "8/8 [==============================] - 0s 10ms/step - loss: 0.5578 - accuracy: 0.9250 - val_loss: 0.5516 - val_accuracy: 1.0000\n",
      "Epoch 14/35\n",
      "8/8 [==============================] - 0s 11ms/step - loss: 0.5497 - accuracy: 0.9125 - val_loss: 0.5443 - val_accuracy: 1.0000\n",
      "Epoch 15/35\n",
      "8/8 [==============================] - 0s 12ms/step - loss: 0.5418 - accuracy: 0.9250 - val_loss: 0.5370 - val_accuracy: 1.0000\n",
      "Epoch 16/35\n",
      "8/8 [==============================] - 0s 11ms/step - loss: 0.5340 - accuracy: 0.9375 - val_loss: 0.5298 - val_accuracy: 0.8889\n",
      "Epoch 17/35\n",
      "8/8 [==============================] - 0s 12ms/step - loss: 0.5262 - accuracy: 0.9375 - val_loss: 0.5226 - val_accuracy: 0.8889\n",
      "Epoch 18/35\n",
      "8/8 [==============================] - 0s 12ms/step - loss: 0.5183 - accuracy: 0.9375 - val_loss: 0.5153 - val_accuracy: 0.8889\n",
      "Epoch 19/35\n",
      "8/8 [==============================] - 0s 10ms/step - loss: 0.5108 - accuracy: 0.9375 - val_loss: 0.5082 - val_accuracy: 0.8889\n",
      "Epoch 20/35\n",
      "8/8 [==============================] - 0s 9ms/step - loss: 0.5031 - accuracy: 0.9375 - val_loss: 0.5010 - val_accuracy: 0.8889\n",
      "Epoch 21/35\n",
      "8/8 [==============================] - 0s 9ms/step - loss: 0.4956 - accuracy: 0.9375 - val_loss: 0.4939 - val_accuracy: 0.8889\n",
      "Epoch 22/35\n",
      "8/8 [==============================] - 0s 9ms/step - loss: 0.4882 - accuracy: 0.9375 - val_loss: 0.4868 - val_accuracy: 0.8889\n",
      "Epoch 23/35\n",
      "8/8 [==============================] - 0s 10ms/step - loss: 0.4808 - accuracy: 0.9250 - val_loss: 0.4798 - val_accuracy: 0.8889\n",
      "Epoch 24/35\n",
      "8/8 [==============================] - 0s 9ms/step - loss: 0.4737 - accuracy: 0.9250 - val_loss: 0.4728 - val_accuracy: 0.8889\n",
      "Epoch 25/35\n",
      "8/8 [==============================] - 0s 9ms/step - loss: 0.4667 - accuracy: 0.9250 - val_loss: 0.4659 - val_accuracy: 0.8889\n",
      "Epoch 26/35\n",
      "8/8 [==============================] - 0s 10ms/step - loss: 0.4595 - accuracy: 0.9250 - val_loss: 0.4590 - val_accuracy: 0.8889\n",
      "Epoch 27/35\n",
      "8/8 [==============================] - 0s 10ms/step - loss: 0.4527 - accuracy: 0.9250 - val_loss: 0.4522 - val_accuracy: 0.8889\n",
      "Epoch 28/35\n",
      "8/8 [==============================] - 0s 9ms/step - loss: 0.4458 - accuracy: 0.9250 - val_loss: 0.4455 - val_accuracy: 0.8889\n",
      "Epoch 29/35\n",
      "8/8 [==============================] - 0s 9ms/step - loss: 0.4391 - accuracy: 0.9250 - val_loss: 0.4388 - val_accuracy: 0.8889\n",
      "Epoch 30/35\n",
      "8/8 [==============================] - 0s 9ms/step - loss: 0.4326 - accuracy: 0.9250 - val_loss: 0.4322 - val_accuracy: 0.8889\n",
      "Epoch 31/35\n",
      "8/8 [==============================] - 0s 9ms/step - loss: 0.4262 - accuracy: 0.9250 - val_loss: 0.4257 - val_accuracy: 0.8889\n",
      "Epoch 32/35\n",
      "8/8 [==============================] - 0s 9ms/step - loss: 0.4196 - accuracy: 0.9250 - val_loss: 0.4192 - val_accuracy: 0.8889\n",
      "Epoch 33/35\n",
      "8/8 [==============================] - 0s 8ms/step - loss: 0.4134 - accuracy: 0.9250 - val_loss: 0.4128 - val_accuracy: 0.8889\n",
      "Epoch 34/35\n",
      "8/8 [==============================] - 0s 9ms/step - loss: 0.4071 - accuracy: 0.9250 - val_loss: 0.4066 - val_accuracy: 0.8889\n",
      "Epoch 35/35\n",
      "8/8 [==============================] - 0s 9ms/step - loss: 0.4013 - accuracy: 0.9250 - val_loss: 0.4004 - val_accuracy: 0.8889\n"
     ]
    }
   ],
   "source": [
    "model.compile(loss=\"binary_crossentropy\",optimizer=SGD(0.01),metrics=[\"accuracy\"])\n",
    "history=model.fit(X_train,y_train,batch_size=10,epochs=35,validation_split=0.1)"
   ]
  },
  {
   "cell_type": "markdown",
   "id": "2d28dd8d",
   "metadata": {},
   "source": [
    "#### plotting the train test loss "
   ]
  },
  {
   "cell_type": "code",
   "execution_count": 118,
   "id": "f263ad9c",
   "metadata": {},
   "outputs": [
    {
     "data": {
      "text/plain": [
       "<matplotlib.legend.Legend at 0x20b167de490>"
      ]
     },
     "execution_count": 118,
     "metadata": {},
     "output_type": "execute_result"
    },
    {
     "data": {
      "image/png": "[encoded data removed]",
      "text/plain": [
       "<Figure size 640x480 with 1 Axes>"
      ]
     },
     "metadata": {},
     "output_type": "display_data"
    }
   ],
   "source": [
    "plt.plot(range(1,36),history.history[\"loss\"],label=\"train_loss\")\n",
    "plt.plot(range(1,36),history.history[\"val_loss\"],label=\"test_loss\") \n",
    "plt.legend() "
   ]
  },
  {
   "cell_type": "markdown",
   "id": "9c1aadd1",
   "metadata": {},
   "source": [
    "#### finding the predicted values using model "
   ]
  },
  {
   "cell_type": "code",
   "execution_count": 119,
   "id": "add6978b",
   "metadata": {},
   "outputs": [
    {
     "name": "stdout",
     "output_type": "stream",
     "text": [
      "1/1 [==============================] - 0s 117ms/step\n"
     ]
    },
    {
     "data": {
      "text/plain": [
       "array([[0.26449305],\n",
       "       [0.58254397],\n",
       "       [0.29340333],\n",
       "       [0.2947966 ],\n",
       "       [0.50181186],\n",
       "       [0.36244613],\n",
       "       [0.2716938 ],\n",
       "       [0.30384675],\n",
       "       [0.36578268],\n",
       "       [0.79254484]], dtype=float32)"
      ]
     },
     "execution_count": 119,
     "metadata": {},
     "output_type": "execute_result"
    }
   ],
   "source": [
    "predicted=model.predict(X_test)\n",
    "predicted"
   ]
  },
  {
   "cell_type": "markdown",
   "id": "f08b27ba",
   "metadata": {},
   "source": [
    "#### converting the predicted probablities to the respective labels"
   ]
  },
  {
   "cell_type": "code",
   "execution_count": 120,
   "id": "d7eaf5ba",
   "metadata": {},
   "outputs": [
    {
     "data": {
      "text/plain": [
       "array([[0],\n",
       "       [1],\n",
       "       [0],\n",
       "       [0],\n",
       "       [1],\n",
       "       [0],\n",
       "       [0],\n",
       "       [0],\n",
       "       [0],\n",
       "       [1]])"
      ]
     },
     "execution_count": 120,
     "metadata": {},
     "output_type": "execute_result"
    }
   ],
   "source": [
    "predicted=np.where(predicted>0.5,1,0)\n",
    "predicted "
   ]
  },
  {
   "cell_type": "markdown",
   "id": "4db37da4",
   "metadata": {},
   "source": [
    "#### evaluating the model "
   ]
  },
  {
   "cell_type": "code",
   "execution_count": 121,
   "id": "4d827e0b",
   "metadata": {},
   "outputs": [
    {
     "name": "stdout",
     "output_type": "stream",
     "text": [
      "1.0\n"
     ]
    },
    {
     "data": {
      "image/png": "[encoded data removed]",
      "text/plain": [
       "<Figure size 640x480 with 2 Axes>"
      ]
     },
     "metadata": {},
     "output_type": "display_data"
    }
   ],
   "source": [
    "from sklearn.metrics import accuracy_score,confusion_matrix,ConfusionMatrixDisplay\n",
    "print(accuracy_score(y_test,predicted))\n",
    "cm=confusion_matrix(y_test,predicted)\n",
    "va=ConfusionMatrixDisplay(cm)\n",
    "va.plot() \n",
    "plt.show() "
   ]
  },
  {
   "cell_type": "markdown",
   "id": "1bae5c30",
   "metadata": {},
   "source": [
    "#### creating the decision surface "
   ]
  },
  {
   "cell_type": "code",
   "execution_count": 122,
   "id": "e80bcf3d",
   "metadata": {},
   "outputs": [],
   "source": [
    "from mlxtend.plotting  import plot_decision_regions\n"
   ]
  },
  {
   "cell_type": "code",
   "execution_count": 123,
   "id": "0c8eeb68",
   "metadata": {},
   "outputs": [
    {
     "name": "stdout",
     "output_type": "stream",
     "text": [
      "9600/9600 [==============================] - 18s 2ms/step\n"
     ]
    },
    {
     "data": {
      "text/plain": [
       "<Axes: >"
      ]
     },
     "execution_count": 123,
     "metadata": {},
     "output_type": "execute_result"
    },
    {
     "data": {
      "image/png": "[encoded data removed]",
      "text/plain": [
       "<Figure size 640x480 with 1 Axes>"
      ]
     },
     "metadata": {},
     "output_type": "display_data"
    }
   ],
   "source": [
    "plot_decision_regions(X_train,y_train.values,clf=model)"
   ]
  },
  {
   "cell_type": "code",
   "execution_count": 124,
   "id": "39403ba9",
   "metadata": {},
   "outputs": [
    {
     "name": "stdout",
     "output_type": "stream",
     "text": [
      "9600/9600 [==============================] - 20s 2ms/step\n"
     ]
    },
    {
     "data": {
      "text/plain": [
       "<Axes: >"
      ]
     },
     "execution_count": 124,
     "metadata": {},
     "output_type": "execute_result"
    },
    {
     "data": {
      "image/png": "[encoded data removed]",
      "text/plain": [
       "<Figure size 640x480 with 1 Axes>"
      ]
     },
     "metadata": {},
     "output_type": "display_data"
    }
   ],
   "source": [
    "#for test data \n",
    "plot_decision_regions(X_test,y_test.values,clf=model)"
   ]
  },
  {
   "cell_type": "markdown",
   "id": "cfc71ac9",
   "metadata": {},
   "source": [
    "#### Model Summary "
   ]
  },
  {
   "cell_type": "markdown",
   "id": "7fe81e1f",
   "metadata": {},
   "source": [
    "\n",
    "- This neural network model is showing accuracy of 100 percent\n",
    "- We have used 2 hidden layers.\n",
    "- In the First Hidden layers we have used 6 neurons and activation function as tanh.\n",
    "- In the second hidden layers we have used 3 neurons and activation function as tanh.\n",
    "- In the output layer we have used sigmoid as the activation function. \n",
    "- For compiling the model we haved loss as binary cross entropy,optimizer as SGD with batch size of 10 with learning rate of 0.01. \n",
    "- No of epochs used for training this model is 35."
   ]
  },
  {
   "cell_type": "code",
   "execution_count": null,
   "id": "aca0047b",
   "metadata": {},
   "outputs": [],
   "source": []
  }
 ],
 "metadata": {
  "kernelspec": {
   "display_name": "Python 3 (ipykernel)",
   "language": "python",
   "name": "python3"
  },
  "language_info": {
   "codemirror_mode": {
    "name": "ipython",
    "version": 3
   },
   "file_extension": ".py",
   "mimetype": "text/x-python",
   "name": "python",
   "nbconvert_exporter": "python",
   "pygments_lexer": "ipython3",
   "version": "3.11.5"
  }
 },
 "nbformat": 4,
 "nbformat_minor": 5
}
