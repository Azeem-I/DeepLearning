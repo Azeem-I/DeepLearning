{
 "cells": [
  {
   "cell_type": "code",
   "execution_count": 1,
   "metadata": {
    "_cell_guid": "b1076dfc-b9ad-4769-8c92-a6c4dae69d19",
    "_uuid": "8f2839f25d086af736a60e9eeb907d3b93b6e0e5",
    "execution": {
     "iopub.execute_input": "2023-11-21T16:43:05.490431Z",
     "iopub.status.busy": "2023-11-21T16:43:05.490081Z",
     "iopub.status.idle": "2023-11-21T16:43:05.958547Z",
     "shell.execute_reply": "2023-11-21T16:43:05.957578Z",
     "shell.execute_reply.started": "2023-11-21T16:43:05.490402Z"
    }
   },
   "outputs": [
    {
     "name": "stdout",
     "output_type": "stream",
     "text": [
      "/kaggle/input/age-detection-human-faces-18-60-years/age_detection.csv\n",
      "/kaggle/input/age-detection-human-faces-18-60-years/test/51-60/29.jpg\n",
      "/kaggle/input/age-detection-human-faces-18-60-years/test/51-60/28.jpg\n",
      "/kaggle/input/age-detection-human-faces-18-60-years/test/51-60/26.jpg\n",
      "/kaggle/input/age-detection-human-faces-18-60-years/test/51-60/27.jpg\n",
      "/kaggle/input/age-detection-human-faces-18-60-years/test/51-60/25.jpg\n",
      "/kaggle/input/age-detection-human-faces-18-60-years/test/31-40/29.jpg\n",
      "/kaggle/input/age-detection-human-faces-18-60-years/test/31-40/28.jpg\n",
      "/kaggle/input/age-detection-human-faces-18-60-years/test/31-40/26.jpg\n",
      "/kaggle/input/age-detection-human-faces-18-60-years/test/31-40/27.jpg\n",
      "/kaggle/input/age-detection-human-faces-18-60-years/test/31-40/25.jpg\n",
      "/kaggle/input/age-detection-human-faces-18-60-years/test/21-30/29.jpg\n",
      "/kaggle/input/age-detection-human-faces-18-60-years/test/21-30/28.jpg\n",
      "/kaggle/input/age-detection-human-faces-18-60-years/test/21-30/26.jpg\n",
      "/kaggle/input/age-detection-human-faces-18-60-years/test/21-30/27.jpg\n",
      "/kaggle/input/age-detection-human-faces-18-60-years/test/21-30/25.jpg\n",
      "/kaggle/input/age-detection-human-faces-18-60-years/test/18-20/29.jpg\n",
      "/kaggle/input/age-detection-human-faces-18-60-years/test/18-20/28.jpg\n",
      "/kaggle/input/age-detection-human-faces-18-60-years/test/18-20/26.jpg\n",
      "/kaggle/input/age-detection-human-faces-18-60-years/test/18-20/27.jpg\n",
      "/kaggle/input/age-detection-human-faces-18-60-years/test/18-20/25.jpg\n",
      "/kaggle/input/age-detection-human-faces-18-60-years/test/41-50/29.jpg\n",
      "/kaggle/input/age-detection-human-faces-18-60-years/test/41-50/28.jpg\n",
      "/kaggle/input/age-detection-human-faces-18-60-years/test/41-50/26.jpg\n",
      "/kaggle/input/age-detection-human-faces-18-60-years/test/41-50/27.jpg\n",
      "/kaggle/input/age-detection-human-faces-18-60-years/test/41-50/25.jpg\n",
      "/kaggle/input/age-detection-human-faces-18-60-years/train/51-60/20.jpg\n",
      "/kaggle/input/age-detection-human-faces-18-60-years/train/51-60/6.jpg\n",
      "/kaggle/input/age-detection-human-faces-18-60-years/train/51-60/5.jpg\n",
      "/kaggle/input/age-detection-human-faces-18-60-years/train/51-60/8.jpg\n",
      "/kaggle/input/age-detection-human-faces-18-60-years/train/51-60/10.jpg\n",
      "/kaggle/input/age-detection-human-faces-18-60-years/train/51-60/0.jpg\n",
      "/kaggle/input/age-detection-human-faces-18-60-years/train/51-60/9.jpg\n",
      "/kaggle/input/age-detection-human-faces-18-60-years/train/51-60/1.jpg\n",
      "/kaggle/input/age-detection-human-faces-18-60-years/train/51-60/16.jpg\n",
      "/kaggle/input/age-detection-human-faces-18-60-years/train/51-60/23.jpg\n",
      "/kaggle/input/age-detection-human-faces-18-60-years/train/51-60/7.jpg\n",
      "/kaggle/input/age-detection-human-faces-18-60-years/train/51-60/22.jpg\n",
      "/kaggle/input/age-detection-human-faces-18-60-years/train/51-60/24.jpg\n",
      "/kaggle/input/age-detection-human-faces-18-60-years/train/51-60/13.jpg\n",
      "/kaggle/input/age-detection-human-faces-18-60-years/train/51-60/17.jpg\n",
      "/kaggle/input/age-detection-human-faces-18-60-years/train/51-60/15.jpg\n",
      "/kaggle/input/age-detection-human-faces-18-60-years/train/51-60/12.jpg\n",
      "/kaggle/input/age-detection-human-faces-18-60-years/train/51-60/11.jpg\n",
      "/kaggle/input/age-detection-human-faces-18-60-years/train/51-60/21.jpg\n",
      "/kaggle/input/age-detection-human-faces-18-60-years/train/51-60/4.jpg\n",
      "/kaggle/input/age-detection-human-faces-18-60-years/train/51-60/3.jpg\n",
      "/kaggle/input/age-detection-human-faces-18-60-years/train/51-60/19.jpg\n",
      "/kaggle/input/age-detection-human-faces-18-60-years/train/51-60/14.jpg\n",
      "/kaggle/input/age-detection-human-faces-18-60-years/train/51-60/18.jpg\n",
      "/kaggle/input/age-detection-human-faces-18-60-years/train/51-60/2.jpg\n",
      "/kaggle/input/age-detection-human-faces-18-60-years/train/31-40/20.jpg\n",
      "/kaggle/input/age-detection-human-faces-18-60-years/train/31-40/6.jpg\n",
      "/kaggle/input/age-detection-human-faces-18-60-years/train/31-40/5.jpg\n",
      "/kaggle/input/age-detection-human-faces-18-60-years/train/31-40/8.jpg\n",
      "/kaggle/input/age-detection-human-faces-18-60-years/train/31-40/10.jpg\n",
      "/kaggle/input/age-detection-human-faces-18-60-years/train/31-40/0.jpg\n",
      "/kaggle/input/age-detection-human-faces-18-60-years/train/31-40/9.jpg\n",
      "/kaggle/input/age-detection-human-faces-18-60-years/train/31-40/1.jpg\n",
      "/kaggle/input/age-detection-human-faces-18-60-years/train/31-40/16.jpg\n",
      "/kaggle/input/age-detection-human-faces-18-60-years/train/31-40/23.jpg\n",
      "/kaggle/input/age-detection-human-faces-18-60-years/train/31-40/7.jpg\n",
      "/kaggle/input/age-detection-human-faces-18-60-years/train/31-40/22.jpg\n",
      "/kaggle/input/age-detection-human-faces-18-60-years/train/31-40/24.jpg\n",
      "/kaggle/input/age-detection-human-faces-18-60-years/train/31-40/13.jpg\n",
      "/kaggle/input/age-detection-human-faces-18-60-years/train/31-40/17.jpg\n",
      "/kaggle/input/age-detection-human-faces-18-60-years/train/31-40/15.jpg\n",
      "/kaggle/input/age-detection-human-faces-18-60-years/train/31-40/12.jpg\n",
      "/kaggle/input/age-detection-human-faces-18-60-years/train/31-40/11.jpg\n",
      "/kaggle/input/age-detection-human-faces-18-60-years/train/31-40/21.jpg\n",
      "/kaggle/input/age-detection-human-faces-18-60-years/train/31-40/4.jpg\n",
      "/kaggle/input/age-detection-human-faces-18-60-years/train/31-40/3.jpg\n",
      "/kaggle/input/age-detection-human-faces-18-60-years/train/31-40/19.jpg\n",
      "/kaggle/input/age-detection-human-faces-18-60-years/train/31-40/14.jpg\n",
      "/kaggle/input/age-detection-human-faces-18-60-years/train/31-40/18.jpg\n",
      "/kaggle/input/age-detection-human-faces-18-60-years/train/31-40/2.jpg\n",
      "/kaggle/input/age-detection-human-faces-18-60-years/train/21-30/20.jpg\n",
      "/kaggle/input/age-detection-human-faces-18-60-years/train/21-30/6.jpg\n",
      "/kaggle/input/age-detection-human-faces-18-60-years/train/21-30/5.jpg\n",
      "/kaggle/input/age-detection-human-faces-18-60-years/train/21-30/8.jpg\n",
      "/kaggle/input/age-detection-human-faces-18-60-years/train/21-30/10.jpg\n",
      "/kaggle/input/age-detection-human-faces-18-60-years/train/21-30/0.jpg\n",
      "/kaggle/input/age-detection-human-faces-18-60-years/train/21-30/9.jpg\n",
      "/kaggle/input/age-detection-human-faces-18-60-years/train/21-30/1.jpg\n",
      "/kaggle/input/age-detection-human-faces-18-60-years/train/21-30/16.jpg\n",
      "/kaggle/input/age-detection-human-faces-18-60-years/train/21-30/23.jpg\n",
      "/kaggle/input/age-detection-human-faces-18-60-years/train/21-30/7.jpg\n",
      "/kaggle/input/age-detection-human-faces-18-60-years/train/21-30/22.jpg\n",
      "/kaggle/input/age-detection-human-faces-18-60-years/train/21-30/24.jpg\n",
      "/kaggle/input/age-detection-human-faces-18-60-years/train/21-30/13.jpg\n",
      "/kaggle/input/age-detection-human-faces-18-60-years/train/21-30/17.jpg\n",
      "/kaggle/input/age-detection-human-faces-18-60-years/train/21-30/15.jpg\n",
      "/kaggle/input/age-detection-human-faces-18-60-years/train/21-30/12.jpg\n",
      "/kaggle/input/age-detection-human-faces-18-60-years/train/21-30/11.jpg\n",
      "/kaggle/input/age-detection-human-faces-18-60-years/train/21-30/21.jpg\n",
      "/kaggle/input/age-detection-human-faces-18-60-years/train/21-30/4.jpg\n",
      "/kaggle/input/age-detection-human-faces-18-60-years/train/21-30/3.jpg\n",
      "/kaggle/input/age-detection-human-faces-18-60-years/train/21-30/19.jpg\n",
      "/kaggle/input/age-detection-human-faces-18-60-years/train/21-30/14.jpg\n",
      "/kaggle/input/age-detection-human-faces-18-60-years/train/21-30/18.jpg\n",
      "/kaggle/input/age-detection-human-faces-18-60-years/train/21-30/2.jpg\n",
      "/kaggle/input/age-detection-human-faces-18-60-years/train/18-20/20.jpg\n",
      "/kaggle/input/age-detection-human-faces-18-60-years/train/18-20/6.jpg\n",
      "/kaggle/input/age-detection-human-faces-18-60-years/train/18-20/5.jpg\n",
      "/kaggle/input/age-detection-human-faces-18-60-years/train/18-20/8.jpg\n",
      "/kaggle/input/age-detection-human-faces-18-60-years/train/18-20/10.jpg\n",
      "/kaggle/input/age-detection-human-faces-18-60-years/train/18-20/0.jpg\n",
      "/kaggle/input/age-detection-human-faces-18-60-years/train/18-20/9.jpg\n",
      "/kaggle/input/age-detection-human-faces-18-60-years/train/18-20/1.jpg\n",
      "/kaggle/input/age-detection-human-faces-18-60-years/train/18-20/16.jpg\n",
      "/kaggle/input/age-detection-human-faces-18-60-years/train/18-20/23.jpg\n",
      "/kaggle/input/age-detection-human-faces-18-60-years/train/18-20/7.jpg\n",
      "/kaggle/input/age-detection-human-faces-18-60-years/train/18-20/22.jpg\n",
      "/kaggle/input/age-detection-human-faces-18-60-years/train/18-20/24.jpg\n",
      "/kaggle/input/age-detection-human-faces-18-60-years/train/18-20/13.jpg\n",
      "/kaggle/input/age-detection-human-faces-18-60-years/train/18-20/17.jpg\n",
      "/kaggle/input/age-detection-human-faces-18-60-years/train/18-20/15.jpg\n",
      "/kaggle/input/age-detection-human-faces-18-60-years/train/18-20/12.jpg\n",
      "/kaggle/input/age-detection-human-faces-18-60-years/train/18-20/11.jpg\n",
      "/kaggle/input/age-detection-human-faces-18-60-years/train/18-20/21.jpg\n",
      "/kaggle/input/age-detection-human-faces-18-60-years/train/18-20/4.jpg\n",
      "/kaggle/input/age-detection-human-faces-18-60-years/train/18-20/3.jpg\n",
      "/kaggle/input/age-detection-human-faces-18-60-years/train/18-20/19.jpg\n",
      "/kaggle/input/age-detection-human-faces-18-60-years/train/18-20/14.jpg\n",
      "/kaggle/input/age-detection-human-faces-18-60-years/train/18-20/18.jpg\n",
      "/kaggle/input/age-detection-human-faces-18-60-years/train/18-20/2.jpg\n",
      "/kaggle/input/age-detection-human-faces-18-60-years/train/41-50/20.jpg\n",
      "/kaggle/input/age-detection-human-faces-18-60-years/train/41-50/6.jpg\n",
      "/kaggle/input/age-detection-human-faces-18-60-years/train/41-50/5.jpg\n",
      "/kaggle/input/age-detection-human-faces-18-60-years/train/41-50/8.jpg\n",
      "/kaggle/input/age-detection-human-faces-18-60-years/train/41-50/10.jpg\n",
      "/kaggle/input/age-detection-human-faces-18-60-years/train/41-50/0.jpg\n",
      "/kaggle/input/age-detection-human-faces-18-60-years/train/41-50/9.jpg\n",
      "/kaggle/input/age-detection-human-faces-18-60-years/train/41-50/1.jpg\n",
      "/kaggle/input/age-detection-human-faces-18-60-years/train/41-50/16.jpg\n",
      "/kaggle/input/age-detection-human-faces-18-60-years/train/41-50/23.jpg\n",
      "/kaggle/input/age-detection-human-faces-18-60-years/train/41-50/7.jpg\n",
      "/kaggle/input/age-detection-human-faces-18-60-years/train/41-50/22.jpg\n",
      "/kaggle/input/age-detection-human-faces-18-60-years/train/41-50/24.jpg\n",
      "/kaggle/input/age-detection-human-faces-18-60-years/train/41-50/13.jpg\n",
      "/kaggle/input/age-detection-human-faces-18-60-years/train/41-50/17.jpg\n",
      "/kaggle/input/age-detection-human-faces-18-60-years/train/41-50/15.jpg\n",
      "/kaggle/input/age-detection-human-faces-18-60-years/train/41-50/12.jpg\n",
      "/kaggle/input/age-detection-human-faces-18-60-years/train/41-50/11.jpg\n",
      "/kaggle/input/age-detection-human-faces-18-60-years/train/41-50/21.jpg\n",
      "/kaggle/input/age-detection-human-faces-18-60-years/train/41-50/4.jpg\n",
      "/kaggle/input/age-detection-human-faces-18-60-years/train/41-50/3.jpg\n",
      "/kaggle/input/age-detection-human-faces-18-60-years/train/41-50/19.jpg\n",
      "/kaggle/input/age-detection-human-faces-18-60-years/train/41-50/14.jpg\n",
      "/kaggle/input/age-detection-human-faces-18-60-years/train/41-50/18.jpg\n",
      "/kaggle/input/age-detection-human-faces-18-60-years/train/41-50/2.jpg\n"
     ]
    }
   ],
   "source": [
    "# This Python 3 environment comes with many helpful analytics libraries installed\n",
    "# It is defined by the kaggle/python Docker image: https://github.com/kaggle/docker-python\n",
    "# For example, here's several helpful packages to load\n",
    "\n",
    "import numpy as np # linear algebra\n",
    "import pandas as pd # data processing, CSV file I/O (e.g. pd.read_csv)\n",
    "\n",
    "# Input data files are available in the read-only \"../input/\" directory\n",
    "# For example, running this (by clicking run or pressing Shift+Enter) will list all files under the input directory\n",
    "\n",
    "import os\n",
    "for dirname, _, filenames in os.walk('/kaggle/input'):\n",
    "    for filename in filenames:\n",
    "        print(os.path.join(dirname, filename))\n",
    "\n",
    "# You can write up to 20GB to the current directory (/kaggle/working/) that gets preserved as output when you create a version using \"Save & Run All\" \n",
    "# You can also write temporary files to /kaggle/temp/, but they won't be saved outside of the current session"
   ]
  },
  {
   "cell_type": "markdown",
   "metadata": {},
   "source": [
    "### IMPORTING IMPORTANT LIBRARIES"
   ]
  },
  {
   "cell_type": "code",
   "execution_count": 20,
   "metadata": {
    "execution": {
     "iopub.execute_input": "2023-11-21T17:12:56.338982Z",
     "iopub.status.busy": "2023-11-21T17:12:56.338087Z",
     "iopub.status.idle": "2023-11-21T17:12:56.344243Z",
     "shell.execute_reply": "2023-11-21T17:12:56.343272Z",
     "shell.execute_reply.started": "2023-11-21T17:12:56.338946Z"
    }
   },
   "outputs": [],
   "source": [
    "import matplotlib.pyplot as plt\n",
    "import tensorflow \n",
    "import keras\n",
    "from keras.models import Sequential,Model \n",
    "from keras.layers import Conv2D,Dense,Input,MaxPooling2D,Flatten,BatchNormalization,Dropout\n",
    "from keras.preprocessing.image import ImageDataGenerator \n",
    "from keras.callbacks import EarlyStopping\n",
    "import keras_tuner as k"
   ]
  },
  {
   "cell_type": "code",
   "execution_count": null,
   "metadata": {},
   "outputs": [],
   "source": []
  },
  {
   "cell_type": "code",
   "execution_count": 21,
   "metadata": {
    "execution": {
     "iopub.execute_input": "2023-11-21T17:13:03.578379Z",
     "iopub.status.busy": "2023-11-21T17:13:03.577730Z",
     "iopub.status.idle": "2023-11-21T17:13:03.583886Z",
     "shell.execute_reply": "2023-11-21T17:13:03.582751Z",
     "shell.execute_reply.started": "2023-11-21T17:13:03.578344Z"
    }
   },
   "outputs": [],
   "source": [
    "### CREATING IMAGE DATA GENERATOR \n",
    "train=ImageDataGenerator(rotation_range=90,horizontal_flip=True,width_shift_range=0.5,\n",
    "    height_shift_range=0.5,shear_range=0.4,\n",
    "    zoom_range=0.5,rescale=1./255)\n",
    "valid=ImageDataGenerator(rescale=1./255) "
   ]
  },
  {
   "cell_type": "code",
   "execution_count": 22,
   "metadata": {
    "execution": {
     "iopub.execute_input": "2023-11-21T17:13:07.615995Z",
     "iopub.status.busy": "2023-11-21T17:13:07.615630Z",
     "iopub.status.idle": "2023-11-21T17:13:07.641566Z",
     "shell.execute_reply": "2023-11-21T17:13:07.640791Z",
     "shell.execute_reply.started": "2023-11-21T17:13:07.615967Z"
    }
   },
   "outputs": [
    {
     "name": "stdout",
     "output_type": "stream",
     "text": [
      "Found 125 images belonging to 5 classes.\n"
     ]
    }
   ],
   "source": [
    "traing=train.flow_from_directory('/kaggle/input/age-detection-human-faces-18-60-years/train',\n",
    "                                target_size=(224,224),class_mode=\"sparse\",\n",
    "                                batch_size=8)"
   ]
  },
  {
   "cell_type": "code",
   "execution_count": 23,
   "metadata": {
    "execution": {
     "iopub.execute_input": "2023-11-21T17:13:10.643167Z",
     "iopub.status.busy": "2023-11-21T17:13:10.642791Z",
     "iopub.status.idle": "2023-11-21T17:13:10.660837Z",
     "shell.execute_reply": "2023-11-21T17:13:10.659937Z",
     "shell.execute_reply.started": "2023-11-21T17:13:10.643135Z"
    }
   },
   "outputs": [
    {
     "name": "stdout",
     "output_type": "stream",
     "text": [
      "Found 25 images belonging to 5 classes.\n"
     ]
    }
   ],
   "source": [
    "validg=train.flow_from_directory('/kaggle/input/age-detection-human-faces-18-60-years/test',\n",
    "                                target_size=(224,224),class_mode=\"sparse\",\n",
    "                                batch_size=8)"
   ]
  },
  {
   "cell_type": "markdown",
   "metadata": {},
   "source": [
    "### CREATING OUR MODEL FROM SCRATCH AND FINDING THE BEST MODEL WITH THE HELP OF KERAS TUNER "
   ]
  },
  {
   "cell_type": "code",
   "execution_count": 24,
   "metadata": {
    "execution": {
     "iopub.execute_input": "2023-11-21T17:13:15.249114Z",
     "iopub.status.busy": "2023-11-21T17:13:15.248717Z",
     "iopub.status.idle": "2023-11-21T17:13:15.258333Z",
     "shell.execute_reply": "2023-11-21T17:13:15.257113Z",
     "shell.execute_reply.started": "2023-11-21T17:13:15.249082Z"
    }
   },
   "outputs": [],
   "source": [
    "def create_model(hp):\n",
    "    model=Sequential()\n",
    "    for i in range(hp.Int(\"conv and max pool\",min_value=2,max_value=8,step=2)):\n",
    "        model.add(Conv2D(filters=14,kernel_size=(3,3),padding=\"same\"))\n",
    "        model.add(MaxPooling2D(pool_size=(2,2),strides=1,padding=\"valid\"))\n",
    "    model.add(Flatten())\n",
    "    model.add(Dense(100,activation=\"relu\"))\n",
    "    model.add(BatchNormalization())\n",
    "    model.add(Dense(50,activation=\"relu\"))\n",
    "    model.add(Dropout(rate=0.3))\n",
    "    model.add(Dense(units=5,activation=\"softmax\"))\n",
    "    model.compile(optimizer=\"adam\",loss=\"sparse_categorical_crossentropy\",metrics=[\"accuracy\"])\n",
    "    return model "
   ]
  },
  {
   "cell_type": "code",
   "execution_count": 25,
   "metadata": {
    "execution": {
     "iopub.execute_input": "2023-11-21T17:13:18.117142Z",
     "iopub.status.busy": "2023-11-21T17:13:18.116062Z",
     "iopub.status.idle": "2023-11-21T17:13:18.125284Z",
     "shell.execute_reply": "2023-11-21T17:13:18.124464Z",
     "shell.execute_reply.started": "2023-11-21T17:13:18.117102Z"
    }
   },
   "outputs": [],
   "source": [
    "tuner=k.RandomSearch(hypermodel=create_model,objective=\"val_accuracy\",max_trials=3,\n",
    "                     directory='/kaggle/working/tuned_model/',project_name=\"m4\")"
   ]
  },
  {
   "cell_type": "code",
   "execution_count": 27,
   "metadata": {
    "execution": {
     "iopub.execute_input": "2023-11-21T17:13:27.861170Z",
     "iopub.status.busy": "2023-11-21T17:13:27.860526Z",
     "iopub.status.idle": "2023-11-21T17:13:27.865839Z",
     "shell.execute_reply": "2023-11-21T17:13:27.864913Z",
     "shell.execute_reply.started": "2023-11-21T17:13:27.861138Z"
    }
   },
   "outputs": [],
   "source": [
    "tuner.search(traing,epochs=10,steps_per_epoch=125//8,validation_data=validg,validation_steps=25//8)"
   ]
  },
  {
   "cell_type": "code",
   "execution_count": 28,
   "metadata": {
    "execution": {
     "iopub.execute_input": "2023-11-21T17:13:31.614747Z",
     "iopub.status.busy": "2023-11-21T17:13:31.613779Z",
     "iopub.status.idle": "2023-11-21T17:13:31.619529Z",
     "shell.execute_reply": "2023-11-21T17:13:31.618540Z",
     "shell.execute_reply.started": "2023-11-21T17:13:31.614712Z"
    }
   },
   "outputs": [
    {
     "name": "stdout",
     "output_type": "stream",
     "text": [
      "Search space summary\n",
      "Default search space size: 1\n",
      "conv and max pool (Int)\n",
      "{'default': None, 'conditions': [], 'min_value': 2, 'max_value': 8, 'step': 2, 'sampling': 'linear'}\n"
     ]
    }
   ],
   "source": [
    "tuner.search_space_summary()"
   ]
  },
  {
   "cell_type": "code",
   "execution_count": 29,
   "metadata": {
    "execution": {
     "iopub.execute_input": "2023-11-21T17:13:34.473128Z",
     "iopub.status.busy": "2023-11-21T17:13:34.472741Z",
     "iopub.status.idle": "2023-11-21T17:13:34.478746Z",
     "shell.execute_reply": "2023-11-21T17:13:34.477683Z",
     "shell.execute_reply.started": "2023-11-21T17:13:34.473097Z"
    }
   },
   "outputs": [
    {
     "name": "stdout",
     "output_type": "stream",
     "text": [
      "Results summary\n",
      "Results in /kaggle/working/tuned_model/m4\n",
      "Showing 10 best trials\n",
      "Objective(name=\"val_accuracy\", direction=\"max\")\n",
      "\n",
      "Trial 0 summary\n",
      "Hyperparameters:\n",
      "conv and max pool: 4\n",
      "Score: 0.2916666567325592\n",
      "\n",
      "Trial 2 summary\n",
      "Hyperparameters:\n",
      "conv and max pool: 8\n",
      "Score: 0.25\n",
      "\n",
      "Trial 1 summary\n",
      "Hyperparameters:\n",
      "conv and max pool: 2\n",
      "Score: 0.2083333283662796\n"
     ]
    }
   ],
   "source": [
    "tuner.results_summary()"
   ]
  },
  {
   "cell_type": "code",
   "execution_count": 30,
   "metadata": {
    "execution": {
     "iopub.execute_input": "2023-11-21T17:13:38.609998Z",
     "iopub.status.busy": "2023-11-21T17:13:38.609636Z",
     "iopub.status.idle": "2023-11-21T17:13:38.644228Z",
     "shell.execute_reply": "2023-11-21T17:13:38.643494Z",
     "shell.execute_reply.started": "2023-11-21T17:13:38.609968Z"
    }
   },
   "outputs": [],
   "source": [
    "# Get the best hyperparameters\n",
    "best_hps = tuner.get_best_hyperparameters(num_trials=1)[0]\n",
    "\n",
    "# Build the model with the best hyperparameters and train it on the full dataset\n",
    "model = tuner.hypermodel.build(best_hps)#tuner.get_best_hyperparameters\n"
   ]
  },
  {
   "cell_type": "code",
   "execution_count": 31,
   "metadata": {
    "execution": {
     "iopub.execute_input": "2023-11-21T17:13:42.728611Z",
     "iopub.status.busy": "2023-11-21T17:13:42.728226Z",
     "iopub.status.idle": "2023-11-21T17:15:39.299131Z",
     "shell.execute_reply": "2023-11-21T17:15:39.298175Z",
     "shell.execute_reply.started": "2023-11-21T17:13:42.728581Z"
    }
   },
   "outputs": [
    {
     "name": "stdout",
     "output_type": "stream",
     "text": [
      "Epoch 1/10\n",
      "15/15 [==============================] - 14s 738ms/step - loss: 2.0782 - accuracy: 0.1538 - val_loss: 10.7115 - val_accuracy: 0.1250\n",
      "Epoch 2/10\n",
      "15/15 [==============================] - 11s 749ms/step - loss: 1.8446 - accuracy: 0.2564 - val_loss: 7.6186 - val_accuracy: 0.2083\n",
      "Epoch 3/10\n",
      "15/15 [==============================] - 11s 753ms/step - loss: 1.7966 - accuracy: 0.2650 - val_loss: 3.2131 - val_accuracy: 0.3333\n",
      "Epoch 4/10\n",
      "15/15 [==============================] - 11s 720ms/step - loss: 1.7030 - accuracy: 0.2308 - val_loss: 2.7729 - val_accuracy: 0.2083\n",
      "Epoch 5/10\n",
      "15/15 [==============================] - 11s 758ms/step - loss: 1.6559 - accuracy: 0.2393 - val_loss: 5.0127 - val_accuracy: 0.1667\n",
      "Epoch 6/10\n",
      "15/15 [==============================] - 12s 781ms/step - loss: 1.6856 - accuracy: 0.2479 - val_loss: 1.9572 - val_accuracy: 0.2917\n",
      "Epoch 7/10\n",
      "15/15 [==============================] - 11s 760ms/step - loss: 1.5767 - accuracy: 0.2991 - val_loss: 2.2377 - val_accuracy: 0.0833\n",
      "Epoch 8/10\n",
      "15/15 [==============================] - 11s 738ms/step - loss: 1.6563 - accuracy: 0.2051 - val_loss: 2.1404 - val_accuracy: 0.1250\n",
      "Epoch 9/10\n",
      "15/15 [==============================] - 12s 786ms/step - loss: 1.6429 - accuracy: 0.2051 - val_loss: 2.1082 - val_accuracy: 0.1250\n",
      "Epoch 10/10\n",
      "15/15 [==============================] - 12s 789ms/step - loss: 1.7287 - accuracy: 0.1750 - val_loss: 3.2352 - val_accuracy: 0.1667\n"
     ]
    },
    {
     "data": {
      "text/plain": [
       "<keras.src.callbacks.History at 0x7bd1b83db490>"
      ]
     },
     "execution_count": 31,
     "metadata": {},
     "output_type": "execute_result"
    }
   ],
   "source": [
    "model.fit(traing, epochs=10, steps_per_epoch=125//8,\n",
    "               validation_data=validg, validation_steps=25//8)"
   ]
  },
  {
   "cell_type": "code",
   "execution_count": 32,
   "metadata": {
    "execution": {
     "iopub.execute_input": "2023-11-21T17:15:54.816399Z",
     "iopub.status.busy": "2023-11-21T17:15:54.816019Z",
     "iopub.status.idle": "2023-11-21T17:15:54.856709Z",
     "shell.execute_reply": "2023-11-21T17:15:54.855765Z",
     "shell.execute_reply.started": "2023-11-21T17:15:54.816367Z"
    }
   },
   "outputs": [
    {
     "name": "stdout",
     "output_type": "stream",
     "text": [
      "Model: \"sequential_2\"\n",
      "_________________________________________________________________\n",
      " Layer (type)                Output Shape              Param #   \n",
      "=================================================================\n",
      " conv2d_12 (Conv2D)          (None, None, None, 14)    392       \n",
      "                                                                 \n",
      " max_pooling2d_12 (MaxPooli  (None, None, None, 14)    0         \n",
      " ng2D)                                                           \n",
      "                                                                 \n",
      " conv2d_13 (Conv2D)          (None, None, None, 14)    1778      \n",
      "                                                                 \n",
      " max_pooling2d_13 (MaxPooli  (None, None, None, 14)    0         \n",
      " ng2D)                                                           \n",
      "                                                                 \n",
      " conv2d_14 (Conv2D)          (None, None, None, 14)    1778      \n",
      "                                                                 \n",
      " max_pooling2d_14 (MaxPooli  (None, None, None, 14)    0         \n",
      " ng2D)                                                           \n",
      "                                                                 \n",
      " conv2d_15 (Conv2D)          (None, None, None, 14)    1778      \n",
      "                                                                 \n",
      " max_pooling2d_15 (MaxPooli  (None, None, None, 14)    0         \n",
      " ng2D)                                                           \n",
      "                                                                 \n",
      " flatten_2 (Flatten)         (None, None)              0         \n",
      "                                                                 \n",
      " dense_6 (Dense)             (None, 100)               67760100  \n",
      "                                                                 \n",
      " batch_normalization_2 (Bat  (None, 100)               400       \n",
      " chNormalization)                                                \n",
      "                                                                 \n",
      " dense_7 (Dense)             (None, 50)                5050      \n",
      "                                                                 \n",
      " dropout_2 (Dropout)         (None, 50)                0         \n",
      "                                                                 \n",
      " dense_8 (Dense)             (None, 5)                 255       \n",
      "                                                                 \n",
      "=================================================================\n",
      "Total params: 67771531 (258.53 MB)\n",
      "Trainable params: 67771331 (258.53 MB)\n",
      "Non-trainable params: 200 (800.00 Byte)\n",
      "_________________________________________________________________\n"
     ]
    }
   ],
   "source": [
    "model.summary()"
   ]
  },
  {
   "cell_type": "code",
   "execution_count": 33,
   "metadata": {
    "execution": {
     "iopub.execute_input": "2023-11-21T17:16:10.811166Z",
     "iopub.status.busy": "2023-11-21T17:16:10.810805Z",
     "iopub.status.idle": "2023-11-21T17:16:10.815637Z",
     "shell.execute_reply": "2023-11-21T17:16:10.814572Z",
     "shell.execute_reply.started": "2023-11-21T17:16:10.811134Z"
    }
   },
   "outputs": [],
   "source": [
    "import matplotlib.pyplot as plt"
   ]
  },
  {
   "cell_type": "code",
   "execution_count": 34,
   "metadata": {
    "execution": {
     "iopub.execute_input": "2023-11-21T17:16:12.404391Z",
     "iopub.status.busy": "2023-11-21T17:16:12.403771Z",
     "iopub.status.idle": "2023-11-21T17:16:12.409138Z",
     "shell.execute_reply": "2023-11-21T17:16:12.408197Z",
     "shell.execute_reply.started": "2023-11-21T17:16:12.404357Z"
    }
   },
   "outputs": [],
   "source": [
    "es=EarlyStopping(monitor=\"val_loss\",min_delta=0.01,patience=3,start_from_epoch=4,verbose=1) "
   ]
  },
  {
   "cell_type": "code",
   "execution_count": 35,
   "metadata": {
    "execution": {
     "iopub.execute_input": "2023-11-21T17:16:17.663570Z",
     "iopub.status.busy": "2023-11-21T17:16:17.662582Z",
     "iopub.status.idle": "2023-11-21T17:17:50.069125Z",
     "shell.execute_reply": "2023-11-21T17:17:50.068197Z",
     "shell.execute_reply.started": "2023-11-21T17:16:17.663532Z"
    }
   },
   "outputs": [
    {
     "name": "stdout",
     "output_type": "stream",
     "text": [
      "Epoch 1/10\n",
      "15/15 [==============================] - 12s 821ms/step - loss: 1.7358 - accuracy: 0.2222 - val_loss: 3.1409 - val_accuracy: 0.1667\n",
      "Epoch 2/10\n",
      "15/15 [==============================] - 11s 747ms/step - loss: 1.6263 - accuracy: 0.1966 - val_loss: 2.7089 - val_accuracy: 0.2083\n",
      "Epoch 3/10\n",
      "15/15 [==============================] - 12s 785ms/step - loss: 1.5750 - accuracy: 0.2650 - val_loss: 2.0628 - val_accuracy: 0.2500\n",
      "Epoch 4/10\n",
      "15/15 [==============================] - 11s 764ms/step - loss: 1.6041 - accuracy: 0.2564 - val_loss: 1.8393 - val_accuracy: 0.2083\n",
      "Epoch 5/10\n",
      "15/15 [==============================] - 11s 759ms/step - loss: 1.5797 - accuracy: 0.2650 - val_loss: 1.6910 - val_accuracy: 0.2083\n",
      "Epoch 6/10\n",
      "15/15 [==============================] - 11s 763ms/step - loss: 1.6581 - accuracy: 0.1966 - val_loss: 1.7702 - val_accuracy: 0.1250\n",
      "Epoch 7/10\n",
      "15/15 [==============================] - 12s 766ms/step - loss: 1.6497 - accuracy: 0.1880 - val_loss: 2.6875 - val_accuracy: 0.2500\n",
      "Epoch 8/10\n",
      "15/15 [==============================] - 11s 765ms/step - loss: 1.5993 - accuracy: 0.2821 - val_loss: 2.2744 - val_accuracy: 0.2917\n",
      "Epoch 8: early stopping\n"
     ]
    }
   ],
   "source": [
    "history=model.fit(traing, epochs=10, steps_per_epoch=125//8,\n",
    "               validation_data=validg, validation_steps=25//8,callbacks=[es])"
   ]
  },
  {
   "cell_type": "code",
   "execution_count": 37,
   "metadata": {
    "execution": {
     "iopub.execute_input": "2023-11-21T17:18:11.153750Z",
     "iopub.status.busy": "2023-11-21T17:18:11.153407Z",
     "iopub.status.idle": "2023-11-21T17:18:11.479165Z",
     "shell.execute_reply": "2023-11-21T17:18:11.478217Z",
     "shell.execute_reply.started": "2023-11-21T17:18:11.153725Z"
    }
   },
   "outputs": [
    {
     "data": {
      "text/plain": [
       "<matplotlib.legend.Legend at 0x7bd12446c4c0>"
      ]
     },
     "execution_count": 37,
     "metadata": {},
     "output_type": "execute_result"
    },
    {
     "data": {
      "image/png": "[encoded data removed]",
      "text/plain": [
       "<Figure size 640x480 with 1 Axes>"
      ]
     },
     "metadata": {},
     "output_type": "display_data"
    }
   ],
   "source": [
    "plt.plot(range(1,9),history.history[\"loss\"],label=\"train_loss\")\n",
    "plt.plot(range(1,9),history.history[\"val_loss\"],label=\"val_loss\")\n",
    "plt.legend()"
   ]
  },
  {
   "cell_type": "code",
   "execution_count": 38,
   "metadata": {
    "execution": {
     "iopub.execute_input": "2023-11-21T17:18:26.866475Z",
     "iopub.status.busy": "2023-11-21T17:18:26.866064Z",
     "iopub.status.idle": "2023-11-21T17:18:27.110925Z",
     "shell.execute_reply": "2023-11-21T17:18:27.109974Z",
     "shell.execute_reply.started": "2023-11-21T17:18:26.866441Z"
    }
   },
   "outputs": [
    {
     "data": {
      "text/plain": [
       "<matplotlib.legend.Legend at 0x7bd1244cbca0>"
      ]
     },
     "execution_count": 38,
     "metadata": {},
     "output_type": "execute_result"
    },
    {
     "data": {
      "image/png": "[encoded data removed]",
      "text/plain": [
       "<Figure size 640x480 with 1 Axes>"
      ]
     },
     "metadata": {},
     "output_type": "display_data"
    }
   ],
   "source": [
    "plt.plot(range(1,9),history.history[\"accuracy\"],label=\"train_accuracy\")\n",
    "plt.plot(range(1,9),history.history[\"val_accuracy\"],label=\"val_accuracy\")\n",
    "plt.legend()"
   ]
  },
  {
   "cell_type": "code",
   "execution_count": 43,
   "metadata": {
    "execution": {
     "iopub.execute_input": "2023-11-21T17:24:08.729735Z",
     "iopub.status.busy": "2023-11-21T17:24:08.729013Z",
     "iopub.status.idle": "2023-11-21T17:24:11.458510Z",
     "shell.execute_reply": "2023-11-21T17:24:11.457558Z",
     "shell.execute_reply.started": "2023-11-21T17:24:08.729703Z"
    }
   },
   "outputs": [
    {
     "name": "stdout",
     "output_type": "stream",
     "text": [
      "4/4 [==============================] - 2s 463ms/step\n"
     ]
    },
    {
     "data": {
      "text/plain": [
       "array([[0.28571156, 0.10324164, 0.19150865, 0.22357251, 0.19596569],\n",
       "       [0.14708926, 0.03606117, 0.72529036, 0.08024144, 0.01131776],\n",
       "       [0.15533468, 0.01761674, 0.7150905 , 0.08335496, 0.02860307],\n",
       "       [0.19934978, 0.15535657, 0.4427743 , 0.15797473, 0.04454462],\n",
       "       [0.13809095, 0.09555212, 0.14625573, 0.5154388 , 0.1046624 ],\n",
       "       [0.05441571, 0.01524777, 0.8496135 , 0.07164124, 0.00908175],\n",
       "       [0.1875161 , 0.04996055, 0.5522605 , 0.16229953, 0.04796331],\n",
       "       [0.24870154, 0.21503389, 0.25583982, 0.15288526, 0.12753952],\n",
       "       [0.07741956, 0.03305243, 0.8069148 , 0.07326606, 0.00934716],\n",
       "       [0.20531677, 0.01919897, 0.7276838 , 0.03168213, 0.01611836],\n",
       "       [0.09802359, 0.07227024, 0.677707  , 0.13572821, 0.01627098],\n",
       "       [0.28204727, 0.12297797, 0.43461943, 0.0969236 , 0.0634317 ],\n",
       "       [0.07220877, 0.01782532, 0.8020138 , 0.10158408, 0.00636804],\n",
       "       [0.28351796, 0.05423994, 0.5557391 , 0.0758523 , 0.03065068],\n",
       "       [0.1552432 , 0.062643  , 0.6385028 , 0.12922814, 0.01438289],\n",
       "       [0.09908176, 0.06689024, 0.75982827, 0.06612828, 0.00807149],\n",
       "       [0.30053866, 0.13473313, 0.49377388, 0.04195064, 0.02900364],\n",
       "       [0.16194226, 0.06762119, 0.6609067 , 0.08544759, 0.0240823 ],\n",
       "       [0.43236378, 0.18801045, 0.22726062, 0.06353277, 0.08883236],\n",
       "       [0.09683275, 0.09111916, 0.6727474 , 0.12875423, 0.01054645],\n",
       "       [0.05428446, 0.07527379, 0.4023015 , 0.43514547, 0.03299478],\n",
       "       [0.11410227, 0.06247146, 0.6695553 , 0.13257031, 0.02130068],\n",
       "       [0.14033191, 0.03862462, 0.6740203 , 0.12342076, 0.02360243],\n",
       "       [0.08006843, 0.02729179, 0.7486691 , 0.13411921, 0.00985147],\n",
       "       [0.42424944, 0.0987457 , 0.3172371 , 0.09949178, 0.06027601]],\n",
       "      dtype=float32)"
      ]
     },
     "execution_count": 43,
     "metadata": {},
     "output_type": "execute_result"
    }
   ],
   "source": [
    "predicted=model.predict(validg)\n",
    "predicted"
   ]
  },
  {
   "cell_type": "code",
   "execution_count": 45,
   "metadata": {
    "execution": {
     "iopub.execute_input": "2023-11-21T17:25:08.337954Z",
     "iopub.status.busy": "2023-11-21T17:25:08.337231Z",
     "iopub.status.idle": "2023-11-21T17:25:08.344202Z",
     "shell.execute_reply": "2023-11-21T17:25:08.343358Z",
     "shell.execute_reply.started": "2023-11-21T17:25:08.337919Z"
    }
   },
   "outputs": [
    {
     "data": {
      "text/plain": [
       "array([0, 2, 2, 2, 3, 2, 2, 2, 2, 2, 2, 2, 2, 2, 2, 2, 2, 2, 0, 2, 3, 2,\n",
       "       2, 2, 0])"
      ]
     },
     "execution_count": 45,
     "metadata": {},
     "output_type": "execute_result"
    }
   ],
   "source": [
    "predicted=np.argmax(predicted,axis=1)\n",
    "predicted"
   ]
  },
  {
   "cell_type": "code",
   "execution_count": 47,
   "metadata": {
    "execution": {
     "iopub.execute_input": "2023-11-21T17:27:57.142605Z",
     "iopub.status.busy": "2023-11-21T17:27:57.142214Z",
     "iopub.status.idle": "2023-11-21T17:27:57.427289Z",
     "shell.execute_reply": "2023-11-21T17:27:57.426327Z",
     "shell.execute_reply.started": "2023-11-21T17:27:57.142576Z"
    }
   },
   "outputs": [
    {
     "name": "stdout",
     "output_type": "stream",
     "text": [
      "accuracy_score :  0.24\n"
     ]
    },
    {
     "data": {
      "image/png": "[encoded data removed]",
      "text/plain": [
       "<Figure size 640x480 with 2 Axes>"
      ]
     },
     "metadata": {},
     "output_type": "display_data"
    }
   ],
   "source": [
    "from sklearn.metrics import accuracy_score,ConfusionMatrixDisplay,confusion_matrix\n",
    "print(\"accuracy_score : \",accuracy_score(validg.labels,predicted)) \n",
    "cm=confusion_matrix(validg.labels,predicted)\n",
    "va=ConfusionMatrixDisplay(cm)\n",
    "va.plot() \n",
    "plt.show()"
   ]
  },
  {
   "cell_type": "code",
   "execution_count": null,
   "metadata": {},
   "outputs": [],
   "source": []
  },
  {
   "cell_type": "code",
   "execution_count": null,
   "metadata": {},
   "outputs": [],
   "source": []
  }
 ],
 "metadata": {
  "kaggle": {
   "accelerator": "nvidiaTeslaT4",
   "dataSources": [
    {
     "datasetId": 3933739,
     "sourceId": 6842818,
     "sourceType": "datasetVersion"
    }
   ],
   "dockerImageVersionId": 30587,
   "isGpuEnabled": true,
   "isInternetEnabled": true,
   "language": "python",
   "sourceType": "notebook"
  },
  "kernelspec": {
   "display_name": "Python 3 (ipykernel)",
   "language": "python",
   "name": "python3"
  },
  "language_info": {
   "codemirror_mode": {
    "name": "ipython",
    "version": 3
   },
   "file_extension": ".py",
   "mimetype": "text/x-python",
   "name": "python",
   "nbconvert_exporter": "python",
   "pygments_lexer": "ipython3",
   "version": "3.11.5"
  }
 },
 "nbformat": 4,
 "nbformat_minor": 4
}
