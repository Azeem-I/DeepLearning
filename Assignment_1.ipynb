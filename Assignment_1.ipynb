{
 "cells": [
  {
   "cell_type": "markdown",
   "id": "9719e833",
   "metadata": {},
   "source": [
    "#### AND GATE,OR GATE FUNCTION "
   ]
  },
  {
   "cell_type": "code",
   "execution_count": 1,
   "id": "20e97692",
   "metadata": {},
   "outputs": [],
   "source": [
    "def gate_output(binary_inputs:list,act_fun):\n",
    "    if act_fun==\"and\":\n",
    "        result=1\n",
    "        for i in binary_inputs:\n",
    "            result=result and i \n",
    "    else:\n",
    "        result=0\n",
    "        for i in binary_inputs:\n",
    "            result=result or i\n",
    "    return result "
   ]
  },
  {
   "cell_type": "code",
   "execution_count": 7,
   "id": "0c72b757",
   "metadata": {},
   "outputs": [
    {
     "data": {
      "text/plain": [
       "0"
      ]
     },
     "execution_count": 7,
     "metadata": {},
     "output_type": "execute_result"
    }
   ],
   "source": [
    "gate_output([1,1,1,0],\"and\")"
   ]
  },
  {
   "cell_type": "code",
   "execution_count": 4,
   "id": "a2aaa5ed",
   "metadata": {},
   "outputs": [
    {
     "data": {
      "text/plain": [
       "1"
      ]
     },
     "execution_count": 4,
     "metadata": {},
     "output_type": "execute_result"
    }
   ],
   "source": [
    "gate_output([1,1,1,1,],\"and\")"
   ]
  },
  {
   "cell_type": "code",
   "execution_count": 5,
   "id": "80d9e92d",
   "metadata": {},
   "outputs": [
    {
     "data": {
      "text/plain": [
       "1"
      ]
     },
     "execution_count": 5,
     "metadata": {},
     "output_type": "execute_result"
    }
   ],
   "source": [
    "gate_output([1,1,1,0],\"or\")"
   ]
  },
  {
   "cell_type": "code",
   "execution_count": null,
   "id": "1af30c0e",
   "metadata": {},
   "outputs": [],
   "source": []
  }
 ],
 "metadata": {
  "kernelspec": {
   "display_name": "Python 3 (ipykernel)",
   "language": "python",
   "name": "python3"
  },
  "language_info": {
   "codemirror_mode": {
    "name": "ipython",
    "version": 3
   },
   "file_extension": ".py",
   "mimetype": "text/x-python",
   "name": "python",
   "nbconvert_exporter": "python",
   "pygments_lexer": "ipython3",
   "version": "3.10.9"
  }
 },
 "nbformat": 4,
 "nbformat_minor": 5
}
