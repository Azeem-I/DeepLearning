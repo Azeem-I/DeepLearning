{
 "cells": [
  {
   "cell_type": "markdown",
   "id": "c526fdb2",
   "metadata": {},
   "source": [
    "Features name: (Credit_Card.csv)\n",
    "\n",
    "Ind_ID: Client ID\n",
    "\n",
    "Gender: Gender information\n",
    "\n",
    "Car_owner: Having car or not\n",
    "\n",
    "Propert_owner: Having property or not\n",
    "\n",
    "Children: Count of children\n",
    "\n",
    "Annual_income: Annual income\n",
    "\n",
    "Type_Income: Income type\n",
    "\n",
    "Education: Education level\n",
    "\n",
    "Marital_status: Marital_status\n",
    "\n",
    "Housing_type: Living style\n",
    "\n",
    "Birthday_count: Use backward count from current day (0), -1 means yesterday.\n",
    "\n",
    "Employed_days: Start date of employment. Use backward count from current day (0). Positive value means, individual is currently unemployed.\n",
    "\n",
    "Mobile_phone: Any mobile phone\n",
    "\n",
    "Work_phone: Any work phone\n",
    "\n",
    "Phone: Any phone number\n",
    "\n",
    "EMAIL_ID: Any email ID\n",
    "\n",
    "Type_Occupation: Occupation\n",
    "\n",
    "Family_Members: Family size\n",
    "\n",
    "Another data set (Credit_card_label.csv) contains two key pieces of information\n",
    "\n",
    "ID: The joining key between application data and credit status data, same is Ind_ID\n",
    "\n",
    "Label: 0 is application approved and 1 is application rejected."
   ]
  },
  {
   "cell_type": "code",
   "execution_count": 1,
   "id": "c6aa28fe",
   "metadata": {},
   "outputs": [],
   "source": [
    "import pandas as pd \n",
    "import numpy as np \n",
    "import matplotlib.pyplot as plt \n",
    "import seaborn as sns "
   ]
  },
  {
   "cell_type": "code",
   "execution_count": 2,
   "id": "2c6b2d2d",
   "metadata": {
    "scrolled": true
   },
   "outputs": [
    {
     "data": {
      "text/html": [
       "<div>\n",
       "<style scoped>\n",
       "    .dataframe tbody tr th:only-of-type {\n",
       "        vertical-align: middle;\n",
       "    }\n",
       "\n",
       "    .dataframe tbody tr th {\n",
       "        vertical-align: top;\n",
       "    }\n",
       "\n",
       "    .dataframe thead th {\n",
       "        text-align: right;\n",
       "    }\n",
       "</style>\n",
       "<table border=\"1\" class=\"dataframe\">\n",
       "  <thead>\n",
       "    <tr style=\"text-align: right;\">\n",
       "      <th></th>\n",
       "      <th>Ind_ID</th>\n",
       "      <th>GENDER</th>\n",
       "      <th>Car_Owner</th>\n",
       "      <th>Propert_Owner</th>\n",
       "      <th>CHILDREN</th>\n",
       "      <th>Annual_income</th>\n",
       "      <th>Type_Income</th>\n",
       "      <th>EDUCATION</th>\n",
       "      <th>Marital_status</th>\n",
       "      <th>Housing_type</th>\n",
       "      <th>Birthday_count</th>\n",
       "      <th>Employed_days</th>\n",
       "      <th>Mobile_phone</th>\n",
       "      <th>Work_Phone</th>\n",
       "      <th>Phone</th>\n",
       "      <th>EMAIL_ID</th>\n",
       "      <th>Type_Occupation</th>\n",
       "      <th>Family_Members</th>\n",
       "    </tr>\n",
       "  </thead>\n",
       "  <tbody>\n",
       "    <tr>\n",
       "      <th>0</th>\n",
       "      <td>5008827</td>\n",
       "      <td>M</td>\n",
       "      <td>Y</td>\n",
       "      <td>Y</td>\n",
       "      <td>0</td>\n",
       "      <td>180000.0</td>\n",
       "      <td>Pensioner</td>\n",
       "      <td>Higher education</td>\n",
       "      <td>Married</td>\n",
       "      <td>House / apartment</td>\n",
       "      <td>-18772.0</td>\n",
       "      <td>365243</td>\n",
       "      <td>1</td>\n",
       "      <td>0</td>\n",
       "      <td>0</td>\n",
       "      <td>0</td>\n",
       "      <td>NaN</td>\n",
       "      <td>2</td>\n",
       "    </tr>\n",
       "    <tr>\n",
       "      <th>1</th>\n",
       "      <td>5009744</td>\n",
       "      <td>F</td>\n",
       "      <td>Y</td>\n",
       "      <td>N</td>\n",
       "      <td>0</td>\n",
       "      <td>315000.0</td>\n",
       "      <td>Commercial associate</td>\n",
       "      <td>Higher education</td>\n",
       "      <td>Married</td>\n",
       "      <td>House / apartment</td>\n",
       "      <td>-13557.0</td>\n",
       "      <td>-586</td>\n",
       "      <td>1</td>\n",
       "      <td>1</td>\n",
       "      <td>1</td>\n",
       "      <td>0</td>\n",
       "      <td>NaN</td>\n",
       "      <td>2</td>\n",
       "    </tr>\n",
       "    <tr>\n",
       "      <th>2</th>\n",
       "      <td>5009746</td>\n",
       "      <td>F</td>\n",
       "      <td>Y</td>\n",
       "      <td>N</td>\n",
       "      <td>0</td>\n",
       "      <td>315000.0</td>\n",
       "      <td>Commercial associate</td>\n",
       "      <td>Higher education</td>\n",
       "      <td>Married</td>\n",
       "      <td>House / apartment</td>\n",
       "      <td>NaN</td>\n",
       "      <td>-586</td>\n",
       "      <td>1</td>\n",
       "      <td>1</td>\n",
       "      <td>1</td>\n",
       "      <td>0</td>\n",
       "      <td>NaN</td>\n",
       "      <td>2</td>\n",
       "    </tr>\n",
       "    <tr>\n",
       "      <th>3</th>\n",
       "      <td>5009749</td>\n",
       "      <td>F</td>\n",
       "      <td>Y</td>\n",
       "      <td>N</td>\n",
       "      <td>0</td>\n",
       "      <td>NaN</td>\n",
       "      <td>Commercial associate</td>\n",
       "      <td>Higher education</td>\n",
       "      <td>Married</td>\n",
       "      <td>House / apartment</td>\n",
       "      <td>-13557.0</td>\n",
       "      <td>-586</td>\n",
       "      <td>1</td>\n",
       "      <td>1</td>\n",
       "      <td>1</td>\n",
       "      <td>0</td>\n",
       "      <td>NaN</td>\n",
       "      <td>2</td>\n",
       "    </tr>\n",
       "    <tr>\n",
       "      <th>4</th>\n",
       "      <td>5009752</td>\n",
       "      <td>F</td>\n",
       "      <td>Y</td>\n",
       "      <td>N</td>\n",
       "      <td>0</td>\n",
       "      <td>315000.0</td>\n",
       "      <td>Commercial associate</td>\n",
       "      <td>Higher education</td>\n",
       "      <td>Married</td>\n",
       "      <td>House / apartment</td>\n",
       "      <td>-13557.0</td>\n",
       "      <td>-586</td>\n",
       "      <td>1</td>\n",
       "      <td>1</td>\n",
       "      <td>1</td>\n",
       "      <td>0</td>\n",
       "      <td>NaN</td>\n",
       "      <td>2</td>\n",
       "    </tr>\n",
       "  </tbody>\n",
       "</table>\n",
       "</div>"
      ],
      "text/plain": [
       "    Ind_ID GENDER Car_Owner Propert_Owner  CHILDREN  Annual_income  \\\n",
       "0  5008827      M         Y             Y         0       180000.0   \n",
       "1  5009744      F         Y             N         0       315000.0   \n",
       "2  5009746      F         Y             N         0       315000.0   \n",
       "3  5009749      F         Y             N         0            NaN   \n",
       "4  5009752      F         Y             N         0       315000.0   \n",
       "\n",
       "            Type_Income         EDUCATION Marital_status       Housing_type  \\\n",
       "0             Pensioner  Higher education        Married  House / apartment   \n",
       "1  Commercial associate  Higher education        Married  House / apartment   \n",
       "2  Commercial associate  Higher education        Married  House / apartment   \n",
       "3  Commercial associate  Higher education        Married  House / apartment   \n",
       "4  Commercial associate  Higher education        Married  House / apartment   \n",
       "\n",
       "   Birthday_count  Employed_days  Mobile_phone  Work_Phone  Phone  EMAIL_ID  \\\n",
       "0        -18772.0         365243             1           0      0         0   \n",
       "1        -13557.0           -586             1           1      1         0   \n",
       "2             NaN           -586             1           1      1         0   \n",
       "3        -13557.0           -586             1           1      1         0   \n",
       "4        -13557.0           -586             1           1      1         0   \n",
       "\n",
       "  Type_Occupation  Family_Members  \n",
       "0             NaN               2  \n",
       "1             NaN               2  \n",
       "2             NaN               2  \n",
       "3             NaN               2  \n",
       "4             NaN               2  "
      ]
     },
     "execution_count": 2,
     "metadata": {},
     "output_type": "execute_result"
    }
   ],
   "source": [
    "df1=pd.read_csv(r\"D:\\edu\\INNO\\Deep_Learning\\Assignments\\data\\credit_card_dataset\\Credit_card.csv\")\n",
    "df1.head() "
   ]
  },
  {
   "cell_type": "code",
   "execution_count": 3,
   "id": "877bbc9d",
   "metadata": {},
   "outputs": [
    {
     "data": {
      "text/plain": [
       "(1548, 18)"
      ]
     },
     "execution_count": 3,
     "metadata": {},
     "output_type": "execute_result"
    }
   ],
   "source": [
    "df1.shape"
   ]
  },
  {
   "cell_type": "code",
   "execution_count": 4,
   "id": "1e16f83f",
   "metadata": {},
   "outputs": [
    {
     "data": {
      "text/html": [
       "<div>\n",
       "<style scoped>\n",
       "    .dataframe tbody tr th:only-of-type {\n",
       "        vertical-align: middle;\n",
       "    }\n",
       "\n",
       "    .dataframe tbody tr th {\n",
       "        vertical-align: top;\n",
       "    }\n",
       "\n",
       "    .dataframe thead th {\n",
       "        text-align: right;\n",
       "    }\n",
       "</style>\n",
       "<table border=\"1\" class=\"dataframe\">\n",
       "  <thead>\n",
       "    <tr style=\"text-align: right;\">\n",
       "      <th></th>\n",
       "      <th>Ind_ID</th>\n",
       "      <th>label</th>\n",
       "    </tr>\n",
       "  </thead>\n",
       "  <tbody>\n",
       "    <tr>\n",
       "      <th>0</th>\n",
       "      <td>5008827</td>\n",
       "      <td>1</td>\n",
       "    </tr>\n",
       "    <tr>\n",
       "      <th>1</th>\n",
       "      <td>5009744</td>\n",
       "      <td>1</td>\n",
       "    </tr>\n",
       "    <tr>\n",
       "      <th>2</th>\n",
       "      <td>5009746</td>\n",
       "      <td>1</td>\n",
       "    </tr>\n",
       "    <tr>\n",
       "      <th>3</th>\n",
       "      <td>5009749</td>\n",
       "      <td>1</td>\n",
       "    </tr>\n",
       "    <tr>\n",
       "      <th>4</th>\n",
       "      <td>5009752</td>\n",
       "      <td>1</td>\n",
       "    </tr>\n",
       "  </tbody>\n",
       "</table>\n",
       "</div>"
      ],
      "text/plain": [
       "    Ind_ID  label\n",
       "0  5008827      1\n",
       "1  5009744      1\n",
       "2  5009746      1\n",
       "3  5009749      1\n",
       "4  5009752      1"
      ]
     },
     "execution_count": 4,
     "metadata": {},
     "output_type": "execute_result"
    }
   ],
   "source": [
    "df2=pd.read_csv(r\"D:\\edu\\INNO\\Deep_Learning\\Assignments\\data\\credit_card_dataset\\Credit_card_label.csv\")\n",
    "df2.head()"
   ]
  },
  {
   "cell_type": "code",
   "execution_count": 5,
   "id": "861720c0",
   "metadata": {},
   "outputs": [
    {
     "data": {
      "text/plain": [
       "(1548, 2)"
      ]
     },
     "execution_count": 5,
     "metadata": {},
     "output_type": "execute_result"
    }
   ],
   "source": [
    "df2.shape "
   ]
  },
  {
   "cell_type": "code",
   "execution_count": 6,
   "id": "27448f28",
   "metadata": {},
   "outputs": [
    {
     "data": {
      "text/html": [
       "<div>\n",
       "<style scoped>\n",
       "    .dataframe tbody tr th:only-of-type {\n",
       "        vertical-align: middle;\n",
       "    }\n",
       "\n",
       "    .dataframe tbody tr th {\n",
       "        vertical-align: top;\n",
       "    }\n",
       "\n",
       "    .dataframe thead th {\n",
       "        text-align: right;\n",
       "    }\n",
       "</style>\n",
       "<table border=\"1\" class=\"dataframe\">\n",
       "  <thead>\n",
       "    <tr style=\"text-align: right;\">\n",
       "      <th></th>\n",
       "      <th>Ind_ID</th>\n",
       "      <th>GENDER</th>\n",
       "      <th>Car_Owner</th>\n",
       "      <th>Propert_Owner</th>\n",
       "      <th>CHILDREN</th>\n",
       "      <th>Annual_income</th>\n",
       "      <th>Type_Income</th>\n",
       "      <th>EDUCATION</th>\n",
       "      <th>Marital_status</th>\n",
       "      <th>Housing_type</th>\n",
       "      <th>Birthday_count</th>\n",
       "      <th>Employed_days</th>\n",
       "      <th>Mobile_phone</th>\n",
       "      <th>Work_Phone</th>\n",
       "      <th>Phone</th>\n",
       "      <th>EMAIL_ID</th>\n",
       "      <th>Type_Occupation</th>\n",
       "      <th>Family_Members</th>\n",
       "      <th>label</th>\n",
       "    </tr>\n",
       "  </thead>\n",
       "  <tbody>\n",
       "    <tr>\n",
       "      <th>0</th>\n",
       "      <td>5008827</td>\n",
       "      <td>M</td>\n",
       "      <td>Y</td>\n",
       "      <td>Y</td>\n",
       "      <td>0</td>\n",
       "      <td>180000.0</td>\n",
       "      <td>Pensioner</td>\n",
       "      <td>Higher education</td>\n",
       "      <td>Married</td>\n",
       "      <td>House / apartment</td>\n",
       "      <td>-18772.0</td>\n",
       "      <td>365243</td>\n",
       "      <td>1</td>\n",
       "      <td>0</td>\n",
       "      <td>0</td>\n",
       "      <td>0</td>\n",
       "      <td>NaN</td>\n",
       "      <td>2</td>\n",
       "      <td>1</td>\n",
       "    </tr>\n",
       "    <tr>\n",
       "      <th>1</th>\n",
       "      <td>5009744</td>\n",
       "      <td>F</td>\n",
       "      <td>Y</td>\n",
       "      <td>N</td>\n",
       "      <td>0</td>\n",
       "      <td>315000.0</td>\n",
       "      <td>Commercial associate</td>\n",
       "      <td>Higher education</td>\n",
       "      <td>Married</td>\n",
       "      <td>House / apartment</td>\n",
       "      <td>-13557.0</td>\n",
       "      <td>-586</td>\n",
       "      <td>1</td>\n",
       "      <td>1</td>\n",
       "      <td>1</td>\n",
       "      <td>0</td>\n",
       "      <td>NaN</td>\n",
       "      <td>2</td>\n",
       "      <td>1</td>\n",
       "    </tr>\n",
       "    <tr>\n",
       "      <th>2</th>\n",
       "      <td>5009746</td>\n",
       "      <td>F</td>\n",
       "      <td>Y</td>\n",
       "      <td>N</td>\n",
       "      <td>0</td>\n",
       "      <td>315000.0</td>\n",
       "      <td>Commercial associate</td>\n",
       "      <td>Higher education</td>\n",
       "      <td>Married</td>\n",
       "      <td>House / apartment</td>\n",
       "      <td>NaN</td>\n",
       "      <td>-586</td>\n",
       "      <td>1</td>\n",
       "      <td>1</td>\n",
       "      <td>1</td>\n",
       "      <td>0</td>\n",
       "      <td>NaN</td>\n",
       "      <td>2</td>\n",
       "      <td>1</td>\n",
       "    </tr>\n",
       "    <tr>\n",
       "      <th>3</th>\n",
       "      <td>5009749</td>\n",
       "      <td>F</td>\n",
       "      <td>Y</td>\n",
       "      <td>N</td>\n",
       "      <td>0</td>\n",
       "      <td>NaN</td>\n",
       "      <td>Commercial associate</td>\n",
       "      <td>Higher education</td>\n",
       "      <td>Married</td>\n",
       "      <td>House / apartment</td>\n",
       "      <td>-13557.0</td>\n",
       "      <td>-586</td>\n",
       "      <td>1</td>\n",
       "      <td>1</td>\n",
       "      <td>1</td>\n",
       "      <td>0</td>\n",
       "      <td>NaN</td>\n",
       "      <td>2</td>\n",
       "      <td>1</td>\n",
       "    </tr>\n",
       "    <tr>\n",
       "      <th>4</th>\n",
       "      <td>5009752</td>\n",
       "      <td>F</td>\n",
       "      <td>Y</td>\n",
       "      <td>N</td>\n",
       "      <td>0</td>\n",
       "      <td>315000.0</td>\n",
       "      <td>Commercial associate</td>\n",
       "      <td>Higher education</td>\n",
       "      <td>Married</td>\n",
       "      <td>House / apartment</td>\n",
       "      <td>-13557.0</td>\n",
       "      <td>-586</td>\n",
       "      <td>1</td>\n",
       "      <td>1</td>\n",
       "      <td>1</td>\n",
       "      <td>0</td>\n",
       "      <td>NaN</td>\n",
       "      <td>2</td>\n",
       "      <td>1</td>\n",
       "    </tr>\n",
       "  </tbody>\n",
       "</table>\n",
       "</div>"
      ],
      "text/plain": [
       "    Ind_ID GENDER Car_Owner Propert_Owner  CHILDREN  Annual_income  \\\n",
       "0  5008827      M         Y             Y         0       180000.0   \n",
       "1  5009744      F         Y             N         0       315000.0   \n",
       "2  5009746      F         Y             N         0       315000.0   \n",
       "3  5009749      F         Y             N         0            NaN   \n",
       "4  5009752      F         Y             N         0       315000.0   \n",
       "\n",
       "            Type_Income         EDUCATION Marital_status       Housing_type  \\\n",
       "0             Pensioner  Higher education        Married  House / apartment   \n",
       "1  Commercial associate  Higher education        Married  House / apartment   \n",
       "2  Commercial associate  Higher education        Married  House / apartment   \n",
       "3  Commercial associate  Higher education        Married  House / apartment   \n",
       "4  Commercial associate  Higher education        Married  House / apartment   \n",
       "\n",
       "   Birthday_count  Employed_days  Mobile_phone  Work_Phone  Phone  EMAIL_ID  \\\n",
       "0        -18772.0         365243             1           0      0         0   \n",
       "1        -13557.0           -586             1           1      1         0   \n",
       "2             NaN           -586             1           1      1         0   \n",
       "3        -13557.0           -586             1           1      1         0   \n",
       "4        -13557.0           -586             1           1      1         0   \n",
       "\n",
       "  Type_Occupation  Family_Members  label  \n",
       "0             NaN               2      1  \n",
       "1             NaN               2      1  \n",
       "2             NaN               2      1  \n",
       "3             NaN               2      1  \n",
       "4             NaN               2      1  "
      ]
     },
     "execution_count": 6,
     "metadata": {},
     "output_type": "execute_result"
    }
   ],
   "source": [
    "df=pd.merge(left=df1,right=df2,how=\"inner\",on=\"Ind_ID\")\n",
    "df.head()"
   ]
  },
  {
   "cell_type": "code",
   "execution_count": 7,
   "id": "0891e226",
   "metadata": {},
   "outputs": [
    {
     "data": {
      "text/plain": [
       "(1548, 19)"
      ]
     },
     "execution_count": 7,
     "metadata": {},
     "output_type": "execute_result"
    }
   ],
   "source": [
    "df.shape"
   ]
  },
  {
   "cell_type": "code",
   "execution_count": 8,
   "id": "280a97ce",
   "metadata": {},
   "outputs": [
    {
     "name": "stdout",
     "output_type": "stream",
     "text": [
      "<class 'pandas.core.frame.DataFrame'>\n",
      "RangeIndex: 1548 entries, 0 to 1547\n",
      "Data columns (total 19 columns):\n",
      " #   Column           Non-Null Count  Dtype  \n",
      "---  ------           --------------  -----  \n",
      " 0   Ind_ID           1548 non-null   int64  \n",
      " 1   GENDER           1541 non-null   object \n",
      " 2   Car_Owner        1548 non-null   object \n",
      " 3   Propert_Owner    1548 non-null   object \n",
      " 4   CHILDREN         1548 non-null   int64  \n",
      " 5   Annual_income    1525 non-null   float64\n",
      " 6   Type_Income      1548 non-null   object \n",
      " 7   EDUCATION        1548 non-null   object \n",
      " 8   Marital_status   1548 non-null   object \n",
      " 9   Housing_type     1548 non-null   object \n",
      " 10  Birthday_count   1526 non-null   float64\n",
      " 11  Employed_days    1548 non-null   int64  \n",
      " 12  Mobile_phone     1548 non-null   int64  \n",
      " 13  Work_Phone       1548 non-null   int64  \n",
      " 14  Phone            1548 non-null   int64  \n",
      " 15  EMAIL_ID         1548 non-null   int64  \n",
      " 16  Type_Occupation  1060 non-null   object \n",
      " 17  Family_Members   1548 non-null   int64  \n",
      " 18  label            1548 non-null   int64  \n",
      "dtypes: float64(2), int64(9), object(8)\n",
      "memory usage: 229.9+ KB\n"
     ]
    }
   ],
   "source": [
    "df.info()"
   ]
  },
  {
   "cell_type": "code",
   "execution_count": 9,
   "id": "91ab9b0a",
   "metadata": {},
   "outputs": [
    {
     "data": {
      "text/plain": [
       "Ind_ID               0\n",
       "GENDER               7\n",
       "Car_Owner            0\n",
       "Propert_Owner        0\n",
       "CHILDREN             0\n",
       "Annual_income       23\n",
       "Type_Income          0\n",
       "EDUCATION            0\n",
       "Marital_status       0\n",
       "Housing_type         0\n",
       "Birthday_count      22\n",
       "Employed_days        0\n",
       "Mobile_phone         0\n",
       "Work_Phone           0\n",
       "Phone                0\n",
       "EMAIL_ID             0\n",
       "Type_Occupation    488\n",
       "Family_Members       0\n",
       "label                0\n",
       "dtype: int64"
      ]
     },
     "execution_count": 9,
     "metadata": {},
     "output_type": "execute_result"
    }
   ],
   "source": [
    "df.isnull().sum()"
   ]
  },
  {
   "cell_type": "markdown",
   "id": "5308cf3e",
   "metadata": {},
   "source": [
    "#### counting age in years "
   ]
  },
  {
   "cell_type": "code",
   "execution_count": 10,
   "id": "210011ef",
   "metadata": {},
   "outputs": [],
   "source": [
    "### changing the birthdau count column to age \n",
    "df[\"Age\"]=abs(df[\"Birthday_count\"]//365)"
   ]
  },
  {
   "cell_type": "code",
   "execution_count": 11,
   "id": "e321ec51",
   "metadata": {},
   "outputs": [
    {
     "data": {
      "text/plain": [
       "array([52, 38, 44, 61, 50, 25, 47, 36, 33, 49, 34, 60, 31, 55, 30, 56, 58,\n",
       "       66, 53, 45, 64, 43, 51, 32, 27, 29, 46, 68, 26, 65, 42, 39, 40, 35,\n",
       "       48, 63, 54, 62, 59, 28, 57, 67, 41, 37, 24, 23, 69, 22])"
      ]
     },
     "execution_count": 11,
     "metadata": {},
     "output_type": "execute_result"
    }
   ],
   "source": [
    "#filling missing values in age\n",
    "df[\"Age\"]=df[\"Age\"].fillna(df[\"Age\"].mean())\n",
    "df[\"Age\"]=df[\"Age\"].astype(int)\n",
    "df[\"Age\"].unique() "
   ]
  },
  {
   "cell_type": "code",
   "execution_count": 12,
   "id": "fc431fa4",
   "metadata": {},
   "outputs": [
    {
     "data": {
      "text/plain": [
       "261"
      ]
     },
     "execution_count": 12,
     "metadata": {},
     "output_type": "execute_result"
    }
   ],
   "source": [
    "### fnding number of unemployed people \n",
    "len(df[df[\"Employed_days\"]>0])"
   ]
  },
  {
   "cell_type": "code",
   "execution_count": 13,
   "id": "6846f566",
   "metadata": {},
   "outputs": [
    {
     "data": {
      "text/plain": [
       "array([365243], dtype=int64)"
      ]
     },
     "execution_count": 13,
     "metadata": {},
     "output_type": "execute_result"
    }
   ],
   "source": [
    "df[df[\"Employed_days\"]>0][\"Employed_days\"].unique() "
   ]
  },
  {
   "cell_type": "markdown",
   "id": "b3b46cea",
   "metadata": {},
   "source": [
    "- There 261 people who are unemployed \n",
    "- All of the unemployed people have same entry for for Employment days i.e 365243."
   ]
  },
  {
   "cell_type": "code",
   "execution_count": 14,
   "id": "01abb2b4",
   "metadata": {},
   "outputs": [],
   "source": [
    "df[\"Employed_days\"]=df[\"Employed_days\"].replace(365243,0)"
   ]
  },
  {
   "cell_type": "code",
   "execution_count": 15,
   "id": "e4a08e84",
   "metadata": {},
   "outputs": [],
   "source": [
    "### changing employment days to years\n",
    "df[\"EmploymentYears\"]=abs(df[\"Employed_days\"]//365) "
   ]
  },
  {
   "cell_type": "code",
   "execution_count": 16,
   "id": "e1752f22",
   "metadata": {},
   "outputs": [
    {
     "data": {
      "text/plain": [
       "array([ 0,  2,  3,  1,  7,  5, 12, 10, 14,  4, 21, 20,  6, 23, 11,  8, 19,\n",
       "       18, 26,  9, 13, 15, 24, 16, 17, 34, 37, 28, 41, 22, 35, 27, 32, 25,\n",
       "       30, 38, 33, 29, 36], dtype=int64)"
      ]
     },
     "execution_count": 16,
     "metadata": {},
     "output_type": "execute_result"
    }
   ],
   "source": [
    "df[\"EmploymentYears\"].unique() "
   ]
  },
  {
   "cell_type": "code",
   "execution_count": 17,
   "id": "46db45f3",
   "metadata": {},
   "outputs": [
    {
     "data": {
      "text/plain": [
       "0.3152454780361757"
      ]
     },
     "execution_count": 17,
     "metadata": {},
     "output_type": "execute_result"
    }
   ],
   "source": [
    "df[\"Type_Occupation\"].isnull().sum()/df.shape[0] "
   ]
  },
  {
   "cell_type": "markdown",
   "id": "37102f15",
   "metadata": {},
   "source": [
    "- More than 30% values are missing in the OccupationType Column so we can drop this column.\n",
    "- Ind_ID column,Employed_days and Birthday_count can be dropped"
   ]
  },
  {
   "cell_type": "code",
   "execution_count": 18,
   "id": "4de8da42",
   "metadata": {},
   "outputs": [],
   "source": [
    "df.drop(columns=[\"Birthday_count\",\"Employed_days\",\"Ind_ID\",\"Type_Occupation\"],inplace=True) "
   ]
  },
  {
   "cell_type": "code",
   "execution_count": 19,
   "id": "10f70802",
   "metadata": {},
   "outputs": [
    {
     "data": {
      "text/plain": [
       "GENDER              7\n",
       "Car_Owner           0\n",
       "Propert_Owner       0\n",
       "CHILDREN            0\n",
       "Annual_income      23\n",
       "Type_Income         0\n",
       "EDUCATION           0\n",
       "Marital_status      0\n",
       "Housing_type        0\n",
       "Mobile_phone        0\n",
       "Work_Phone          0\n",
       "Phone               0\n",
       "EMAIL_ID            0\n",
       "Family_Members      0\n",
       "label               0\n",
       "Age                 0\n",
       "EmploymentYears     0\n",
       "dtype: int64"
      ]
     },
     "execution_count": 19,
     "metadata": {},
     "output_type": "execute_result"
    }
   ],
   "source": [
    "df.isnull().sum() "
   ]
  },
  {
   "cell_type": "code",
   "execution_count": 20,
   "id": "e3e9ec62",
   "metadata": {},
   "outputs": [
    {
     "data": {
      "text/plain": [
       "<Axes: xlabel='Annual_income'>"
      ]
     },
     "execution_count": 20,
     "metadata": {},
     "output_type": "execute_result"
    },
    {
     "data": {
      "image/png": "[encoded data removed]",
      "text/plain": [
       "<Figure size 640x480 with 1 Axes>"
      ]
     },
     "metadata": {},
     "output_type": "display_data"
    }
   ],
   "source": [
    "sns.boxplot(data=df,x=\"Annual_income\") "
   ]
  },
  {
   "cell_type": "code",
   "execution_count": 21,
   "id": "0c18f7df",
   "metadata": {},
   "outputs": [
    {
     "data": {
      "text/plain": [
       "0.04263565891472868"
      ]
     },
     "execution_count": 21,
     "metadata": {},
     "output_type": "execute_result"
    }
   ],
   "source": [
    "###by capping we can remove outlier data points in annual income\n",
    "len(df[df[\"Annual_income\"]>400000])/df.shape[0]"
   ]
  },
  {
   "cell_type": "markdown",
   "id": "58d50921",
   "metadata": {},
   "source": [
    "- Since there are 4 percent outliers we can remove them "
   ]
  },
  {
   "cell_type": "code",
   "execution_count": 22,
   "id": "512c653f",
   "metadata": {},
   "outputs": [],
   "source": [
    "df=df[df[\"Annual_income\"]<400000]"
   ]
  },
  {
   "cell_type": "code",
   "execution_count": 23,
   "id": "f619a0e6",
   "metadata": {},
   "outputs": [
    {
     "data": {
      "text/plain": [
       "(1459, 17)"
      ]
     },
     "execution_count": 23,
     "metadata": {},
     "output_type": "execute_result"
    }
   ],
   "source": [
    "df.shape"
   ]
  },
  {
   "cell_type": "markdown",
   "id": "3454a24d",
   "metadata": {},
   "source": [
    "#### filling missing value"
   ]
  },
  {
   "cell_type": "code",
   "execution_count": 24,
   "id": "30666fca",
   "metadata": {},
   "outputs": [],
   "source": [
    "#gender column with mode\n",
    "df[\"GENDER\"]=df[\"GENDER\"].fillna(df[\"GENDER\"].mode()[0])"
   ]
  },
  {
   "cell_type": "code",
   "execution_count": 25,
   "id": "2c80c949",
   "metadata": {},
   "outputs": [],
   "source": [
    "#Annual income with mean \n",
    "df[\"Annual_income\"]=df[\"Annual_income\"].fillna(df[\"Annual_income\"].mean()) "
   ]
  },
  {
   "cell_type": "code",
   "execution_count": 26,
   "id": "7fe927a1",
   "metadata": {},
   "outputs": [
    {
     "data": {
      "text/plain": [
       "GENDER             0\n",
       "Car_Owner          0\n",
       "Propert_Owner      0\n",
       "CHILDREN           0\n",
       "Annual_income      0\n",
       "Type_Income        0\n",
       "EDUCATION          0\n",
       "Marital_status     0\n",
       "Housing_type       0\n",
       "Mobile_phone       0\n",
       "Work_Phone         0\n",
       "Phone              0\n",
       "EMAIL_ID           0\n",
       "Family_Members     0\n",
       "label              0\n",
       "Age                0\n",
       "EmploymentYears    0\n",
       "dtype: int64"
      ]
     },
     "execution_count": 26,
     "metadata": {},
     "output_type": "execute_result"
    }
   ],
   "source": [
    "df.isnull().sum() "
   ]
  },
  {
   "cell_type": "code",
   "execution_count": 27,
   "id": "02ca2e79",
   "metadata": {},
   "outputs": [
    {
     "name": "stdout",
     "output_type": "stream",
     "text": [
      "===========\n",
      "GENDER      ['M' 'F']\n",
      "===========\n",
      "Car_Owner      ['Y' 'N']\n",
      "===========\n",
      "Propert_Owner      ['Y' 'N']\n",
      "===========\n",
      "CHILDREN      [ 0  2  1  4  3 14]\n",
      "===========\n",
      "Annual_income      [180000.  315000.   90000.  270000.  126000.  202500.  157500.  112500.\n",
      " 292500.  135000.   76500.  215100.  225000.   67500.  171000.  103500.\n",
      "  99000.  391500.   65250.   72900.  360000.  256500.  247500.   85500.\n",
      " 121500.  130500.  211500.   81000.   72000.  148500.  162000.  195750.\n",
      " 216000.  306000.  108000.   63000.   45000.  337500.  131400.  117000.\n",
      " 234000.  144000.   67050.   73350.  193500.   94500.  198000.   54000.\n",
      " 166500.  167400.  153000.  243000.  283500.  252000.   36000.  139500.\n",
      " 133650.  261000.  231750.   90900.   45900.  119250.   58500.  328500.\n",
      " 119700.   69372.   37800.  387000.  207000.  189000.  333000.  105750.\n",
      " 382500.  141750.   40500.   44550.  301500.  351000.  175500.  121900.5\n",
      " 238500.   33750.  116100.  297000.   83250.  173250.  274500.  115200.\n",
      "  56250.   95850.  185400.  184500.  165600.  114750.   47250.   49500.\n",
      "  69750. ]\n",
      "===========\n",
      "Type_Income      ['Pensioner' 'Commercial associate' 'Working' 'State servant']\n",
      "===========\n",
      "EDUCATION      ['Higher education' 'Secondary / secondary special' 'Lower secondary'\n",
      " 'Incomplete higher' 'Academic degree']\n",
      "===========\n",
      "Marital_status      ['Married' 'Single / not married' 'Civil marriage' 'Separated' 'Widow']\n",
      "===========\n",
      "Housing_type      ['House / apartment' 'Rented apartment' 'Municipal apartment'\n",
      " 'With parents' 'Co-op apartment' 'Office apartment']\n",
      "===========\n",
      "Mobile_phone      [1]\n",
      "===========\n",
      "Work_Phone      [0 1]\n",
      "===========\n",
      "Phone      [0 1]\n",
      "===========\n",
      "EMAIL_ID      [0 1]\n",
      "===========\n",
      "Family_Members      [ 2  1  4  3  6  5 15]\n",
      "===========\n",
      "label      [1 0]\n",
      "===========\n",
      "Age      [52 38 44 61 47 36 33 49 34 60 31 30 56 58 66 53 64 43 51 32 27 29 50 45\n",
      " 46 68 26 65 25 42 39 40 35 48 55 63 54 62 59 28 57 67 41 37 24 23 69 22]\n",
      "===========\n",
      "EmploymentYears      [ 0  2  3  1  7  5 12 10 14  4 21 20  6 23 11  8 19 18 26  9 15 24 16 17\n",
      " 13 34 37 28 41 22 35 27 32 25 30 38 33 29 36]\n"
     ]
    }
   ],
   "source": [
    "for col in df.columns:\n",
    "    print(\"===========\")\n",
    "    print(col,\"    \",df[col].unique())"
   ]
  },
  {
   "cell_type": "code",
   "execution_count": 28,
   "id": "d425fb83",
   "metadata": {},
   "outputs": [],
   "source": [
    "### removing Mobile_phone column as it contains only one unique value   \n",
    "df.drop(columns=[\"Mobile_phone\"],inplace=True)"
   ]
  },
  {
   "cell_type": "code",
   "execution_count": 29,
   "id": "de749d67",
   "metadata": {},
   "outputs": [
    {
     "name": "stdout",
     "output_type": "stream",
     "text": [
      "<class 'pandas.core.frame.DataFrame'>\n",
      "Index: 1459 entries, 0 to 1547\n",
      "Data columns (total 16 columns):\n",
      " #   Column           Non-Null Count  Dtype  \n",
      "---  ------           --------------  -----  \n",
      " 0   GENDER           1459 non-null   object \n",
      " 1   Car_Owner        1459 non-null   object \n",
      " 2   Propert_Owner    1459 non-null   object \n",
      " 3   CHILDREN         1459 non-null   int64  \n",
      " 4   Annual_income    1459 non-null   float64\n",
      " 5   Type_Income      1459 non-null   object \n",
      " 6   EDUCATION        1459 non-null   object \n",
      " 7   Marital_status   1459 non-null   object \n",
      " 8   Housing_type     1459 non-null   object \n",
      " 9   Work_Phone       1459 non-null   int64  \n",
      " 10  Phone            1459 non-null   int64  \n",
      " 11  EMAIL_ID         1459 non-null   int64  \n",
      " 12  Family_Members   1459 non-null   int64  \n",
      " 13  label            1459 non-null   int64  \n",
      " 14  Age              1459 non-null   int32  \n",
      " 15  EmploymentYears  1459 non-null   int64  \n",
      "dtypes: float64(1), int32(1), int64(7), object(7)\n",
      "memory usage: 188.1+ KB\n"
     ]
    }
   ],
   "source": [
    "df.info() "
   ]
  },
  {
   "cell_type": "markdown",
   "id": "9b0ba8ef",
   "metadata": {},
   "source": [
    "#### UNIVARIATE ANALYSIS "
   ]
  },
  {
   "cell_type": "code",
   "execution_count": 30,
   "id": "e0f3a931",
   "metadata": {},
   "outputs": [],
   "source": [
    "df_ob=df.select_dtypes(include=\"object\")"
   ]
  },
  {
   "cell_type": "code",
   "execution_count": 31,
   "id": "78e66d8a",
   "metadata": {},
   "outputs": [],
   "source": [
    "df_num=df.select_dtypes(include=[\"int64\",\"float64\",\"int32\"])"
   ]
  },
  {
   "cell_type": "code",
   "execution_count": 32,
   "id": "065d0420",
   "metadata": {},
   "outputs": [
    {
     "data": {
      "text/plain": [
       "Index(['CHILDREN', 'Annual_income', 'Work_Phone', 'Phone', 'EMAIL_ID',\n",
       "       'Family_Members', 'label', 'Age', 'EmploymentYears'],\n",
       "      dtype='object')"
      ]
     },
     "execution_count": 32,
     "metadata": {},
     "output_type": "execute_result"
    }
   ],
   "source": [
    "\n",
    "df_num.columns"
   ]
  },
  {
   "cell_type": "code",
   "execution_count": 33,
   "id": "f3fd7908",
   "metadata": {},
   "outputs": [
    {
     "data": {
      "text/plain": [
       "Index(['GENDER', 'Car_Owner', 'Propert_Owner', 'Type_Income', 'EDUCATION',\n",
       "       'Marital_status', 'Housing_type'],\n",
       "      dtype='object')"
      ]
     },
     "execution_count": 33,
     "metadata": {},
     "output_type": "execute_result"
    }
   ],
   "source": [
    "df_ob.columns"
   ]
  },
  {
   "cell_type": "code",
   "execution_count": 34,
   "id": "8c494e8d",
   "metadata": {},
   "outputs": [],
   "source": [
    "#since work phone.emailid,chidren phone and Family_Members seemsto be dicrete in nature we can add them in df_obj\n",
    "obj_columns=['GENDER', 'Car_Owner', 'Propert_Owner', 'Type_Income', 'EDUCATION',\n",
    "       'Marital_status', 'Housing_type',\"CHILDREN\",\"Work_Phone\",\"Phone\",\"EMAIL_ID\",'Family_Members'] "
   ]
  },
  {
   "cell_type": "code",
   "execution_count": 35,
   "id": "153faf61",
   "metadata": {},
   "outputs": [],
   "source": [
    "num_columns=[\"Annual_income\",\"Age\",\"EmploymentYears\"]"
   ]
  },
  {
   "cell_type": "code",
   "execution_count": 35,
   "id": "4aa33a65",
   "metadata": {},
   "outputs": [
    {
     "name": "stdout",
     "output_type": "stream",
     "text": [
      "========================\n",
      "GENDER\n",
      "F    942\n",
      "M    517\n",
      "Name: count, dtype: int64\n",
      "========================\n",
      "Car_Owner\n",
      "N    892\n",
      "Y    567\n",
      "Name: count, dtype: int64\n",
      "========================\n",
      "Propert_Owner\n",
      "Y    939\n",
      "N    520\n",
      "Name: count, dtype: int64\n",
      "========================\n",
      "Type_Income\n",
      "Working                 768\n",
      "Commercial associate    325\n",
      "Pensioner               257\n",
      "State servant           109\n",
      "Name: count, dtype: int64\n",
      "========================\n",
      "EDUCATION\n",
      "Secondary / secondary special    993\n",
      "Higher education                 378\n",
      "Incomplete higher                 65\n",
      "Lower secondary                   21\n",
      "Academic degree                    2\n",
      "Name: count, dtype: int64\n",
      "========================\n",
      "Marital_status\n",
      "Married                 991\n",
      "Single / not married    207\n",
      "Civil marriage           99\n",
      "Separated                88\n",
      "Widow                    74\n",
      "Name: count, dtype: int64\n",
      "========================\n",
      "Housing_type\n",
      "House / apartment      1301\n",
      "With parents             76\n",
      "Municipal apartment      51\n",
      "Rented apartment         19\n",
      "Office apartment          7\n",
      "Co-op apartment           5\n",
      "Name: count, dtype: int64\n",
      "========================\n",
      "CHILDREN\n",
      "0     1043\n",
      "1      273\n",
      "2      125\n",
      "3       16\n",
      "4        1\n",
      "14       1\n",
      "Name: count, dtype: int64\n",
      "========================\n",
      "Work_Phone\n",
      "0    1153\n",
      "1     306\n",
      "Name: count, dtype: int64\n",
      "========================\n",
      "Phone\n",
      "0    1019\n",
      "1     440\n",
      "Name: count, dtype: int64\n",
      "========================\n",
      "EMAIL_ID\n",
      "0    1338\n",
      "1     121\n",
      "Name: count, dtype: int64\n",
      "========================\n",
      "Family_Members\n",
      "2     768\n",
      "1     313\n",
      "3     241\n",
      "4     120\n",
      "5      15\n",
      "6       1\n",
      "15      1\n",
      "Name: count, dtype: int64\n"
     ]
    }
   ],
   "source": [
    "for col in obj_columns:\n",
    "    print(\"========================\")\n",
    "    print(df[col].value_counts()) "
   ]
  },
  {
   "cell_type": "code",
   "execution_count": 76,
   "id": "fdd8573f",
   "metadata": {
    "scrolled": false
   },
   "outputs": [
    {
     "data": {
      "image/png": "[encoded data removed]",
      "text/plain": [
       "<Figure size 2000x3000 with 12 Axes>"
      ]
     },
     "metadata": {},
     "output_type": "display_data"
    },
    {
     "data": {
      "text/plain": [
       "<Figure size 640x480 with 0 Axes>"
      ]
     },
     "metadata": {},
     "output_type": "display_data"
    }
   ],
   "source": [
    "sns.set_theme(style=\"darkgrid\")\n",
    "plt.figure(figsize=(20,30))\n",
    "for i in range(len(obj_columns)):\n",
    "    plt.subplot(6,2,i+1)\n",
    "    sns.countplot(data=df,y=df[obj_columns[i]]) \n",
    "    \n",
    "plt.show() \n",
    "plt.tight_layout() "
   ]
  },
  {
   "cell_type": "code",
   "execution_count": 38,
   "id": "3aef2f1e",
   "metadata": {
    "scrolled": false
   },
   "outputs": [
    {
     "data": {
      "image/png": "[encoded data removed]",
      "text/plain": [
       "<Figure size 1000x1000 with 3 Axes>"
      ]
     },
     "metadata": {},
     "output_type": "display_data"
    },
    {
     "data": {
      "text/plain": [
       "<Figure size 640x480 with 0 Axes>"
      ]
     },
     "metadata": {},
     "output_type": "display_data"
    }
   ],
   "source": [
    "plt.figure(figsize=(10,10))\n",
    "for i in range(len(num_columns)):\n",
    "    plt.subplot(3,1,i+1)\n",
    "    sns.histplot(df[num_columns[i]])\n",
    "plt.show()\n",
    "plt.tight_layout() "
   ]
  },
  {
   "cell_type": "code",
   "execution_count": 79,
   "id": "c8bb677e",
   "metadata": {},
   "outputs": [
    {
     "data": {
      "image/png": "[encoded data removed]",
      "text/plain": [
       "<Figure size 1000x1000 with 3 Axes>"
      ]
     },
     "metadata": {},
     "output_type": "display_data"
    },
    {
     "data": {
      "text/plain": [
       "<Figure size 640x480 with 0 Axes>"
      ]
     },
     "metadata": {},
     "output_type": "display_data"
    }
   ],
   "source": [
    "plt.figure(figsize=(10,10))\n",
    "for i in range(len(num_columns)):\n",
    "    plt.subplot(3,1,i+1) \n",
    "    sns.boxplot(df[num_columns[i]])\n",
    "    plt.title(num_columns[i])\n",
    "plt.show()\n",
    "plt.tight_layout() "
   ]
  },
  {
   "cell_type": "code",
   "execution_count": 80,
   "id": "dd7c026c",
   "metadata": {},
   "outputs": [
    {
     "name": "stdout",
     "output_type": "stream",
     "text": [
      "label\n",
      "0    1307\n",
      "1     152\n",
      "Name: count, dtype: int64\n"
     ]
    },
    {
     "data": {
      "text/plain": [
       "<Axes: xlabel='label', ylabel='count'>"
      ]
     },
     "execution_count": 80,
     "metadata": {},
     "output_type": "execute_result"
    },
    {
     "data": {
      "image/png": "[encoded data removed]",
      "text/plain": [
       "<Figure size 640x480 with 1 Axes>"
      ]
     },
     "metadata": {},
     "output_type": "display_data"
    }
   ],
   "source": [
    "print(df[\"label\"].value_counts())\n",
    "sns.countplot(data=df,x=df[\"label\"])"
   ]
  },
  {
   "cell_type": "markdown",
   "id": "6c915797",
   "metadata": {},
   "source": [
    "### numerical vs label column\n"
   ]
  },
  {
   "cell_type": "code",
   "execution_count": 81,
   "id": "847484d3",
   "metadata": {},
   "outputs": [
    {
     "data": {
      "image/png": "[encoded data removed]",
      "text/plain": [
       "<Figure size 700x1400 with 3 Axes>"
      ]
     },
     "metadata": {},
     "output_type": "display_data"
    },
    {
     "data": {
      "text/plain": [
       "<Figure size 640x480 with 0 Axes>"
      ]
     },
     "metadata": {},
     "output_type": "display_data"
    }
   ],
   "source": [
    "plt.figure(figsize=(7,14))\n",
    "for i in range(len(num_columns)):\n",
    "    plt.subplot(3,1,i+1)\n",
    "    sns.boxplot(data=df,y=df[num_columns[i]],x=\"label\")\n",
    "    \n",
    "plt.show()\n",
    "plt.tight_layout() "
   ]
  },
  {
   "cell_type": "markdown",
   "id": "f6d88cd1",
   "metadata": {},
   "source": [
    "#### categorical vs label column "
   ]
  },
  {
   "cell_type": "code",
   "execution_count": 82,
   "id": "bc6790da",
   "metadata": {
    "scrolled": true
   },
   "outputs": [
    {
     "data": {
      "image/png": "[encoded data removed]",
      "text/plain": [
       "<Figure size 2000x6000 with 12 Axes>"
      ]
     },
     "metadata": {},
     "output_type": "display_data"
    },
    {
     "data": {
      "text/plain": [
       "<Figure size 640x480 with 0 Axes>"
      ]
     },
     "metadata": {},
     "output_type": "display_data"
    }
   ],
   "source": [
    "sns.set_theme(style=\"darkgrid\")\n",
    "plt.figure(figsize=(20,60))\n",
    "for i in range(len(obj_columns)):\n",
    "   \n",
    "        plt.subplot(6,2,i+1)\n",
    "        sns.countplot(data=df,x=df[obj_columns[i]],hue=\"label\") \n",
    "        plt.xticks(rotation=90)\n",
    "plt.show() \n",
    "plt.tight_layout() "
   ]
  },
  {
   "cell_type": "code",
   "execution_count": 38,
   "id": "f601eac6",
   "metadata": {},
   "outputs": [
    {
     "data": {
      "text/plain": [
       "0.053461274845784786"
      ]
     },
     "execution_count": 38,
     "metadata": {},
     "output_type": "execute_result"
    }
   ],
   "source": [
    "### Since Employment years have outliers we will remove them \n",
    "len(df[df[\"EmploymentYears\"]>20])/df.shape[0]   "
   ]
  },
  {
   "cell_type": "markdown",
   "id": "20f2423d",
   "metadata": {},
   "source": [
    "- Since Employment years have almost 5% data as outliers we can remove them"
   ]
  },
  {
   "cell_type": "code",
   "execution_count": 39,
   "id": "fe0f73f2",
   "metadata": {},
   "outputs": [],
   "source": [
    "df=df[df[\"EmploymentYears\"]<20]"
   ]
  },
  {
   "cell_type": "code",
   "execution_count": 40,
   "id": "2fd10195",
   "metadata": {},
   "outputs": [
    {
     "data": {
      "text/plain": [
       "(1367, 16)"
      ]
     },
     "execution_count": 40,
     "metadata": {},
     "output_type": "execute_result"
    }
   ],
   "source": [
    "df.shape"
   ]
  },
  {
   "cell_type": "code",
   "execution_count": 84,
   "id": "5d04ca52",
   "metadata": {},
   "outputs": [
    {
     "data": {
      "text/plain": [
       "Index(['GENDER', 'Car_Owner', 'Propert_Owner', 'CHILDREN', 'Annual_income',\n",
       "       'Type_Income', 'EDUCATION', 'Marital_status', 'Housing_type',\n",
       "       'Work_Phone', 'Phone', 'EMAIL_ID', 'Family_Members', 'label', 'Age',\n",
       "       'EmploymentYears'],\n",
       "      dtype='object')"
      ]
     },
     "execution_count": 84,
     "metadata": {},
     "output_type": "execute_result"
    }
   ],
   "source": [
    "df.columns "
   ]
  },
  {
   "cell_type": "markdown",
   "id": "9d920cbd",
   "metadata": {},
   "source": [
    "### separating input and output "
   ]
  },
  {
   "cell_type": "code",
   "execution_count": 41,
   "id": "f35aa7be",
   "metadata": {},
   "outputs": [],
   "source": [
    "x=df[['GENDER', 'Car_Owner', 'Propert_Owner', 'CHILDREN', 'Annual_income',\n",
    "       'Type_Income', 'EDUCATION', 'Marital_status', 'Housing_type',\n",
    "       'Work_Phone', 'Phone', 'EMAIL_ID', 'Family_Members', 'Age',\n",
    "       'EmploymentYears']]\n",
    "y=df[\"label\"] "
   ]
  },
  {
   "cell_type": "code",
   "execution_count": 42,
   "id": "a7b95796",
   "metadata": {},
   "outputs": [],
   "source": [
    "from sklearn.model_selection import train_test_split\n",
    "from sklearn.preprocessing import StandardScaler,OneHotEncoder\n"
   ]
  },
  {
   "cell_type": "markdown",
   "id": "9be0d5ed",
   "metadata": {},
   "source": [
    "### splitting data into train and test "
   ]
  },
  {
   "cell_type": "code",
   "execution_count": 43,
   "id": "bfd4ee9f",
   "metadata": {},
   "outputs": [
    {
     "name": "stdout",
     "output_type": "stream",
     "text": [
      "(1093, 15) (1093,)\n",
      "(274, 15) (274,)\n"
     ]
    }
   ],
   "source": [
    "X_train,X_test,y_train,y_test=train_test_split(x,y,test_size=0.2,random_state=40)\n",
    "print(X_train.shape,y_train.shape)\n",
    "print(X_test.shape,y_test.shape)"
   ]
  },
  {
   "cell_type": "markdown",
   "id": "8141bbe6",
   "metadata": {},
   "source": [
    "#### transforming the train features"
   ]
  },
  {
   "cell_type": "code",
   "execution_count": 44,
   "id": "7d7c1404",
   "metadata": {},
   "outputs": [
    {
     "data": {
      "text/html": [
       "<div>\n",
       "<style scoped>\n",
       "    .dataframe tbody tr th:only-of-type {\n",
       "        vertical-align: middle;\n",
       "    }\n",
       "\n",
       "    .dataframe tbody tr th {\n",
       "        vertical-align: top;\n",
       "    }\n",
       "\n",
       "    .dataframe thead th {\n",
       "        text-align: right;\n",
       "    }\n",
       "</style>\n",
       "<table border=\"1\" class=\"dataframe\">\n",
       "  <thead>\n",
       "    <tr style=\"text-align: right;\">\n",
       "      <th></th>\n",
       "      <th>GENDER</th>\n",
       "      <th>Car_Owner</th>\n",
       "      <th>Propert_Owner</th>\n",
       "      <th>Type_Income</th>\n",
       "      <th>EDUCATION</th>\n",
       "      <th>Marital_status</th>\n",
       "      <th>Housing_type</th>\n",
       "    </tr>\n",
       "  </thead>\n",
       "  <tbody>\n",
       "    <tr>\n",
       "      <th>1259</th>\n",
       "      <td>M</td>\n",
       "      <td>Y</td>\n",
       "      <td>N</td>\n",
       "      <td>Commercial associate</td>\n",
       "      <td>Secondary / secondary special</td>\n",
       "      <td>Married</td>\n",
       "      <td>House / apartment</td>\n",
       "    </tr>\n",
       "    <tr>\n",
       "      <th>864</th>\n",
       "      <td>F</td>\n",
       "      <td>N</td>\n",
       "      <td>Y</td>\n",
       "      <td>Pensioner</td>\n",
       "      <td>Secondary / secondary special</td>\n",
       "      <td>Single / not married</td>\n",
       "      <td>House / apartment</td>\n",
       "    </tr>\n",
       "    <tr>\n",
       "      <th>927</th>\n",
       "      <td>M</td>\n",
       "      <td>Y</td>\n",
       "      <td>N</td>\n",
       "      <td>Commercial associate</td>\n",
       "      <td>Incomplete higher</td>\n",
       "      <td>Married</td>\n",
       "      <td>House / apartment</td>\n",
       "    </tr>\n",
       "    <tr>\n",
       "      <th>1321</th>\n",
       "      <td>M</td>\n",
       "      <td>N</td>\n",
       "      <td>Y</td>\n",
       "      <td>Commercial associate</td>\n",
       "      <td>Secondary / secondary special</td>\n",
       "      <td>Civil marriage</td>\n",
       "      <td>House / apartment</td>\n",
       "    </tr>\n",
       "    <tr>\n",
       "      <th>1508</th>\n",
       "      <td>F</td>\n",
       "      <td>N</td>\n",
       "      <td>N</td>\n",
       "      <td>Pensioner</td>\n",
       "      <td>Secondary / secondary special</td>\n",
       "      <td>Widow</td>\n",
       "      <td>House / apartment</td>\n",
       "    </tr>\n",
       "  </tbody>\n",
       "</table>\n",
       "</div>"
      ],
      "text/plain": [
       "     GENDER Car_Owner Propert_Owner           Type_Income  \\\n",
       "1259      M         Y             N  Commercial associate   \n",
       "864       F         N             Y             Pensioner   \n",
       "927       M         Y             N  Commercial associate   \n",
       "1321      M         N             Y  Commercial associate   \n",
       "1508      F         N             N             Pensioner   \n",
       "\n",
       "                          EDUCATION        Marital_status       Housing_type  \n",
       "1259  Secondary / secondary special               Married  House / apartment  \n",
       "864   Secondary / secondary special  Single / not married  House / apartment  \n",
       "927               Incomplete higher               Married  House / apartment  \n",
       "1321  Secondary / secondary special        Civil marriage  House / apartment  \n",
       "1508  Secondary / secondary special                 Widow  House / apartment  "
      ]
     },
     "execution_count": 44,
     "metadata": {},
     "output_type": "execute_result"
    }
   ],
   "source": [
    "x_train_cat=X_train.select_dtypes(include=\"object\")\n",
    "x_train_cat.head() "
   ]
  },
  {
   "cell_type": "code",
   "execution_count": 45,
   "id": "1d0fd583",
   "metadata": {},
   "outputs": [
    {
     "name": "stderr",
     "output_type": "stream",
     "text": [
      "C:\\Users\\ibteda azeem\\AppData\\Roaming\\Python\\Python311\\site-packages\\sklearn\\preprocessing\\_encoders.py:868: FutureWarning: `sparse` was renamed to `sparse_output` in version 1.2 and will be removed in 1.4. `sparse_output` is ignored unless you leave `sparse` to its default value.\n",
      "  warnings.warn(\n"
     ]
    },
    {
     "data": {
      "text/plain": [
       "array([[1., 1., 0., ..., 0., 0., 0.],\n",
       "       [0., 0., 1., ..., 0., 0., 0.],\n",
       "       [1., 1., 0., ..., 0., 0., 0.],\n",
       "       ...,\n",
       "       [0., 1., 1., ..., 0., 0., 0.],\n",
       "       [0., 0., 1., ..., 0., 0., 0.],\n",
       "       [1., 1., 1., ..., 0., 0., 1.]])"
      ]
     },
     "execution_count": 45,
     "metadata": {},
     "output_type": "execute_result"
    }
   ],
   "source": [
    "#one hot encoding the cat features\n",
    "encoder = OneHotEncoder(drop='first', handle_unknown='ignore',sparse=False)\n",
    "\n",
    "x_train_cat =encoder.fit_transform(x_train_cat)\n",
    "        \n",
    "\n",
    "x_train_cat"
   ]
  },
  {
   "cell_type": "code",
   "execution_count": 46,
   "id": "23b01ca0",
   "metadata": {},
   "outputs": [
    {
     "data": {
      "text/html": [
       "<div>\n",
       "<style scoped>\n",
       "    .dataframe tbody tr th:only-of-type {\n",
       "        vertical-align: middle;\n",
       "    }\n",
       "\n",
       "    .dataframe tbody tr th {\n",
       "        vertical-align: top;\n",
       "    }\n",
       "\n",
       "    .dataframe thead th {\n",
       "        text-align: right;\n",
       "    }\n",
       "</style>\n",
       "<table border=\"1\" class=\"dataframe\">\n",
       "  <thead>\n",
       "    <tr style=\"text-align: right;\">\n",
       "      <th></th>\n",
       "      <th>CHILDREN</th>\n",
       "      <th>Annual_income</th>\n",
       "      <th>Work_Phone</th>\n",
       "      <th>Phone</th>\n",
       "      <th>EMAIL_ID</th>\n",
       "      <th>Family_Members</th>\n",
       "      <th>Age</th>\n",
       "      <th>EmploymentYears</th>\n",
       "    </tr>\n",
       "  </thead>\n",
       "  <tbody>\n",
       "    <tr>\n",
       "      <th>1259</th>\n",
       "      <td>0</td>\n",
       "      <td>135000.0</td>\n",
       "      <td>1</td>\n",
       "      <td>0</td>\n",
       "      <td>0</td>\n",
       "      <td>2</td>\n",
       "      <td>30</td>\n",
       "      <td>7</td>\n",
       "    </tr>\n",
       "    <tr>\n",
       "      <th>864</th>\n",
       "      <td>0</td>\n",
       "      <td>180000.0</td>\n",
       "      <td>0</td>\n",
       "      <td>0</td>\n",
       "      <td>0</td>\n",
       "      <td>1</td>\n",
       "      <td>57</td>\n",
       "      <td>0</td>\n",
       "    </tr>\n",
       "    <tr>\n",
       "      <th>927</th>\n",
       "      <td>0</td>\n",
       "      <td>126000.0</td>\n",
       "      <td>0</td>\n",
       "      <td>1</td>\n",
       "      <td>0</td>\n",
       "      <td>2</td>\n",
       "      <td>29</td>\n",
       "      <td>8</td>\n",
       "    </tr>\n",
       "    <tr>\n",
       "      <th>1321</th>\n",
       "      <td>0</td>\n",
       "      <td>90000.0</td>\n",
       "      <td>1</td>\n",
       "      <td>0</td>\n",
       "      <td>0</td>\n",
       "      <td>2</td>\n",
       "      <td>46</td>\n",
       "      <td>2</td>\n",
       "    </tr>\n",
       "    <tr>\n",
       "      <th>1508</th>\n",
       "      <td>0</td>\n",
       "      <td>198000.0</td>\n",
       "      <td>0</td>\n",
       "      <td>1</td>\n",
       "      <td>0</td>\n",
       "      <td>1</td>\n",
       "      <td>61</td>\n",
       "      <td>0</td>\n",
       "    </tr>\n",
       "  </tbody>\n",
       "</table>\n",
       "</div>"
      ],
      "text/plain": [
       "      CHILDREN  Annual_income  Work_Phone  Phone  EMAIL_ID  Family_Members  \\\n",
       "1259         0       135000.0           1      0         0               2   \n",
       "864          0       180000.0           0      0         0               1   \n",
       "927          0       126000.0           0      1         0               2   \n",
       "1321         0        90000.0           1      0         0               2   \n",
       "1508         0       198000.0           0      1         0               1   \n",
       "\n",
       "      Age  EmploymentYears  \n",
       "1259   30                7  \n",
       "864    57                0  \n",
       "927    29                8  \n",
       "1321   46                2  \n",
       "1508   61                0  "
      ]
     },
     "execution_count": 46,
     "metadata": {},
     "output_type": "execute_result"
    }
   ],
   "source": [
    "#numerical features\n",
    "x_train_num=X_train.select_dtypes(include=[\"int32\",\"int64\",\"float64\"])\n",
    "x_train_num.head() "
   ]
  },
  {
   "cell_type": "code",
   "execution_count": 47,
   "id": "26d49849",
   "metadata": {},
   "outputs": [
    {
     "data": {
      "text/plain": [
       "array([[-0.50343513, -0.55293384,  1.98637896, ..., -0.15654346,\n",
       "        -1.19635817,  0.35873527],\n",
       "       [-0.50343513,  0.06048202, -0.50342861, ..., -1.1872784 ,\n",
       "         1.12013851, -1.11769481],\n",
       "       [-0.50343513, -0.67561701, -0.50342861, ..., -0.15654346,\n",
       "        -1.28215434,  0.56965385],\n",
       "       ...,\n",
       "       [-0.50343513, -1.16634969,  1.98637896, ..., -0.15654346,\n",
       "         0.69115765, -0.48493907],\n",
       "       [-0.50343513, -0.24622591, -0.50342861, ..., -0.15654346,\n",
       "         0.94854617,  1.62424676],\n",
       "       [-0.50343513,  0.67389787, -0.50342861, ..., -1.1872784 ,\n",
       "        -1.19635817,  0.14781668]])"
      ]
     },
     "execution_count": 47,
     "metadata": {},
     "output_type": "execute_result"
    }
   ],
   "source": [
    "#standardizing the num features \n",
    "scaler=StandardScaler()\n",
    "x_train_num=scaler.fit_transform(x_train_num)\n",
    "x_train_num"
   ]
  },
  {
   "cell_type": "code",
   "execution_count": 48,
   "id": "c2a896f0",
   "metadata": {},
   "outputs": [
    {
     "data": {
      "text/plain": [
       "array([[ 1.        ,  1.        ,  0.        , ..., -0.15654346,\n",
       "        -1.19635817,  0.35873527],\n",
       "       [ 0.        ,  0.        ,  1.        , ..., -1.1872784 ,\n",
       "         1.12013851, -1.11769481],\n",
       "       [ 1.        ,  1.        ,  0.        , ..., -0.15654346,\n",
       "        -1.28215434,  0.56965385],\n",
       "       ...,\n",
       "       [ 0.        ,  1.        ,  1.        , ..., -0.15654346,\n",
       "         0.69115765, -0.48493907],\n",
       "       [ 0.        ,  0.        ,  1.        , ..., -0.15654346,\n",
       "         0.94854617,  1.62424676],\n",
       "       [ 1.        ,  1.        ,  1.        , ..., -1.1872784 ,\n",
       "        -1.19635817,  0.14781668]])"
      ]
     },
     "execution_count": 48,
     "metadata": {},
     "output_type": "execute_result"
    }
   ],
   "source": [
    "X_train=np.hstack([x_train_cat,x_train_num])\n",
    "X_train"
   ]
  },
  {
   "cell_type": "markdown",
   "id": "b9d74372",
   "metadata": {},
   "source": [
    "#### transforming the test features"
   ]
  },
  {
   "cell_type": "code",
   "execution_count": 49,
   "id": "1938d942",
   "metadata": {},
   "outputs": [
    {
     "data": {
      "text/html": [
       "<div>\n",
       "<style scoped>\n",
       "    .dataframe tbody tr th:only-of-type {\n",
       "        vertical-align: middle;\n",
       "    }\n",
       "\n",
       "    .dataframe tbody tr th {\n",
       "        vertical-align: top;\n",
       "    }\n",
       "\n",
       "    .dataframe thead th {\n",
       "        text-align: right;\n",
       "    }\n",
       "</style>\n",
       "<table border=\"1\" class=\"dataframe\">\n",
       "  <thead>\n",
       "    <tr style=\"text-align: right;\">\n",
       "      <th></th>\n",
       "      <th>GENDER</th>\n",
       "      <th>Car_Owner</th>\n",
       "      <th>Propert_Owner</th>\n",
       "      <th>Type_Income</th>\n",
       "      <th>EDUCATION</th>\n",
       "      <th>Marital_status</th>\n",
       "      <th>Housing_type</th>\n",
       "    </tr>\n",
       "  </thead>\n",
       "  <tbody>\n",
       "    <tr>\n",
       "      <th>1396</th>\n",
       "      <td>F</td>\n",
       "      <td>N</td>\n",
       "      <td>Y</td>\n",
       "      <td>Commercial associate</td>\n",
       "      <td>Secondary / secondary special</td>\n",
       "      <td>Married</td>\n",
       "      <td>House / apartment</td>\n",
       "    </tr>\n",
       "    <tr>\n",
       "      <th>935</th>\n",
       "      <td>F</td>\n",
       "      <td>N</td>\n",
       "      <td>Y</td>\n",
       "      <td>Working</td>\n",
       "      <td>Secondary / secondary special</td>\n",
       "      <td>Married</td>\n",
       "      <td>House / apartment</td>\n",
       "    </tr>\n",
       "    <tr>\n",
       "      <th>902</th>\n",
       "      <td>M</td>\n",
       "      <td>Y</td>\n",
       "      <td>Y</td>\n",
       "      <td>Working</td>\n",
       "      <td>Secondary / secondary special</td>\n",
       "      <td>Civil marriage</td>\n",
       "      <td>House / apartment</td>\n",
       "    </tr>\n",
       "    <tr>\n",
       "      <th>431</th>\n",
       "      <td>F</td>\n",
       "      <td>N</td>\n",
       "      <td>N</td>\n",
       "      <td>Working</td>\n",
       "      <td>Secondary / secondary special</td>\n",
       "      <td>Married</td>\n",
       "      <td>With parents</td>\n",
       "    </tr>\n",
       "    <tr>\n",
       "      <th>105</th>\n",
       "      <td>M</td>\n",
       "      <td>Y</td>\n",
       "      <td>N</td>\n",
       "      <td>Working</td>\n",
       "      <td>Secondary / secondary special</td>\n",
       "      <td>Single / not married</td>\n",
       "      <td>House / apartment</td>\n",
       "    </tr>\n",
       "  </tbody>\n",
       "</table>\n",
       "</div>"
      ],
      "text/plain": [
       "     GENDER Car_Owner Propert_Owner           Type_Income  \\\n",
       "1396      F         N             Y  Commercial associate   \n",
       "935       F         N             Y               Working   \n",
       "902       M         Y             Y               Working   \n",
       "431       F         N             N               Working   \n",
       "105       M         Y             N               Working   \n",
       "\n",
       "                          EDUCATION        Marital_status       Housing_type  \n",
       "1396  Secondary / secondary special               Married  House / apartment  \n",
       "935   Secondary / secondary special               Married  House / apartment  \n",
       "902   Secondary / secondary special        Civil marriage  House / apartment  \n",
       "431   Secondary / secondary special               Married       With parents  \n",
       "105   Secondary / secondary special  Single / not married  House / apartment  "
      ]
     },
     "execution_count": 49,
     "metadata": {},
     "output_type": "execute_result"
    }
   ],
   "source": [
    "x_test_cat=X_test.select_dtypes(include=\"object\")\n",
    "x_test_cat.head() "
   ]
  },
  {
   "cell_type": "code",
   "execution_count": 50,
   "id": "9ea57f5b",
   "metadata": {},
   "outputs": [
    {
     "data": {
      "text/plain": [
       "array([[0., 0., 1., ..., 0., 0., 0.],\n",
       "       [0., 0., 1., ..., 0., 0., 0.],\n",
       "       [1., 1., 1., ..., 0., 0., 0.],\n",
       "       ...,\n",
       "       [0., 0., 1., ..., 0., 0., 0.],\n",
       "       [0., 0., 0., ..., 0., 0., 1.],\n",
       "       [0., 0., 0., ..., 0., 0., 0.]])"
      ]
     },
     "execution_count": 50,
     "metadata": {},
     "output_type": "execute_result"
    }
   ],
   "source": [
    "x_test_cat = encoder.transform(x_test_cat) \n",
    "                               \n",
    "\n",
    "x_test_cat"
   ]
  },
  {
   "cell_type": "code",
   "execution_count": 51,
   "id": "6f074964",
   "metadata": {},
   "outputs": [
    {
     "data": {
      "text/html": [
       "<div>\n",
       "<style scoped>\n",
       "    .dataframe tbody tr th:only-of-type {\n",
       "        vertical-align: middle;\n",
       "    }\n",
       "\n",
       "    .dataframe tbody tr th {\n",
       "        vertical-align: top;\n",
       "    }\n",
       "\n",
       "    .dataframe thead th {\n",
       "        text-align: right;\n",
       "    }\n",
       "</style>\n",
       "<table border=\"1\" class=\"dataframe\">\n",
       "  <thead>\n",
       "    <tr style=\"text-align: right;\">\n",
       "      <th></th>\n",
       "      <th>CHILDREN</th>\n",
       "      <th>Annual_income</th>\n",
       "      <th>Work_Phone</th>\n",
       "      <th>Phone</th>\n",
       "      <th>EMAIL_ID</th>\n",
       "      <th>Family_Members</th>\n",
       "      <th>Age</th>\n",
       "      <th>EmploymentYears</th>\n",
       "    </tr>\n",
       "  </thead>\n",
       "  <tbody>\n",
       "    <tr>\n",
       "      <th>1396</th>\n",
       "      <td>0</td>\n",
       "      <td>202500.0</td>\n",
       "      <td>0</td>\n",
       "      <td>0</td>\n",
       "      <td>0</td>\n",
       "      <td>2</td>\n",
       "      <td>58</td>\n",
       "      <td>5</td>\n",
       "    </tr>\n",
       "    <tr>\n",
       "      <th>935</th>\n",
       "      <td>2</td>\n",
       "      <td>135000.0</td>\n",
       "      <td>0</td>\n",
       "      <td>0</td>\n",
       "      <td>0</td>\n",
       "      <td>4</td>\n",
       "      <td>35</td>\n",
       "      <td>5</td>\n",
       "    </tr>\n",
       "    <tr>\n",
       "      <th>902</th>\n",
       "      <td>1</td>\n",
       "      <td>180000.0</td>\n",
       "      <td>0</td>\n",
       "      <td>0</td>\n",
       "      <td>0</td>\n",
       "      <td>3</td>\n",
       "      <td>39</td>\n",
       "      <td>11</td>\n",
       "    </tr>\n",
       "    <tr>\n",
       "      <th>431</th>\n",
       "      <td>1</td>\n",
       "      <td>90000.0</td>\n",
       "      <td>0</td>\n",
       "      <td>0</td>\n",
       "      <td>0</td>\n",
       "      <td>3</td>\n",
       "      <td>29</td>\n",
       "      <td>5</td>\n",
       "    </tr>\n",
       "    <tr>\n",
       "      <th>105</th>\n",
       "      <td>0</td>\n",
       "      <td>180000.0</td>\n",
       "      <td>0</td>\n",
       "      <td>0</td>\n",
       "      <td>0</td>\n",
       "      <td>1</td>\n",
       "      <td>45</td>\n",
       "      <td>2</td>\n",
       "    </tr>\n",
       "  </tbody>\n",
       "</table>\n",
       "</div>"
      ],
      "text/plain": [
       "      CHILDREN  Annual_income  Work_Phone  Phone  EMAIL_ID  Family_Members  \\\n",
       "1396         0       202500.0           0      0         0               2   \n",
       "935          2       135000.0           0      0         0               4   \n",
       "902          1       180000.0           0      0         0               3   \n",
       "431          1        90000.0           0      0         0               3   \n",
       "105          0       180000.0           0      0         0               1   \n",
       "\n",
       "      Age  EmploymentYears  \n",
       "1396   58                5  \n",
       "935    35                5  \n",
       "902    39               11  \n",
       "431    29                5  \n",
       "105    45                2  "
      ]
     },
     "execution_count": 51,
     "metadata": {},
     "output_type": "execute_result"
    }
   ],
   "source": [
    "#numerical features\n",
    "x_test_num=X_test.select_dtypes(include=[\"int32\",\"int64\",\"float64\"])\n",
    "x_test_num.head() "
   ]
  },
  {
   "cell_type": "code",
   "execution_count": 52,
   "id": "63f9a33d",
   "metadata": {
    "scrolled": true
   },
   "outputs": [
    {
     "data": {
      "text/plain": [
       "array([[-0.50343513,  0.36718995, -0.50342861, ..., -0.15654346,\n",
       "         1.20593469, -0.0631019 ],\n",
       "       [ 1.99772213, -0.55293384, -0.50342861, ...,  1.90492642,\n",
       "        -0.7673773 , -0.0631019 ],\n",
       "       [ 0.7471435 ,  0.06048202, -0.50342861, ...,  0.87419148,\n",
       "        -0.42419261,  1.2024096 ],\n",
       "       ...,\n",
       "       [-0.50343513,  0.67389787, -0.50342861, ..., -1.1872784 ,\n",
       "         1.72071173, -1.11769481],\n",
       "       [-0.50343513, -0.85964177,  1.98637896, ..., -1.1872784 ,\n",
       "        -1.110562  , -0.90677623],\n",
       "       [-0.50343513, -0.85964177, -0.50342861, ..., -0.15654346,\n",
       "         1.29173086, -1.11769481]])"
      ]
     },
     "execution_count": 52,
     "metadata": {},
     "output_type": "execute_result"
    }
   ],
   "source": [
    "#standardizing the num features \n",
    "\n",
    "x_test_num=scaler.transform(x_test_num)\n",
    "x_test_num "
   ]
  },
  {
   "cell_type": "code",
   "execution_count": 53,
   "id": "f631a196",
   "metadata": {},
   "outputs": [],
   "source": [
    "X_test=np.hstack([x_test_cat,x_test_num])"
   ]
  },
  {
   "cell_type": "code",
   "execution_count": 54,
   "id": "52b0d879",
   "metadata": {},
   "outputs": [
    {
     "data": {
      "text/plain": [
       "array([[ 0.        ,  0.        ,  1.        , ..., -0.15654346,\n",
       "         1.20593469, -0.0631019 ],\n",
       "       [ 0.        ,  0.        ,  1.        , ...,  1.90492642,\n",
       "        -0.7673773 , -0.0631019 ],\n",
       "       [ 1.        ,  1.        ,  1.        , ...,  0.87419148,\n",
       "        -0.42419261,  1.2024096 ],\n",
       "       ...,\n",
       "       [ 0.        ,  0.        ,  1.        , ..., -1.1872784 ,\n",
       "         1.72071173, -1.11769481],\n",
       "       [ 0.        ,  0.        ,  0.        , ..., -1.1872784 ,\n",
       "        -1.110562  , -0.90677623],\n",
       "       [ 0.        ,  0.        ,  0.        , ..., -0.15654346,\n",
       "         1.29173086, -1.11769481]])"
      ]
     },
     "execution_count": 54,
     "metadata": {},
     "output_type": "execute_result"
    }
   ],
   "source": [
    "X_test"
   ]
  },
  {
   "cell_type": "markdown",
   "id": "7a1ff72f",
   "metadata": {},
   "source": [
    "#### building logical structure "
   ]
  },
  {
   "cell_type": "code",
   "execution_count": 55,
   "id": "02567259",
   "metadata": {},
   "outputs": [
    {
     "data": {
      "text/plain": [
       "(1093, 27)"
      ]
     },
     "execution_count": 55,
     "metadata": {},
     "output_type": "execute_result"
    }
   ],
   "source": [
    "X_train.shape"
   ]
  },
  {
   "cell_type": "code",
   "execution_count": 56,
   "id": "0698e6d7",
   "metadata": {},
   "outputs": [],
   "source": [
    "from imblearn.over_sampling import SMOTE \n",
    "s=SMOTE()\n",
    "X_train,y_train=s.fit_resample(X_train,y_train) "
   ]
  },
  {
   "cell_type": "code",
   "execution_count": 57,
   "id": "18ce3d79",
   "metadata": {},
   "outputs": [
    {
     "name": "stdout",
     "output_type": "stream",
     "text": [
      "label\n",
      "0    979\n",
      "1    979\n",
      "Name: count, dtype: int64\n"
     ]
    }
   ],
   "source": [
    "print(y_train.value_counts())"
   ]
  },
  {
   "cell_type": "code",
   "execution_count": 58,
   "id": "ebd9a37d",
   "metadata": {},
   "outputs": [],
   "source": [
    "from keras import Sequential \n",
    "from keras.layers import Dense "
   ]
  },
  {
   "cell_type": "code",
   "execution_count": 59,
   "id": "2b690a73",
   "metadata": {},
   "outputs": [],
   "source": [
    "model=Sequential()\n",
    "model.add(Dense(28,activation=\"relu\",use_bias=True,input_dim=27))#input_dim only for first hidden layer\n",
    "model.add(Dense(18,activation=\"relu\",use_bias=True))\n",
    "model.add(Dense(8,activation=\"relu\",use_bias=True))\n",
    "model.add(Dense(1,activation=\"sigmoid\",use_bias=True))  "
   ]
  },
  {
   "cell_type": "code",
   "execution_count": 60,
   "id": "8d8ce595",
   "metadata": {},
   "outputs": [
    {
     "name": "stdout",
     "output_type": "stream",
     "text": [
      "Epoch 1/400\n",
      "16/16 [==============================] - 2s 25ms/step - loss: 0.6625 - accuracy: 0.6022 - val_loss: 0.8199 - val_accuracy: 0.0332\n",
      "Epoch 2/400\n",
      "16/16 [==============================] - 0s 6ms/step - loss: 0.6575 - accuracy: 0.6194 - val_loss: 0.8414 - val_accuracy: 0.0179\n",
      "Epoch 3/400\n",
      "16/16 [==============================] - 0s 6ms/step - loss: 0.6537 - accuracy: 0.6232 - val_loss: 0.8595 - val_accuracy: 0.0026\n",
      "Epoch 4/400\n",
      "16/16 [==============================] - 0s 6ms/step - loss: 0.6507 - accuracy: 0.6226 - val_loss: 0.8755 - val_accuracy: 0.0000e+00\n",
      "Epoch 5/400\n",
      "16/16 [==============================] - 0s 7ms/step - loss: 0.6481 - accuracy: 0.6239 - val_loss: 0.8877 - val_accuracy: 0.0000e+00\n",
      "Epoch 6/400\n",
      "16/16 [==============================] - 0s 7ms/step - loss: 0.6459 - accuracy: 0.6239 - val_loss: 0.8991 - val_accuracy: 0.0000e+00\n",
      "Epoch 7/400\n",
      "16/16 [==============================] - 0s 6ms/step - loss: 0.6440 - accuracy: 0.6245 - val_loss: 0.9083 - val_accuracy: 0.0000e+00\n",
      "Epoch 8/400\n",
      "16/16 [==============================] - 0s 6ms/step - loss: 0.6424 - accuracy: 0.6245 - val_loss: 0.9153 - val_accuracy: 0.0000e+00\n",
      "Epoch 9/400\n",
      "16/16 [==============================] - 0s 6ms/step - loss: 0.6409 - accuracy: 0.6245 - val_loss: 0.9217 - val_accuracy: 0.0000e+00\n",
      "Epoch 10/400\n",
      "16/16 [==============================] - 0s 6ms/step - loss: 0.6394 - accuracy: 0.6245 - val_loss: 0.9262 - val_accuracy: 0.0000e+00\n",
      "Epoch 11/400\n",
      "16/16 [==============================] - 0s 8ms/step - loss: 0.6381 - accuracy: 0.6245 - val_loss: 0.9302 - val_accuracy: 0.0000e+00\n",
      "Epoch 12/400\n",
      "16/16 [==============================] - 0s 7ms/step - loss: 0.6368 - accuracy: 0.6252 - val_loss: 0.9338 - val_accuracy: 0.0000e+00\n",
      "Epoch 13/400\n",
      "16/16 [==============================] - 0s 7ms/step - loss: 0.6356 - accuracy: 0.6252 - val_loss: 0.9351 - val_accuracy: 0.0000e+00\n",
      "Epoch 14/400\n",
      "16/16 [==============================] - 0s 7ms/step - loss: 0.6344 - accuracy: 0.6252 - val_loss: 0.9365 - val_accuracy: 0.0000e+00\n",
      "Epoch 15/400\n",
      "16/16 [==============================] - 0s 6ms/step - loss: 0.6332 - accuracy: 0.6252 - val_loss: 0.9371 - val_accuracy: 0.0000e+00\n",
      "Epoch 16/400\n",
      "16/16 [==============================] - 0s 5ms/step - loss: 0.6320 - accuracy: 0.6252 - val_loss: 0.9374 - val_accuracy: 0.0000e+00\n",
      "Epoch 17/400\n",
      "16/16 [==============================] - 0s 5ms/step - loss: 0.6308 - accuracy: 0.6252 - val_loss: 0.9385 - val_accuracy: 0.0000e+00\n",
      "Epoch 18/400\n",
      "16/16 [==============================] - 0s 5ms/step - loss: 0.6296 - accuracy: 0.6252 - val_loss: 0.9397 - val_accuracy: 0.0000e+00\n",
      "Epoch 19/400\n",
      "16/16 [==============================] - 0s 5ms/step - loss: 0.6285 - accuracy: 0.6252 - val_loss: 0.9390 - val_accuracy: 0.0000e+00\n",
      "Epoch 20/400\n",
      "16/16 [==============================] - 0s 5ms/step - loss: 0.6273 - accuracy: 0.6252 - val_loss: 0.9393 - val_accuracy: 0.0000e+00\n",
      "Epoch 21/400\n",
      "16/16 [==============================] - 0s 6ms/step - loss: 0.6262 - accuracy: 0.6252 - val_loss: 0.9388 - val_accuracy: 0.0000e+00\n",
      "Epoch 22/400\n",
      "16/16 [==============================] - 0s 8ms/step - loss: 0.6250 - accuracy: 0.6252 - val_loss: 0.9377 - val_accuracy: 0.0000e+00\n",
      "Epoch 23/400\n",
      "16/16 [==============================] - 0s 7ms/step - loss: 0.6239 - accuracy: 0.6252 - val_loss: 0.9387 - val_accuracy: 0.0000e+00\n",
      "Epoch 24/400\n",
      "16/16 [==============================] - 0s 7ms/step - loss: 0.6227 - accuracy: 0.6252 - val_loss: 0.9383 - val_accuracy: 0.0000e+00\n",
      "Epoch 25/400\n",
      "16/16 [==============================] - 0s 6ms/step - loss: 0.6216 - accuracy: 0.6252 - val_loss: 0.9374 - val_accuracy: 0.0000e+00\n",
      "Epoch 26/400\n",
      "16/16 [==============================] - 0s 8ms/step - loss: 0.6205 - accuracy: 0.6258 - val_loss: 0.9347 - val_accuracy: 0.0000e+00\n",
      "Epoch 27/400\n",
      "16/16 [==============================] - 0s 8ms/step - loss: 0.6194 - accuracy: 0.6271 - val_loss: 0.9363 - val_accuracy: 0.0026\n",
      "Epoch 28/400\n",
      "16/16 [==============================] - 0s 9ms/step - loss: 0.6183 - accuracy: 0.6277 - val_loss: 0.9362 - val_accuracy: 0.0026\n",
      "Epoch 29/400\n",
      "16/16 [==============================] - 0s 9ms/step - loss: 0.6172 - accuracy: 0.6284 - val_loss: 0.9351 - val_accuracy: 0.0026\n",
      "Epoch 30/400\n",
      "16/16 [==============================] - 0s 9ms/step - loss: 0.6161 - accuracy: 0.6290 - val_loss: 0.9333 - val_accuracy: 0.0026\n",
      "Epoch 31/400\n",
      "16/16 [==============================] - 0s 9ms/step - loss: 0.6149 - accuracy: 0.6290 - val_loss: 0.9319 - val_accuracy: 0.0026\n",
      "Epoch 32/400\n",
      "16/16 [==============================] - 0s 9ms/step - loss: 0.6138 - accuracy: 0.6296 - val_loss: 0.9302 - val_accuracy: 0.0051\n",
      "Epoch 33/400\n",
      "16/16 [==============================] - 0s 9ms/step - loss: 0.6127 - accuracy: 0.6303 - val_loss: 0.9308 - val_accuracy: 0.0102\n",
      "Epoch 34/400\n",
      "16/16 [==============================] - 0s 6ms/step - loss: 0.6115 - accuracy: 0.6303 - val_loss: 0.9284 - val_accuracy: 0.0128\n",
      "Epoch 35/400\n",
      "16/16 [==============================] - 0s 7ms/step - loss: 0.6103 - accuracy: 0.6315 - val_loss: 0.9260 - val_accuracy: 0.0153\n",
      "Epoch 36/400\n",
      "16/16 [==============================] - 0s 9ms/step - loss: 0.6092 - accuracy: 0.6335 - val_loss: 0.9247 - val_accuracy: 0.0153\n",
      "Epoch 37/400\n",
      "16/16 [==============================] - 0s 7ms/step - loss: 0.6081 - accuracy: 0.6341 - val_loss: 0.9218 - val_accuracy: 0.0153\n",
      "Epoch 38/400\n",
      "16/16 [==============================] - 0s 7ms/step - loss: 0.6069 - accuracy: 0.6354 - val_loss: 0.9201 - val_accuracy: 0.0204\n",
      "Epoch 39/400\n",
      "16/16 [==============================] - 0s 5ms/step - loss: 0.6057 - accuracy: 0.6347 - val_loss: 0.9186 - val_accuracy: 0.0230\n",
      "Epoch 40/400\n",
      "16/16 [==============================] - 0s 5ms/step - loss: 0.6044 - accuracy: 0.6347 - val_loss: 0.9166 - val_accuracy: 0.0230\n",
      "Epoch 41/400\n",
      "16/16 [==============================] - 0s 5ms/step - loss: 0.6032 - accuracy: 0.6354 - val_loss: 0.9141 - val_accuracy: 0.0230\n",
      "Epoch 42/400\n",
      "16/16 [==============================] - 0s 5ms/step - loss: 0.6020 - accuracy: 0.6367 - val_loss: 0.9132 - val_accuracy: 0.0306\n",
      "Epoch 43/400\n",
      "16/16 [==============================] - 0s 5ms/step - loss: 0.6007 - accuracy: 0.6398 - val_loss: 0.9105 - val_accuracy: 0.0357\n",
      "Epoch 44/400\n",
      "16/16 [==============================] - 0s 4ms/step - loss: 0.5995 - accuracy: 0.6430 - val_loss: 0.9098 - val_accuracy: 0.0459\n",
      "Epoch 45/400\n",
      "16/16 [==============================] - 0s 5ms/step - loss: 0.5982 - accuracy: 0.6443 - val_loss: 0.9063 - val_accuracy: 0.0459\n",
      "Epoch 46/400\n",
      "16/16 [==============================] - 0s 6ms/step - loss: 0.5970 - accuracy: 0.6437 - val_loss: 0.9070 - val_accuracy: 0.0459\n",
      "Epoch 47/400\n",
      "16/16 [==============================] - 0s 9ms/step - loss: 0.5957 - accuracy: 0.6437 - val_loss: 0.9059 - val_accuracy: 0.0459\n",
      "Epoch 48/400\n",
      "16/16 [==============================] - 0s 8ms/step - loss: 0.5944 - accuracy: 0.6437 - val_loss: 0.9038 - val_accuracy: 0.0459\n",
      "Epoch 49/400\n",
      "16/16 [==============================] - 0s 7ms/step - loss: 0.5932 - accuracy: 0.6437 - val_loss: 0.9041 - val_accuracy: 0.0459\n",
      "Epoch 50/400\n",
      "16/16 [==============================] - 0s 8ms/step - loss: 0.5919 - accuracy: 0.6450 - val_loss: 0.9014 - val_accuracy: 0.0485\n",
      "Epoch 51/400\n",
      "16/16 [==============================] - 0s 7ms/step - loss: 0.5906 - accuracy: 0.6437 - val_loss: 0.8970 - val_accuracy: 0.0510\n",
      "Epoch 52/400\n",
      "16/16 [==============================] - 0s 8ms/step - loss: 0.5893 - accuracy: 0.6456 - val_loss: 0.8955 - val_accuracy: 0.0510\n",
      "Epoch 53/400\n",
      "16/16 [==============================] - 0s 7ms/step - loss: 0.5880 - accuracy: 0.6450 - val_loss: 0.8929 - val_accuracy: 0.0561\n",
      "Epoch 54/400\n",
      "16/16 [==============================] - 0s 7ms/step - loss: 0.5868 - accuracy: 0.6450 - val_loss: 0.8912 - val_accuracy: 0.0587\n",
      "Epoch 55/400\n",
      "16/16 [==============================] - 0s 7ms/step - loss: 0.5855 - accuracy: 0.6462 - val_loss: 0.8902 - val_accuracy: 0.0638\n",
      "Epoch 56/400\n",
      "16/16 [==============================] - 0s 7ms/step - loss: 0.5841 - accuracy: 0.6443 - val_loss: 0.8892 - val_accuracy: 0.0689\n",
      "Epoch 57/400\n",
      "16/16 [==============================] - 0s 8ms/step - loss: 0.5828 - accuracy: 0.6462 - val_loss: 0.8867 - val_accuracy: 0.0740\n",
      "Epoch 58/400\n",
      "16/16 [==============================] - 0s 7ms/step - loss: 0.5815 - accuracy: 0.6462 - val_loss: 0.8835 - val_accuracy: 0.0867\n",
      "Epoch 59/400\n",
      "16/16 [==============================] - 0s 6ms/step - loss: 0.5802 - accuracy: 0.6507 - val_loss: 0.8799 - val_accuracy: 0.0969\n",
      "Epoch 60/400\n",
      "16/16 [==============================] - 0s 7ms/step - loss: 0.5788 - accuracy: 0.6552 - val_loss: 0.8798 - val_accuracy: 0.0995\n",
      "Epoch 61/400\n",
      "16/16 [==============================] - 0s 8ms/step - loss: 0.5775 - accuracy: 0.6558 - val_loss: 0.8776 - val_accuracy: 0.1148\n",
      "Epoch 62/400\n",
      "16/16 [==============================] - 0s 9ms/step - loss: 0.5762 - accuracy: 0.6584 - val_loss: 0.8780 - val_accuracy: 0.1148\n",
      "Epoch 63/400\n",
      "16/16 [==============================] - 0s 7ms/step - loss: 0.5749 - accuracy: 0.6584 - val_loss: 0.8761 - val_accuracy: 0.1224\n",
      "Epoch 64/400\n",
      "16/16 [==============================] - 0s 6ms/step - loss: 0.5735 - accuracy: 0.6609 - val_loss: 0.8726 - val_accuracy: 0.1301\n",
      "Epoch 65/400\n",
      "16/16 [==============================] - 0s 6ms/step - loss: 0.5723 - accuracy: 0.6558 - val_loss: 0.8725 - val_accuracy: 0.1301\n",
      "Epoch 66/400\n",
      "16/16 [==============================] - 0s 5ms/step - loss: 0.5710 - accuracy: 0.6616 - val_loss: 0.8697 - val_accuracy: 0.1352\n",
      "Epoch 67/400\n",
      "16/16 [==============================] - 0s 5ms/step - loss: 0.5697 - accuracy: 0.6641 - val_loss: 0.8671 - val_accuracy: 0.1352\n",
      "Epoch 68/400\n",
      "16/16 [==============================] - 0s 5ms/step - loss: 0.5683 - accuracy: 0.6673 - val_loss: 0.8670 - val_accuracy: 0.1378\n",
      "Epoch 69/400\n",
      "16/16 [==============================] - 0s 5ms/step - loss: 0.5671 - accuracy: 0.6654 - val_loss: 0.8635 - val_accuracy: 0.1454\n",
      "Epoch 70/400\n",
      "16/16 [==============================] - 0s 9ms/step - loss: 0.5658 - accuracy: 0.6756 - val_loss: 0.8641 - val_accuracy: 0.1556\n",
      "Epoch 71/400\n",
      "16/16 [==============================] - 0s 11ms/step - loss: 0.5645 - accuracy: 0.6788 - val_loss: 0.8600 - val_accuracy: 0.1709\n",
      "Epoch 72/400\n",
      "16/16 [==============================] - 0s 9ms/step - loss: 0.5631 - accuracy: 0.6858 - val_loss: 0.8583 - val_accuracy: 0.1837\n",
      "Epoch 73/400\n",
      "16/16 [==============================] - 0s 8ms/step - loss: 0.5618 - accuracy: 0.6877 - val_loss: 0.8535 - val_accuracy: 0.1990\n",
      "Epoch 74/400\n",
      "16/16 [==============================] - 0s 8ms/step - loss: 0.5605 - accuracy: 0.6928 - val_loss: 0.8531 - val_accuracy: 0.2041\n",
      "Epoch 75/400\n",
      "16/16 [==============================] - 0s 8ms/step - loss: 0.5592 - accuracy: 0.6980 - val_loss: 0.8513 - val_accuracy: 0.2194\n",
      "Epoch 76/400\n",
      "16/16 [==============================] - 0s 6ms/step - loss: 0.5579 - accuracy: 0.6973 - val_loss: 0.8450 - val_accuracy: 0.2347\n",
      "Epoch 77/400\n",
      "16/16 [==============================] - 0s 7ms/step - loss: 0.5565 - accuracy: 0.7075 - val_loss: 0.8466 - val_accuracy: 0.2321\n",
      "Epoch 78/400\n",
      "16/16 [==============================] - 0s 8ms/step - loss: 0.5553 - accuracy: 0.7082 - val_loss: 0.8456 - val_accuracy: 0.2474\n",
      "Epoch 79/400\n",
      "16/16 [==============================] - 0s 8ms/step - loss: 0.5539 - accuracy: 0.7133 - val_loss: 0.8412 - val_accuracy: 0.2602\n",
      "Epoch 80/400\n",
      "16/16 [==============================] - 0s 8ms/step - loss: 0.5526 - accuracy: 0.7184 - val_loss: 0.8401 - val_accuracy: 0.2653\n",
      "Epoch 81/400\n",
      "16/16 [==============================] - 0s 8ms/step - loss: 0.5512 - accuracy: 0.7184 - val_loss: 0.8373 - val_accuracy: 0.2730\n",
      "Epoch 82/400\n",
      "16/16 [==============================] - 0s 8ms/step - loss: 0.5498 - accuracy: 0.7190 - val_loss: 0.8357 - val_accuracy: 0.2806\n",
      "Epoch 83/400\n",
      "16/16 [==============================] - 0s 7ms/step - loss: 0.5484 - accuracy: 0.7209 - val_loss: 0.8325 - val_accuracy: 0.3061\n",
      "Epoch 84/400\n",
      "16/16 [==============================] - 0s 8ms/step - loss: 0.5471 - accuracy: 0.7273 - val_loss: 0.8328 - val_accuracy: 0.3112\n",
      "Epoch 85/400\n",
      "16/16 [==============================] - 0s 6ms/step - loss: 0.5456 - accuracy: 0.7280 - val_loss: 0.8300 - val_accuracy: 0.3316\n",
      "Epoch 86/400\n",
      "16/16 [==============================] - 0s 6ms/step - loss: 0.5442 - accuracy: 0.7280 - val_loss: 0.8293 - val_accuracy: 0.3393\n",
      "Epoch 87/400\n",
      "16/16 [==============================] - 0s 6ms/step - loss: 0.5428 - accuracy: 0.7292 - val_loss: 0.8208 - val_accuracy: 0.3597\n",
      "Epoch 88/400\n",
      "16/16 [==============================] - 0s 6ms/step - loss: 0.5413 - accuracy: 0.7324 - val_loss: 0.8221 - val_accuracy: 0.3597\n",
      "Epoch 89/400\n",
      "16/16 [==============================] - 0s 6ms/step - loss: 0.5398 - accuracy: 0.7318 - val_loss: 0.8176 - val_accuracy: 0.3648\n",
      "Epoch 90/400\n",
      "16/16 [==============================] - 0s 6ms/step - loss: 0.5383 - accuracy: 0.7350 - val_loss: 0.8158 - val_accuracy: 0.3699\n",
      "Epoch 91/400\n",
      "16/16 [==============================] - 0s 5ms/step - loss: 0.5368 - accuracy: 0.7382 - val_loss: 0.8161 - val_accuracy: 0.3724\n",
      "Epoch 92/400\n",
      "16/16 [==============================] - 0s 6ms/step - loss: 0.5353 - accuracy: 0.7375 - val_loss: 0.8129 - val_accuracy: 0.3776\n",
      "Epoch 93/400\n",
      "16/16 [==============================] - 0s 7ms/step - loss: 0.5337 - accuracy: 0.7446 - val_loss: 0.8124 - val_accuracy: 0.3776\n",
      "Epoch 94/400\n",
      "16/16 [==============================] - 0s 7ms/step - loss: 0.5321 - accuracy: 0.7465 - val_loss: 0.8186 - val_accuracy: 0.3648\n",
      "Epoch 95/400\n",
      "16/16 [==============================] - 0s 7ms/step - loss: 0.5308 - accuracy: 0.7401 - val_loss: 0.8085 - val_accuracy: 0.4056\n",
      "Epoch 96/400\n",
      "16/16 [==============================] - 0s 9ms/step - loss: 0.5293 - accuracy: 0.7471 - val_loss: 0.8044 - val_accuracy: 0.4311\n",
      "Epoch 97/400\n",
      "16/16 [==============================] - 0s 9ms/step - loss: 0.5278 - accuracy: 0.7554 - val_loss: 0.8060 - val_accuracy: 0.4286\n",
      "Epoch 98/400\n",
      "16/16 [==============================] - 0s 8ms/step - loss: 0.5264 - accuracy: 0.7522 - val_loss: 0.7971 - val_accuracy: 0.4541\n",
      "Epoch 99/400\n",
      "16/16 [==============================] - 0s 8ms/step - loss: 0.5249 - accuracy: 0.7605 - val_loss: 0.7946 - val_accuracy: 0.4617\n",
      "Epoch 100/400\n",
      "16/16 [==============================] - 0s 7ms/step - loss: 0.5235 - accuracy: 0.7593 - val_loss: 0.7920 - val_accuracy: 0.4668\n",
      "Epoch 101/400\n",
      "16/16 [==============================] - 0s 6ms/step - loss: 0.5220 - accuracy: 0.7625 - val_loss: 0.7901 - val_accuracy: 0.4719\n",
      "Epoch 102/400\n",
      "16/16 [==============================] - 0s 6ms/step - loss: 0.5206 - accuracy: 0.7644 - val_loss: 0.7882 - val_accuracy: 0.4745\n",
      "Epoch 103/400\n",
      "16/16 [==============================] - 0s 7ms/step - loss: 0.5191 - accuracy: 0.7650 - val_loss: 0.7890 - val_accuracy: 0.4745\n",
      "Epoch 104/400\n",
      "16/16 [==============================] - 0s 8ms/step - loss: 0.5177 - accuracy: 0.7631 - val_loss: 0.7820 - val_accuracy: 0.4898\n",
      "Epoch 105/400\n",
      "16/16 [==============================] - 0s 8ms/step - loss: 0.5164 - accuracy: 0.7656 - val_loss: 0.7810 - val_accuracy: 0.4923\n",
      "Epoch 106/400\n",
      "16/16 [==============================] - 0s 8ms/step - loss: 0.5148 - accuracy: 0.7669 - val_loss: 0.7770 - val_accuracy: 0.5255\n",
      "Epoch 107/400\n",
      "16/16 [==============================] - 0s 8ms/step - loss: 0.5134 - accuracy: 0.7752 - val_loss: 0.7722 - val_accuracy: 0.5485\n",
      "Epoch 108/400\n",
      "16/16 [==============================] - 0s 8ms/step - loss: 0.5119 - accuracy: 0.7759 - val_loss: 0.7731 - val_accuracy: 0.5485\n",
      "Epoch 109/400\n",
      "16/16 [==============================] - 0s 8ms/step - loss: 0.5104 - accuracy: 0.7759 - val_loss: 0.7722 - val_accuracy: 0.5510\n",
      "Epoch 110/400\n",
      "16/16 [==============================] - 0s 8ms/step - loss: 0.5089 - accuracy: 0.7784 - val_loss: 0.7702 - val_accuracy: 0.5510\n",
      "Epoch 111/400\n",
      "16/16 [==============================] - 0s 8ms/step - loss: 0.5073 - accuracy: 0.7797 - val_loss: 0.7694 - val_accuracy: 0.5536\n",
      "Epoch 112/400\n",
      "16/16 [==============================] - 0s 8ms/step - loss: 0.5060 - accuracy: 0.7816 - val_loss: 0.7649 - val_accuracy: 0.5587\n",
      "Epoch 113/400\n",
      "16/16 [==============================] - 0s 8ms/step - loss: 0.5045 - accuracy: 0.7829 - val_loss: 0.7641 - val_accuracy: 0.5638\n",
      "Epoch 114/400\n",
      "16/16 [==============================] - 0s 8ms/step - loss: 0.5029 - accuracy: 0.7861 - val_loss: 0.7684 - val_accuracy: 0.5561\n",
      "Epoch 115/400\n"
     ]
    },
    {
     "name": "stdout",
     "output_type": "stream",
     "text": [
      "16/16 [==============================] - 0s 8ms/step - loss: 0.5014 - accuracy: 0.7816 - val_loss: 0.7556 - val_accuracy: 0.5918\n",
      "Epoch 116/400\n",
      "16/16 [==============================] - 0s 8ms/step - loss: 0.4999 - accuracy: 0.7861 - val_loss: 0.7509 - val_accuracy: 0.6046\n",
      "Epoch 117/400\n",
      "16/16 [==============================] - 0s 8ms/step - loss: 0.4984 - accuracy: 0.7912 - val_loss: 0.7505 - val_accuracy: 0.5969\n",
      "Epoch 118/400\n",
      "16/16 [==============================] - 0s 8ms/step - loss: 0.4969 - accuracy: 0.7937 - val_loss: 0.7536 - val_accuracy: 0.5918\n",
      "Epoch 119/400\n",
      "16/16 [==============================] - 0s 8ms/step - loss: 0.4954 - accuracy: 0.7899 - val_loss: 0.7445 - val_accuracy: 0.6122\n",
      "Epoch 120/400\n",
      "16/16 [==============================] - 0s 8ms/step - loss: 0.4940 - accuracy: 0.7963 - val_loss: 0.7492 - val_accuracy: 0.5969\n",
      "Epoch 121/400\n",
      "16/16 [==============================] - 0s 8ms/step - loss: 0.4923 - accuracy: 0.7944 - val_loss: 0.7470 - val_accuracy: 0.6020\n",
      "Epoch 122/400\n",
      "16/16 [==============================] - 0s 8ms/step - loss: 0.4908 - accuracy: 0.7957 - val_loss: 0.7379 - val_accuracy: 0.6173\n",
      "Epoch 123/400\n",
      "16/16 [==============================] - 0s 8ms/step - loss: 0.4892 - accuracy: 0.7969 - val_loss: 0.7384 - val_accuracy: 0.6199\n",
      "Epoch 124/400\n",
      "16/16 [==============================] - 0s 6ms/step - loss: 0.4877 - accuracy: 0.7969 - val_loss: 0.7360 - val_accuracy: 0.6224\n",
      "Epoch 125/400\n",
      "16/16 [==============================] - 0s 7ms/step - loss: 0.4860 - accuracy: 0.7963 - val_loss: 0.7313 - val_accuracy: 0.6250\n",
      "Epoch 126/400\n",
      "16/16 [==============================] - 0s 6ms/step - loss: 0.4844 - accuracy: 0.7976 - val_loss: 0.7291 - val_accuracy: 0.6224\n",
      "Epoch 127/400\n",
      "16/16 [==============================] - 0s 7ms/step - loss: 0.4830 - accuracy: 0.7957 - val_loss: 0.7235 - val_accuracy: 0.6403\n",
      "Epoch 128/400\n",
      "16/16 [==============================] - 0s 7ms/step - loss: 0.4814 - accuracy: 0.7950 - val_loss: 0.7172 - val_accuracy: 0.6556\n",
      "Epoch 129/400\n",
      "16/16 [==============================] - 0s 7ms/step - loss: 0.4797 - accuracy: 0.8027 - val_loss: 0.7143 - val_accuracy: 0.6607\n",
      "Epoch 130/400\n",
      "16/16 [==============================] - 0s 7ms/step - loss: 0.4783 - accuracy: 0.8040 - val_loss: 0.7205 - val_accuracy: 0.6480\n",
      "Epoch 131/400\n",
      "16/16 [==============================] - 0s 7ms/step - loss: 0.4766 - accuracy: 0.8046 - val_loss: 0.7084 - val_accuracy: 0.6684\n",
      "Epoch 132/400\n",
      "16/16 [==============================] - 0s 6ms/step - loss: 0.4751 - accuracy: 0.8059 - val_loss: 0.7075 - val_accuracy: 0.6658\n",
      "Epoch 133/400\n",
      "16/16 [==============================] - 0s 7ms/step - loss: 0.4734 - accuracy: 0.8052 - val_loss: 0.7088 - val_accuracy: 0.6633\n",
      "Epoch 134/400\n",
      "16/16 [==============================] - 0s 7ms/step - loss: 0.4720 - accuracy: 0.8046 - val_loss: 0.7038 - val_accuracy: 0.6658\n",
      "Epoch 135/400\n",
      "16/16 [==============================] - 0s 7ms/step - loss: 0.4703 - accuracy: 0.8059 - val_loss: 0.7134 - val_accuracy: 0.6556\n",
      "Epoch 136/400\n",
      "16/16 [==============================] - 0s 7ms/step - loss: 0.4689 - accuracy: 0.8078 - val_loss: 0.7070 - val_accuracy: 0.6735\n",
      "Epoch 137/400\n",
      "16/16 [==============================] - 0s 7ms/step - loss: 0.4673 - accuracy: 0.8091 - val_loss: 0.6949 - val_accuracy: 0.6888\n",
      "Epoch 138/400\n",
      "16/16 [==============================] - 0s 6ms/step - loss: 0.4656 - accuracy: 0.8110 - val_loss: 0.7000 - val_accuracy: 0.6786\n",
      "Epoch 139/400\n",
      "16/16 [==============================] - 0s 6ms/step - loss: 0.4639 - accuracy: 0.8091 - val_loss: 0.6984 - val_accuracy: 0.6811\n",
      "Epoch 140/400\n",
      "16/16 [==============================] - 0s 7ms/step - loss: 0.4625 - accuracy: 0.8116 - val_loss: 0.6882 - val_accuracy: 0.6888\n",
      "Epoch 141/400\n",
      "16/16 [==============================] - 0s 6ms/step - loss: 0.4608 - accuracy: 0.8110 - val_loss: 0.6862 - val_accuracy: 0.6888\n",
      "Epoch 142/400\n",
      "16/16 [==============================] - 0s 7ms/step - loss: 0.4593 - accuracy: 0.8135 - val_loss: 0.6805 - val_accuracy: 0.6990\n",
      "Epoch 143/400\n",
      "16/16 [==============================] - 0s 6ms/step - loss: 0.4579 - accuracy: 0.8123 - val_loss: 0.6828 - val_accuracy: 0.6964\n",
      "Epoch 144/400\n",
      "16/16 [==============================] - 0s 7ms/step - loss: 0.4561 - accuracy: 0.8155 - val_loss: 0.6891 - val_accuracy: 0.6888\n",
      "Epoch 145/400\n",
      "16/16 [==============================] - 0s 7ms/step - loss: 0.4546 - accuracy: 0.8123 - val_loss: 0.6784 - val_accuracy: 0.6990\n",
      "Epoch 146/400\n",
      "16/16 [==============================] - 0s 7ms/step - loss: 0.4530 - accuracy: 0.8135 - val_loss: 0.6856 - val_accuracy: 0.6913\n",
      "Epoch 147/400\n",
      "16/16 [==============================] - 0s 7ms/step - loss: 0.4518 - accuracy: 0.8142 - val_loss: 0.6730 - val_accuracy: 0.7015\n",
      "Epoch 148/400\n",
      "16/16 [==============================] - 0s 6ms/step - loss: 0.4502 - accuracy: 0.8135 - val_loss: 0.6785 - val_accuracy: 0.6964\n",
      "Epoch 149/400\n",
      "16/16 [==============================] - 0s 7ms/step - loss: 0.4487 - accuracy: 0.8161 - val_loss: 0.6609 - val_accuracy: 0.7092\n",
      "Epoch 150/400\n",
      "16/16 [==============================] - 0s 8ms/step - loss: 0.4469 - accuracy: 0.8142 - val_loss: 0.6728 - val_accuracy: 0.6990\n",
      "Epoch 151/400\n",
      "16/16 [==============================] - 0s 7ms/step - loss: 0.4456 - accuracy: 0.8161 - val_loss: 0.6543 - val_accuracy: 0.7194\n",
      "Epoch 152/400\n",
      "16/16 [==============================] - 0s 8ms/step - loss: 0.4443 - accuracy: 0.8155 - val_loss: 0.6659 - val_accuracy: 0.7066\n",
      "Epoch 153/400\n",
      "16/16 [==============================] - 0s 6ms/step - loss: 0.4426 - accuracy: 0.8167 - val_loss: 0.6689 - val_accuracy: 0.7041\n",
      "Epoch 154/400\n",
      "16/16 [==============================] - 0s 8ms/step - loss: 0.4410 - accuracy: 0.8167 - val_loss: 0.6716 - val_accuracy: 0.7066\n",
      "Epoch 155/400\n",
      "16/16 [==============================] - 0s 8ms/step - loss: 0.4395 - accuracy: 0.8167 - val_loss: 0.6548 - val_accuracy: 0.7194\n",
      "Epoch 156/400\n",
      "16/16 [==============================] - 0s 8ms/step - loss: 0.4380 - accuracy: 0.8161 - val_loss: 0.6511 - val_accuracy: 0.7245\n",
      "Epoch 157/400\n",
      "16/16 [==============================] - 0s 8ms/step - loss: 0.4366 - accuracy: 0.8174 - val_loss: 0.6485 - val_accuracy: 0.7270\n",
      "Epoch 158/400\n",
      "16/16 [==============================] - 0s 8ms/step - loss: 0.4349 - accuracy: 0.8161 - val_loss: 0.6590 - val_accuracy: 0.7194\n",
      "Epoch 159/400\n",
      "16/16 [==============================] - 0s 8ms/step - loss: 0.4334 - accuracy: 0.8199 - val_loss: 0.6404 - val_accuracy: 0.7372\n",
      "Epoch 160/400\n",
      "16/16 [==============================] - 0s 8ms/step - loss: 0.4316 - accuracy: 0.8186 - val_loss: 0.6426 - val_accuracy: 0.7321\n",
      "Epoch 161/400\n",
      "16/16 [==============================] - 0s 5ms/step - loss: 0.4304 - accuracy: 0.8199 - val_loss: 0.6420 - val_accuracy: 0.7347\n",
      "Epoch 162/400\n",
      "16/16 [==============================] - 0s 7ms/step - loss: 0.4286 - accuracy: 0.8206 - val_loss: 0.6241 - val_accuracy: 0.7449\n",
      "Epoch 163/400\n",
      "16/16 [==============================] - 0s 7ms/step - loss: 0.4272 - accuracy: 0.8186 - val_loss: 0.6287 - val_accuracy: 0.7449\n",
      "Epoch 164/400\n",
      "16/16 [==============================] - 0s 6ms/step - loss: 0.4262 - accuracy: 0.8199 - val_loss: 0.6279 - val_accuracy: 0.7423\n",
      "Epoch 165/400\n",
      "16/16 [==============================] - 0s 6ms/step - loss: 0.4241 - accuracy: 0.8180 - val_loss: 0.6366 - val_accuracy: 0.7398\n",
      "Epoch 166/400\n",
      "16/16 [==============================] - 0s 8ms/step - loss: 0.4226 - accuracy: 0.8199 - val_loss: 0.6271 - val_accuracy: 0.7449\n",
      "Epoch 167/400\n",
      "16/16 [==============================] - 0s 9ms/step - loss: 0.4211 - accuracy: 0.8199 - val_loss: 0.6203 - val_accuracy: 0.7526\n",
      "Epoch 168/400\n",
      "16/16 [==============================] - 0s 8ms/step - loss: 0.4196 - accuracy: 0.8199 - val_loss: 0.6164 - val_accuracy: 0.7526\n",
      "Epoch 169/400\n",
      "16/16 [==============================] - 0s 9ms/step - loss: 0.4183 - accuracy: 0.8212 - val_loss: 0.6243 - val_accuracy: 0.7500\n",
      "Epoch 170/400\n",
      "16/16 [==============================] - 0s 8ms/step - loss: 0.4166 - accuracy: 0.8225 - val_loss: 0.6258 - val_accuracy: 0.7500\n",
      "Epoch 171/400\n",
      "16/16 [==============================] - 0s 8ms/step - loss: 0.4151 - accuracy: 0.8250 - val_loss: 0.6044 - val_accuracy: 0.7526\n",
      "Epoch 172/400\n",
      "16/16 [==============================] - 0s 8ms/step - loss: 0.4136 - accuracy: 0.8238 - val_loss: 0.6030 - val_accuracy: 0.7577\n",
      "Epoch 173/400\n",
      "16/16 [==============================] - 0s 8ms/step - loss: 0.4118 - accuracy: 0.8244 - val_loss: 0.6281 - val_accuracy: 0.7449\n",
      "Epoch 174/400\n",
      "16/16 [==============================] - 0s 8ms/step - loss: 0.4109 - accuracy: 0.8257 - val_loss: 0.6095 - val_accuracy: 0.7551\n",
      "Epoch 175/400\n",
      "16/16 [==============================] - 0s 8ms/step - loss: 0.4092 - accuracy: 0.8295 - val_loss: 0.5989 - val_accuracy: 0.7602\n",
      "Epoch 176/400\n",
      "16/16 [==============================] - 0s 8ms/step - loss: 0.4075 - accuracy: 0.8269 - val_loss: 0.5965 - val_accuracy: 0.7628\n",
      "Epoch 177/400\n",
      "16/16 [==============================] - 0s 8ms/step - loss: 0.4060 - accuracy: 0.8314 - val_loss: 0.5867 - val_accuracy: 0.7628\n",
      "Epoch 178/400\n",
      "16/16 [==============================] - 0s 8ms/step - loss: 0.4045 - accuracy: 0.8289 - val_loss: 0.6038 - val_accuracy: 0.7551\n",
      "Epoch 179/400\n",
      "16/16 [==============================] - 0s 8ms/step - loss: 0.4029 - accuracy: 0.8321 - val_loss: 0.5921 - val_accuracy: 0.7577\n",
      "Epoch 180/400\n",
      "16/16 [==============================] - 0s 6ms/step - loss: 0.4016 - accuracy: 0.8301 - val_loss: 0.5935 - val_accuracy: 0.7577\n",
      "Epoch 181/400\n",
      "16/16 [==============================] - 0s 7ms/step - loss: 0.4000 - accuracy: 0.8289 - val_loss: 0.5865 - val_accuracy: 0.7577\n",
      "Epoch 182/400\n",
      "16/16 [==============================] - 0s 6ms/step - loss: 0.3985 - accuracy: 0.8352 - val_loss: 0.5954 - val_accuracy: 0.7577\n",
      "Epoch 183/400\n",
      "16/16 [==============================] - 0s 6ms/step - loss: 0.3972 - accuracy: 0.8346 - val_loss: 0.5699 - val_accuracy: 0.7679\n",
      "Epoch 184/400\n",
      "16/16 [==============================] - 0s 6ms/step - loss: 0.3955 - accuracy: 0.8372 - val_loss: 0.5592 - val_accuracy: 0.7679\n",
      "Epoch 185/400\n",
      "16/16 [==============================] - 0s 8ms/step - loss: 0.3946 - accuracy: 0.8340 - val_loss: 0.5832 - val_accuracy: 0.7577\n",
      "Epoch 186/400\n",
      "16/16 [==============================] - 0s 8ms/step - loss: 0.3925 - accuracy: 0.8378 - val_loss: 0.5616 - val_accuracy: 0.7679\n",
      "Epoch 187/400\n",
      "16/16 [==============================] - 0s 8ms/step - loss: 0.3910 - accuracy: 0.8352 - val_loss: 0.5685 - val_accuracy: 0.7653\n",
      "Epoch 188/400\n",
      "16/16 [==============================] - 0s 8ms/step - loss: 0.3896 - accuracy: 0.8397 - val_loss: 0.5712 - val_accuracy: 0.7602\n",
      "Epoch 189/400\n",
      "16/16 [==============================] - 0s 8ms/step - loss: 0.3882 - accuracy: 0.8416 - val_loss: 0.5642 - val_accuracy: 0.7653\n",
      "Epoch 190/400\n",
      "16/16 [==============================] - 0s 8ms/step - loss: 0.3868 - accuracy: 0.8384 - val_loss: 0.5709 - val_accuracy: 0.7602\n",
      "Epoch 191/400\n",
      "16/16 [==============================] - 0s 8ms/step - loss: 0.3853 - accuracy: 0.8416 - val_loss: 0.5512 - val_accuracy: 0.7704\n",
      "Epoch 192/400\n",
      "16/16 [==============================] - 0s 7ms/step - loss: 0.3834 - accuracy: 0.8410 - val_loss: 0.5541 - val_accuracy: 0.7730\n",
      "Epoch 193/400\n",
      "16/16 [==============================] - 0s 8ms/step - loss: 0.3821 - accuracy: 0.8429 - val_loss: 0.5425 - val_accuracy: 0.7755\n",
      "Epoch 194/400\n",
      "16/16 [==============================] - 0s 8ms/step - loss: 0.3805 - accuracy: 0.8429 - val_loss: 0.5566 - val_accuracy: 0.7730\n",
      "Epoch 195/400\n",
      "16/16 [==============================] - 0s 8ms/step - loss: 0.3789 - accuracy: 0.8455 - val_loss: 0.5448 - val_accuracy: 0.7755\n",
      "Epoch 196/400\n",
      "16/16 [==============================] - 0s 9ms/step - loss: 0.3778 - accuracy: 0.8455 - val_loss: 0.5498 - val_accuracy: 0.7755\n",
      "Epoch 197/400\n",
      "16/16 [==============================] - 0s 8ms/step - loss: 0.3756 - accuracy: 0.8436 - val_loss: 0.5599 - val_accuracy: 0.7628\n",
      "Epoch 198/400\n",
      "16/16 [==============================] - 0s 8ms/step - loss: 0.3741 - accuracy: 0.8467 - val_loss: 0.5424 - val_accuracy: 0.7755\n",
      "Epoch 199/400\n",
      "16/16 [==============================] - 0s 8ms/step - loss: 0.3728 - accuracy: 0.8487 - val_loss: 0.5348 - val_accuracy: 0.7781\n",
      "Epoch 200/400\n",
      "16/16 [==============================] - 0s 8ms/step - loss: 0.3717 - accuracy: 0.8499 - val_loss: 0.5262 - val_accuracy: 0.7806\n",
      "Epoch 201/400\n",
      "16/16 [==============================] - 0s 7ms/step - loss: 0.3698 - accuracy: 0.8487 - val_loss: 0.5159 - val_accuracy: 0.7934\n",
      "Epoch 202/400\n",
      "16/16 [==============================] - 0s 7ms/step - loss: 0.3683 - accuracy: 0.8467 - val_loss: 0.5127 - val_accuracy: 0.7959\n",
      "Epoch 203/400\n",
      "16/16 [==============================] - 0s 6ms/step - loss: 0.3668 - accuracy: 0.8493 - val_loss: 0.5180 - val_accuracy: 0.7883\n",
      "Epoch 204/400\n",
      "16/16 [==============================] - 0s 7ms/step - loss: 0.3649 - accuracy: 0.8487 - val_loss: 0.5375 - val_accuracy: 0.7704\n",
      "Epoch 205/400\n",
      "16/16 [==============================] - 0s 7ms/step - loss: 0.3637 - accuracy: 0.8493 - val_loss: 0.5252 - val_accuracy: 0.7857\n",
      "Epoch 206/400\n",
      "16/16 [==============================] - 0s 7ms/step - loss: 0.3619 - accuracy: 0.8506 - val_loss: 0.5114 - val_accuracy: 0.7985\n",
      "Epoch 207/400\n",
      "16/16 [==============================] - 0s 7ms/step - loss: 0.3605 - accuracy: 0.8531 - val_loss: 0.5106 - val_accuracy: 0.7985\n",
      "Epoch 208/400\n",
      "16/16 [==============================] - 0s 6ms/step - loss: 0.3589 - accuracy: 0.8544 - val_loss: 0.5242 - val_accuracy: 0.7806\n",
      "Epoch 209/400\n",
      "16/16 [==============================] - 0s 6ms/step - loss: 0.3574 - accuracy: 0.8550 - val_loss: 0.5092 - val_accuracy: 0.8036\n",
      "Epoch 210/400\n",
      "16/16 [==============================] - 0s 8ms/step - loss: 0.3556 - accuracy: 0.8563 - val_loss: 0.5248 - val_accuracy: 0.7781\n",
      "Epoch 211/400\n",
      "16/16 [==============================] - 0s 6ms/step - loss: 0.3545 - accuracy: 0.8550 - val_loss: 0.5110 - val_accuracy: 0.7985\n",
      "Epoch 212/400\n",
      "16/16 [==============================] - 0s 6ms/step - loss: 0.3526 - accuracy: 0.8582 - val_loss: 0.5282 - val_accuracy: 0.7908\n",
      "Epoch 213/400\n",
      "16/16 [==============================] - 0s 6ms/step - loss: 0.3515 - accuracy: 0.8608 - val_loss: 0.5221 - val_accuracy: 0.7908\n",
      "Epoch 214/400\n",
      "16/16 [==============================] - 0s 7ms/step - loss: 0.3496 - accuracy: 0.8589 - val_loss: 0.4955 - val_accuracy: 0.8061\n",
      "Epoch 215/400\n",
      "16/16 [==============================] - 0s 6ms/step - loss: 0.3481 - accuracy: 0.8602 - val_loss: 0.4816 - val_accuracy: 0.8265\n",
      "Epoch 216/400\n",
      "16/16 [==============================] - 0s 7ms/step - loss: 0.3472 - accuracy: 0.8608 - val_loss: 0.4927 - val_accuracy: 0.8112\n",
      "Epoch 217/400\n",
      "16/16 [==============================] - 0s 7ms/step - loss: 0.3450 - accuracy: 0.8614 - val_loss: 0.5065 - val_accuracy: 0.8010\n",
      "Epoch 218/400\n",
      "16/16 [==============================] - 0s 7ms/step - loss: 0.3438 - accuracy: 0.8646 - val_loss: 0.5051 - val_accuracy: 0.8010\n",
      "Epoch 219/400\n",
      "16/16 [==============================] - 0s 7ms/step - loss: 0.3421 - accuracy: 0.8621 - val_loss: 0.4854 - val_accuracy: 0.8240\n",
      "Epoch 220/400\n",
      "16/16 [==============================] - 0s 7ms/step - loss: 0.3408 - accuracy: 0.8621 - val_loss: 0.4893 - val_accuracy: 0.8163\n",
      "Epoch 221/400\n",
      "16/16 [==============================] - 0s 7ms/step - loss: 0.3392 - accuracy: 0.8627 - val_loss: 0.4643 - val_accuracy: 0.8342\n",
      "Epoch 222/400\n",
      "16/16 [==============================] - 0s 6ms/step - loss: 0.3379 - accuracy: 0.8621 - val_loss: 0.4632 - val_accuracy: 0.8367\n",
      "Epoch 223/400\n",
      "16/16 [==============================] - 0s 7ms/step - loss: 0.3361 - accuracy: 0.8672 - val_loss: 0.4910 - val_accuracy: 0.8138\n",
      "Epoch 224/400\n",
      "16/16 [==============================] - 0s 7ms/step - loss: 0.3346 - accuracy: 0.8697 - val_loss: 0.4886 - val_accuracy: 0.8189\n",
      "Epoch 225/400\n",
      "16/16 [==============================] - 0s 7ms/step - loss: 0.3334 - accuracy: 0.8678 - val_loss: 0.4668 - val_accuracy: 0.8342\n",
      "Epoch 226/400\n",
      "16/16 [==============================] - 0s 8ms/step - loss: 0.3319 - accuracy: 0.8697 - val_loss: 0.4869 - val_accuracy: 0.8163\n",
      "Epoch 227/400\n",
      "16/16 [==============================] - 0s 8ms/step - loss: 0.3303 - accuracy: 0.8678 - val_loss: 0.4396 - val_accuracy: 0.8571\n",
      "Epoch 228/400\n",
      "16/16 [==============================] - 0s 8ms/step - loss: 0.3289 - accuracy: 0.8716 - val_loss: 0.4622 - val_accuracy: 0.8367\n",
      "Epoch 229/400\n"
     ]
    },
    {
     "name": "stdout",
     "output_type": "stream",
     "text": [
      "16/16 [==============================] - 0s 8ms/step - loss: 0.3273 - accuracy: 0.8729 - val_loss: 0.4682 - val_accuracy: 0.8342\n",
      "Epoch 230/400\n",
      "16/16 [==============================] - 0s 8ms/step - loss: 0.3257 - accuracy: 0.8768 - val_loss: 0.4728 - val_accuracy: 0.8316\n",
      "Epoch 231/400\n",
      "16/16 [==============================] - 0s 10ms/step - loss: 0.3248 - accuracy: 0.8742 - val_loss: 0.4347 - val_accuracy: 0.8571\n",
      "Epoch 232/400\n",
      "16/16 [==============================] - 0s 8ms/step - loss: 0.3231 - accuracy: 0.8793 - val_loss: 0.4782 - val_accuracy: 0.8214\n",
      "Epoch 233/400\n",
      "16/16 [==============================] - 0s 7ms/step - loss: 0.3214 - accuracy: 0.8806 - val_loss: 0.4760 - val_accuracy: 0.8240\n",
      "Epoch 234/400\n",
      "16/16 [==============================] - 0s 7ms/step - loss: 0.3200 - accuracy: 0.8787 - val_loss: 0.4355 - val_accuracy: 0.8571\n",
      "Epoch 235/400\n",
      "16/16 [==============================] - 0s 6ms/step - loss: 0.3189 - accuracy: 0.8768 - val_loss: 0.4397 - val_accuracy: 0.8571\n",
      "Epoch 236/400\n",
      "16/16 [==============================] - 0s 7ms/step - loss: 0.3174 - accuracy: 0.8831 - val_loss: 0.4319 - val_accuracy: 0.8571\n",
      "Epoch 237/400\n",
      "16/16 [==============================] - 0s 6ms/step - loss: 0.3162 - accuracy: 0.8825 - val_loss: 0.4421 - val_accuracy: 0.8571\n",
      "Epoch 238/400\n",
      "16/16 [==============================] - 0s 7ms/step - loss: 0.3143 - accuracy: 0.8844 - val_loss: 0.4348 - val_accuracy: 0.8622\n",
      "Epoch 239/400\n",
      "16/16 [==============================] - 0s 7ms/step - loss: 0.3131 - accuracy: 0.8812 - val_loss: 0.4499 - val_accuracy: 0.8444\n",
      "Epoch 240/400\n",
      "16/16 [==============================] - 0s 8ms/step - loss: 0.3112 - accuracy: 0.8863 - val_loss: 0.4344 - val_accuracy: 0.8622\n",
      "Epoch 241/400\n",
      "16/16 [==============================] - 0s 8ms/step - loss: 0.3103 - accuracy: 0.8838 - val_loss: 0.4745 - val_accuracy: 0.8240\n",
      "Epoch 242/400\n",
      "16/16 [==============================] - 0s 8ms/step - loss: 0.3084 - accuracy: 0.8870 - val_loss: 0.4219 - val_accuracy: 0.8622\n",
      "Epoch 243/400\n",
      "16/16 [==============================] - 0s 8ms/step - loss: 0.3073 - accuracy: 0.8863 - val_loss: 0.4375 - val_accuracy: 0.8469\n",
      "Epoch 244/400\n",
      "16/16 [==============================] - 0s 7ms/step - loss: 0.3064 - accuracy: 0.8831 - val_loss: 0.4130 - val_accuracy: 0.8750\n",
      "Epoch 245/400\n",
      "16/16 [==============================] - 0s 7ms/step - loss: 0.3050 - accuracy: 0.8863 - val_loss: 0.4357 - val_accuracy: 0.8520\n",
      "Epoch 246/400\n",
      "16/16 [==============================] - 0s 8ms/step - loss: 0.3030 - accuracy: 0.8857 - val_loss: 0.4309 - val_accuracy: 0.8546\n",
      "Epoch 247/400\n",
      "16/16 [==============================] - 0s 7ms/step - loss: 0.3016 - accuracy: 0.8883 - val_loss: 0.4234 - val_accuracy: 0.8673\n",
      "Epoch 248/400\n",
      "16/16 [==============================] - 0s 7ms/step - loss: 0.3006 - accuracy: 0.8895 - val_loss: 0.4282 - val_accuracy: 0.8648\n",
      "Epoch 249/400\n",
      "16/16 [==============================] - 0s 7ms/step - loss: 0.2993 - accuracy: 0.8889 - val_loss: 0.4343 - val_accuracy: 0.8546\n",
      "Epoch 250/400\n",
      "16/16 [==============================] - 0s 7ms/step - loss: 0.2980 - accuracy: 0.8895 - val_loss: 0.4201 - val_accuracy: 0.8597\n",
      "Epoch 251/400\n",
      "16/16 [==============================] - 0s 7ms/step - loss: 0.2966 - accuracy: 0.8908 - val_loss: 0.4121 - val_accuracy: 0.8724\n",
      "Epoch 252/400\n",
      "16/16 [==============================] - 0s 7ms/step - loss: 0.2952 - accuracy: 0.8914 - val_loss: 0.3905 - val_accuracy: 0.8903\n",
      "Epoch 253/400\n",
      "16/16 [==============================] - 0s 7ms/step - loss: 0.2937 - accuracy: 0.8914 - val_loss: 0.4507 - val_accuracy: 0.8444\n",
      "Epoch 254/400\n",
      "16/16 [==============================] - 0s 8ms/step - loss: 0.2930 - accuracy: 0.8959 - val_loss: 0.4025 - val_accuracy: 0.8852\n",
      "Epoch 255/400\n",
      "16/16 [==============================] - 0s 7ms/step - loss: 0.2908 - accuracy: 0.8927 - val_loss: 0.3963 - val_accuracy: 0.8878\n",
      "Epoch 256/400\n",
      "16/16 [==============================] - 0s 6ms/step - loss: 0.2898 - accuracy: 0.8966 - val_loss: 0.3980 - val_accuracy: 0.8852\n",
      "Epoch 257/400\n",
      "16/16 [==============================] - 0s 6ms/step - loss: 0.2883 - accuracy: 0.8946 - val_loss: 0.3961 - val_accuracy: 0.8852\n",
      "Epoch 258/400\n",
      "16/16 [==============================] - 0s 6ms/step - loss: 0.2867 - accuracy: 0.8934 - val_loss: 0.3782 - val_accuracy: 0.8954\n",
      "Epoch 259/400\n",
      "16/16 [==============================] - 0s 6ms/step - loss: 0.2857 - accuracy: 0.8985 - val_loss: 0.3761 - val_accuracy: 0.8954\n",
      "Epoch 260/400\n",
      "16/16 [==============================] - 0s 7ms/step - loss: 0.2847 - accuracy: 0.8985 - val_loss: 0.4069 - val_accuracy: 0.8699\n",
      "Epoch 261/400\n",
      "16/16 [==============================] - 0s 9ms/step - loss: 0.2831 - accuracy: 0.8997 - val_loss: 0.3827 - val_accuracy: 0.8954\n",
      "Epoch 262/400\n",
      "16/16 [==============================] - 0s 8ms/step - loss: 0.2820 - accuracy: 0.8997 - val_loss: 0.3976 - val_accuracy: 0.8673\n",
      "Epoch 263/400\n",
      "16/16 [==============================] - 0s 8ms/step - loss: 0.2804 - accuracy: 0.9010 - val_loss: 0.3847 - val_accuracy: 0.8878\n",
      "Epoch 264/400\n",
      "16/16 [==============================] - 0s 8ms/step - loss: 0.2790 - accuracy: 0.8991 - val_loss: 0.3925 - val_accuracy: 0.8724\n",
      "Epoch 265/400\n",
      "16/16 [==============================] - 0s 8ms/step - loss: 0.2784 - accuracy: 0.9010 - val_loss: 0.3729 - val_accuracy: 0.8903\n",
      "Epoch 266/400\n",
      "16/16 [==============================] - 0s 8ms/step - loss: 0.2766 - accuracy: 0.9023 - val_loss: 0.3942 - val_accuracy: 0.8724\n",
      "Epoch 267/400\n",
      "16/16 [==============================] - 0s 7ms/step - loss: 0.2749 - accuracy: 0.9074 - val_loss: 0.3949 - val_accuracy: 0.8724\n",
      "Epoch 268/400\n",
      "16/16 [==============================] - 0s 9ms/step - loss: 0.2740 - accuracy: 0.9029 - val_loss: 0.3787 - val_accuracy: 0.8903\n",
      "Epoch 269/400\n",
      "16/16 [==============================] - 0s 8ms/step - loss: 0.2724 - accuracy: 0.9074 - val_loss: 0.3478 - val_accuracy: 0.9056\n",
      "Epoch 270/400\n",
      "16/16 [==============================] - 0s 7ms/step - loss: 0.2717 - accuracy: 0.9061 - val_loss: 0.3709 - val_accuracy: 0.8929\n",
      "Epoch 271/400\n",
      "16/16 [==============================] - 0s 8ms/step - loss: 0.2696 - accuracy: 0.9080 - val_loss: 0.3648 - val_accuracy: 0.9005\n",
      "Epoch 272/400\n",
      "16/16 [==============================] - 0s 10ms/step - loss: 0.2690 - accuracy: 0.9074 - val_loss: 0.3623 - val_accuracy: 0.8980\n",
      "Epoch 273/400\n",
      "16/16 [==============================] - 0s 6ms/step - loss: 0.2671 - accuracy: 0.9093 - val_loss: 0.3938 - val_accuracy: 0.8750\n",
      "Epoch 274/400\n",
      "16/16 [==============================] - 0s 6ms/step - loss: 0.2663 - accuracy: 0.9100 - val_loss: 0.3815 - val_accuracy: 0.8776\n",
      "Epoch 275/400\n",
      "16/16 [==============================] - 0s 7ms/step - loss: 0.2646 - accuracy: 0.9100 - val_loss: 0.3678 - val_accuracy: 0.8929\n",
      "Epoch 276/400\n",
      "16/16 [==============================] - 0s 7ms/step - loss: 0.2634 - accuracy: 0.9112 - val_loss: 0.3189 - val_accuracy: 0.9311\n",
      "Epoch 277/400\n",
      "16/16 [==============================] - 0s 7ms/step - loss: 0.2621 - accuracy: 0.9112 - val_loss: 0.3788 - val_accuracy: 0.8852\n",
      "Epoch 278/400\n",
      "16/16 [==============================] - 0s 7ms/step - loss: 0.2602 - accuracy: 0.9100 - val_loss: 0.3433 - val_accuracy: 0.9158\n",
      "Epoch 279/400\n",
      "16/16 [==============================] - 0s 7ms/step - loss: 0.2593 - accuracy: 0.9151 - val_loss: 0.3332 - val_accuracy: 0.9260\n",
      "Epoch 280/400\n",
      "16/16 [==============================] - 0s 6ms/step - loss: 0.2587 - accuracy: 0.9151 - val_loss: 0.3406 - val_accuracy: 0.9209\n",
      "Epoch 281/400\n",
      "16/16 [==============================] - 0s 6ms/step - loss: 0.2571 - accuracy: 0.9132 - val_loss: 0.3394 - val_accuracy: 0.9184\n",
      "Epoch 282/400\n",
      "16/16 [==============================] - 0s 7ms/step - loss: 0.2555 - accuracy: 0.9163 - val_loss: 0.3599 - val_accuracy: 0.8929\n",
      "Epoch 283/400\n",
      "16/16 [==============================] - 0s 7ms/step - loss: 0.2539 - accuracy: 0.9157 - val_loss: 0.3654 - val_accuracy: 0.8903\n",
      "Epoch 284/400\n",
      "16/16 [==============================] - 0s 7ms/step - loss: 0.2526 - accuracy: 0.9157 - val_loss: 0.3254 - val_accuracy: 0.9260\n",
      "Epoch 285/400\n",
      "16/16 [==============================] - 0s 7ms/step - loss: 0.2520 - accuracy: 0.9151 - val_loss: 0.3407 - val_accuracy: 0.9158\n",
      "Epoch 286/400\n",
      "16/16 [==============================] - 0s 6ms/step - loss: 0.2499 - accuracy: 0.9170 - val_loss: 0.3637 - val_accuracy: 0.8878\n",
      "Epoch 287/400\n",
      "16/16 [==============================] - 0s 6ms/step - loss: 0.2498 - accuracy: 0.9151 - val_loss: 0.3514 - val_accuracy: 0.9107\n",
      "Epoch 288/400\n",
      "16/16 [==============================] - 0s 7ms/step - loss: 0.2474 - accuracy: 0.9215 - val_loss: 0.3232 - val_accuracy: 0.9209\n",
      "Epoch 289/400\n",
      "16/16 [==============================] - 0s 7ms/step - loss: 0.2469 - accuracy: 0.9176 - val_loss: 0.3426 - val_accuracy: 0.9133\n",
      "Epoch 290/400\n",
      "16/16 [==============================] - 0s 7ms/step - loss: 0.2459 - accuracy: 0.9208 - val_loss: 0.3427 - val_accuracy: 0.9158\n",
      "Epoch 291/400\n",
      "16/16 [==============================] - 0s 6ms/step - loss: 0.2436 - accuracy: 0.9227 - val_loss: 0.3029 - val_accuracy: 0.9362\n",
      "Epoch 292/400\n",
      "16/16 [==============================] - 0s 6ms/step - loss: 0.2439 - accuracy: 0.9183 - val_loss: 0.3194 - val_accuracy: 0.9260\n",
      "Epoch 293/400\n",
      "16/16 [==============================] - 0s 7ms/step - loss: 0.2419 - accuracy: 0.9208 - val_loss: 0.3273 - val_accuracy: 0.9286\n",
      "Epoch 294/400\n",
      "16/16 [==============================] - 0s 8ms/step - loss: 0.2412 - accuracy: 0.9208 - val_loss: 0.3266 - val_accuracy: 0.9260\n",
      "Epoch 295/400\n",
      "16/16 [==============================] - 0s 7ms/step - loss: 0.2395 - accuracy: 0.9195 - val_loss: 0.3057 - val_accuracy: 0.9311\n",
      "Epoch 296/400\n",
      "16/16 [==============================] - 0s 6ms/step - loss: 0.2389 - accuracy: 0.9195 - val_loss: 0.2840 - val_accuracy: 0.9413\n",
      "Epoch 297/400\n",
      "16/16 [==============================] - 0s 8ms/step - loss: 0.2381 - accuracy: 0.9221 - val_loss: 0.3201 - val_accuracy: 0.9235\n",
      "Epoch 298/400\n",
      "16/16 [==============================] - 0s 8ms/step - loss: 0.2372 - accuracy: 0.9227 - val_loss: 0.3162 - val_accuracy: 0.9286\n",
      "Epoch 299/400\n",
      "16/16 [==============================] - 0s 7ms/step - loss: 0.2350 - accuracy: 0.9215 - val_loss: 0.3279 - val_accuracy: 0.9184\n",
      "Epoch 300/400\n",
      "16/16 [==============================] - 0s 8ms/step - loss: 0.2342 - accuracy: 0.9234 - val_loss: 0.3198 - val_accuracy: 0.9209\n",
      "Epoch 301/400\n",
      "16/16 [==============================] - 0s 7ms/step - loss: 0.2331 - accuracy: 0.9234 - val_loss: 0.3072 - val_accuracy: 0.9260\n",
      "Epoch 302/400\n",
      "16/16 [==============================] - 0s 7ms/step - loss: 0.2310 - accuracy: 0.9240 - val_loss: 0.2795 - val_accuracy: 0.9439\n",
      "Epoch 303/400\n",
      "16/16 [==============================] - 0s 6ms/step - loss: 0.2308 - accuracy: 0.9253 - val_loss: 0.3310 - val_accuracy: 0.9209\n",
      "Epoch 304/400\n",
      "16/16 [==============================] - 0s 7ms/step - loss: 0.2304 - accuracy: 0.9246 - val_loss: 0.3276 - val_accuracy: 0.9184\n",
      "Epoch 305/400\n",
      "16/16 [==============================] - 0s 6ms/step - loss: 0.2289 - accuracy: 0.9215 - val_loss: 0.2869 - val_accuracy: 0.9388\n",
      "Epoch 306/400\n",
      "16/16 [==============================] - 0s 8ms/step - loss: 0.2273 - accuracy: 0.9272 - val_loss: 0.3072 - val_accuracy: 0.9260\n",
      "Epoch 307/400\n",
      "16/16 [==============================] - 0s 7ms/step - loss: 0.2265 - accuracy: 0.9253 - val_loss: 0.3096 - val_accuracy: 0.9286\n",
      "Epoch 308/400\n",
      "16/16 [==============================] - 0s 8ms/step - loss: 0.2255 - accuracy: 0.9259 - val_loss: 0.3110 - val_accuracy: 0.9286\n",
      "Epoch 309/400\n",
      "16/16 [==============================] - 0s 8ms/step - loss: 0.2247 - accuracy: 0.9240 - val_loss: 0.2808 - val_accuracy: 0.9413\n",
      "Epoch 310/400\n",
      "16/16 [==============================] - 0s 7ms/step - loss: 0.2236 - accuracy: 0.9291 - val_loss: 0.2870 - val_accuracy: 0.9362\n",
      "Epoch 311/400\n",
      "16/16 [==============================] - 0s 8ms/step - loss: 0.2222 - accuracy: 0.9246 - val_loss: 0.2810 - val_accuracy: 0.9388\n",
      "Epoch 312/400\n",
      "16/16 [==============================] - 0s 6ms/step - loss: 0.2213 - accuracy: 0.9278 - val_loss: 0.2677 - val_accuracy: 0.9464\n",
      "Epoch 313/400\n",
      "16/16 [==============================] - 0s 6ms/step - loss: 0.2205 - accuracy: 0.9253 - val_loss: 0.2884 - val_accuracy: 0.9388\n",
      "Epoch 314/400\n",
      "16/16 [==============================] - 0s 7ms/step - loss: 0.2195 - accuracy: 0.9266 - val_loss: 0.2746 - val_accuracy: 0.9413\n",
      "Epoch 315/400\n",
      "16/16 [==============================] - 0s 7ms/step - loss: 0.2186 - accuracy: 0.9278 - val_loss: 0.2859 - val_accuracy: 0.9337\n",
      "Epoch 316/400\n",
      "16/16 [==============================] - 0s 6ms/step - loss: 0.2177 - accuracy: 0.9285 - val_loss: 0.2950 - val_accuracy: 0.9337\n",
      "Epoch 317/400\n",
      "16/16 [==============================] - 0s 6ms/step - loss: 0.2167 - accuracy: 0.9278 - val_loss: 0.2822 - val_accuracy: 0.9362\n",
      "Epoch 318/400\n",
      "16/16 [==============================] - 0s 6ms/step - loss: 0.2161 - accuracy: 0.9304 - val_loss: 0.2979 - val_accuracy: 0.9286\n",
      "Epoch 319/400\n",
      "16/16 [==============================] - 0s 7ms/step - loss: 0.2141 - accuracy: 0.9310 - val_loss: 0.2625 - val_accuracy: 0.9490\n",
      "Epoch 320/400\n",
      "16/16 [==============================] - 0s 6ms/step - loss: 0.2146 - accuracy: 0.9304 - val_loss: 0.2815 - val_accuracy: 0.9362\n",
      "Epoch 321/400\n",
      "16/16 [==============================] - 0s 7ms/step - loss: 0.2134 - accuracy: 0.9323 - val_loss: 0.2624 - val_accuracy: 0.9464\n",
      "Epoch 322/400\n",
      "16/16 [==============================] - 0s 8ms/step - loss: 0.2118 - accuracy: 0.9266 - val_loss: 0.3046 - val_accuracy: 0.9158\n",
      "Epoch 323/400\n",
      "16/16 [==============================] - 0s 8ms/step - loss: 0.2110 - accuracy: 0.9298 - val_loss: 0.2732 - val_accuracy: 0.9413\n",
      "Epoch 324/400\n",
      "16/16 [==============================] - 0s 7ms/step - loss: 0.2102 - accuracy: 0.9323 - val_loss: 0.2634 - val_accuracy: 0.9464\n",
      "Epoch 325/400\n",
      "16/16 [==============================] - 0s 6ms/step - loss: 0.2083 - accuracy: 0.9317 - val_loss: 0.2605 - val_accuracy: 0.9490\n",
      "Epoch 326/400\n",
      "16/16 [==============================] - 0s 6ms/step - loss: 0.2084 - accuracy: 0.9304 - val_loss: 0.2613 - val_accuracy: 0.9490\n",
      "Epoch 327/400\n",
      "16/16 [==============================] - 0s 6ms/step - loss: 0.2073 - accuracy: 0.9330 - val_loss: 0.2641 - val_accuracy: 0.9439\n",
      "Epoch 328/400\n",
      "16/16 [==============================] - 0s 7ms/step - loss: 0.2065 - accuracy: 0.9323 - val_loss: 0.2282 - val_accuracy: 0.9566\n",
      "Epoch 329/400\n",
      "16/16 [==============================] - 0s 6ms/step - loss: 0.2056 - accuracy: 0.9330 - val_loss: 0.2321 - val_accuracy: 0.9566\n",
      "Epoch 330/400\n",
      "16/16 [==============================] - 0s 6ms/step - loss: 0.2058 - accuracy: 0.9323 - val_loss: 0.2537 - val_accuracy: 0.9439\n",
      "Epoch 331/400\n",
      "16/16 [==============================] - 0s 6ms/step - loss: 0.2036 - accuracy: 0.9330 - val_loss: 0.2748 - val_accuracy: 0.9388\n",
      "Epoch 332/400\n",
      "16/16 [==============================] - 0s 6ms/step - loss: 0.2024 - accuracy: 0.9330 - val_loss: 0.2525 - val_accuracy: 0.9541\n",
      "Epoch 333/400\n",
      "16/16 [==============================] - 0s 6ms/step - loss: 0.2013 - accuracy: 0.9349 - val_loss: 0.2403 - val_accuracy: 0.9541\n",
      "Epoch 334/400\n",
      "16/16 [==============================] - 0s 6ms/step - loss: 0.2007 - accuracy: 0.9342 - val_loss: 0.2543 - val_accuracy: 0.9490\n",
      "Epoch 335/400\n",
      "16/16 [==============================] - 0s 7ms/step - loss: 0.1995 - accuracy: 0.9336 - val_loss: 0.2458 - val_accuracy: 0.9541\n",
      "Epoch 336/400\n",
      "16/16 [==============================] - 0s 6ms/step - loss: 0.1992 - accuracy: 0.9361 - val_loss: 0.2432 - val_accuracy: 0.9541\n",
      "Epoch 337/400\n",
      "16/16 [==============================] - 0s 7ms/step - loss: 0.1985 - accuracy: 0.9361 - val_loss: 0.2533 - val_accuracy: 0.9541\n",
      "Epoch 338/400\n",
      "16/16 [==============================] - 0s 6ms/step - loss: 0.1975 - accuracy: 0.9330 - val_loss: 0.2501 - val_accuracy: 0.9541\n",
      "Epoch 339/400\n",
      "16/16 [==============================] - 0s 6ms/step - loss: 0.1964 - accuracy: 0.9368 - val_loss: 0.2453 - val_accuracy: 0.9490\n",
      "Epoch 340/400\n",
      "16/16 [==============================] - 0s 6ms/step - loss: 0.1953 - accuracy: 0.9368 - val_loss: 0.2781 - val_accuracy: 0.9388\n",
      "Epoch 341/400\n",
      "16/16 [==============================] - 0s 6ms/step - loss: 0.1953 - accuracy: 0.9374 - val_loss: 0.2735 - val_accuracy: 0.9388\n",
      "Epoch 342/400\n",
      "16/16 [==============================] - 0s 6ms/step - loss: 0.1934 - accuracy: 0.9374 - val_loss: 0.2412 - val_accuracy: 0.9541\n",
      "Epoch 343/400\n"
     ]
    },
    {
     "name": "stdout",
     "output_type": "stream",
     "text": [
      "16/16 [==============================] - 0s 7ms/step - loss: 0.1927 - accuracy: 0.9381 - val_loss: 0.2316 - val_accuracy: 0.9566\n",
      "Epoch 344/400\n",
      "16/16 [==============================] - 0s 6ms/step - loss: 0.1927 - accuracy: 0.9381 - val_loss: 0.2582 - val_accuracy: 0.9490\n",
      "Epoch 345/400\n",
      "16/16 [==============================] - 0s 7ms/step - loss: 0.1908 - accuracy: 0.9419 - val_loss: 0.2230 - val_accuracy: 0.9566\n",
      "Epoch 346/400\n",
      "16/16 [==============================] - 0s 6ms/step - loss: 0.1899 - accuracy: 0.9413 - val_loss: 0.2445 - val_accuracy: 0.9541\n",
      "Epoch 347/400\n",
      "16/16 [==============================] - 0s 7ms/step - loss: 0.1909 - accuracy: 0.9381 - val_loss: 0.2255 - val_accuracy: 0.9566\n",
      "Epoch 348/400\n",
      "16/16 [==============================] - 0s 6ms/step - loss: 0.1892 - accuracy: 0.9368 - val_loss: 0.2318 - val_accuracy: 0.9541\n",
      "Epoch 349/400\n",
      "16/16 [==============================] - 0s 6ms/step - loss: 0.1878 - accuracy: 0.9438 - val_loss: 0.2344 - val_accuracy: 0.9541\n",
      "Epoch 350/400\n",
      "16/16 [==============================] - 0s 6ms/step - loss: 0.1877 - accuracy: 0.9406 - val_loss: 0.2445 - val_accuracy: 0.9541\n",
      "Epoch 351/400\n",
      "16/16 [==============================] - 0s 6ms/step - loss: 0.1853 - accuracy: 0.9425 - val_loss: 0.2476 - val_accuracy: 0.9464\n",
      "Epoch 352/400\n",
      "16/16 [==============================] - 0s 7ms/step - loss: 0.1853 - accuracy: 0.9400 - val_loss: 0.2255 - val_accuracy: 0.9541\n",
      "Epoch 353/400\n",
      "16/16 [==============================] - 0s 6ms/step - loss: 0.1850 - accuracy: 0.9419 - val_loss: 0.2116 - val_accuracy: 0.9592\n",
      "Epoch 354/400\n",
      "16/16 [==============================] - 0s 7ms/step - loss: 0.1838 - accuracy: 0.9413 - val_loss: 0.2368 - val_accuracy: 0.9515\n",
      "Epoch 355/400\n",
      "16/16 [==============================] - 0s 8ms/step - loss: 0.1832 - accuracy: 0.9400 - val_loss: 0.2186 - val_accuracy: 0.9541\n",
      "Epoch 356/400\n",
      "16/16 [==============================] - 0s 8ms/step - loss: 0.1818 - accuracy: 0.9464 - val_loss: 0.2624 - val_accuracy: 0.9464\n",
      "Epoch 357/400\n",
      "16/16 [==============================] - 0s 8ms/step - loss: 0.1818 - accuracy: 0.9464 - val_loss: 0.2201 - val_accuracy: 0.9566\n",
      "Epoch 358/400\n",
      "16/16 [==============================] - 0s 8ms/step - loss: 0.1805 - accuracy: 0.9457 - val_loss: 0.2125 - val_accuracy: 0.9592\n",
      "Epoch 359/400\n",
      "16/16 [==============================] - 0s 7ms/step - loss: 0.1804 - accuracy: 0.9444 - val_loss: 0.2519 - val_accuracy: 0.9464\n",
      "Epoch 360/400\n",
      "16/16 [==============================] - 0s 6ms/step - loss: 0.1786 - accuracy: 0.9444 - val_loss: 0.2107 - val_accuracy: 0.9617\n",
      "Epoch 361/400\n",
      "16/16 [==============================] - 0s 7ms/step - loss: 0.1782 - accuracy: 0.9502 - val_loss: 0.2342 - val_accuracy: 0.9541\n",
      "Epoch 362/400\n",
      "16/16 [==============================] - 0s 7ms/step - loss: 0.1778 - accuracy: 0.9489 - val_loss: 0.2062 - val_accuracy: 0.9592\n",
      "Epoch 363/400\n",
      "16/16 [==============================] - 0s 7ms/step - loss: 0.1764 - accuracy: 0.9489 - val_loss: 0.1957 - val_accuracy: 0.9643\n",
      "Epoch 364/400\n",
      "16/16 [==============================] - 0s 6ms/step - loss: 0.1763 - accuracy: 0.9438 - val_loss: 0.2411 - val_accuracy: 0.9566\n",
      "Epoch 365/400\n",
      "16/16 [==============================] - 0s 7ms/step - loss: 0.1744 - accuracy: 0.9521 - val_loss: 0.1959 - val_accuracy: 0.9668\n",
      "Epoch 366/400\n",
      "16/16 [==============================] - 0s 7ms/step - loss: 0.1745 - accuracy: 0.9502 - val_loss: 0.2710 - val_accuracy: 0.9286\n",
      "Epoch 367/400\n",
      "16/16 [==============================] - 0s 7ms/step - loss: 0.1745 - accuracy: 0.9515 - val_loss: 0.1881 - val_accuracy: 0.9668\n",
      "Epoch 368/400\n",
      "16/16 [==============================] - 0s 7ms/step - loss: 0.1748 - accuracy: 0.9483 - val_loss: 0.2285 - val_accuracy: 0.9617\n",
      "Epoch 369/400\n",
      "16/16 [==============================] - 0s 6ms/step - loss: 0.1722 - accuracy: 0.9515 - val_loss: 0.2330 - val_accuracy: 0.9566\n",
      "Epoch 370/400\n",
      "16/16 [==============================] - 0s 7ms/step - loss: 0.1723 - accuracy: 0.9489 - val_loss: 0.2105 - val_accuracy: 0.9617\n",
      "Epoch 371/400\n",
      "16/16 [==============================] - 0s 7ms/step - loss: 0.1726 - accuracy: 0.9521 - val_loss: 0.2335 - val_accuracy: 0.9592\n",
      "Epoch 372/400\n",
      "16/16 [==============================] - 0s 8ms/step - loss: 0.1711 - accuracy: 0.9521 - val_loss: 0.2096 - val_accuracy: 0.9668\n",
      "Epoch 373/400\n",
      "16/16 [==============================] - 0s 8ms/step - loss: 0.1701 - accuracy: 0.9508 - val_loss: 0.1930 - val_accuracy: 0.9643\n",
      "Epoch 374/400\n",
      "16/16 [==============================] - 0s 7ms/step - loss: 0.1693 - accuracy: 0.9496 - val_loss: 0.2224 - val_accuracy: 0.9617\n",
      "Epoch 375/400\n",
      "16/16 [==============================] - 0s 6ms/step - loss: 0.1685 - accuracy: 0.9527 - val_loss: 0.2248 - val_accuracy: 0.9617\n",
      "Epoch 376/400\n",
      "16/16 [==============================] - 0s 7ms/step - loss: 0.1678 - accuracy: 0.9559 - val_loss: 0.1894 - val_accuracy: 0.9668\n",
      "Epoch 377/400\n",
      "16/16 [==============================] - 0s 6ms/step - loss: 0.1676 - accuracy: 0.9515 - val_loss: 0.2513 - val_accuracy: 0.9388\n",
      "Epoch 378/400\n",
      "16/16 [==============================] - 0s 6ms/step - loss: 0.1673 - accuracy: 0.9508 - val_loss: 0.2105 - val_accuracy: 0.9668\n",
      "Epoch 379/400\n",
      "16/16 [==============================] - 0s 6ms/step - loss: 0.1662 - accuracy: 0.9521 - val_loss: 0.2114 - val_accuracy: 0.9643\n",
      "Epoch 380/400\n",
      "16/16 [==============================] - 0s 6ms/step - loss: 0.1650 - accuracy: 0.9547 - val_loss: 0.1902 - val_accuracy: 0.9694\n",
      "Epoch 381/400\n",
      "16/16 [==============================] - 0s 6ms/step - loss: 0.1644 - accuracy: 0.9559 - val_loss: 0.2437 - val_accuracy: 0.9541\n",
      "Epoch 382/400\n",
      "16/16 [==============================] - 0s 6ms/step - loss: 0.1646 - accuracy: 0.9540 - val_loss: 0.2061 - val_accuracy: 0.9643\n",
      "Epoch 383/400\n",
      "16/16 [==============================] - 0s 7ms/step - loss: 0.1639 - accuracy: 0.9559 - val_loss: 0.1955 - val_accuracy: 0.9694\n",
      "Epoch 384/400\n",
      "16/16 [==============================] - 0s 8ms/step - loss: 0.1625 - accuracy: 0.9553 - val_loss: 0.1887 - val_accuracy: 0.9694\n",
      "Epoch 385/400\n",
      "16/16 [==============================] - 0s 8ms/step - loss: 0.1620 - accuracy: 0.9515 - val_loss: 0.1962 - val_accuracy: 0.9694\n",
      "Epoch 386/400\n",
      "16/16 [==============================] - 0s 8ms/step - loss: 0.1615 - accuracy: 0.9566 - val_loss: 0.1878 - val_accuracy: 0.9719\n",
      "Epoch 387/400\n",
      "16/16 [==============================] - 0s 8ms/step - loss: 0.1601 - accuracy: 0.9566 - val_loss: 0.1992 - val_accuracy: 0.9643\n",
      "Epoch 388/400\n",
      "16/16 [==============================] - 0s 7ms/step - loss: 0.1612 - accuracy: 0.9559 - val_loss: 0.1911 - val_accuracy: 0.9668\n",
      "Epoch 389/400\n",
      "16/16 [==============================] - 0s 6ms/step - loss: 0.1595 - accuracy: 0.9579 - val_loss: 0.2025 - val_accuracy: 0.9694\n",
      "Epoch 390/400\n",
      "16/16 [==============================] - 0s 5ms/step - loss: 0.1591 - accuracy: 0.9553 - val_loss: 0.1675 - val_accuracy: 0.9770\n",
      "Epoch 391/400\n",
      "16/16 [==============================] - 0s 5ms/step - loss: 0.1590 - accuracy: 0.9566 - val_loss: 0.2219 - val_accuracy: 0.9566\n",
      "Epoch 392/400\n",
      "16/16 [==============================] - 0s 7ms/step - loss: 0.1579 - accuracy: 0.9566 - val_loss: 0.2153 - val_accuracy: 0.9643\n",
      "Epoch 393/400\n",
      "16/16 [==============================] - 0s 7ms/step - loss: 0.1566 - accuracy: 0.9572 - val_loss: 0.1711 - val_accuracy: 0.9770\n",
      "Epoch 394/400\n",
      "16/16 [==============================] - 0s 6ms/step - loss: 0.1561 - accuracy: 0.9547 - val_loss: 0.1975 - val_accuracy: 0.9694\n",
      "Epoch 395/400\n",
      "16/16 [==============================] - 0s 5ms/step - loss: 0.1562 - accuracy: 0.9566 - val_loss: 0.1787 - val_accuracy: 0.9719\n",
      "Epoch 396/400\n",
      "16/16 [==============================] - 0s 7ms/step - loss: 0.1556 - accuracy: 0.9591 - val_loss: 0.1893 - val_accuracy: 0.9694\n",
      "Epoch 397/400\n",
      "16/16 [==============================] - 0s 6ms/step - loss: 0.1564 - accuracy: 0.9591 - val_loss: 0.2099 - val_accuracy: 0.9643\n",
      "Epoch 398/400\n",
      "16/16 [==============================] - 0s 6ms/step - loss: 0.1548 - accuracy: 0.9579 - val_loss: 0.1901 - val_accuracy: 0.9745\n",
      "Epoch 399/400\n",
      "16/16 [==============================] - 0s 6ms/step - loss: 0.1540 - accuracy: 0.9579 - val_loss: 0.2105 - val_accuracy: 0.9668\n",
      "Epoch 400/400\n",
      "16/16 [==============================] - 0s 6ms/step - loss: 0.1536 - accuracy: 0.9630 - val_loss: 0.1804 - val_accuracy: 0.9745\n"
     ]
    },
    {
     "data": {
      "text/plain": [
       "<keras.src.callbacks.History at 0x22944d45ed0>"
      ]
     },
     "execution_count": 60,
     "metadata": {},
     "output_type": "execute_result"
    }
   ],
   "source": [
    "model.compile(optimizer=\"sgd\",loss=\"binary_crossentropy\",metrics=[\"accuracy\"]) \n",
    "history=model.fit(X_train,y_train,batch_size=100,epochs=400,validation_split=0.2)  \n",
    "history "
   ]
  },
  {
   "cell_type": "code",
   "execution_count": 61,
   "id": "1bc01e99",
   "metadata": {},
   "outputs": [
    {
     "data": {
      "text/plain": [
       "<matplotlib.legend.Legend at 0x22944d6c550>"
      ]
     },
     "execution_count": 61,
     "metadata": {},
     "output_type": "execute_result"
    },
    {
     "data": {
      "image/png": "[encoded data removed]",
      "text/plain": [
       "<Figure size 640x480 with 1 Axes>"
      ]
     },
     "metadata": {},
     "output_type": "display_data"
    }
   ],
   "source": [
    "plt.plot(range(1,401),history.history[\"loss\"],label=\"train_loss\")\n",
    "plt.plot(range(1,401),history.history[\"val_loss\"],label=\"train_loss\") \n",
    "plt.legend() "
   ]
  },
  {
   "cell_type": "code",
   "execution_count": 62,
   "id": "d5a5417e",
   "metadata": {},
   "outputs": [
    {
     "name": "stdout",
     "output_type": "stream",
     "text": [
      "9/9 [==============================] - 0s 2ms/step\n"
     ]
    },
    {
     "data": {
      "text/plain": [
       "array([[3.69973779e-01],\n",
       "       [1.72648989e-02],\n",
       "       [3.71278167e-01],\n",
       "       [1.37899416e-02],\n",
       "       [1.44598991e-01],\n",
       "       [6.81045800e-02],\n",
       "       [9.85298812e-01],\n",
       "       [8.49673092e-01],\n",
       "       [3.61936856e-07],\n",
       "       [8.02278638e-01],\n",
       "       [6.39387127e-03],\n",
       "       [6.82425022e-01],\n",
       "       [1.01613376e-04],\n",
       "       [1.93309912e-04],\n",
       "       [7.81392157e-02],\n",
       "       [2.24161567e-03],\n",
       "       [2.40563080e-02],\n",
       "       [2.44850814e-01],\n",
       "       [1.66344821e-01],\n",
       "       [8.29647543e-05],\n",
       "       [5.96306100e-03],\n",
       "       [2.13235449e-02],\n",
       "       [1.31943671e-04],\n",
       "       [8.14287484e-01],\n",
       "       [8.32440681e-04],\n",
       "       [1.64129570e-01],\n",
       "       [1.71622646e-03],\n",
       "       [8.31389189e-05],\n",
       "       [1.83081552e-01],\n",
       "       [1.51107032e-02],\n",
       "       [6.40211394e-04],\n",
       "       [5.73042572e-01],\n",
       "       [4.39472916e-03],\n",
       "       [9.91762727e-02],\n",
       "       [2.39911169e-04],\n",
       "       [9.90062137e-04],\n",
       "       [1.78691056e-02],\n",
       "       [7.73690522e-01],\n",
       "       [8.93509164e-02],\n",
       "       [1.11606298e-02],\n",
       "       [2.23978952e-01],\n",
       "       [1.85946487e-02],\n",
       "       [3.83504550e-04],\n",
       "       [7.96563458e-03],\n",
       "       [1.17700984e-05],\n",
       "       [4.64675099e-01],\n",
       "       [1.28186077e-01],\n",
       "       [1.60990120e-03],\n",
       "       [2.81947650e-05],\n",
       "       [2.02186286e-01],\n",
       "       [6.68218195e-01],\n",
       "       [4.59804153e-03],\n",
       "       [2.11716294e-01],\n",
       "       [9.14326072e-01],\n",
       "       [1.53440600e-02],\n",
       "       [9.08005950e-06],\n",
       "       [9.03903767e-02],\n",
       "       [2.63204910e-02],\n",
       "       [1.97287482e-05],\n",
       "       [3.57668072e-01],\n",
       "       [1.04562761e-02],\n",
       "       [7.34575966e-04],\n",
       "       [1.15827560e-01],\n",
       "       [2.81172507e-02],\n",
       "       [8.36488068e-01],\n",
       "       [1.08573206e-01],\n",
       "       [1.26551429e-04],\n",
       "       [9.19944793e-02],\n",
       "       [1.03177044e-05],\n",
       "       [3.24876755e-01],\n",
       "       [4.52020095e-06],\n",
       "       [3.70394555e-04],\n",
       "       [5.23440540e-01],\n",
       "       [2.11057272e-02],\n",
       "       [1.57858208e-02],\n",
       "       [2.20254034e-01],\n",
       "       [8.11960315e-04],\n",
       "       [4.75331843e-02],\n",
       "       [2.03269956e-04],\n",
       "       [1.03338668e-02],\n",
       "       [1.45867909e-03],\n",
       "       [4.58608180e-01],\n",
       "       [6.86198246e-06],\n",
       "       [1.51153699e-01],\n",
       "       [4.70178984e-02],\n",
       "       [2.02881634e-01],\n",
       "       [1.02100626e-01],\n",
       "       [1.96878150e-01],\n",
       "       [1.51476212e-04],\n",
       "       [1.43885165e-01],\n",
       "       [4.39472916e-03],\n",
       "       [2.37405911e-01],\n",
       "       [9.22234915e-03],\n",
       "       [2.24485114e-01],\n",
       "       [1.74419465e-03],\n",
       "       [8.51090226e-05],\n",
       "       [3.86915281e-02],\n",
       "       [1.56947933e-02],\n",
       "       [9.71034262e-03],\n",
       "       [4.70927916e-02],\n",
       "       [6.69738837e-03],\n",
       "       [1.97462272e-02],\n",
       "       [1.34350225e-01],\n",
       "       [2.08760233e-04],\n",
       "       [4.00605239e-02],\n",
       "       [4.28862959e-01],\n",
       "       [4.57263610e-04],\n",
       "       [2.89094140e-04],\n",
       "       [1.45851132e-02],\n",
       "       [2.56363183e-01],\n",
       "       [9.71494956e-05],\n",
       "       [1.59526825e-01],\n",
       "       [5.02138317e-01],\n",
       "       [1.83869302e-01],\n",
       "       [2.80908309e-04],\n",
       "       [9.64311010e-04],\n",
       "       [8.54815423e-01],\n",
       "       [8.74892056e-01],\n",
       "       [7.73334280e-02],\n",
       "       [1.40100956e-05],\n",
       "       [1.61105134e-02],\n",
       "       [8.98153782e-01],\n",
       "       [2.79529750e-08],\n",
       "       [3.88488430e-03],\n",
       "       [5.01142535e-03],\n",
       "       [2.98684184e-03],\n",
       "       [3.28050628e-05],\n",
       "       [2.37321660e-01],\n",
       "       [3.82515609e-01],\n",
       "       [3.57668072e-01],\n",
       "       [2.17489973e-02],\n",
       "       [5.70675172e-03],\n",
       "       [3.74384248e-03],\n",
       "       [1.76518299e-02],\n",
       "       [1.52348541e-03],\n",
       "       [1.46994789e-04],\n",
       "       [2.27903322e-04],\n",
       "       [1.16313377e-03],\n",
       "       [2.42076471e-01],\n",
       "       [1.76127348e-03],\n",
       "       [1.06526259e-02],\n",
       "       [1.88794330e-01],\n",
       "       [2.28991732e-02],\n",
       "       [2.95670807e-01],\n",
       "       [3.33917551e-02],\n",
       "       [6.53543591e-01],\n",
       "       [8.45954564e-05],\n",
       "       [2.54349887e-01],\n",
       "       [9.99841632e-07],\n",
       "       [4.71022772e-03],\n",
       "       [6.68111980e-01],\n",
       "       [3.37775983e-03],\n",
       "       [5.10613946e-03],\n",
       "       [1.17540080e-02],\n",
       "       [3.64395994e-04],\n",
       "       [3.90900625e-03],\n",
       "       [1.48548130e-02],\n",
       "       [1.62021242e-04],\n",
       "       [3.41727912e-07],\n",
       "       [1.50774151e-01],\n",
       "       [1.23382939e-04],\n",
       "       [1.10824108e-01],\n",
       "       [1.17382810e-01],\n",
       "       [1.90322921e-01],\n",
       "       [1.12423979e-01],\n",
       "       [1.39653007e-03],\n",
       "       [2.76211603e-03],\n",
       "       [9.91762727e-02],\n",
       "       [4.08445718e-03],\n",
       "       [1.83002063e-04],\n",
       "       [3.45469365e-04],\n",
       "       [1.19986527e-01],\n",
       "       [1.02361795e-02],\n",
       "       [1.89369127e-01],\n",
       "       [4.28430503e-03],\n",
       "       [1.80509849e-03],\n",
       "       [3.96238687e-03],\n",
       "       [3.39397550e-01],\n",
       "       [9.98544134e-03],\n",
       "       [3.88371642e-03],\n",
       "       [2.97226571e-03],\n",
       "       [1.12952688e-03],\n",
       "       [4.24582325e-02],\n",
       "       [8.86363385e-04],\n",
       "       [6.35019783e-03],\n",
       "       [6.60663918e-02],\n",
       "       [3.89469496e-04],\n",
       "       [9.62140024e-01],\n",
       "       [1.13644945e-02],\n",
       "       [8.75481725e-01],\n",
       "       [8.32472928e-03],\n",
       "       [8.45292062e-02],\n",
       "       [9.99841632e-07],\n",
       "       [4.20880884e-01],\n",
       "       [1.76408198e-02],\n",
       "       [8.98153782e-01],\n",
       "       [2.40563080e-02],\n",
       "       [3.02869431e-03],\n",
       "       [8.37938309e-01],\n",
       "       [1.58031434e-02],\n",
       "       [1.92895868e-08],\n",
       "       [3.93979162e-01],\n",
       "       [4.89885861e-04],\n",
       "       [1.00935429e-01],\n",
       "       [9.52084839e-01],\n",
       "       [7.32885324e-04],\n",
       "       [1.89575739e-02],\n",
       "       [1.18133496e-03],\n",
       "       [4.29324061e-02],\n",
       "       [4.81444318e-03],\n",
       "       [1.63238600e-01],\n",
       "       [9.76838917e-03],\n",
       "       [1.39534725e-02],\n",
       "       [4.37616080e-01],\n",
       "       [1.58186793e-01],\n",
       "       [2.28518829e-01],\n",
       "       [2.43086126e-02],\n",
       "       [1.63582638e-02],\n",
       "       [3.26629117e-04],\n",
       "       [9.20978934e-02],\n",
       "       [3.57668072e-01],\n",
       "       [5.11424124e-01],\n",
       "       [8.64311960e-03],\n",
       "       [4.72509041e-02],\n",
       "       [7.80159142e-03],\n",
       "       [1.23986800e-04],\n",
       "       [3.39525868e-04],\n",
       "       [1.25718610e-02],\n",
       "       [3.23901768e-03],\n",
       "       [9.48095620e-01],\n",
       "       [7.96561956e-01],\n",
       "       [4.57979828e-01],\n",
       "       [1.64034918e-01],\n",
       "       [3.36622298e-01],\n",
       "       [4.25397744e-03],\n",
       "       [1.95483980e-03],\n",
       "       [2.65039871e-05],\n",
       "       [2.58872988e-05],\n",
       "       [2.07053468e-01],\n",
       "       [1.68137774e-01],\n",
       "       [2.88061108e-02],\n",
       "       [5.45050867e-08],\n",
       "       [5.15579700e-01],\n",
       "       [4.28712880e-03],\n",
       "       [6.09037459e-01],\n",
       "       [4.58516702e-02],\n",
       "       [6.54927611e-01],\n",
       "       [1.51557669e-01],\n",
       "       [1.45554282e-02],\n",
       "       [5.55047810e-01],\n",
       "       [9.38149169e-04],\n",
       "       [6.50191912e-03],\n",
       "       [2.36549720e-01],\n",
       "       [1.36329681e-01],\n",
       "       [2.28431867e-03],\n",
       "       [9.56631005e-01],\n",
       "       [7.43962498e-03],\n",
       "       [3.66504560e-03],\n",
       "       [5.60541498e-03],\n",
       "       [3.57201040e-01],\n",
       "       [5.58866537e-04],\n",
       "       [7.35065108e-03],\n",
       "       [4.24582325e-02],\n",
       "       [4.40548956e-02],\n",
       "       [3.78184835e-03],\n",
       "       [6.40605751e-04],\n",
       "       [2.71266401e-01],\n",
       "       [3.57201040e-01],\n",
       "       [1.43231014e-02],\n",
       "       [4.09410037e-02],\n",
       "       [9.99502299e-05],\n",
       "       [6.61267281e-01],\n",
       "       [1.57611035e-02],\n",
       "       [3.60360205e-01]], dtype=float32)"
      ]
     },
     "execution_count": 62,
     "metadata": {},
     "output_type": "execute_result"
    }
   ],
   "source": [
    "predicted=model.predict(X_test)\n",
    "predicted "
   ]
  },
  {
   "cell_type": "code",
   "execution_count": 63,
   "id": "ce96efbb",
   "metadata": {},
   "outputs": [
    {
     "data": {
      "text/plain": [
       "array([[0],\n",
       "       [0],\n",
       "       [0],\n",
       "       [0],\n",
       "       [0],\n",
       "       [0],\n",
       "       [1],\n",
       "       [1],\n",
       "       [0],\n",
       "       [1],\n",
       "       [0],\n",
       "       [1],\n",
       "       [0],\n",
       "       [0],\n",
       "       [0],\n",
       "       [0],\n",
       "       [0],\n",
       "       [0],\n",
       "       [0],\n",
       "       [0],\n",
       "       [0],\n",
       "       [0],\n",
       "       [0],\n",
       "       [1],\n",
       "       [0],\n",
       "       [0],\n",
       "       [0],\n",
       "       [0],\n",
       "       [0],\n",
       "       [0],\n",
       "       [0],\n",
       "       [1],\n",
       "       [0],\n",
       "       [0],\n",
       "       [0],\n",
       "       [0],\n",
       "       [0],\n",
       "       [1],\n",
       "       [0],\n",
       "       [0],\n",
       "       [0],\n",
       "       [0],\n",
       "       [0],\n",
       "       [0],\n",
       "       [0],\n",
       "       [0],\n",
       "       [0],\n",
       "       [0],\n",
       "       [0],\n",
       "       [0],\n",
       "       [1],\n",
       "       [0],\n",
       "       [0],\n",
       "       [1],\n",
       "       [0],\n",
       "       [0],\n",
       "       [0],\n",
       "       [0],\n",
       "       [0],\n",
       "       [0],\n",
       "       [0],\n",
       "       [0],\n",
       "       [0],\n",
       "       [0],\n",
       "       [1],\n",
       "       [0],\n",
       "       [0],\n",
       "       [0],\n",
       "       [0],\n",
       "       [0],\n",
       "       [0],\n",
       "       [0],\n",
       "       [1],\n",
       "       [0],\n",
       "       [0],\n",
       "       [0],\n",
       "       [0],\n",
       "       [0],\n",
       "       [0],\n",
       "       [0],\n",
       "       [0],\n",
       "       [0],\n",
       "       [0],\n",
       "       [0],\n",
       "       [0],\n",
       "       [0],\n",
       "       [0],\n",
       "       [0],\n",
       "       [0],\n",
       "       [0],\n",
       "       [0],\n",
       "       [0],\n",
       "       [0],\n",
       "       [0],\n",
       "       [0],\n",
       "       [0],\n",
       "       [0],\n",
       "       [0],\n",
       "       [0],\n",
       "       [0],\n",
       "       [0],\n",
       "       [0],\n",
       "       [0],\n",
       "       [0],\n",
       "       [0],\n",
       "       [0],\n",
       "       [0],\n",
       "       [0],\n",
       "       [0],\n",
       "       [0],\n",
       "       [0],\n",
       "       [0],\n",
       "       [1],\n",
       "       [0],\n",
       "       [0],\n",
       "       [0],\n",
       "       [1],\n",
       "       [1],\n",
       "       [0],\n",
       "       [0],\n",
       "       [0],\n",
       "       [1],\n",
       "       [0],\n",
       "       [0],\n",
       "       [0],\n",
       "       [0],\n",
       "       [0],\n",
       "       [0],\n",
       "       [0],\n",
       "       [0],\n",
       "       [0],\n",
       "       [0],\n",
       "       [0],\n",
       "       [0],\n",
       "       [0],\n",
       "       [0],\n",
       "       [0],\n",
       "       [0],\n",
       "       [0],\n",
       "       [0],\n",
       "       [0],\n",
       "       [0],\n",
       "       [0],\n",
       "       [0],\n",
       "       [0],\n",
       "       [1],\n",
       "       [0],\n",
       "       [0],\n",
       "       [0],\n",
       "       [0],\n",
       "       [1],\n",
       "       [0],\n",
       "       [0],\n",
       "       [0],\n",
       "       [0],\n",
       "       [0],\n",
       "       [0],\n",
       "       [0],\n",
       "       [0],\n",
       "       [0],\n",
       "       [0],\n",
       "       [0],\n",
       "       [0],\n",
       "       [0],\n",
       "       [0],\n",
       "       [0],\n",
       "       [0],\n",
       "       [0],\n",
       "       [0],\n",
       "       [0],\n",
       "       [0],\n",
       "       [0],\n",
       "       [0],\n",
       "       [0],\n",
       "       [0],\n",
       "       [0],\n",
       "       [0],\n",
       "       [0],\n",
       "       [0],\n",
       "       [0],\n",
       "       [0],\n",
       "       [0],\n",
       "       [0],\n",
       "       [0],\n",
       "       [0],\n",
       "       [0],\n",
       "       [0],\n",
       "       [1],\n",
       "       [0],\n",
       "       [1],\n",
       "       [0],\n",
       "       [0],\n",
       "       [0],\n",
       "       [0],\n",
       "       [0],\n",
       "       [1],\n",
       "       [0],\n",
       "       [0],\n",
       "       [1],\n",
       "       [0],\n",
       "       [0],\n",
       "       [0],\n",
       "       [0],\n",
       "       [0],\n",
       "       [1],\n",
       "       [0],\n",
       "       [0],\n",
       "       [0],\n",
       "       [0],\n",
       "       [0],\n",
       "       [0],\n",
       "       [0],\n",
       "       [0],\n",
       "       [0],\n",
       "       [0],\n",
       "       [0],\n",
       "       [0],\n",
       "       [0],\n",
       "       [0],\n",
       "       [0],\n",
       "       [0],\n",
       "       [1],\n",
       "       [0],\n",
       "       [0],\n",
       "       [0],\n",
       "       [0],\n",
       "       [0],\n",
       "       [0],\n",
       "       [0],\n",
       "       [1],\n",
       "       [1],\n",
       "       [0],\n",
       "       [0],\n",
       "       [0],\n",
       "       [0],\n",
       "       [0],\n",
       "       [0],\n",
       "       [0],\n",
       "       [0],\n",
       "       [0],\n",
       "       [0],\n",
       "       [0],\n",
       "       [1],\n",
       "       [0],\n",
       "       [1],\n",
       "       [0],\n",
       "       [1],\n",
       "       [0],\n",
       "       [0],\n",
       "       [1],\n",
       "       [0],\n",
       "       [0],\n",
       "       [0],\n",
       "       [0],\n",
       "       [0],\n",
       "       [1],\n",
       "       [0],\n",
       "       [0],\n",
       "       [0],\n",
       "       [0],\n",
       "       [0],\n",
       "       [0],\n",
       "       [0],\n",
       "       [0],\n",
       "       [0],\n",
       "       [0],\n",
       "       [0],\n",
       "       [0],\n",
       "       [0],\n",
       "       [0],\n",
       "       [0],\n",
       "       [1],\n",
       "       [0],\n",
       "       [0]])"
      ]
     },
     "execution_count": 63,
     "metadata": {},
     "output_type": "execute_result"
    }
   ],
   "source": [
    "predicted=np.where(predicted>0.5,1,0)\n",
    "predicted "
   ]
  },
  {
   "cell_type": "code",
   "execution_count": 65,
   "id": "c908f569",
   "metadata": {},
   "outputs": [
    {
     "name": "stdout",
     "output_type": "stream",
     "text": [
      "0.8686131386861314\n"
     ]
    },
    {
     "data": {
      "image/png": "[encoded data removed]",
      "text/plain": [
       "<Figure size 640x480 with 2 Axes>"
      ]
     },
     "metadata": {},
     "output_type": "display_data"
    }
   ],
   "source": [
    "\n",
    "from sklearn.metrics import accuracy_score,confusion_matrix,ConfusionMatrixDisplay,classification_report\n",
    "\n",
    "print(accuracy_score(y_test,predicted)) \n",
    "\n",
    "cm=confusion_matrix(y_test,predicted)\n",
    "\n",
    "va=ConfusionMatrixDisplay(cm)\n",
    "va.plot() \n",
    "plt.show() \n",
    "\n"
   ]
  },
  {
   "cell_type": "code",
   "execution_count": 66,
   "id": "d7efdcf1",
   "metadata": {},
   "outputs": [
    {
     "name": "stdout",
     "output_type": "stream",
     "text": [
      "              precision    recall  f1-score   support\n",
      "\n",
      "           0       0.93      0.92      0.93       245\n",
      "           1       0.39      0.41      0.40        29\n",
      "\n",
      "    accuracy                           0.87       274\n",
      "   macro avg       0.66      0.67      0.66       274\n",
      "weighted avg       0.87      0.87      0.87       274\n",
      "\n"
     ]
    }
   ],
   "source": [
    "print(classification_report(y_test,predicted))"
   ]
  },
  {
   "cell_type": "code",
   "execution_count": null,
   "id": "a10c4e36",
   "metadata": {},
   "outputs": [],
   "source": []
  }
 ],
 "metadata": {
  "kernelspec": {
   "display_name": "Python 3 (ipykernel)",
   "language": "python",
   "name": "python3"
  },
  "language_info": {
   "codemirror_mode": {
    "name": "ipython",
    "version": 3
   },
   "file_extension": ".py",
   "mimetype": "text/x-python",
   "name": "python",
   "nbconvert_exporter": "python",
   "pygments_lexer": "ipython3",
   "version": "3.11.5"
  }
 },
 "nbformat": 4,
 "nbformat_minor": 5
}
